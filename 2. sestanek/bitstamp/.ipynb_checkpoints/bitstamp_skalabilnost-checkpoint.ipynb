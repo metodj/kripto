{
 "cells": [
  {
   "cell_type": "code",
   "execution_count": 2,
   "metadata": {
    "collapsed": false
   },
   "outputs": [],
   "source": [
    "library(DescTools)\n",
    "library(ggplot2)\n",
    "library(readr)\n",
    "library(dplyr)"
   ]
  },
  {
   "cell_type": "code",
   "execution_count": 3,
   "metadata": {
    "collapsed": true
   },
   "outputs": [],
   "source": [
    "test <- read.csv(\"ethbtc.csv\", header=T)"
   ]
  },
  {
   "cell_type": "code",
   "execution_count": 4,
   "metadata": {
    "collapsed": true
   },
   "outputs": [],
   "source": [
    "test['class'] <- test['amount'] %/% 1\n",
    "test$date2 <- as.POSIXct(test$date,origin=\"1970-01-01\",tz=\"GMT\")"
   ]
  },
  {
   "cell_type": "code",
   "execution_count": 5,
   "metadata": {
    "collapsed": false
   },
   "outputs": [
    {
     "data": {
      "text/html": [
       "<table>\n",
       "<thead><tr><th scope=col>date</th><th scope=col>tid</th><th scope=col>price</th><th scope=col>amount</th><th scope=col>type</th><th scope=col>class</th><th scope=col>date2</th></tr></thead>\n",
       "<tbody>\n",
       "\t<tr><td>1503082483         </td><td>18776534           </td><td>0.07048999         </td><td>3.338015           </td><td>0                  </td><td>3                  </td><td>2017-08-18 18:54:43</td></tr>\n",
       "\t<tr><td>1503082483         </td><td>18776533           </td><td>0.07048998         </td><td>1.890000           </td><td>0                  </td><td>1                  </td><td>2017-08-18 18:54:43</td></tr>\n",
       "\t<tr><td>1503082483         </td><td>18776532           </td><td>0.07047720         </td><td>0.100000           </td><td>0                  </td><td>0                  </td><td>2017-08-18 18:54:43</td></tr>\n",
       "</tbody>\n",
       "</table>\n"
      ],
      "text/latex": [
       "\\begin{tabular}{r|lllllll}\n",
       " date & tid & price & amount & type & class & date2\\\\\n",
       "\\hline\n",
       "\t 1503082483          & 18776534            & 0.07048999          & 3.338015            & 0                   & 3                   & 2017-08-18 18:54:43\\\\\n",
       "\t 1503082483          & 18776533            & 0.07048998          & 1.890000            & 0                   & 1                   & 2017-08-18 18:54:43\\\\\n",
       "\t 1503082483          & 18776532            & 0.07047720          & 0.100000            & 0                   & 0                   & 2017-08-18 18:54:43\\\\\n",
       "\\end{tabular}\n"
      ],
      "text/markdown": [
       "\n",
       "date | tid | price | amount | type | class | date2 | \n",
       "|---|---|---|\n",
       "| 1503082483          | 18776534            | 0.07048999          | 3.338015            | 0                   | 3                   | 2017-08-18 18:54:43 | \n",
       "| 1503082483          | 18776533            | 0.07048998          | 1.890000            | 0                   | 1                   | 2017-08-18 18:54:43 | \n",
       "| 1503082483          | 18776532            | 0.07047720          | 0.100000            | 0                   | 0                   | 2017-08-18 18:54:43 | \n",
       "\n",
       "\n"
      ],
      "text/plain": [
       "  date       tid      price      amount   type class date2              \n",
       "1 1503082483 18776534 0.07048999 3.338015 0    3     2017-08-18 18:54:43\n",
       "2 1503082483 18776533 0.07048998 1.890000 0    1     2017-08-18 18:54:43\n",
       "3 1503082483 18776532 0.07047720 0.100000 0    0     2017-08-18 18:54:43"
      ]
     },
     "metadata": {},
     "output_type": "display_data"
    }
   ],
   "source": [
    "head(test, n=3)"
   ]
  },
  {
   "cell_type": "code",
   "execution_count": 23,
   "metadata": {
    "collapsed": false
   },
   "outputs": [],
   "source": [
    "skalabilnost <- function(par) {\n",
    "    ime <- paste(par, '.csv', sep='')\n",
    "    data <- read.csv(ime, header=T)\n",
    "    data['class'] <- data['amount'] %/% 1\n",
    "    data$date2 <- as.POSIXct(data$date,origin=\"1970-01-01\",tz=\"GMT\")\n",
    "    #print(head(data, n=3))\n",
    "    #print(Desc(data$class, main = \"Velikost transakcij\", plotit = T, verbose=1))\n",
    "    tmp <- split(data, cut(strptime(data$date2, format=\"%F %R\"),\"hour\"))\n",
    "    df <- data.frame(Date=as.Date(as.character()), sum=numeric(), max=numeric(), min=numeric(),\n",
    "                     avg=numeric(), count=numeric(), stringsAsFactors=FALSE)\n",
    "    for (ura in tmp) {\n",
    "    vec <- c(ura$date2[[1]], sum(ura$amount), min(ura$amount), max(ura$amount),\n",
    "                mean(ura$amount), length(ura$amount))\n",
    "    df <- rbind(df, vec)\n",
    "    }\n",
    "    colnames(df)<- c(\"date\",\"sum\",\"min\", \"max\", \"mean\", \"count\")\n",
    "    df$date2 <- as.POSIXct(df$date,origin=\"1970-01-01\",tz=\"GMT\")\n",
    "    #print(head(df))\n",
    "    print(ggplot(data = df, mapping = aes(x = date2, y = count)) + \n",
    "     geom_col() + labs(x = \"hour\", y = \"number of transactions\"))\n",
    "    print(ggplot(data = df, mapping = aes(x = date2, y = mean)) + \n",
    "     geom_col() + labs(x = \"hour\", y = \"mean\"))\n",
    "}"
   ]
  },
  {
   "cell_type": "code",
   "execution_count": 24,
   "metadata": {
    "collapsed": false
   },
   "outputs": [
    {
     "data": {
      "image/png": "[encoded data removed]",
      "text/plain": [
       "plot without title"
      ]
     },
     "metadata": {},
     "output_type": "display_data"
    },
    {
     "data": {
      "image/png": "[encoded data removed]",
      "text/plain": [
       "plot without title"
      ]
     },
     "metadata": {},
     "output_type": "display_data"
    }
   ],
   "source": [
    "skalabilnost('ethbtc')"
   ]
  },
  {
   "cell_type": "markdown",
   "metadata": {},
   "source": [
    "return multiple values from a function: https://stackoverflow.com/questions/8936099/returning-multiple-objects-in-an-r-function"
   ]
  },
  {
   "cell_type": "code",
   "execution_count": null,
   "metadata": {
    "collapsed": true
   },
   "outputs": [],
   "source": []
  },
  {
   "cell_type": "code",
   "execution_count": 18,
   "metadata": {
    "collapsed": false
   },
   "outputs": [
    {
     "data": {
      "text/html": [
       "<table>\n",
       "<thead><tr><th scope=col>date</th><th scope=col>sum</th><th scope=col>min</th><th scope=col>max</th><th scope=col>mean</th><th scope=col>count</th><th scope=col>date2</th></tr></thead>\n",
       "<tbody>\n",
       "\t<tr><td>1502996392         </td><td>  79.38261         </td><td>0.00003123         </td><td>39.831315          </td><td>2.4055336          </td><td> 33                </td><td>2017-08-17 18:59:52</td></tr>\n",
       "\t<tr><td>1502999992         </td><td> 311.41944         </td><td>0.00000009         </td><td>56.352166          </td><td>2.6617046          </td><td>117                </td><td>2017-08-17 19:59:52</td></tr>\n",
       "\t<tr><td>1503003567         </td><td> 744.51763         </td><td>0.00000021         </td><td>81.393804          </td><td>5.8623435          </td><td>127                </td><td>2017-08-17 20:59:27</td></tr>\n",
       "\t<tr><td>1503007195         </td><td> 155.92290         </td><td>0.00000274         </td><td>22.216791          </td><td>2.1070662          </td><td> 74                </td><td>2017-08-17 21:59:55</td></tr>\n",
       "\t<tr><td>1503010684         </td><td> 148.36222         </td><td>0.00011229         </td><td> 9.428894          </td><td>1.9521345          </td><td> 76                </td><td>2017-08-17 22:58:04</td></tr>\n",
       "\t<tr><td>1503014115         </td><td>  92.16283         </td><td>0.00000019         </td><td>10.187210          </td><td>2.0035399          </td><td> 46                </td><td>2017-08-17 23:55:15</td></tr>\n",
       "\t<tr><td>1503017936         </td><td> 105.78494         </td><td>0.00263871         </td><td>16.692268          </td><td>2.2996726          </td><td> 46                </td><td>2017-08-18 00:58:56</td></tr>\n",
       "\t<tr><td>1503021417         </td><td> 155.20197         </td><td>0.00000014         </td><td>39.600000          </td><td>1.4923266          </td><td>104                </td><td>2017-08-18 01:56:57</td></tr>\n",
       "\t<tr><td>1503025178         </td><td>  92.69950         </td><td>0.00000042         </td><td>27.230000          </td><td>4.0304130          </td><td> 23                </td><td>2017-08-18 02:59:38</td></tr>\n",
       "\t<tr><td>1503028709         </td><td>  38.27711         </td><td>0.08233783         </td><td> 9.773400          </td><td>1.9138554          </td><td> 20                </td><td>2017-08-18 03:58:29</td></tr>\n",
       "\t<tr><td>1503032218         </td><td>  34.14472         </td><td>0.00047511         </td><td> 6.903288          </td><td>0.9484645          </td><td> 36                </td><td>2017-08-18 04:56:58</td></tr>\n",
       "\t<tr><td>1503035941         </td><td>  72.07842         </td><td>0.00000902         </td><td>23.395819          </td><td>1.9480654          </td><td> 37                </td><td>2017-08-18 05:59:01</td></tr>\n",
       "\t<tr><td>1503039573         </td><td> 106.15598         </td><td>0.00004627         </td><td>30.000000          </td><td>2.1664486          </td><td> 49                </td><td>2017-08-18 06:59:33</td></tr>\n",
       "\t<tr><td>1503043188         </td><td> 106.23090         </td><td>0.00000022         </td><td>30.000000          </td><td>1.6343215          </td><td> 65                </td><td>2017-08-18 07:59:48</td></tr>\n",
       "\t<tr><td>1503046753         </td><td>  70.75959         </td><td>0.00000574         </td><td>13.999448          </td><td>0.7370791          </td><td> 96                </td><td>2017-08-18 08:59:13</td></tr>\n",
       "\t<tr><td>1503050077         </td><td> 404.29588         </td><td>0.00000028         </td><td>73.000000          </td><td>3.3412883          </td><td>121                </td><td>2017-08-18 09:54:37</td></tr>\n",
       "\t<tr><td>1503053918         </td><td> 224.50348         </td><td>0.00000004         </td><td>40.706846          </td><td>1.7539334          </td><td>128                </td><td>2017-08-18 10:58:38</td></tr>\n",
       "\t<tr><td>1503057444         </td><td> 145.19137         </td><td>0.00000400         </td><td>13.430131          </td><td>1.1343076          </td><td>128                </td><td>2017-08-18 11:57:24</td></tr>\n",
       "\t<tr><td>1503061181         </td><td> 146.19442         </td><td>0.00003696         </td><td>17.010616          </td><td>0.9811706          </td><td>149                </td><td>2017-08-18 12:59:41</td></tr>\n",
       "\t<tr><td>1503064791         </td><td> 185.93271         </td><td>0.00000037         </td><td>20.456037          </td><td>1.4874617          </td><td>125                </td><td>2017-08-18 13:59:51</td></tr>\n",
       "\t<tr><td>1503068380         </td><td> 418.59145         </td><td>0.00003664         </td><td>35.008159          </td><td>2.3919512          </td><td>175                </td><td>2017-08-18 14:59:40</td></tr>\n",
       "\t<tr><td>1503071989         </td><td> 407.57479         </td><td>0.00000502         </td><td>50.000000          </td><td>5.1591746          </td><td> 79                </td><td>2017-08-18 15:59:49</td></tr>\n",
       "\t<tr><td>1503075584         </td><td> 261.45947         </td><td>0.00000024         </td><td>28.073186          </td><td>2.6954584          </td><td> 97                </td><td>2017-08-18 16:59:44</td></tr>\n",
       "\t<tr><td>1503079197         </td><td>1034.15598         </td><td>0.00000022         </td><td>80.000000          </td><td>5.6821757          </td><td>182                </td><td>2017-08-18 17:59:57</td></tr>\n",
       "\t<tr><td>1503082483         </td><td> 176.29136         </td><td>0.01434000         </td><td>21.896271          </td><td>2.8900222          </td><td> 61                </td><td>2017-08-18 18:54:43</td></tr>\n",
       "</tbody>\n",
       "</table>\n"
      ],
      "text/latex": [
       "\\begin{tabular}{r|lllllll}\n",
       " date & sum & min & max & mean & count & date2\\\\\n",
       "\\hline\n",
       "\t 1502996392          &   79.38261          & 0.00003123          & 39.831315           & 2.4055336           &  33                 & 2017-08-17 18:59:52\\\\\n",
       "\t 1502999992          &  311.41944          & 0.00000009          & 56.352166           & 2.6617046           & 117                 & 2017-08-17 19:59:52\\\\\n",
       "\t 1503003567          &  744.51763          & 0.00000021          & 81.393804           & 5.8623435           & 127                 & 2017-08-17 20:59:27\\\\\n",
       "\t 1503007195          &  155.92290          & 0.00000274          & 22.216791           & 2.1070662           &  74                 & 2017-08-17 21:59:55\\\\\n",
       "\t 1503010684          &  148.36222          & 0.00011229          &  9.428894           & 1.9521345           &  76                 & 2017-08-17 22:58:04\\\\\n",
       "\t 1503014115          &   92.16283          & 0.00000019          & 10.187210           & 2.0035399           &  46                 & 2017-08-17 23:55:15\\\\\n",
       "\t 1503017936          &  105.78494          & 0.00263871          & 16.692268           & 2.2996726           &  46                 & 2017-08-18 00:58:56\\\\\n",
       "\t 1503021417          &  155.20197          & 0.00000014          & 39.600000           & 1.4923266           & 104                 & 2017-08-18 01:56:57\\\\\n",
       "\t 1503025178          &   92.69950          & 0.00000042          & 27.230000           & 4.0304130           &  23                 & 2017-08-18 02:59:38\\\\\n",
       "\t 1503028709          &   38.27711          & 0.08233783          &  9.773400           & 1.9138554           &  20                 & 2017-08-18 03:58:29\\\\\n",
       "\t 1503032218          &   34.14472          & 0.00047511          &  6.903288           & 0.9484645           &  36                 & 2017-08-18 04:56:58\\\\\n",
       "\t 1503035941          &   72.07842          & 0.00000902          & 23.395819           & 1.9480654           &  37                 & 2017-08-18 05:59:01\\\\\n",
       "\t 1503039573          &  106.15598          & 0.00004627          & 30.000000           & 2.1664486           &  49                 & 2017-08-18 06:59:33\\\\\n",
       "\t 1503043188          &  106.23090          & 0.00000022          & 30.000000           & 1.6343215           &  65                 & 2017-08-18 07:59:48\\\\\n",
       "\t 1503046753          &   70.75959          & 0.00000574          & 13.999448           & 0.7370791           &  96                 & 2017-08-18 08:59:13\\\\\n",
       "\t 1503050077          &  404.29588          & 0.00000028          & 73.000000           & 3.3412883           & 121                 & 2017-08-18 09:54:37\\\\\n",
       "\t 1503053918          &  224.50348          & 0.00000004          & 40.706846           & 1.7539334           & 128                 & 2017-08-18 10:58:38\\\\\n",
       "\t 1503057444          &  145.19137          & 0.00000400          & 13.430131           & 1.1343076           & 128                 & 2017-08-18 11:57:24\\\\\n",
       "\t 1503061181          &  146.19442          & 0.00003696          & 17.010616           & 0.9811706           & 149                 & 2017-08-18 12:59:41\\\\\n",
       "\t 1503064791          &  185.93271          & 0.00000037          & 20.456037           & 1.4874617           & 125                 & 2017-08-18 13:59:51\\\\\n",
       "\t 1503068380          &  418.59145          & 0.00003664          & 35.008159           & 2.3919512           & 175                 & 2017-08-18 14:59:40\\\\\n",
       "\t 1503071989          &  407.57479          & 0.00000502          & 50.000000           & 5.1591746           &  79                 & 2017-08-18 15:59:49\\\\\n",
       "\t 1503075584          &  261.45947          & 0.00000024          & 28.073186           & 2.6954584           &  97                 & 2017-08-18 16:59:44\\\\\n",
       "\t 1503079197          & 1034.15598          & 0.00000022          & 80.000000           & 5.6821757           & 182                 & 2017-08-18 17:59:57\\\\\n",
       "\t 1503082483          &  176.29136          & 0.01434000          & 21.896271           & 2.8900222           &  61                 & 2017-08-18 18:54:43\\\\\n",
       "\\end{tabular}\n"
      ],
      "text/markdown": [
       "\n",
       "date | sum | min | max | mean | count | date2 | \n",
       "|---|---|---|---|---|---|---|---|---|---|---|---|---|---|---|---|---|---|---|---|---|---|---|---|---|\n",
       "| 1502996392          |   79.38261          | 0.00003123          | 39.831315           | 2.4055336           |  33                 | 2017-08-17 18:59:52 | \n",
       "| 1502999992          |  311.41944          | 0.00000009          | 56.352166           | 2.6617046           | 117                 | 2017-08-17 19:59:52 | \n",
       "| 1503003567          |  744.51763          | 0.00000021          | 81.393804           | 5.8623435           | 127                 | 2017-08-17 20:59:27 | \n",
       "| 1503007195          |  155.92290          | 0.00000274          | 22.216791           | 2.1070662           |  74                 | 2017-08-17 21:59:55 | \n",
       "| 1503010684          |  148.36222          | 0.00011229          |  9.428894           | 1.9521345           |  76                 | 2017-08-17 22:58:04 | \n",
       "| 1503014115          |   92.16283          | 0.00000019          | 10.187210           | 2.0035399           |  46                 | 2017-08-17 23:55:15 | \n",
       "| 1503017936          |  105.78494          | 0.00263871          | 16.692268           | 2.2996726           |  46                 | 2017-08-18 00:58:56 | \n",
       "| 1503021417          |  155.20197          | 0.00000014          | 39.600000           | 1.4923266           | 104                 | 2017-08-18 01:56:57 | \n",
       "| 1503025178          |   92.69950          | 0.00000042          | 27.230000           | 4.0304130           |  23                 | 2017-08-18 02:59:38 | \n",
       "| 1503028709          |   38.27711          | 0.08233783          |  9.773400           | 1.9138554           |  20                 | 2017-08-18 03:58:29 | \n",
       "| 1503032218          |   34.14472          | 0.00047511          |  6.903288           | 0.9484645           |  36                 | 2017-08-18 04:56:58 | \n",
       "| 1503035941          |   72.07842          | 0.00000902          | 23.395819           | 1.9480654           |  37                 | 2017-08-18 05:59:01 | \n",
       "| 1503039573          |  106.15598          | 0.00004627          | 30.000000           | 2.1664486           |  49                 | 2017-08-18 06:59:33 | \n",
       "| 1503043188          |  106.23090          | 0.00000022          | 30.000000           | 1.6343215           |  65                 | 2017-08-18 07:59:48 | \n",
       "| 1503046753          |   70.75959          | 0.00000574          | 13.999448           | 0.7370791           |  96                 | 2017-08-18 08:59:13 | \n",
       "| 1503050077          |  404.29588          | 0.00000028          | 73.000000           | 3.3412883           | 121                 | 2017-08-18 09:54:37 | \n",
       "| 1503053918          |  224.50348          | 0.00000004          | 40.706846           | 1.7539334           | 128                 | 2017-08-18 10:58:38 | \n",
       "| 1503057444          |  145.19137          | 0.00000400          | 13.430131           | 1.1343076           | 128                 | 2017-08-18 11:57:24 | \n",
       "| 1503061181          |  146.19442          | 0.00003696          | 17.010616           | 0.9811706           | 149                 | 2017-08-18 12:59:41 | \n",
       "| 1503064791          |  185.93271          | 0.00000037          | 20.456037           | 1.4874617           | 125                 | 2017-08-18 13:59:51 | \n",
       "| 1503068380          |  418.59145          | 0.00003664          | 35.008159           | 2.3919512           | 175                 | 2017-08-18 14:59:40 | \n",
       "| 1503071989          |  407.57479          | 0.00000502          | 50.000000           | 5.1591746           |  79                 | 2017-08-18 15:59:49 | \n",
       "| 1503075584          |  261.45947          | 0.00000024          | 28.073186           | 2.6954584           |  97                 | 2017-08-18 16:59:44 | \n",
       "| 1503079197          | 1034.15598          | 0.00000022          | 80.000000           | 5.6821757           | 182                 | 2017-08-18 17:59:57 | \n",
       "| 1503082483          |  176.29136          | 0.01434000          | 21.896271           | 2.8900222           |  61                 | 2017-08-18 18:54:43 | \n",
       "\n",
       "\n"
      ],
      "text/plain": [
       "   date       sum        min        max       mean      count\n",
       "1  1502996392   79.38261 0.00003123 39.831315 2.4055336  33  \n",
       "2  1502999992  311.41944 0.00000009 56.352166 2.6617046 117  \n",
       "3  1503003567  744.51763 0.00000021 81.393804 5.8623435 127  \n",
       "4  1503007195  155.92290 0.00000274 22.216791 2.1070662  74  \n",
       "5  1503010684  148.36222 0.00011229  9.428894 1.9521345  76  \n",
       "6  1503014115   92.16283 0.00000019 10.187210 2.0035399  46  \n",
       "7  1503017936  105.78494 0.00263871 16.692268 2.2996726  46  \n",
       "8  1503021417  155.20197 0.00000014 39.600000 1.4923266 104  \n",
       "9  1503025178   92.69950 0.00000042 27.230000 4.0304130  23  \n",
       "10 1503028709   38.27711 0.08233783  9.773400 1.9138554  20  \n",
       "11 1503032218   34.14472 0.00047511  6.903288 0.9484645  36  \n",
       "12 1503035941   72.07842 0.00000902 23.395819 1.9480654  37  \n",
       "13 1503039573  106.15598 0.00004627 30.000000 2.1664486  49  \n",
       "14 1503043188  106.23090 0.00000022 30.000000 1.6343215  65  \n",
       "15 1503046753   70.75959 0.00000574 13.999448 0.7370791  96  \n",
       "16 1503050077  404.29588 0.00000028 73.000000 3.3412883 121  \n",
       "17 1503053918  224.50348 0.00000004 40.706846 1.7539334 128  \n",
       "18 1503057444  145.19137 0.00000400 13.430131 1.1343076 128  \n",
       "19 1503061181  146.19442 0.00003696 17.010616 0.9811706 149  \n",
       "20 1503064791  185.93271 0.00000037 20.456037 1.4874617 125  \n",
       "21 1503068380  418.59145 0.00003664 35.008159 2.3919512 175  \n",
       "22 1503071989  407.57479 0.00000502 50.000000 5.1591746  79  \n",
       "23 1503075584  261.45947 0.00000024 28.073186 2.6954584  97  \n",
       "24 1503079197 1034.15598 0.00000022 80.000000 5.6821757 182  \n",
       "25 1503082483  176.29136 0.01434000 21.896271 2.8900222  61  \n",
       "   date2              \n",
       "1  2017-08-17 18:59:52\n",
       "2  2017-08-17 19:59:52\n",
       "3  2017-08-17 20:59:27\n",
       "4  2017-08-17 21:59:55\n",
       "5  2017-08-17 22:58:04\n",
       "6  2017-08-17 23:55:15\n",
       "7  2017-08-18 00:58:56\n",
       "8  2017-08-18 01:56:57\n",
       "9  2017-08-18 02:59:38\n",
       "10 2017-08-18 03:58:29\n",
       "11 2017-08-18 04:56:58\n",
       "12 2017-08-18 05:59:01\n",
       "13 2017-08-18 06:59:33\n",
       "14 2017-08-18 07:59:48\n",
       "15 2017-08-18 08:59:13\n",
       "16 2017-08-18 09:54:37\n",
       "17 2017-08-18 10:58:38\n",
       "18 2017-08-18 11:57:24\n",
       "19 2017-08-18 12:59:41\n",
       "20 2017-08-18 13:59:51\n",
       "21 2017-08-18 14:59:40\n",
       "22 2017-08-18 15:59:49\n",
       "23 2017-08-18 16:59:44\n",
       "24 2017-08-18 17:59:57\n",
       "25 2017-08-18 18:54:43"
      ]
     },
     "metadata": {},
     "output_type": "display_data"
    },
    {
     "data": {},
     "metadata": {},
     "output_type": "display_data"
    },
    {
     "data": {
      "image/png": "[encoded data removed]",
      "text/plain": [
       "plot without title"
      ]
     },
     "metadata": {},
     "output_type": "display_data"
    }
   ],
   "source": [
    "tmp <- split(test, cut(strptime(test$date2, format=\"%F %R\"),\"hour\"))\n",
    "df <- data.frame(Date=as.Date(as.character()), sum=numeric(), max=numeric(), min=numeric(),\n",
    "                     avg=numeric(), count=numeric(), stringsAsFactors=FALSE)\n",
    "for (ura in tmp) {\n",
    "    vec <- c(ura$date2[[1]], sum(ura$amount), min(ura$amount), max(ura$amount),\n",
    "                mean(ura$amount), length(ura$amount))\n",
    "    df <- rbind(df, vec)\n",
    "}\n",
    "colnames(df)<- c(\"date\",\"sum\",\"min\", \"max\", \"mean\", \"count\")\n",
    "df$date2 <- as.POSIXct(df$date,origin=\"1970-01-01\",tz=\"GMT\")\n",
    "df\n",
    "\n",
    "ggplot(data = df, mapping = aes(x = date2, y = count)) + \n",
    "     geom_col() + labs(x = \"hour\", y = \"number of transactions\")"
   ]
  },
  {
   "cell_type": "code",
   "execution_count": null,
   "metadata": {
    "collapsed": true
   },
   "outputs": [],
   "source": []
  }
 ],
 "metadata": {
  "kernelspec": {
   "display_name": "R",
   "language": "R",
   "name": "ir"
  },
  "language_info": {
   "codemirror_mode": "r",
   "file_extension": ".r",
   "mimetype": "text/x-r-source",
   "name": "R",
   "pygments_lexer": "r",
   "version": "3.4.0"
  }
 },
 "nbformat": 4,
 "nbformat_minor": 2
}
