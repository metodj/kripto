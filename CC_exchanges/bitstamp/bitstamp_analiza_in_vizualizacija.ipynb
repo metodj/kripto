{
 "cells": [
  {
   "cell_type": "code",
   "execution_count": 28,
   "metadata": {
    "collapsed": true
   },
   "outputs": [],
   "source": [
    "#install.packages('ggplot2', dependencies = TRUE, repos = \"http://cran.us.r-project.org\")\n",
    "#install.packages('readr', dependencies = TRUE, repos = \"http://cran.us.r-project.org\")\n",
    "#install.packages('dplyr', dependencies = TRUE, repos = \"http://cran.us.r-project.org\")\n",
    "#install.packages('DescTools', dependencies = TRUE, repos = \"http://cran.us.r-project.org\")\n",
    "#install.packages('visNetwork', dependencies = TRUE, repos = \"http://cran.us.r-project.org\")"
   ]
  },
  {
   "cell_type": "code",
   "execution_count": 29,
   "metadata": {
    "collapsed": false
   },
   "outputs": [],
   "source": [
    "library(DescTools)\n",
    "library(ggplot2)\n",
    "library(readr)\n",
    "suppressWarnings(library(dplyr))\n",
    "library(visNetwork)"
   ]
  },
  {
   "cell_type": "markdown",
   "metadata": {},
   "source": [
    "# Dnevni pregled borze Bitstamp\n",
    "\n",
    "Vse funkcije podpirajo vse valutne pare oz. valute na borzi Bitstamp.\n",
    "\n",
    "Razpoložljivi valutni pari oz. flowi (vrstni red v paru pomemben za pravilno delovanje funkcij):\n",
    "\n",
    "- btceur\n",
    "- btcusd\n",
    "- ethbtc\n",
    "- etheur\n",
    "- ethusd\n",
    "- eurusd\n",
    "- ltcbtc\n",
    "- ltceur\n",
    "- ltcusd\n",
    "- xrpbtc\n",
    "- xrpeur\n",
    "- xrpud\n"
   ]
  },
  {
   "cell_type": "markdown",
   "metadata": {},
   "source": [
    "### Navodila za uporabo:\n",
    "\n",
    "- vnesi željen datum z vnosom  spodnje polje (OPOMBA: trenutno je v bazi podatkov le en dan, in sicer 18.08.2017) \n",
    "- v zgornjem meniju izberi \"Cell\" in nato \"Run all\"\n",
    "- pognale se bodo vse spodnje funkcije. Tabele in grafi bodo prikazovali podatke za izbran default_par (par se lahko spremeni z vnosom v polje spodaj, za razpoložljive pare glej seznam zgoraj).\n",
    "- če Jupyter notebook javi, da katera od potrebnih knjižnic ni naložena, se lahko v povsem zgornjem polju odkomentira (pobriše # na začetku vrstice) posamezne vrstice. Celico naj se požene in knjižnice se bodo naložile\n",
    "\n",
    "\n",
    "- alternativno se lahko pri vsaki funkciji posebej spremeni argumente (valutni par, valuta, velikost bucketa...). Za zagon take funkcije nato klikni na željeno polje (celico) in v meniju izberi \"cell\" in nato \"Run cells\" (pognalo se bo samo izbrano polje/celica)\n",
    "- pri nekaterih funkcijah lahko pride pri spremembi valutnega para do slabo in nesmiselno skaliranih grafov. V ta namen imajo nekatere funkcije posebej argumente, s katerimi se lahko graf spremeni v smiselno velikost. Če se opazi, da kateri graf vseeno ne deluje \"uredu\", prosim za opozorilo in bom popravil.\n",
    "- opis, vhodni argumenti (ki jih je možno spreminjati) in pomen grafov(ter tabel) so razloženi pri vsaki funkciji posebej (glej spodaj)\n",
    "- celice/polja z oznako #KODA ignoriraj, za uporabnika namreč niso pomembne"
   ]
  },
  {
   "cell_type": "code",
   "execution_count": 30,
   "metadata": {
    "collapsed": true
   },
   "outputs": [],
   "source": [
    "#vnesi željen datum (DD.MM.YYYY) in default valutni par:\n",
    "datum = \"14.09.2017\"\n",
    "default_par = \"btceur\""
   ]
  },
  {
   "cell_type": "markdown",
   "metadata": {},
   "source": [
    "### Primer zajetih podatkov o valutnem paru (seznam vseh izvedenih transakcij/tradeov v zadnjih 24 urah):"
   ]
  },
  {
   "cell_type": "markdown",
   "metadata": {},
   "source": [
    "Pomen stolpcev:\n",
    "- date: datum (unix format)\n",
    "- tid: id transakcije\n",
    "- price: cena izražena v enotah druge valute v paru\n",
    "- amount: količina tokenov v transakciji (v enotah prve valute v paru)\n",
    "- type: tip transakcije, 0 pomeni 'buy' in  1 pomeni 'sell'"
   ]
  },
  {
   "cell_type": "code",
   "execution_count": 31,
   "metadata": {
    "collapsed": false
   },
   "outputs": [
    {
     "data": {
      "text/html": [
       "<table>\n",
       "<thead><tr><th scope=col>date</th><th scope=col>tid</th><th scope=col>price</th><th scope=col>amount</th><th scope=col>type</th></tr></thead>\n",
       "<tbody>\n",
       "\t<tr><td>1505433671</td><td>21261027  </td><td>2734.28   </td><td>0.40965277</td><td>0         </td></tr>\n",
       "\t<tr><td>1505433669</td><td>21261019  </td><td>2741.00   </td><td>0.21676732</td><td>0         </td></tr>\n",
       "\t<tr><td>1505433668</td><td>21261017  </td><td>2740.99   </td><td>1.48925281</td><td>1         </td></tr>\n",
       "\t<tr><td>1505433668</td><td>21261015  </td><td>2737.68   </td><td>0.02263000</td><td>0         </td></tr>\n",
       "\t<tr><td>1505433668</td><td>21261013  </td><td>2734.29   </td><td>0.27807929</td><td>0         </td></tr>\n",
       "\t<tr><td>1505433666</td><td>21261011  </td><td>2730.66   </td><td>0.06127477</td><td>0         </td></tr>\n",
       "</tbody>\n",
       "</table>\n"
      ],
      "text/latex": [
       "\\begin{tabular}{r|lllll}\n",
       " date & tid & price & amount & type\\\\\n",
       "\\hline\n",
       "\t 1505433671 & 21261027   & 2734.28    & 0.40965277 & 0         \\\\\n",
       "\t 1505433669 & 21261019   & 2741.00    & 0.21676732 & 0         \\\\\n",
       "\t 1505433668 & 21261017   & 2740.99    & 1.48925281 & 1         \\\\\n",
       "\t 1505433668 & 21261015   & 2737.68    & 0.02263000 & 0         \\\\\n",
       "\t 1505433668 & 21261013   & 2734.29    & 0.27807929 & 0         \\\\\n",
       "\t 1505433666 & 21261011   & 2730.66    & 0.06127477 & 0         \\\\\n",
       "\\end{tabular}\n"
      ],
      "text/markdown": [
       "\n",
       "date | tid | price | amount | type | \n",
       "|---|---|---|---|---|---|\n",
       "| 1505433671 | 21261027   | 2734.28    | 0.40965277 | 0          | \n",
       "| 1505433669 | 21261019   | 2741.00    | 0.21676732 | 0          | \n",
       "| 1505433668 | 21261017   | 2740.99    | 1.48925281 | 1          | \n",
       "| 1505433668 | 21261015   | 2737.68    | 0.02263000 | 0          | \n",
       "| 1505433668 | 21261013   | 2734.29    | 0.27807929 | 0          | \n",
       "| 1505433666 | 21261011   | 2730.66    | 0.06127477 | 0          | \n",
       "\n",
       "\n"
      ],
      "text/plain": [
       "  date       tid      price   amount     type\n",
       "1 1505433671 21261027 2734.28 0.40965277 0   \n",
       "2 1505433669 21261019 2741.00 0.21676732 0   \n",
       "3 1505433668 21261017 2740.99 1.48925281 1   \n",
       "4 1505433668 21261015 2737.68 0.02263000 0   \n",
       "5 1505433668 21261013 2734.29 0.27807929 0   \n",
       "6 1505433666 21261011 2730.66 0.06127477 0   "
      ]
     },
     "metadata": {},
     "output_type": "display_data"
    }
   ],
   "source": [
    "example <- read.csv(paste(datum, '/', default_par, '.csv', sep=''), header=T)\n",
    "head(example)"
   ]
  },
  {
   "cell_type": "markdown",
   "metadata": {},
   "source": [
    "### 1) Vizualizacija in tabela valutnih tokov (flowov) \n",
    "\n",
    "VPRAŠANJE (alineja) IZ MAILA: \n",
    "##### - za bitstamp, bitfinex, binance slike top 10 valut + tabelca da vidimo kaj pomenijo debeline povezav in velikosti balonckov\n",
    "\n",
    "OPIS: Tabela prikaže podatke o enosmernih flowih (ločeno je npr.BTCETH in ETHBTC) za izbran dan (24 ur) na borzi. Podatki so nato prikazani v obliki grafa. Graf se da preoblikovati v bolj pregledno obliko s klikom na vozlišče in premikom (click, hold and move/drag). Za podatke o povezavi (oz. vozlišču) klikni na povezavo oz. vozlišče ali se samo zapelji čez z miško. Graf se da tudi premakniti in povečati/zmanjšati z uporabo miške.\n",
    "\n",
    "POMEN STOLPCEV:\n",
    "\n",
    "- volume: dnevni promet na izbranem flowu v USD\n",
    "- combo: flow (prva --> druga)\n",
    "- nr_tokens: dnevni promet na izbranem flowu v tokenih (če je v paru ena fiat in ena kripto valuta, potem izraženo v enotah/tokenih kripto valute; če sta v paru dve kripo valuti, izraženo v enotah/tokenih valute, ki ni BTC)\n",
    "- priceUSD: povprečna cena po kateri je bila izvedena transkacija na izbranem flowu v tistem dnevu (če je v paru ena fiat in ena kripto valuta, potem izraženo v USD ceni kripto valute; če sta v paru dve kripo valuti, izraženo v USD ceni kripto valute, ki ni BTC)\n",
    "- nr_txs: število transakcij v tistem dnevu na izbranem flowu\n",
    "\n",
    "\n",
    "VHODNI ARGUMENTI: datum (globalna spremenljivka, nastavi zgoraj)\n"
   ]
  },
  {
   "cell_type": "code",
   "execution_count": 32,
   "metadata": {
    "collapsed": false
   },
   "outputs": [
    {
     "name": "stderr",
     "output_type": "stream",
     "text": [
      "Warning message in file(file, \"rt\"):\n",
      "\"cannot open file '14.09.2017/tidy.csv': No such file or directory\""
     ]
    },
    {
     "ename": "ERROR",
     "evalue": "Error in file(file, \"rt\"): cannot open the connection\n",
     "output_type": "error",
     "traceback": [
      "Error in file(file, \"rt\"): cannot open the connection\nTraceback:\n",
      "1. read.csv(paste(datum, \"/tidy.csv\", sep = \"\"), header = T, as.is = T)",
      "2. read.table(file = file, header = header, sep = sep, quote = quote, \n .     dec = dec, fill = fill, comment.char = comment.char, ...)",
      "3. file(file, \"rt\")"
     ]
    }
   ],
   "source": [
    "tabela <- read.csv(paste(datum,\"/tidy.csv\", sep=\"\"), header=T, as.is=T)\n",
    "tabela"
   ]
  },
  {
   "cell_type": "markdown",
   "metadata": {},
   "source": [
    "##### Število transakcij v zadnjih 24 urah:"
   ]
  },
  {
   "cell_type": "code",
   "execution_count": null,
   "metadata": {
    "collapsed": false
   },
   "outputs": [],
   "source": [
    "sum(tabela$nr_txs)"
   ]
  },
  {
   "cell_type": "markdown",
   "metadata": {},
   "source": [
    "##### Skupni volume v zadnjih 24 urah (izražen v USD):"
   ]
  },
  {
   "cell_type": "code",
   "execution_count": null,
   "metadata": {
    "collapsed": false
   },
   "outputs": [],
   "source": [
    "prettyNum(round(sum(tabela$volume),2), big.mark=',', scientific=FALSE)"
   ]
  },
  {
   "cell_type": "code",
   "execution_count": null,
   "metadata": {
    "collapsed": false
   },
   "outputs": [],
   "source": [
    "#KODA\n",
    "nodes <- read.csv(paste(datum, '/vozli.csv', sep=''), header=T, as.is=T)\n",
    "links <- read.csv(paste(datum,\"/tidy.csv\", sep=\"\"), header=T, as.is=T)\n",
    "links$normVolume <- scale(links$volume) + 2\n",
    "links$normTxs <- scale(links$nr_txs) + 2\n",
    "links <- links[,c('prva', 'druga', 'nr_tokens', 'priceUSD', 'nr_txs', 'normVolume', 'normTxs', 'combo', 'volume')]\n",
    "velikost <- links %>% select(druga, volume) %>% group_by(druga) %>% summarise(volume = sum(volume))\n",
    "colnames(velikost)[1] <- \"currency\"\n",
    "nodes <- merge(velikost, nodes, by='currency')\n",
    "\n",
    "\n",
    "AVG = sum(nodes$volume)/dim(nodes)[1]\n",
    "SD = sd(nodes$volume)\n",
    "nodes$norm <- ((nodes$volume - AVG)/SD + 1) * 10\n",
    "AVG2 = sum(links$volume)/dim(links)[1]\n",
    "SD2 = sd(links$volume)\n",
    "links$width <- abs((links$volume - AVG2)/SD2) + 0.5\n",
    "\n",
    "nodes['label'] <- nodes['currency']\n",
    "colnames(nodes)[1] <- \"id\"\n",
    "colnames(links)[1] <- \"from\"\n",
    "colnames(links)[2] <- \"to\"\n",
    "colnames(nodes)[4] <- 'size'\n",
    "\n",
    "#prettyNum(12345.678,big.mark=\",\",scientific=FALSE)\n",
    "\n",
    "nodes$title <- paste(nodes$label, \"<br>\",\n",
    "                     \"<b>Daily volume: </b>\", prettyNum(round(nodes$volume,2), big.mark=',', scientific=FALSE), \"$\") \n",
    "nodes$color.background <- c(\"slategrey\", \"tomato\")[nodes$currencyType]\n",
    "links$title <- paste(\"<b>Flow:</b>\", links$combo, \"<br>\", \n",
    "                            \"<b>Volume:</b>\", prettyNum(round(links$volume,2), big.mark=',', scientific=FALSE), \"$<br>\",\n",
    "                            \"<b>Nr txs:</b>\", links$nr_txs, \"<br>\",\n",
    "                            \"<b>Avg daily price:</b>\", round(links$priceUSD,2),'$')\n",
    "\n",
    "visNetwork(nodes, links, main='BITSTAMP')  %>% \n",
    "  visOptions(highlightNearest = TRUE, nodesIdSelection = TRUE) %>% visIgraphLayout(smooth=TRUE)"
   ]
  },
  {
   "cell_type": "markdown",
   "metadata": {},
   "source": [
    "### 2) Porazdelitev transakcij na valutni par "
   ]
  },
  {
   "cell_type": "code",
   "execution_count": null,
   "metadata": {
    "collapsed": false
   },
   "outputs": [],
   "source": [
    "#KODA\n",
    "porazdelitev <- function(par, velikost_bucketa, x, y) {\n",
    "    ime <- paste(datum, '/', par, '.csv', sep='')\n",
    "    df <- read.csv(ime, header=T)\n",
    "    df['class'] <- df['amount'] %/% velikost_bucketa\n",
    "    tmp <- df %>% select(class, amount) %>% group_by(class) %>% summarise(nr = length(amount))\n",
    "    print(Desc(df$class * velikost_bucketa, main = \"Velikost transakcij\", plotit = F, verbose=1))\n",
    "    graf <- ggplot(data = tmp, mapping = aes(x = class * velikost_bucketa, y = nr)) + geom_col() +\n",
    "        labs(x = \"velikost transakcije\", y = \"število transakcij\") + xlim(-0.01, x) + ylim(0, y) + \n",
    "        ggtitle(paste('Porazdelitev velikosti transakcij za ', toupper(par), sep=''))\n",
    "    return (graf)\n",
    "    }"
   ]
  },
  {
   "cell_type": "markdown",
   "metadata": {},
   "source": [
    "VPRAŠANJE (alineja) IZ MAILA: \n",
    "##### - ce podprem nek par, kaksne menjave pricakujem (recimo porazdelitev nakupov btcja po velikosti, lahko diskretizirano po npr. X bucketih) \n",
    "\n",
    "OPIS: tabela na začetku pokaže podatke o porazdelitvi v \"številski\" obliki (če je bucketov preveč našteje le nekaj najmanjših in največjih vrednosti). Graf prikaže porazdelitev po bucketih. Za smiselen in nazoren graf upravljaj s parametri velikost bucketa, x in y (dolžini obeh osi).\n",
    "\n",
    "Če sta v paru dve kriptovaluti, se diskretizira po velikosti tokena valute, ki ni BTC (za par xrpbtc se torej diskretizira po velikosti xrp).\n",
    "\n",
    "VHODNI ARGUMENTI (spreminjaj v polju spodaj, nato poženi prek \"cell\" in nato \"run cells\"): \n",
    "\n",
    "\n",
    "- par: za prikaz drugega valutnega para vnesi v drug par v obliki stringa (npr. 'xrpeur')\n",
    "- velikost bucketa: velikost transakcije (glede na velikost tokena) po kateri se gleda porazdelitev velikosti\n",
    "- x: dolžina x-osi na grafu\n",
    "- y: dolžina y-osi na grafu"
   ]
  },
  {
   "cell_type": "code",
   "execution_count": 33,
   "metadata": {
    "collapsed": false
   },
   "outputs": [
    {
     "name": "stdout",
     "output_type": "stream",
     "text": [
      "------------------------------------------------------------------------------ \n",
      "Velikost transakcij\n",
      "\n",
      "      length         n     NAs    unique        0s      mean     meanCI\n",
      "       4'726     4'726       0       877       103  2'916.13   2'672.06\n",
      "                100.0%    0.0%                2.2%             3'160.19\n",
      "                                                                       \n",
      "         .05       .10     .25    median       .75       .90        .95\n",
      "       32.50    100.00  330.00  1'230.00  3'020.00  6'590.00  10'000.00\n",
      "                                                                       \n",
      "       range        sd   vcoef       mad       IQR      skew       kurt\n",
      "  422'570.00  8'558.33    2.93  1'556.73  2'690.00     27.84   1'246.95\n",
      "                                                                       \n",
      "lowest : 0.0 (103), 10.0 (10), 20.0 (11), 30.0 (113), 40.0 (61)\n",
      "highest: 82'470.0, 107'220.0, 112'220.0, 114'530.0, 422'570.0\n",
      "\n"
     ]
    },
    {
     "name": "stderr",
     "output_type": "stream",
     "text": [
      "Warning message:\n",
      "\"Removed 779 rows containing missing values (position_stack).\""
     ]
    },
    {
     "data": {},
     "metadata": {},
     "output_type": "display_data"
    },
    {
     "data": {
      "image/png": "[encoded data removed]",
      "text/plain": [
       "plot without title"
      ]
     },
     "metadata": {},
     "output_type": "display_data"
    }
   ],
   "source": [
    "#porazdelitev(par, velikost bucketa, x, y)\n",
    "porazdelitev('xrpeur', 10, 1000, 100)"
   ]
  },
  {
   "cell_type": "markdown",
   "metadata": {},
   "source": [
    "### 3) Skalabilnost po urah "
   ]
  },
  {
   "cell_type": "code",
   "execution_count": null,
   "metadata": {
    "collapsed": false
   },
   "outputs": [],
   "source": [
    "#KODA\n",
    "skalabilnost <- function(par, ctrl) {\n",
    "    ime <- paste(datum, '/', par, '.csv', sep='')\n",
    "    data <- read.csv(ime, header=T)\n",
    "    data['class'] <- data['amount'] %/% 1\n",
    "    data$date2 <- as.POSIXct(data$date,origin=\"1970-01-01\",tz=\"GMT\")\n",
    "    tmp <- split(data, cut(strptime(data$date2, format=\"%F %R\"),\"hour\"))\n",
    "    df <- data.frame(Date=as.Date(as.character()), sum=numeric(), max=numeric(), min=numeric(),\n",
    "                     avg=numeric(), count=numeric(), stringsAsFactors=FALSE)\n",
    "    for (ura in tmp) {\n",
    "    vec <- c(ura$date2[[1]], sum(ura$amount), min(ura$amount), max(ura$amount),\n",
    "                mean(ura$amount), length(ura$amount))\n",
    "    df <- rbind(df, vec)\n",
    "    }\n",
    "    colnames(df)<- c(\"date\",\"sum\",\"min\", \"max\", \"mean\", \"count\")\n",
    "    df$date2 <- as.POSIXct(df$date,origin=\"1970-01-01\",tz=\"GMT\")\n",
    "    df$date <- NULL\n",
    "    p <- ggplot(df, aes(x = date2)) + geom_line(aes(y = count, colour = \"Število transakcij\"),size=1.2)\n",
    "    p <- p + geom_line(aes(y = mean*ctrl, colour = \"Povprečna transakcija\"), size=1.2)\n",
    "    p <- p + scale_y_continuous(sec.axis = sec_axis(~./ctrl, name = \"Povprečna transakcija\"))\n",
    "    p <- p + scale_colour_manual(values = c(\"blue\", \"red\"))\n",
    "    p <- p + labs(y = \"Število transakcij\", x = \"Datum in ura\")\n",
    "    p <- p + theme(legend.position = c(0.8, 0.9))\n",
    "    p <- p + ggtitle(paste('Skalabilnost po urah za ', toupper(par), sep=''))\n",
    "    print(p)\n",
    "    return(df)\n",
    "}"
   ]
  },
  {
   "cell_type": "markdown",
   "metadata": {},
   "source": [
    "VPRAŠANJE (alineja) IZ MAILA: \n",
    "##### - koliko total tradeov je na uro, max, min, povpr. (skalabilnost sistema), kaj je bil max (peak) na minuto\n",
    "##### -  kdaj je najvec dela ce si borza (bitstamp vs binance vs bitfinex) - ali se da kaj generalno povedati ali je odvisno od tega kje si kot borza\n",
    "\n",
    "OPIS: tabela prikaže podatke za izbrani valutni par na urni ravni. Graf prikaže število transakcij in povprečno velikost transakcije (glede na število tokena, ki je bil \"izmenjan\" v transakciji) za vsako uro, torej stolpca mean in count iz tabele. Pazi na dvojno y-skalo pri grafu.\n",
    "\n",
    "POMEN STOLPCEV:\n",
    "\n",
    "- sum: število (vsota) tokenov, ki so bili izmenjani v dani uri, na izbranem flowu (če je v paru ena fiat in ena kripto valuta, potem izraženo v številu kripto valute; če sta v paru dve kripto valuti, izraženo v številu kripto valute, ki ni BTC --> enako velja za spodnje alineje)\n",
    "- min: najmanjša izvedena transakcija v dani uri \n",
    "- max: največja izvedena transakcija v dani uri\n",
    "- mean: povprečna transakcija v dani uri (glede na velikost tokena)\n",
    "- count: število vseh transakcij v dani uri\n",
    "- date2: datum in ura, za katero veljajo podatki v stolpcu (npr. '2017-08-18 17:59:50' tako pomeni čas od 17.00-18.00 dne 18.8.2017)\n",
    "\n",
    "VHODNI ARGUMENTI: \n",
    "\n",
    "- valutni par v string obliki (za prikaz drugega valutnega para spremeni argument v funkciji spodaj)\n",
    "- faktor razmerja med levo in desno y-skalo, omogoča pravilno skaliranje grafa. Priporočljive vrednosti (po prvi kripto valuti v paru): btc 1000, eth 10, ltc 10, xrp 0.1"
   ]
  },
  {
   "cell_type": "code",
   "execution_count": null,
   "metadata": {
    "collapsed": false
   },
   "outputs": [],
   "source": [
    "skalabilnost(default_par, 1000)"
   ]
  },
  {
   "cell_type": "markdown",
   "metadata": {
    "collapsed": false
   },
   "source": [
    "### 4) Likvidnost \n",
    "\n",
    "#### 4a) Likvidnost na valutni par"
   ]
  },
  {
   "cell_type": "code",
   "execution_count": null,
   "metadata": {
    "collapsed": false
   },
   "outputs": [],
   "source": [
    "#KODA\n",
    "likvidnost <- function(par) {\n",
    "    ime <- paste(datum, '/', par, '.csv', sep='')\n",
    "    data <- read.csv(ime, header=T)\n",
    "    data$date2 <- as.POSIXct(data$date,origin=\"1970-01-01\",tz=\"GMT\") \n",
    "    tmp <- split(data, cut(strptime(data$date2, format=\"%F %R\"),\"hour\"))\n",
    "    df <- data.frame(Date=as.Date(as.character()), buy=numeric(), sell=numeric(), stringsAsFactors=FALSE)\n",
    "    for (ura in tmp) {\n",
    "        tmpbuy <- ura[ura[, \"type\"] == 0,]\n",
    "        tmpsell <- ura[ura[, \"type\"] == 1,]\n",
    "        vec <- c(ura$date2[[1]], sum(tmpbuy$amount), sum(tmpsell$amount))\n",
    "        df <- rbind(df, vec)\n",
    "    }\n",
    "    colnames(df)<- c(\"date\",\"buy\",\"sell\")\n",
    "    df$difference <- df$buy - df$sell\n",
    "    df$date <- as.POSIXct(df$date,origin=\"1970-01-01\",tz=\"GMT\")\n",
    "    df$dnevna_zaloga <- cumsum(df$difference)\n",
    "    df$tmp <- c(1:nrow(df))\n",
    "    df$group <- rep(0, nrow(df))\n",
    "    for (i in 1:nrow(df)) {\n",
    "    df$group[[i]] <- ((i - 1) %/% 4) + 1\n",
    "    if (i %% 4 == 1) {\n",
    "        df$tmp[[i]] = df$difference[[i]] \n",
    "    } else if (i %% 4 == 3){\n",
    "        df$tmp[[i]] = df$difference[[i]] + df$difference[[i - 1]] + df$difference[[i - 2]]\n",
    "    } else if (i %% 4 == 2){\n",
    "        df$tmp[[i]] = df$difference[[i]] + df$difference[[i - 1]]\n",
    "    } else {\n",
    "        df$tmp[[i]] = df$difference[[i]] + df$difference[[i - 1]] + df$difference[[i - 2]] + df$difference[[i - 3]]\n",
    "    }\n",
    "    }\n",
    "    colnames(df)[6] <- \"stiri_urna\"\n",
    "    #df$stiri_urna <- rollsumr(df$difference, k=4, fill=0)\n",
    "    p <- ggplot(data = df, aes(x = date)) + geom_col(aes(y=difference))\n",
    "    p <- p + geom_line(aes(y=dnevna_zaloga/2, colour = \"Dnevna likvidnost\"), size=1.2)\n",
    "    p <- p + geom_line(aes(y=stiri_urna/2, group = group, colour = \"4-urna likvidnost\"), size=1.2)\n",
    "    p <- p + scale_y_continuous(sec.axis = sec_axis(~.*2, name = \"Dnevna in 4-urna likvidnost\"))\n",
    "    p <- p + scale_colour_manual(values = c(\"blue\", \"black\"))\n",
    "    p <- p + labs(x = \"Datum in ura\", y = \"Razlika med buy in sell stranjo (urna likvidnost)\")\n",
    "    p <- p + theme(legend.position = c(0.2, 0.9))\n",
    "    p <- p + ggtitle(paste('Likvidnost za ', toupper(par), sep=''))\n",
    "    print(p)\n",
    "    return(df)\n",
    "}"
   ]
  },
  {
   "cell_type": "markdown",
   "metadata": {},
   "source": [
    "VPRAŠANJE (alineja) IZ MAILA: \n",
    "##### - kaksno likvidnost moram imeti na urni ravni / stiri urni / dnevni ravni (kako minimalno velike hot wallete moram imeti - premisli, lahko prva ocena kar razlika med sale in buy, cez cas, privzami da bi vsako transakcijo cleareal)\n",
    "\n",
    "OPIS: \n",
    "\n",
    "POMEN STOLPCEV:\n",
    "\n",
    "- date: datum in ura, za katero veljajo podatki v stolpcu (npr. '2017-08-18 17:59:50' tako pomeni čas od 17.00-18.00 dne 18.8.2017)\n",
    "- buy: število kupljenih tokenov na izbranem valutnem paru v dani uri (če sta v paru dve kripotvaluti, gre za število tokenov valute, ki ni btc --> enako velja za ostale stolpce) \n",
    "- sell: število prodanih tokenov na izbranem valutnem paru v dani uri \n",
    "- difference:  buy - sell (likvidnost na urni ravni)\n",
    "- dnevna_zaloga: seštevek razlik po urah (likvidnost na dnevni ravni), tj. koliko tokenov bi bilo viška (oz. bi jih primanjkovalo), če jih nikoli čez dan ne bi prenesli dol na cold wallet (oz. jih ne bi dokupili drugje)\n",
    "- stiri_urna: seštevek razlik po urah na 4-urni ravni, tj. privzamem, da se na vsake 4 ure število tokenov spravi na 0 (višek se je prenesel na cold wallet ali pa se je manjko dokupil drugje)\n",
    "\n",
    "VHODNI ARGUMENTI: valutni par v string obliki (za prikaz drugega valutnega para spremeni argument v funkciji spodaj)"
   ]
  },
  {
   "cell_type": "code",
   "execution_count": 34,
   "metadata": {
    "collapsed": false
   },
   "outputs": [
    {
     "data": {
      "text/html": [
       "<table>\n",
       "<thead><tr><th scope=col>date</th><th scope=col>buy</th><th scope=col>sell</th><th scope=col>difference</th><th scope=col>dnevna_zaloga</th><th scope=col>stiri_urna</th><th scope=col>group</th></tr></thead>\n",
       "<tbody>\n",
       "\t<tr><td>2017-09-14 00:57:39</td><td>  4.739853         </td><td>  7.934870         </td><td>  -3.195018        </td><td>  -3.1950177       </td><td>  -3.1950177       </td><td>1                  </td></tr>\n",
       "\t<tr><td>2017-09-14 01:56:04</td><td>  6.965265         </td><td>  3.292299         </td><td>   3.672966        </td><td>   0.4779483       </td><td>   0.4779483       </td><td>1                  </td></tr>\n",
       "\t<tr><td>2017-09-14 02:59:21</td><td>  9.181735         </td><td>  3.804090         </td><td>   5.377645        </td><td>   5.8555934       </td><td>   5.8555934       </td><td>1                  </td></tr>\n",
       "\t<tr><td>2017-09-14 03:59:07</td><td> 26.104319         </td><td> 31.192669         </td><td>  -5.088351        </td><td>   0.7672429       </td><td>   0.7672429       </td><td>1                  </td></tr>\n",
       "\t<tr><td>2017-09-14 04:59:58</td><td> 22.875947         </td><td> 26.310516         </td><td>  -3.434569        </td><td>  -2.6673261       </td><td>  -3.4345690       </td><td>2                  </td></tr>\n",
       "\t<tr><td>2017-09-14 05:59:59</td><td> 29.684186         </td><td> 22.047566         </td><td>   7.636620        </td><td>   4.9692937       </td><td>   4.2020509       </td><td>2                  </td></tr>\n",
       "\t<tr><td>2017-09-14 06:59:55</td><td> 41.471963         </td><td> 29.943645         </td><td>  11.528318        </td><td>  16.4976118       </td><td>  15.7303690       </td><td>2                  </td></tr>\n",
       "\t<tr><td>2017-09-14 07:59:55</td><td> 49.121000         </td><td> 38.631078         </td><td>  10.489922        </td><td>  26.9875338       </td><td>  26.2202909       </td><td>2                  </td></tr>\n",
       "\t<tr><td>2017-09-14 08:59:52</td><td> 52.688092         </td><td>109.985152         </td><td> -57.297060        </td><td> -30.3095263       </td><td> -57.2970601       </td><td>3                  </td></tr>\n",
       "\t<tr><td>2017-09-14 09:59:59</td><td> 70.196491         </td><td> 71.208882         </td><td>  -1.012391        </td><td> -31.3219174       </td><td> -58.3094512       </td><td>3                  </td></tr>\n",
       "\t<tr><td>2017-09-14 10:59:46</td><td>112.801105         </td><td> 95.391931         </td><td>  17.409174        </td><td> -13.9127439       </td><td> -40.9002777       </td><td>3                  </td></tr>\n",
       "\t<tr><td>2017-09-14 11:59:57</td><td>236.179897         </td><td>294.985212         </td><td> -58.805314        </td><td> -72.7180583       </td><td> -99.7055921       </td><td>3                  </td></tr>\n",
       "\t<tr><td>2017-09-14 12:59:59</td><td>263.941731         </td><td>493.513280         </td><td>-229.571549        </td><td>-302.2896076       </td><td>-229.5715493       </td><td>4                  </td></tr>\n",
       "\t<tr><td>2017-09-14 13:59:58</td><td>323.696306         </td><td>471.664118         </td><td>-147.967812        </td><td>-450.2574196       </td><td>-377.5393613       </td><td>4                  </td></tr>\n",
       "\t<tr><td>2017-09-14 14:59:23</td><td>214.374554         </td><td>187.989423         </td><td>  26.385131        </td><td>-423.8722884       </td><td>-351.1542300       </td><td>4                  </td></tr>\n",
       "\t<tr><td>2017-09-14 15:59:56</td><td>139.206146         </td><td>111.071807         </td><td>  28.134339        </td><td>-395.7379492       </td><td>-323.0198909       </td><td>4                  </td></tr>\n",
       "\t<tr><td>2017-09-14 16:59:55</td><td>164.867634         </td><td>158.638104         </td><td>   6.229530        </td><td>-389.5084189       </td><td>   6.2295303       </td><td>5                  </td></tr>\n",
       "\t<tr><td>2017-09-14 17:59:59</td><td>238.820153         </td><td>447.110577         </td><td>-208.290423        </td><td>-597.7988423       </td><td>-202.0608930       </td><td>5                  </td></tr>\n",
       "\t<tr><td>2017-09-14 18:59:59</td><td>343.040331         </td><td>251.356945         </td><td>  91.683386        </td><td>-506.1154562       </td><td>-110.3775070       </td><td>5                  </td></tr>\n",
       "\t<tr><td>2017-09-14 19:59:46</td><td>245.601585         </td><td>189.893598         </td><td>  55.707988        </td><td>-450.4074686       </td><td> -54.6695194       </td><td>5                  </td></tr>\n",
       "\t<tr><td>2017-09-14 20:59:56</td><td>173.795985         </td><td>116.282973         </td><td>  57.513013        </td><td>-392.8944558       </td><td>  57.5130128       </td><td>6                  </td></tr>\n",
       "\t<tr><td>2017-09-14 21:59:58</td><td>136.191991         </td><td>255.070071         </td><td>-118.878081        </td><td>-511.7725364       </td><td> -61.3650678       </td><td>6                  </td></tr>\n",
       "\t<tr><td>2017-09-14 22:59:35</td><td> 88.206627         </td><td> 63.774832         </td><td>  24.431795        </td><td>-487.3407410       </td><td> -36.9332723       </td><td>6                  </td></tr>\n",
       "\t<tr><td>2017-09-14 23:59:12</td><td> 46.485482         </td><td>134.238667         </td><td> -87.753185        </td><td>-575.0939261       </td><td>-124.6864574       </td><td>6                  </td></tr>\n",
       "\t<tr><td>2017-09-15 00:01:11</td><td>  1.088654         </td><td>  2.808253         </td><td>  -1.719599        </td><td>-576.8135247       </td><td>  -1.7195987       </td><td>7                  </td></tr>\n",
       "</tbody>\n",
       "</table>\n"
      ],
      "text/latex": [
       "\\begin{tabular}{r|lllllll}\n",
       " date & buy & sell & difference & dnevna\\_zaloga & stiri\\_urna & group\\\\\n",
       "\\hline\n",
       "\t 2017-09-14 00:57:39 &   4.739853          &   7.934870          &   -3.195018         &   -3.1950177        &   -3.1950177        & 1                  \\\\\n",
       "\t 2017-09-14 01:56:04 &   6.965265          &   3.292299          &    3.672966         &    0.4779483        &    0.4779483        & 1                  \\\\\n",
       "\t 2017-09-14 02:59:21 &   9.181735          &   3.804090          &    5.377645         &    5.8555934        &    5.8555934        & 1                  \\\\\n",
       "\t 2017-09-14 03:59:07 &  26.104319          &  31.192669          &   -5.088351         &    0.7672429        &    0.7672429        & 1                  \\\\\n",
       "\t 2017-09-14 04:59:58 &  22.875947          &  26.310516          &   -3.434569         &   -2.6673261        &   -3.4345690        & 2                  \\\\\n",
       "\t 2017-09-14 05:59:59 &  29.684186          &  22.047566          &    7.636620         &    4.9692937        &    4.2020509        & 2                  \\\\\n",
       "\t 2017-09-14 06:59:55 &  41.471963          &  29.943645          &   11.528318         &   16.4976118        &   15.7303690        & 2                  \\\\\n",
       "\t 2017-09-14 07:59:55 &  49.121000          &  38.631078          &   10.489922         &   26.9875338        &   26.2202909        & 2                  \\\\\n",
       "\t 2017-09-14 08:59:52 &  52.688092          & 109.985152          &  -57.297060         &  -30.3095263        &  -57.2970601        & 3                  \\\\\n",
       "\t 2017-09-14 09:59:59 &  70.196491          &  71.208882          &   -1.012391         &  -31.3219174        &  -58.3094512        & 3                  \\\\\n",
       "\t 2017-09-14 10:59:46 & 112.801105          &  95.391931          &   17.409174         &  -13.9127439        &  -40.9002777        & 3                  \\\\\n",
       "\t 2017-09-14 11:59:57 & 236.179897          & 294.985212          &  -58.805314         &  -72.7180583        &  -99.7055921        & 3                  \\\\\n",
       "\t 2017-09-14 12:59:59 & 263.941731          & 493.513280          & -229.571549         & -302.2896076        & -229.5715493        & 4                  \\\\\n",
       "\t 2017-09-14 13:59:58 & 323.696306          & 471.664118          & -147.967812         & -450.2574196        & -377.5393613        & 4                  \\\\\n",
       "\t 2017-09-14 14:59:23 & 214.374554          & 187.989423          &   26.385131         & -423.8722884        & -351.1542300        & 4                  \\\\\n",
       "\t 2017-09-14 15:59:56 & 139.206146          & 111.071807          &   28.134339         & -395.7379492        & -323.0198909        & 4                  \\\\\n",
       "\t 2017-09-14 16:59:55 & 164.867634          & 158.638104          &    6.229530         & -389.5084189        &    6.2295303        & 5                  \\\\\n",
       "\t 2017-09-14 17:59:59 & 238.820153          & 447.110577          & -208.290423         & -597.7988423        & -202.0608930        & 5                  \\\\\n",
       "\t 2017-09-14 18:59:59 & 343.040331          & 251.356945          &   91.683386         & -506.1154562        & -110.3775070        & 5                  \\\\\n",
       "\t 2017-09-14 19:59:46 & 245.601585          & 189.893598          &   55.707988         & -450.4074686        &  -54.6695194        & 5                  \\\\\n",
       "\t 2017-09-14 20:59:56 & 173.795985          & 116.282973          &   57.513013         & -392.8944558        &   57.5130128        & 6                  \\\\\n",
       "\t 2017-09-14 21:59:58 & 136.191991          & 255.070071          & -118.878081         & -511.7725364        &  -61.3650678        & 6                  \\\\\n",
       "\t 2017-09-14 22:59:35 &  88.206627          &  63.774832          &   24.431795         & -487.3407410        &  -36.9332723        & 6                  \\\\\n",
       "\t 2017-09-14 23:59:12 &  46.485482          & 134.238667          &  -87.753185         & -575.0939261        & -124.6864574        & 6                  \\\\\n",
       "\t 2017-09-15 00:01:11 &   1.088654          &   2.808253          &   -1.719599         & -576.8135247        &   -1.7195987        & 7                  \\\\\n",
       "\\end{tabular}\n"
      ],
      "text/markdown": [
       "\n",
       "date | buy | sell | difference | dnevna_zaloga | stiri_urna | group | \n",
       "|---|---|---|---|---|---|---|---|---|---|---|---|---|---|---|---|---|---|---|---|---|---|---|---|---|\n",
       "| 2017-09-14 00:57:39 |   4.739853          |   7.934870          |   -3.195018         |   -3.1950177        |   -3.1950177        | 1                   | \n",
       "| 2017-09-14 01:56:04 |   6.965265          |   3.292299          |    3.672966         |    0.4779483        |    0.4779483        | 1                   | \n",
       "| 2017-09-14 02:59:21 |   9.181735          |   3.804090          |    5.377645         |    5.8555934        |    5.8555934        | 1                   | \n",
       "| 2017-09-14 03:59:07 |  26.104319          |  31.192669          |   -5.088351         |    0.7672429        |    0.7672429        | 1                   | \n",
       "| 2017-09-14 04:59:58 |  22.875947          |  26.310516          |   -3.434569         |   -2.6673261        |   -3.4345690        | 2                   | \n",
       "| 2017-09-14 05:59:59 |  29.684186          |  22.047566          |    7.636620         |    4.9692937        |    4.2020509        | 2                   | \n",
       "| 2017-09-14 06:59:55 |  41.471963          |  29.943645          |   11.528318         |   16.4976118        |   15.7303690        | 2                   | \n",
       "| 2017-09-14 07:59:55 |  49.121000          |  38.631078          |   10.489922         |   26.9875338        |   26.2202909        | 2                   | \n",
       "| 2017-09-14 08:59:52 |  52.688092          | 109.985152          |  -57.297060         |  -30.3095263        |  -57.2970601        | 3                   | \n",
       "| 2017-09-14 09:59:59 |  70.196491          |  71.208882          |   -1.012391         |  -31.3219174        |  -58.3094512        | 3                   | \n",
       "| 2017-09-14 10:59:46 | 112.801105          |  95.391931          |   17.409174         |  -13.9127439        |  -40.9002777        | 3                   | \n",
       "| 2017-09-14 11:59:57 | 236.179897          | 294.985212          |  -58.805314         |  -72.7180583        |  -99.7055921        | 3                   | \n",
       "| 2017-09-14 12:59:59 | 263.941731          | 493.513280          | -229.571549         | -302.2896076        | -229.5715493        | 4                   | \n",
       "| 2017-09-14 13:59:58 | 323.696306          | 471.664118          | -147.967812         | -450.2574196        | -377.5393613        | 4                   | \n",
       "| 2017-09-14 14:59:23 | 214.374554          | 187.989423          |   26.385131         | -423.8722884        | -351.1542300        | 4                   | \n",
       "| 2017-09-14 15:59:56 | 139.206146          | 111.071807          |   28.134339         | -395.7379492        | -323.0198909        | 4                   | \n",
       "| 2017-09-14 16:59:55 | 164.867634          | 158.638104          |    6.229530         | -389.5084189        |    6.2295303        | 5                   | \n",
       "| 2017-09-14 17:59:59 | 238.820153          | 447.110577          | -208.290423         | -597.7988423        | -202.0608930        | 5                   | \n",
       "| 2017-09-14 18:59:59 | 343.040331          | 251.356945          |   91.683386         | -506.1154562        | -110.3775070        | 5                   | \n",
       "| 2017-09-14 19:59:46 | 245.601585          | 189.893598          |   55.707988         | -450.4074686        |  -54.6695194        | 5                   | \n",
       "| 2017-09-14 20:59:56 | 173.795985          | 116.282973          |   57.513013         | -392.8944558        |   57.5130128        | 6                   | \n",
       "| 2017-09-14 21:59:58 | 136.191991          | 255.070071          | -118.878081         | -511.7725364        |  -61.3650678        | 6                   | \n",
       "| 2017-09-14 22:59:35 |  88.206627          |  63.774832          |   24.431795         | -487.3407410        |  -36.9332723        | 6                   | \n",
       "| 2017-09-14 23:59:12 |  46.485482          | 134.238667          |  -87.753185         | -575.0939261        | -124.6864574        | 6                   | \n",
       "| 2017-09-15 00:01:11 |   1.088654          |   2.808253          |   -1.719599         | -576.8135247        |   -1.7195987        | 7                   | \n",
       "\n",
       "\n"
      ],
      "text/plain": [
       "   date                buy        sell       difference  dnevna_zaloga\n",
       "1  2017-09-14 00:57:39   4.739853   7.934870   -3.195018   -3.1950177 \n",
       "2  2017-09-14 01:56:04   6.965265   3.292299    3.672966    0.4779483 \n",
       "3  2017-09-14 02:59:21   9.181735   3.804090    5.377645    5.8555934 \n",
       "4  2017-09-14 03:59:07  26.104319  31.192669   -5.088351    0.7672429 \n",
       "5  2017-09-14 04:59:58  22.875947  26.310516   -3.434569   -2.6673261 \n",
       "6  2017-09-14 05:59:59  29.684186  22.047566    7.636620    4.9692937 \n",
       "7  2017-09-14 06:59:55  41.471963  29.943645   11.528318   16.4976118 \n",
       "8  2017-09-14 07:59:55  49.121000  38.631078   10.489922   26.9875338 \n",
       "9  2017-09-14 08:59:52  52.688092 109.985152  -57.297060  -30.3095263 \n",
       "10 2017-09-14 09:59:59  70.196491  71.208882   -1.012391  -31.3219174 \n",
       "11 2017-09-14 10:59:46 112.801105  95.391931   17.409174  -13.9127439 \n",
       "12 2017-09-14 11:59:57 236.179897 294.985212  -58.805314  -72.7180583 \n",
       "13 2017-09-14 12:59:59 263.941731 493.513280 -229.571549 -302.2896076 \n",
       "14 2017-09-14 13:59:58 323.696306 471.664118 -147.967812 -450.2574196 \n",
       "15 2017-09-14 14:59:23 214.374554 187.989423   26.385131 -423.8722884 \n",
       "16 2017-09-14 15:59:56 139.206146 111.071807   28.134339 -395.7379492 \n",
       "17 2017-09-14 16:59:55 164.867634 158.638104    6.229530 -389.5084189 \n",
       "18 2017-09-14 17:59:59 238.820153 447.110577 -208.290423 -597.7988423 \n",
       "19 2017-09-14 18:59:59 343.040331 251.356945   91.683386 -506.1154562 \n",
       "20 2017-09-14 19:59:46 245.601585 189.893598   55.707988 -450.4074686 \n",
       "21 2017-09-14 20:59:56 173.795985 116.282973   57.513013 -392.8944558 \n",
       "22 2017-09-14 21:59:58 136.191991 255.070071 -118.878081 -511.7725364 \n",
       "23 2017-09-14 22:59:35  88.206627  63.774832   24.431795 -487.3407410 \n",
       "24 2017-09-14 23:59:12  46.485482 134.238667  -87.753185 -575.0939261 \n",
       "25 2017-09-15 00:01:11   1.088654   2.808253   -1.719599 -576.8135247 \n",
       "   stiri_urna   group\n",
       "1    -3.1950177 1    \n",
       "2     0.4779483 1    \n",
       "3     5.8555934 1    \n",
       "4     0.7672429 1    \n",
       "5    -3.4345690 2    \n",
       "6     4.2020509 2    \n",
       "7    15.7303690 2    \n",
       "8    26.2202909 2    \n",
       "9   -57.2970601 3    \n",
       "10  -58.3094512 3    \n",
       "11  -40.9002777 3    \n",
       "12  -99.7055921 3    \n",
       "13 -229.5715493 4    \n",
       "14 -377.5393613 4    \n",
       "15 -351.1542300 4    \n",
       "16 -323.0198909 4    \n",
       "17    6.2295303 5    \n",
       "18 -202.0608930 5    \n",
       "19 -110.3775070 5    \n",
       "20  -54.6695194 5    \n",
       "21   57.5130128 6    \n",
       "22  -61.3650678 6    \n",
       "23  -36.9332723 6    \n",
       "24 -124.6864574 6    \n",
       "25   -1.7195987 7    "
      ]
     },
     "metadata": {},
     "output_type": "display_data"
    },
    {
     "data": {
      "image/png": "[encoded data removed]",
      "text/plain": [
       "plot without title"
      ]
     },
     "metadata": {},
     "output_type": "display_data"
    }
   ],
   "source": [
    "likvidnost(default_par)"
   ]
  },
  {
   "cell_type": "markdown",
   "metadata": {},
   "source": [
    "#### 4b) Likvidnost na valuto"
   ]
  },
  {
   "cell_type": "markdown",
   "metadata": {},
   "source": [
    "OPIS: vse isto kot zgoraj (tabela in graf), le da ne gledamo več po valutnem paru, temveč po posamezni valuti"
   ]
  },
  {
   "cell_type": "code",
   "execution_count": null,
   "metadata": {
    "collapsed": false
   },
   "outputs": [],
   "source": [
    "#KODA\n",
    "likvidnost_valuta <- function(valuta) {\n",
    "    valutni_pari <- c('btcusd', 'btceur', 'eurusd', 'xrpusd', 'xrpeur', 'xrpbtc', \n",
    "                      'ltcusd', 'ltceur', 'ltcbtc', 'ethusd', 'etheur', 'ethbtc')\n",
    "    matching <- valutni_pari[grepl(valuta, valutni_pari)]\n",
    "    matching <- paste(datum, '/', matching, '.csv', sep='')\n",
    "    data <- do.call(rbind,lapply(matching,read.csv))\n",
    "    data$date2 <- as.POSIXct(data$date,origin=\"1970-01-01\",tz=\"GMT\") \n",
    "    tmp <- split(data, cut(strptime(data$date2, format=\"%F %R\"),\"hour\"))\n",
    "    df <- data.frame(Date=as.Date(as.character()), buy=numeric(), sell=numeric(), stringsAsFactors=FALSE)\n",
    "    for (ura in tmp) {\n",
    "        tmpbuy <- ura[ura[, \"type\"] == 0,]\n",
    "        tmpsell <- ura[ura[, \"type\"] == 1,]\n",
    "        vec <- c(ura$date2[[1]], sum(tmpbuy$amount), sum(tmpsell$amount))\n",
    "        df <- rbind(df, vec)\n",
    "    }\n",
    "    colnames(df)<- c(\"date\",\"buy\",\"sell\")\n",
    "    df$difference <- df$buy - df$sell\n",
    "    df$date <- as.POSIXct(df$date,origin=\"1970-01-01\",tz=\"GMT\")\n",
    "    df$dnevna_zaloga <- cumsum(df$difference)\n",
    "    df$tmp <- c(1:nrow(df))\n",
    "    df$group <- rep(0, nrow(df))\n",
    "    for (i in 1:nrow(df)) {\n",
    "    df$group[[i]] <- ((i - 1) %/% 4) + 1\n",
    "    if (i %% 4 == 1) {\n",
    "        df$tmp[[i]] = df$difference[[i]] \n",
    "    } else if (i %% 4 == 3){\n",
    "        df$tmp[[i]] = df$difference[[i]] + df$difference[[i - 1]] + df$difference[[i - 2]]\n",
    "    } else if (i %% 4 == 2){\n",
    "        df$tmp[[i]] = df$difference[[i]] + df$difference[[i - 1]]\n",
    "    } else {\n",
    "        df$tmp[[i]] = df$difference[[i]] + df$difference[[i - 1]] + df$difference[[i - 2]] + df$difference[[i - 3]]\n",
    "    }\n",
    "    }\n",
    "    colnames(df)[6] <- \"stiri_urna\"\n",
    "    #df$stiri_urna <- rollsumr(df$difference, k=4, fill=0)\n",
    "    p <- ggplot(data = df, aes(x = date)) + geom_col(aes(y=difference))\n",
    "    p <- p + geom_line(aes(y=dnevna_zaloga/2, colour = \"Dnevna likvidnost\"), size=1.2)\n",
    "    p <- p + geom_line(aes(y=stiri_urna/2, group = group, colour = \"4-urna likvidnost\"), size=1.2)\n",
    "    p <- p + scale_y_continuous(sec.axis = sec_axis(~.*2, name = \"Dnevna in 4-urna likvidnost\"))\n",
    "    p <- p + scale_colour_manual(values = c(\"blue\", \"black\"))\n",
    "    p <- p + labs(x = \"Datum in ura\", y = \"Razlika med buy in sell stranjo (urna likvidnost)\")\n",
    "    p <- p + theme(legend.position = c(0.2, 0.9))\n",
    "    p <- p + ggtitle(paste('Likvidnost za ', toupper(valuta), sep=''))\n",
    "    print(p)\n",
    "    return(df)\n",
    "}"
   ]
  },
  {
   "cell_type": "markdown",
   "metadata": {},
   "source": [
    "Za prikaz druge valute spremeni argument v funkciji spodaj. Funckija podpira naslednje valute:\n",
    "- xrp\n",
    "- eth\n",
    "- ltc\n",
    "\n",
    "*zaenkrat še ne podpira BTC. Če je tak prikaz likvidnosti zanimiv in uporaben, se potem doda v nadaljevanju tudi za BTC"
   ]
  },
  {
   "cell_type": "code",
   "execution_count": 35,
   "metadata": {
    "collapsed": false
   },
   "outputs": [
    {
     "data": {
      "text/html": [
       "<table>\n",
       "<thead><tr><th scope=col>date</th><th scope=col>buy</th><th scope=col>sell</th><th scope=col>difference</th><th scope=col>dnevna_zaloga</th><th scope=col>stiri_urna</th><th scope=col>group</th></tr></thead>\n",
       "<tbody>\n",
       "\t<tr><td>2017-09-14 00:57:58</td><td>  628.3147         </td><td> 419.43278         </td><td>  208.881965       </td><td>  208.88197        </td><td>  208.881965       </td><td>1                  </td></tr>\n",
       "\t<tr><td>2017-09-14 01:59:20</td><td>  218.4563         </td><td> 300.11286         </td><td>  -81.656592       </td><td>  127.22537        </td><td>  127.225373       </td><td>1                  </td></tr>\n",
       "\t<tr><td>2017-09-14 02:59:24</td><td>  377.9986         </td><td> 572.35612         </td><td> -194.357512       </td><td>  -67.13214        </td><td>  -67.132139       </td><td>1                  </td></tr>\n",
       "\t<tr><td>2017-09-14 03:59:45</td><td>  704.0155         </td><td> 987.57268         </td><td> -283.557182       </td><td> -350.68932        </td><td> -350.689321       </td><td>1                  </td></tr>\n",
       "\t<tr><td>2017-09-14 04:57:48</td><td>  365.0296         </td><td> 367.50570         </td><td>   -2.476083       </td><td> -353.16540        </td><td>   -2.476083       </td><td>2                  </td></tr>\n",
       "\t<tr><td>2017-09-14 05:59:16</td><td>  411.3076         </td><td> 321.80334         </td><td>   89.504251       </td><td> -263.66115        </td><td>   87.028168       </td><td>2                  </td></tr>\n",
       "\t<tr><td>2017-09-14 06:59:05</td><td>  755.8455         </td><td> 742.61469         </td><td>   13.230843       </td><td> -250.43031        </td><td>  100.259012       </td><td>2                  </td></tr>\n",
       "\t<tr><td>2017-09-14 07:59:41</td><td> 1016.8143         </td><td> 727.31470         </td><td>  289.499604       </td><td>   39.06929        </td><td>  389.758616       </td><td>2                  </td></tr>\n",
       "\t<tr><td>2017-09-14 08:58:53</td><td>  947.1945         </td><td> 705.77451         </td><td>  241.420011       </td><td>  280.48931        </td><td>  241.420011       </td><td>3                  </td></tr>\n",
       "\t<tr><td>2017-09-14 09:59:46</td><td> 1830.3613         </td><td>1931.18343         </td><td> -100.822125       </td><td>  179.66718        </td><td>  140.597886       </td><td>3                  </td></tr>\n",
       "\t<tr><td>2017-09-14 10:59:58</td><td> 1685.7150         </td><td>3049.76672         </td><td>-1364.051687       </td><td>-1184.38451        </td><td>-1223.453802       </td><td>3                  </td></tr>\n",
       "\t<tr><td>2017-09-14 11:59:36</td><td> 4728.5895         </td><td>4898.67001         </td><td> -170.080472       </td><td>-1354.46498        </td><td>-1393.534274       </td><td>3                  </td></tr>\n",
       "\t<tr><td>2017-09-14 12:59:59</td><td> 6595.4493         </td><td>7345.94493         </td><td> -750.495589       </td><td>-2104.96057        </td><td> -750.495589       </td><td>4                  </td></tr>\n",
       "\t<tr><td>2017-09-14 13:59:38</td><td>10249.9849         </td><td>9483.18704         </td><td>  766.797809       </td><td>-1338.16276        </td><td>   16.302220       </td><td>4                  </td></tr>\n",
       "\t<tr><td>2017-09-14 14:59:47</td><td> 4988.1083         </td><td>3308.16901         </td><td> 1679.939289       </td><td>  341.77653        </td><td> 1696.241510       </td><td>4                  </td></tr>\n",
       "\t<tr><td>2017-09-14 15:59:58</td><td> 2183.9315         </td><td>4816.17946         </td><td>-2632.247913       </td><td>-2290.47138        </td><td> -936.006403       </td><td>4                  </td></tr>\n",
       "\t<tr><td>2017-09-14 16:59:51</td><td> 2719.2292         </td><td>4760.27425         </td><td>-2041.045075       </td><td>-4331.51646        </td><td>-2041.045075       </td><td>5                  </td></tr>\n",
       "\t<tr><td>2017-09-14 17:59:53</td><td> 4682.4457         </td><td>6727.36635         </td><td>-2044.920609       </td><td>-6376.43707        </td><td>-4085.965683       </td><td>5                  </td></tr>\n",
       "\t<tr><td>2017-09-14 18:59:49</td><td> 5817.8975         </td><td>3674.54382         </td><td> 2143.353684       </td><td>-4233.08338        </td><td>-1942.611999       </td><td>5                  </td></tr>\n",
       "\t<tr><td>2017-09-14 19:59:38</td><td> 2832.5733         </td><td>4585.55100         </td><td>-1752.977668       </td><td>-5986.06105        </td><td>-3695.589667       </td><td>5                  </td></tr>\n",
       "\t<tr><td>2017-09-14 20:58:51</td><td> 2214.4735         </td><td>1414.97237         </td><td>  799.501100       </td><td>-5186.55995        </td><td>  799.501100       </td><td>6                  </td></tr>\n",
       "\t<tr><td>2017-09-14 21:59:58</td><td> 2332.1225         </td><td>2652.36763         </td><td> -320.245157       </td><td>-5506.80511        </td><td>  479.255943       </td><td>6                  </td></tr>\n",
       "\t<tr><td>2017-09-14 22:59:47</td><td> 1777.2657         </td><td>2401.05144         </td><td> -623.785747       </td><td>-6130.59085        </td><td> -144.529804       </td><td>6                  </td></tr>\n",
       "\t<tr><td>2017-09-14 23:58:45</td><td> 2055.0778         </td><td>3448.41043         </td><td>-1393.332594       </td><td>-7523.92345        </td><td>-1537.862398       </td><td>6                  </td></tr>\n",
       "\t<tr><td>2017-09-15 00:01:22</td><td>   65.7434         </td><td>  59.21915         </td><td>    6.524250       </td><td>-7517.39920        </td><td>    6.524250       </td><td>7                  </td></tr>\n",
       "</tbody>\n",
       "</table>\n"
      ],
      "text/latex": [
       "\\begin{tabular}{r|lllllll}\n",
       " date & buy & sell & difference & dnevna\\_zaloga & stiri\\_urna & group\\\\\n",
       "\\hline\n",
       "\t 2017-09-14 00:57:58 &   628.3147          &  419.43278          &   208.881965        &   208.88197         &   208.881965        & 1                  \\\\\n",
       "\t 2017-09-14 01:59:20 &   218.4563          &  300.11286          &   -81.656592        &   127.22537         &   127.225373        & 1                  \\\\\n",
       "\t 2017-09-14 02:59:24 &   377.9986          &  572.35612          &  -194.357512        &   -67.13214         &   -67.132139        & 1                  \\\\\n",
       "\t 2017-09-14 03:59:45 &   704.0155          &  987.57268          &  -283.557182        &  -350.68932         &  -350.689321        & 1                  \\\\\n",
       "\t 2017-09-14 04:57:48 &   365.0296          &  367.50570          &    -2.476083        &  -353.16540         &    -2.476083        & 2                  \\\\\n",
       "\t 2017-09-14 05:59:16 &   411.3076          &  321.80334          &    89.504251        &  -263.66115         &    87.028168        & 2                  \\\\\n",
       "\t 2017-09-14 06:59:05 &   755.8455          &  742.61469          &    13.230843        &  -250.43031         &   100.259012        & 2                  \\\\\n",
       "\t 2017-09-14 07:59:41 &  1016.8143          &  727.31470          &   289.499604        &    39.06929         &   389.758616        & 2                  \\\\\n",
       "\t 2017-09-14 08:58:53 &   947.1945          &  705.77451          &   241.420011        &   280.48931         &   241.420011        & 3                  \\\\\n",
       "\t 2017-09-14 09:59:46 &  1830.3613          & 1931.18343          &  -100.822125        &   179.66718         &   140.597886        & 3                  \\\\\n",
       "\t 2017-09-14 10:59:58 &  1685.7150          & 3049.76672          & -1364.051687        & -1184.38451         & -1223.453802        & 3                  \\\\\n",
       "\t 2017-09-14 11:59:36 &  4728.5895          & 4898.67001          &  -170.080472        & -1354.46498         & -1393.534274        & 3                  \\\\\n",
       "\t 2017-09-14 12:59:59 &  6595.4493          & 7345.94493          &  -750.495589        & -2104.96057         &  -750.495589        & 4                  \\\\\n",
       "\t 2017-09-14 13:59:38 & 10249.9849          & 9483.18704          &   766.797809        & -1338.16276         &    16.302220        & 4                  \\\\\n",
       "\t 2017-09-14 14:59:47 &  4988.1083          & 3308.16901          &  1679.939289        &   341.77653         &  1696.241510        & 4                  \\\\\n",
       "\t 2017-09-14 15:59:58 &  2183.9315          & 4816.17946          & -2632.247913        & -2290.47138         &  -936.006403        & 4                  \\\\\n",
       "\t 2017-09-14 16:59:51 &  2719.2292          & 4760.27425          & -2041.045075        & -4331.51646         & -2041.045075        & 5                  \\\\\n",
       "\t 2017-09-14 17:59:53 &  4682.4457          & 6727.36635          & -2044.920609        & -6376.43707         & -4085.965683        & 5                  \\\\\n",
       "\t 2017-09-14 18:59:49 &  5817.8975          & 3674.54382          &  2143.353684        & -4233.08338         & -1942.611999        & 5                  \\\\\n",
       "\t 2017-09-14 19:59:38 &  2832.5733          & 4585.55100          & -1752.977668        & -5986.06105         & -3695.589667        & 5                  \\\\\n",
       "\t 2017-09-14 20:58:51 &  2214.4735          & 1414.97237          &   799.501100        & -5186.55995         &   799.501100        & 6                  \\\\\n",
       "\t 2017-09-14 21:59:58 &  2332.1225          & 2652.36763          &  -320.245157        & -5506.80511         &   479.255943        & 6                  \\\\\n",
       "\t 2017-09-14 22:59:47 &  1777.2657          & 2401.05144          &  -623.785747        & -6130.59085         &  -144.529804        & 6                  \\\\\n",
       "\t 2017-09-14 23:58:45 &  2055.0778          & 3448.41043          & -1393.332594        & -7523.92345         & -1537.862398        & 6                  \\\\\n",
       "\t 2017-09-15 00:01:22 &    65.7434          &   59.21915          &     6.524250        & -7517.39920         &     6.524250        & 7                  \\\\\n",
       "\\end{tabular}\n"
      ],
      "text/markdown": [
       "\n",
       "date | buy | sell | difference | dnevna_zaloga | stiri_urna | group | \n",
       "|---|---|---|---|---|---|---|---|---|---|---|---|---|---|---|---|---|---|---|---|---|---|---|---|---|\n",
       "| 2017-09-14 00:57:58 |   628.3147          |  419.43278          |   208.881965        |   208.88197         |   208.881965        | 1                   | \n",
       "| 2017-09-14 01:59:20 |   218.4563          |  300.11286          |   -81.656592        |   127.22537         |   127.225373        | 1                   | \n",
       "| 2017-09-14 02:59:24 |   377.9986          |  572.35612          |  -194.357512        |   -67.13214         |   -67.132139        | 1                   | \n",
       "| 2017-09-14 03:59:45 |   704.0155          |  987.57268          |  -283.557182        |  -350.68932         |  -350.689321        | 1                   | \n",
       "| 2017-09-14 04:57:48 |   365.0296          |  367.50570          |    -2.476083        |  -353.16540         |    -2.476083        | 2                   | \n",
       "| 2017-09-14 05:59:16 |   411.3076          |  321.80334          |    89.504251        |  -263.66115         |    87.028168        | 2                   | \n",
       "| 2017-09-14 06:59:05 |   755.8455          |  742.61469          |    13.230843        |  -250.43031         |   100.259012        | 2                   | \n",
       "| 2017-09-14 07:59:41 |  1016.8143          |  727.31470          |   289.499604        |    39.06929         |   389.758616        | 2                   | \n",
       "| 2017-09-14 08:58:53 |   947.1945          |  705.77451          |   241.420011        |   280.48931         |   241.420011        | 3                   | \n",
       "| 2017-09-14 09:59:46 |  1830.3613          | 1931.18343          |  -100.822125        |   179.66718         |   140.597886        | 3                   | \n",
       "| 2017-09-14 10:59:58 |  1685.7150          | 3049.76672          | -1364.051687        | -1184.38451         | -1223.453802        | 3                   | \n",
       "| 2017-09-14 11:59:36 |  4728.5895          | 4898.67001          |  -170.080472        | -1354.46498         | -1393.534274        | 3                   | \n",
       "| 2017-09-14 12:59:59 |  6595.4493          | 7345.94493          |  -750.495589        | -2104.96057         |  -750.495589        | 4                   | \n",
       "| 2017-09-14 13:59:38 | 10249.9849          | 9483.18704          |   766.797809        | -1338.16276         |    16.302220        | 4                   | \n",
       "| 2017-09-14 14:59:47 |  4988.1083          | 3308.16901          |  1679.939289        |   341.77653         |  1696.241510        | 4                   | \n",
       "| 2017-09-14 15:59:58 |  2183.9315          | 4816.17946          | -2632.247913        | -2290.47138         |  -936.006403        | 4                   | \n",
       "| 2017-09-14 16:59:51 |  2719.2292          | 4760.27425          | -2041.045075        | -4331.51646         | -2041.045075        | 5                   | \n",
       "| 2017-09-14 17:59:53 |  4682.4457          | 6727.36635          | -2044.920609        | -6376.43707         | -4085.965683        | 5                   | \n",
       "| 2017-09-14 18:59:49 |  5817.8975          | 3674.54382          |  2143.353684        | -4233.08338         | -1942.611999        | 5                   | \n",
       "| 2017-09-14 19:59:38 |  2832.5733          | 4585.55100          | -1752.977668        | -5986.06105         | -3695.589667        | 5                   | \n",
       "| 2017-09-14 20:58:51 |  2214.4735          | 1414.97237          |   799.501100        | -5186.55995         |   799.501100        | 6                   | \n",
       "| 2017-09-14 21:59:58 |  2332.1225          | 2652.36763          |  -320.245157        | -5506.80511         |   479.255943        | 6                   | \n",
       "| 2017-09-14 22:59:47 |  1777.2657          | 2401.05144          |  -623.785747        | -6130.59085         |  -144.529804        | 6                   | \n",
       "| 2017-09-14 23:58:45 |  2055.0778          | 3448.41043          | -1393.332594        | -7523.92345         | -1537.862398        | 6                   | \n",
       "| 2017-09-15 00:01:22 |    65.7434          |   59.21915          |     6.524250        | -7517.39920         |     6.524250        | 7                   | \n",
       "\n",
       "\n"
      ],
      "text/plain": [
       "   date                buy        sell       difference   dnevna_zaloga\n",
       "1  2017-09-14 00:57:58   628.3147  419.43278   208.881965   208.88197  \n",
       "2  2017-09-14 01:59:20   218.4563  300.11286   -81.656592   127.22537  \n",
       "3  2017-09-14 02:59:24   377.9986  572.35612  -194.357512   -67.13214  \n",
       "4  2017-09-14 03:59:45   704.0155  987.57268  -283.557182  -350.68932  \n",
       "5  2017-09-14 04:57:48   365.0296  367.50570    -2.476083  -353.16540  \n",
       "6  2017-09-14 05:59:16   411.3076  321.80334    89.504251  -263.66115  \n",
       "7  2017-09-14 06:59:05   755.8455  742.61469    13.230843  -250.43031  \n",
       "8  2017-09-14 07:59:41  1016.8143  727.31470   289.499604    39.06929  \n",
       "9  2017-09-14 08:58:53   947.1945  705.77451   241.420011   280.48931  \n",
       "10 2017-09-14 09:59:46  1830.3613 1931.18343  -100.822125   179.66718  \n",
       "11 2017-09-14 10:59:58  1685.7150 3049.76672 -1364.051687 -1184.38451  \n",
       "12 2017-09-14 11:59:36  4728.5895 4898.67001  -170.080472 -1354.46498  \n",
       "13 2017-09-14 12:59:59  6595.4493 7345.94493  -750.495589 -2104.96057  \n",
       "14 2017-09-14 13:59:38 10249.9849 9483.18704   766.797809 -1338.16276  \n",
       "15 2017-09-14 14:59:47  4988.1083 3308.16901  1679.939289   341.77653  \n",
       "16 2017-09-14 15:59:58  2183.9315 4816.17946 -2632.247913 -2290.47138  \n",
       "17 2017-09-14 16:59:51  2719.2292 4760.27425 -2041.045075 -4331.51646  \n",
       "18 2017-09-14 17:59:53  4682.4457 6727.36635 -2044.920609 -6376.43707  \n",
       "19 2017-09-14 18:59:49  5817.8975 3674.54382  2143.353684 -4233.08338  \n",
       "20 2017-09-14 19:59:38  2832.5733 4585.55100 -1752.977668 -5986.06105  \n",
       "21 2017-09-14 20:58:51  2214.4735 1414.97237   799.501100 -5186.55995  \n",
       "22 2017-09-14 21:59:58  2332.1225 2652.36763  -320.245157 -5506.80511  \n",
       "23 2017-09-14 22:59:47  1777.2657 2401.05144  -623.785747 -6130.59085  \n",
       "24 2017-09-14 23:58:45  2055.0778 3448.41043 -1393.332594 -7523.92345  \n",
       "25 2017-09-15 00:01:22    65.7434   59.21915     6.524250 -7517.39920  \n",
       "   stiri_urna   group\n",
       "1    208.881965 1    \n",
       "2    127.225373 1    \n",
       "3    -67.132139 1    \n",
       "4   -350.689321 1    \n",
       "5     -2.476083 2    \n",
       "6     87.028168 2    \n",
       "7    100.259012 2    \n",
       "8    389.758616 2    \n",
       "9    241.420011 3    \n",
       "10   140.597886 3    \n",
       "11 -1223.453802 3    \n",
       "12 -1393.534274 3    \n",
       "13  -750.495589 4    \n",
       "14    16.302220 4    \n",
       "15  1696.241510 4    \n",
       "16  -936.006403 4    \n",
       "17 -2041.045075 5    \n",
       "18 -4085.965683 5    \n",
       "19 -1942.611999 5    \n",
       "20 -3695.589667 5    \n",
       "21   799.501100 6    \n",
       "22   479.255943 6    \n",
       "23  -144.529804 6    \n",
       "24 -1537.862398 6    \n",
       "25     6.524250 7    "
      ]
     },
     "metadata": {},
     "output_type": "display_data"
    },
    {
     "data": {
      "image/png": "[encoded data removed]",
      "text/plain": [
       "plot without title"
      ]
     },
     "metadata": {},
     "output_type": "display_data"
    }
   ],
   "source": [
    "likvidnost_valuta('eth')"
   ]
  },
  {
   "cell_type": "markdown",
   "metadata": {},
   "source": [
    "### 5) Orderji na borzi (primerjava z realizirani transakcijami)"
   ]
  },
  {
   "cell_type": "markdown",
   "metadata": {},
   "source": [
    "Podatki so za eno uro. Konkretno podatki prikazani v spodnji tabeli prikazujejo dinamiko trgovanja med 12:58 in 13:58 dne 3.9.2017."
   ]
  },
  {
   "cell_type": "code",
   "execution_count": null,
   "metadata": {
    "collapsed": false
   },
   "outputs": [],
   "source": [
    "order <- read.csv('orders/aggregate.csv', header=T)\n",
    "order"
   ]
  },
  {
   "cell_type": "code",
   "execution_count": null,
   "metadata": {
    "collapsed": true
   },
   "outputs": [],
   "source": []
  }
 ],
 "metadata": {
  "kernelspec": {
   "display_name": "R",
   "language": "R",
   "name": "ir"
  },
  "language_info": {
   "codemirror_mode": "r",
   "file_extension": ".r",
   "mimetype": "text/x-r-source",
   "name": "R",
   "pygments_lexer": "r",
   "version": "3.4.0"
  }
 },
 "nbformat": 4,
 "nbformat_minor": 2
}
