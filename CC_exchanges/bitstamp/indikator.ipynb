{
 "cells": [
  {
   "cell_type": "code",
   "execution_count": 5,
   "metadata": {
    "collapsed": false
   },
   "outputs": [],
   "source": [
    "options(warn=-1)\n",
    "library(readr)\n",
    "suppressWarnings(library(dplyr))\n",
    "library(xlsx)"
   ]
  },
  {
   "cell_type": "code",
   "execution_count": 49,
   "metadata": {
    "collapsed": true
   },
   "outputs": [],
   "source": [
    "#KODA\n",
    "likvidnost <- function(datum, par) {\n",
    "    ime <- paste(datum, '/', par, '.csv', sep='')\n",
    "    data <- read.csv(ime, header=T)\n",
    "    data$date2 <- as.POSIXct(data$date,origin=\"1970-01-01\",tz=\"GMT\") \n",
    "    tmp <- split(data, cut(strptime(data$date2, format=\"%F %R\"),\"hour\"))\n",
    "    df <- data.frame(Date=as.Date(as.character()), buy=numeric(), sell=numeric(), stringsAsFactors=FALSE)\n",
    "    for (ura in tmp) {\n",
    "        tmpbuy <- ura[ura[, \"type\"] == 0,]\n",
    "        tmpsell <- ura[ura[, \"type\"] == 1,]\n",
    "        vec <- c(ura$date2[[1]], sum(tmpbuy$amount), sum(tmpsell$amount))\n",
    "        df <- rbind(df, vec)\n",
    "    }\n",
    "    colnames(df)<- c(\"date\",\"buy\",\"sell\")\n",
    "    df$difference <- df$buy - df$sell\n",
    "    df$date <- as.POSIXct(df$date,origin=\"1970-01-01\",tz=\"GMT\")\n",
    "    df$daily_sum <- cumsum(df$difference)\n",
    "    df <- df[1:24,]\n",
    "    return(df)\n",
    "}"
   ]
  },
  {
   "cell_type": "code",
   "execution_count": 50,
   "metadata": {
    "collapsed": false
   },
   "outputs": [],
   "source": [
    "#KODA\n",
    "rez <- data.frame(Date=as.Date(as.character()), buy=numeric(), sell=numeric(), difference=numeric(),\n",
    "                                                                              daily_sum=numeric(),stringsAsFactors=FALSE)\n",
    "for (i in 13:36) {\n",
    "    if (i < 31) {\n",
    "        datum <- paste(as.character(i), \".09.2017\", sep=\"\")\n",
    "    } else {\n",
    "        i <- (i - 30)\n",
    "        datum <- paste(\"0\", as.character(i), \".10.2017\", sep=\"\")\n",
    "    }\n",
    "    tmp <- likvidnost(datum, 'btcusd')\n",
    "    rez <- rbind(rez, tmp)\n",
    "}\n",
    "\n",
    "\n",
    "\n",
    "daily <- data.frame(Date=as.Date(as.character()), daily_sum=numeric())\n",
    "\n",
    "for (i in 1:24) {\n",
    "    vec <- c(rez$date[i*24], rez$daily_sum[i*24])\n",
    "    daily <- rbind(daily, vec)\n",
    "}\n",
    "\n",
    "colnames(daily)<- c(\"date\",\"difference\")\n",
    "daily$date <- as.POSIXct(daily$date,origin=\"1970-01-01\",tz=\"GMT\")\n",
    "\n",
    "\n",
    "\n",
    "#dim(rez)\n",
    "#head(rez)\n",
    "\n",
    "#dim(daily)\n",
    "#head(daily)"
   ]
  },
  {
   "cell_type": "code",
   "execution_count": 51,
   "metadata": {
    "collapsed": false
   },
   "outputs": [],
   "source": [
    "write.xlsx(rez, \"indikator_urni.xlsx\", sheetName = \"List1\")"
   ]
  },
  {
   "cell_type": "code",
   "execution_count": 63,
   "metadata": {
    "collapsed": false
   },
   "outputs": [],
   "source": [
    "prices <- read.xlsx(\"btcusd_price.xlsx\", sheetName = \"List1\", header=FALSE)\n",
    "prices <- prices[,1:3]\n",
    "prices <- prices[nrow(prices):1,]\n",
    "colnames(prices)<- c(\"date\",\"open\", \"close\")\n",
    "#prices"
   ]
  },
  {
   "cell_type": "markdown",
   "metadata": {},
   "source": [
    "## DNEVNI IZRAČUN"
   ]
  },
  {
   "cell_type": "code",
   "execution_count": 64,
   "metadata": {
    "collapsed": false
   },
   "outputs": [
    {
     "data": {
      "text/html": [
       "<table>\n",
       "<thead><tr><th scope=col>date</th><th scope=col>flow_difference</th><th scope=col>price_difference</th></tr></thead>\n",
       "<tbody>\n",
       "\t<tr><td>2017-09-13 </td><td>-3422.69803</td><td>-249.39    </td></tr>\n",
       "\t<tr><td>2017-09-14 </td><td>-3142.75894</td><td>-720.42    </td></tr>\n",
       "\t<tr><td>2017-09-15 </td><td> 1380.82588</td><td> 471.22    </td></tr>\n",
       "\t<tr><td>2017-09-16 </td><td>  153.80432</td><td> -12.71    </td></tr>\n",
       "\t<tr><td>2017-09-17 </td><td>   50.40402</td><td> -23.40    </td></tr>\n",
       "\t<tr><td>2017-09-18 </td><td> 2180.96892</td><td> 474.11    </td></tr>\n",
       "\t<tr><td>2017-09-19 </td><td>-1179.95979</td><td>-148.82    </td></tr>\n",
       "\t<tr><td>2017-09-20 </td><td>-1081.33217</td><td> -10.41    </td></tr>\n",
       "\t<tr><td>2017-09-21 </td><td>-1580.77906</td><td>-270.43    </td></tr>\n",
       "\t<tr><td>2017-09-22 </td><td>  656.36138</td><td>   2.68    </td></tr>\n",
       "\t<tr><td>2017-09-23 </td><td>  343.27760</td><td> 162.48    </td></tr>\n",
       "\t<tr><td>2017-09-24 </td><td> -541.16450</td><td>-113.31    </td></tr>\n",
       "\t<tr><td>2017-09-25 </td><td> -335.30625</td><td> 244.49    </td></tr>\n",
       "\t<tr><td>2017-09-26 </td><td>-1125.88075</td><td> -36.06    </td></tr>\n",
       "\t<tr><td>2017-09-27 </td><td> 2073.78387</td><td> 307.73    </td></tr>\n",
       "\t<tr><td>2017-09-28 </td><td> -317.40375</td><td> -22.40    </td></tr>\n",
       "\t<tr><td>2017-09-29 </td><td>  -56.49673</td><td>  -8.55    </td></tr>\n",
       "\t<tr><td>2017-09-30 </td><td> 1194.23678</td><td> 172.60    </td></tr>\n",
       "\t<tr><td>2017-10-01 </td><td>  264.78096</td><td>  62.69    </td></tr>\n",
       "\t<tr><td>2017-10-02 </td><td> 1050.51394</td><td>  13.51    </td></tr>\n",
       "\t<tr><td>2017-10-03 </td><td> 1386.98357</td><td> -90.98    </td></tr>\n",
       "\t<tr><td>2017-10-04 </td><td>  523.01279</td><td> -90.01    </td></tr>\n",
       "\t<tr><td>2017-10-05 </td><td> 1686.03563</td><td>  98.53    </td></tr>\n",
       "\t<tr><td>2017-10-06 </td><td>  167.86473</td><td>  46.35    </td></tr>\n",
       "</tbody>\n",
       "</table>\n"
      ],
      "text/latex": [
       "\\begin{tabular}{r|lll}\n",
       " date & flow\\_difference & price\\_difference\\\\\n",
       "\\hline\n",
       "\t 2017-09-13  & -3422.69803 & -249.39    \\\\\n",
       "\t 2017-09-14  & -3142.75894 & -720.42    \\\\\n",
       "\t 2017-09-15  &  1380.82588 &  471.22    \\\\\n",
       "\t 2017-09-16  &   153.80432 &  -12.71    \\\\\n",
       "\t 2017-09-17  &    50.40402 &  -23.40    \\\\\n",
       "\t 2017-09-18  &  2180.96892 &  474.11    \\\\\n",
       "\t 2017-09-19  & -1179.95979 & -148.82    \\\\\n",
       "\t 2017-09-20  & -1081.33217 &  -10.41    \\\\\n",
       "\t 2017-09-21  & -1580.77906 & -270.43    \\\\\n",
       "\t 2017-09-22  &   656.36138 &    2.68    \\\\\n",
       "\t 2017-09-23  &   343.27760 &  162.48    \\\\\n",
       "\t 2017-09-24  &  -541.16450 & -113.31    \\\\\n",
       "\t 2017-09-25  &  -335.30625 &  244.49    \\\\\n",
       "\t 2017-09-26  & -1125.88075 &  -36.06    \\\\\n",
       "\t 2017-09-27  &  2073.78387 &  307.73    \\\\\n",
       "\t 2017-09-28  &  -317.40375 &  -22.40    \\\\\n",
       "\t 2017-09-29  &   -56.49673 &   -8.55    \\\\\n",
       "\t 2017-09-30  &  1194.23678 &  172.60    \\\\\n",
       "\t 2017-10-01  &   264.78096 &   62.69    \\\\\n",
       "\t 2017-10-02  &  1050.51394 &   13.51    \\\\\n",
       "\t 2017-10-03  &  1386.98357 &  -90.98    \\\\\n",
       "\t 2017-10-04  &   523.01279 &  -90.01    \\\\\n",
       "\t 2017-10-05  &  1686.03563 &   98.53    \\\\\n",
       "\t 2017-10-06  &   167.86473 &   46.35    \\\\\n",
       "\\end{tabular}\n"
      ],
      "text/markdown": [
       "\n",
       "date | flow_difference | price_difference | \n",
       "|---|---|---|---|---|---|---|---|---|---|---|---|---|---|---|---|---|---|---|---|---|---|---|---|\n",
       "| 2017-09-13  | -3422.69803 | -249.39     | \n",
       "| 2017-09-14  | -3142.75894 | -720.42     | \n",
       "| 2017-09-15  |  1380.82588 |  471.22     | \n",
       "| 2017-09-16  |   153.80432 |  -12.71     | \n",
       "| 2017-09-17  |    50.40402 |  -23.40     | \n",
       "| 2017-09-18  |  2180.96892 |  474.11     | \n",
       "| 2017-09-19  | -1179.95979 | -148.82     | \n",
       "| 2017-09-20  | -1081.33217 |  -10.41     | \n",
       "| 2017-09-21  | -1580.77906 | -270.43     | \n",
       "| 2017-09-22  |   656.36138 |    2.68     | \n",
       "| 2017-09-23  |   343.27760 |  162.48     | \n",
       "| 2017-09-24  |  -541.16450 | -113.31     | \n",
       "| 2017-09-25  |  -335.30625 |  244.49     | \n",
       "| 2017-09-26  | -1125.88075 |  -36.06     | \n",
       "| 2017-09-27  |  2073.78387 |  307.73     | \n",
       "| 2017-09-28  |  -317.40375 |  -22.40     | \n",
       "| 2017-09-29  |   -56.49673 |   -8.55     | \n",
       "| 2017-09-30  |  1194.23678 |  172.60     | \n",
       "| 2017-10-01  |   264.78096 |   62.69     | \n",
       "| 2017-10-02  |  1050.51394 |   13.51     | \n",
       "| 2017-10-03  |  1386.98357 |  -90.98     | \n",
       "| 2017-10-04  |   523.01279 |  -90.01     | \n",
       "| 2017-10-05  |  1686.03563 |   98.53     | \n",
       "| 2017-10-06  |   167.86473 |   46.35     | \n",
       "\n",
       "\n"
      ],
      "text/plain": [
       "   date       flow_difference price_difference\n",
       "1  2017-09-13 -3422.69803     -249.39         \n",
       "2  2017-09-14 -3142.75894     -720.42         \n",
       "3  2017-09-15  1380.82588      471.22         \n",
       "4  2017-09-16   153.80432      -12.71         \n",
       "5  2017-09-17    50.40402      -23.40         \n",
       "6  2017-09-18  2180.96892      474.11         \n",
       "7  2017-09-19 -1179.95979     -148.82         \n",
       "8  2017-09-20 -1081.33217      -10.41         \n",
       "9  2017-09-21 -1580.77906     -270.43         \n",
       "10 2017-09-22   656.36138        2.68         \n",
       "11 2017-09-23   343.27760      162.48         \n",
       "12 2017-09-24  -541.16450     -113.31         \n",
       "13 2017-09-25  -335.30625      244.49         \n",
       "14 2017-09-26 -1125.88075      -36.06         \n",
       "15 2017-09-27  2073.78387      307.73         \n",
       "16 2017-09-28  -317.40375      -22.40         \n",
       "17 2017-09-29   -56.49673       -8.55         \n",
       "18 2017-09-30  1194.23678      172.60         \n",
       "19 2017-10-01   264.78096       62.69         \n",
       "20 2017-10-02  1050.51394       13.51         \n",
       "21 2017-10-03  1386.98357      -90.98         \n",
       "22 2017-10-04   523.01279      -90.01         \n",
       "23 2017-10-05  1686.03563       98.53         \n",
       "24 2017-10-06   167.86473       46.35         "
      ]
     },
     "metadata": {},
     "output_type": "display_data"
    }
   ],
   "source": [
    "daily$price_diff <- prices$close - prices$open\n",
    "colnames(daily) <- c(\"date\", \"flow_difference\", \"price_difference\")\n",
    "daily$date <- substring(as.character(daily$date),1,10)\n",
    "daily"
   ]
  },
  {
   "cell_type": "code",
   "execution_count": 53,
   "metadata": {
    "collapsed": false
   },
   "outputs": [
    {
     "data": {
      "text/html": [
       "0.786066236573558"
      ],
      "text/latex": [
       "0.786066236573558"
      ],
      "text/markdown": [
       "0.786066236573558"
      ],
      "text/plain": [
       "[1] 0.7860662"
      ]
     },
     "metadata": {},
     "output_type": "display_data"
    }
   ],
   "source": [
    "cor(daily$flow_difference, daily$price_difference)"
   ]
  },
  {
   "cell_type": "code",
   "execution_count": 68,
   "metadata": {
    "collapsed": false
   },
   "outputs": [],
   "source": [
    "write.xlsx(daily, \"indikator_dnevni.xlsx\", sheetName = \"List1\", row.names=FALSE)"
   ]
  },
  {
   "cell_type": "markdown",
   "metadata": {
    "collapsed": true
   },
   "source": [
    "## URNI IZRAČUN"
   ]
  },
  {
   "cell_type": "code",
   "execution_count": 52,
   "metadata": {
    "collapsed": false
   },
   "outputs": [],
   "source": [
    "hourly <- read.xlsx(\"indikator_urni.xlsx\", sheetName = \"List1\", header=TRUE, rowIndex=TRUE) \n",
    "#pazi v zgornji vrstici, da berem pravilno indikator_urni.xlsx\n",
    "hourly_prices <- read.csv(\"Bitstamp_BTCUSD_1h.csv\", header=TRUE, sep=\",\", skip=1)\n",
    "hourly_prices <- hourly_prices[(5310-10*24+2):5307,]\n",
    "hourly <- hourly[1:nrow(hourly_prices),]\n",
    "hourly <- hourly[,2:5]\n",
    "hourly_prices <- hourly_prices[rev(rownames(hourly_prices)),]\n",
    "hourly$price_difference <- hourly_prices$Close - hourly_prices$Open\n",
    "hourly$date <- hourly_prices$Date\n",
    "hourly$buy <- round(hourly$buy, 2)\n",
    "hourly$sell <- round(hourly$sell, 2)\n",
    "hourly$difference <- round(hourly$difference, 2)"
   ]
  },
  {
   "cell_type": "markdown",
   "metadata": {},
   "source": [
    "LEGENDA:\n",
    "\n",
    "- date: datum\n",
    "- buy: buying volume\n",
    "- sell: selling volume\n",
    "- difference: buying volume - selling volume\n",
    "- price_difference: close price - open price"
   ]
  },
  {
   "cell_type": "code",
   "execution_count": 53,
   "metadata": {
    "collapsed": false
   },
   "outputs": [
    {
     "data": {
      "text/html": [
       "<table>\n",
       "<thead><tr><th scope=col>date</th><th scope=col>buy</th><th scope=col>sell</th><th scope=col>difference</th><th scope=col>price_difference</th></tr></thead>\n",
       "<tbody>\n",
       "\t<tr><td>2017-09-13 12-AM</td><td> 227.13         </td><td> 343.89         </td><td> -116.76        </td><td>-34.30          </td></tr>\n",
       "\t<tr><td>2017-09-13 01-AM</td><td> 116.48         </td><td> 174.50         </td><td>  -58.02        </td><td>-33.13          </td></tr>\n",
       "\t<tr><td>2017-09-13 02-AM</td><td> 321.56         </td><td> 711.28         </td><td> -389.72        </td><td>-79.11          </td></tr>\n",
       "\t<tr><td>2017-09-13 03-AM</td><td> 700.25         </td><td>1216.07         </td><td> -515.82        </td><td>-81.02          </td></tr>\n",
       "\t<tr><td>2017-09-13 04-AM</td><td> 637.55         </td><td> 635.04         </td><td>    2.51        </td><td> 65.00          </td></tr>\n",
       "\t<tr><td>2017-09-13 05-AM</td><td> 587.85         </td><td> 430.24         </td><td>  157.62        </td><td>-34.01          </td></tr>\n",
       "\t<tr><td>2017-09-13 06-AM</td><td> 150.23         </td><td> 114.79         </td><td>   35.45        </td><td> 49.02          </td></tr>\n",
       "\t<tr><td>2017-09-13 07-AM</td><td> 815.44         </td><td> 913.30         </td><td>  -97.86        </td><td>-77.94          </td></tr>\n",
       "\t<tr><td>2017-09-13 08-AM</td><td> 418.38         </td><td> 593.75         </td><td> -175.37        </td><td> -7.18          </td></tr>\n",
       "\t<tr><td>2017-09-13 09-AM</td><td> 344.71         </td><td> 804.21         </td><td> -459.50        </td><td>-10.89          </td></tr>\n",
       "\t<tr><td>2017-09-13 10-AM</td><td> 361.92         </td><td>1006.08         </td><td> -644.16        </td><td>-80.65          </td></tr>\n",
       "\t<tr><td>2017-09-13 11-AM</td><td> 574.84         </td><td> 922.54         </td><td> -347.70        </td><td>-18.35          </td></tr>\n",
       "\t<tr><td>2017-09-13 12-PM</td><td> 934.87         </td><td>1195.79         </td><td> -260.91        </td><td> 50.00          </td></tr>\n",
       "\t<tr><td>2017-09-13 01-PM</td><td> 636.98         </td><td> 770.85         </td><td> -133.88        </td><td>-43.36          </td></tr>\n",
       "\t<tr><td>2017-09-13 02-PM</td><td> 887.91         </td><td>2595.37         </td><td>-1707.47        </td><td>-66.72          </td></tr>\n",
       "\t<tr><td>2017-09-13 03-PM</td><td>1476.25         </td><td> 642.35         </td><td>  833.90        </td><td> 49.59          </td></tr>\n",
       "\t<tr><td>2017-09-13 04-PM</td><td> 907.92         </td><td> 504.74         </td><td>  403.18        </td><td>124.59          </td></tr>\n",
       "\t<tr><td>2017-09-13 05-PM</td><td> 676.93         </td><td> 650.01         </td><td>   26.92        </td><td>-33.59          </td></tr>\n",
       "\t<tr><td>2017-09-13 06-PM</td><td> 600.78         </td><td> 516.48         </td><td>   84.30        </td><td>-15.51          </td></tr>\n",
       "\t<tr><td>2017-09-13 07-PM</td><td> 186.26         </td><td> 587.31         </td><td> -401.05        </td><td>-45.00          </td></tr>\n",
       "</tbody>\n",
       "</table>\n"
      ],
      "text/latex": [
       "\\begin{tabular}{r|lllll}\n",
       " date & buy & sell & difference & price\\_difference\\\\\n",
       "\\hline\n",
       "\t 2017-09-13 12-AM &  227.13          &  343.89          &  -116.76         & -34.30          \\\\\n",
       "\t 2017-09-13 01-AM &  116.48          &  174.50          &   -58.02         & -33.13          \\\\\n",
       "\t 2017-09-13 02-AM &  321.56          &  711.28          &  -389.72         & -79.11          \\\\\n",
       "\t 2017-09-13 03-AM &  700.25          & 1216.07          &  -515.82         & -81.02          \\\\\n",
       "\t 2017-09-13 04-AM &  637.55          &  635.04          &     2.51         &  65.00          \\\\\n",
       "\t 2017-09-13 05-AM &  587.85          &  430.24          &   157.62         & -34.01          \\\\\n",
       "\t 2017-09-13 06-AM &  150.23          &  114.79          &    35.45         &  49.02          \\\\\n",
       "\t 2017-09-13 07-AM &  815.44          &  913.30          &   -97.86         & -77.94          \\\\\n",
       "\t 2017-09-13 08-AM &  418.38          &  593.75          &  -175.37         &  -7.18          \\\\\n",
       "\t 2017-09-13 09-AM &  344.71          &  804.21          &  -459.50         & -10.89          \\\\\n",
       "\t 2017-09-13 10-AM &  361.92          & 1006.08          &  -644.16         & -80.65          \\\\\n",
       "\t 2017-09-13 11-AM &  574.84          &  922.54          &  -347.70         & -18.35          \\\\\n",
       "\t 2017-09-13 12-PM &  934.87          & 1195.79          &  -260.91         &  50.00          \\\\\n",
       "\t 2017-09-13 01-PM &  636.98          &  770.85          &  -133.88         & -43.36          \\\\\n",
       "\t 2017-09-13 02-PM &  887.91          & 2595.37          & -1707.47         & -66.72          \\\\\n",
       "\t 2017-09-13 03-PM & 1476.25          &  642.35          &   833.90         &  49.59          \\\\\n",
       "\t 2017-09-13 04-PM &  907.92          &  504.74          &   403.18         & 124.59          \\\\\n",
       "\t 2017-09-13 05-PM &  676.93          &  650.01          &    26.92         & -33.59          \\\\\n",
       "\t 2017-09-13 06-PM &  600.78          &  516.48          &    84.30         & -15.51          \\\\\n",
       "\t 2017-09-13 07-PM &  186.26          &  587.31          &  -401.05         & -45.00          \\\\\n",
       "\\end{tabular}\n"
      ],
      "text/markdown": [
       "\n",
       "date | buy | sell | difference | price_difference | \n",
       "|---|---|---|---|---|---|---|---|---|---|---|---|---|---|---|---|---|---|---|---|\n",
       "| 2017-09-13 12-AM |  227.13          |  343.89          |  -116.76         | -34.30           | \n",
       "| 2017-09-13 01-AM |  116.48          |  174.50          |   -58.02         | -33.13           | \n",
       "| 2017-09-13 02-AM |  321.56          |  711.28          |  -389.72         | -79.11           | \n",
       "| 2017-09-13 03-AM |  700.25          | 1216.07          |  -515.82         | -81.02           | \n",
       "| 2017-09-13 04-AM |  637.55          |  635.04          |     2.51         |  65.00           | \n",
       "| 2017-09-13 05-AM |  587.85          |  430.24          |   157.62         | -34.01           | \n",
       "| 2017-09-13 06-AM |  150.23          |  114.79          |    35.45         |  49.02           | \n",
       "| 2017-09-13 07-AM |  815.44          |  913.30          |   -97.86         | -77.94           | \n",
       "| 2017-09-13 08-AM |  418.38          |  593.75          |  -175.37         |  -7.18           | \n",
       "| 2017-09-13 09-AM |  344.71          |  804.21          |  -459.50         | -10.89           | \n",
       "| 2017-09-13 10-AM |  361.92          | 1006.08          |  -644.16         | -80.65           | \n",
       "| 2017-09-13 11-AM |  574.84          |  922.54          |  -347.70         | -18.35           | \n",
       "| 2017-09-13 12-PM |  934.87          | 1195.79          |  -260.91         |  50.00           | \n",
       "| 2017-09-13 01-PM |  636.98          |  770.85          |  -133.88         | -43.36           | \n",
       "| 2017-09-13 02-PM |  887.91          | 2595.37          | -1707.47         | -66.72           | \n",
       "| 2017-09-13 03-PM | 1476.25          |  642.35          |   833.90         |  49.59           | \n",
       "| 2017-09-13 04-PM |  907.92          |  504.74          |   403.18         | 124.59           | \n",
       "| 2017-09-13 05-PM |  676.93          |  650.01          |    26.92         | -33.59           | \n",
       "| 2017-09-13 06-PM |  600.78          |  516.48          |    84.30         | -15.51           | \n",
       "| 2017-09-13 07-PM |  186.26          |  587.31          |  -401.05         | -45.00           | \n",
       "\n",
       "\n"
      ],
      "text/plain": [
       "   date             buy     sell    difference price_difference\n",
       "1  2017-09-13 12-AM  227.13  343.89  -116.76   -34.30          \n",
       "2  2017-09-13 01-AM  116.48  174.50   -58.02   -33.13          \n",
       "3  2017-09-13 02-AM  321.56  711.28  -389.72   -79.11          \n",
       "4  2017-09-13 03-AM  700.25 1216.07  -515.82   -81.02          \n",
       "5  2017-09-13 04-AM  637.55  635.04     2.51    65.00          \n",
       "6  2017-09-13 05-AM  587.85  430.24   157.62   -34.01          \n",
       "7  2017-09-13 06-AM  150.23  114.79    35.45    49.02          \n",
       "8  2017-09-13 07-AM  815.44  913.30   -97.86   -77.94          \n",
       "9  2017-09-13 08-AM  418.38  593.75  -175.37    -7.18          \n",
       "10 2017-09-13 09-AM  344.71  804.21  -459.50   -10.89          \n",
       "11 2017-09-13 10-AM  361.92 1006.08  -644.16   -80.65          \n",
       "12 2017-09-13 11-AM  574.84  922.54  -347.70   -18.35          \n",
       "13 2017-09-13 12-PM  934.87 1195.79  -260.91    50.00          \n",
       "14 2017-09-13 01-PM  636.98  770.85  -133.88   -43.36          \n",
       "15 2017-09-13 02-PM  887.91 2595.37 -1707.47   -66.72          \n",
       "16 2017-09-13 03-PM 1476.25  642.35   833.90    49.59          \n",
       "17 2017-09-13 04-PM  907.92  504.74   403.18   124.59          \n",
       "18 2017-09-13 05-PM  676.93  650.01    26.92   -33.59          \n",
       "19 2017-09-13 06-PM  600.78  516.48    84.30   -15.51          \n",
       "20 2017-09-13 07-PM  186.26  587.31  -401.05   -45.00          "
      ]
     },
     "metadata": {},
     "output_type": "display_data"
    }
   ],
   "source": [
    "head(hourly, n=20)"
   ]
  },
  {
   "cell_type": "markdown",
   "metadata": {},
   "source": [
    "Korelacija razlike v volumu in razlike  v ceni:"
   ]
  },
  {
   "cell_type": "code",
   "execution_count": 54,
   "metadata": {
    "collapsed": false
   },
   "outputs": [
    {
     "data": {
      "text/html": [
       "0.779324690643972"
      ],
      "text/latex": [
       "0.779324690643972"
      ],
      "text/markdown": [
       "0.779324690643972"
      ],
      "text/plain": [
       "[1] 0.7793247"
      ]
     },
     "metadata": {},
     "output_type": "display_data"
    }
   ],
   "source": [
    "cor(hourly$difference, hourly$price_difference)"
   ]
  },
  {
   "cell_type": "markdown",
   "metadata": {},
   "source": [
    "Povprečje razlike v volumu:"
   ]
  },
  {
   "cell_type": "code",
   "execution_count": 62,
   "metadata": {
    "collapsed": false
   },
   "outputs": [
    {
     "data": {
      "text/html": [
       "218.003813559322"
      ],
      "text/latex": [
       "218.003813559322"
      ],
      "text/markdown": [
       "218.003813559322"
      ],
      "text/plain": [
       "[1] 218.0038"
      ]
     },
     "metadata": {},
     "output_type": "display_data"
    }
   ],
   "source": [
    "mean(abs(hourly$difference))"
   ]
  },
  {
   "cell_type": "code",
   "execution_count": 55,
   "metadata": {
    "collapsed": false
   },
   "outputs": [],
   "source": [
    "colnames(hourly) <- c(\"date\", \"buy[BTC]\", \"sell[BTC]\", \"difference[BTC]\", \"price difference [$]\")\n",
    "write.xlsx(hourly, \"indikator_urni.xlsx\", sheetName = \"List1\", row.names=FALSE)"
   ]
  },
  {
   "cell_type": "code",
   "execution_count": 65,
   "metadata": {
    "collapsed": false
   },
   "outputs": [
    {
     "data": {
      "text/html": [
       "<table>\n",
       "<thead><tr><th scope=col>date</th><th scope=col>buy[BTC]</th><th scope=col>sell[BTC]</th><th scope=col>difference[BTC]</th><th scope=col>price difference [$]</th><th scope=col>check</th></tr></thead>\n",
       "<tbody>\n",
       "\t<tr><td>2017-09-13 12-AM</td><td>227.13          </td><td> 343.89         </td><td>-116.76         </td><td>-34.30          </td><td>1               </td></tr>\n",
       "\t<tr><td>2017-09-13 01-AM</td><td>116.48          </td><td> 174.50         </td><td> -58.02         </td><td>-33.13          </td><td>1               </td></tr>\n",
       "\t<tr><td>2017-09-13 02-AM</td><td>321.56          </td><td> 711.28         </td><td>-389.72         </td><td>-79.11          </td><td>1               </td></tr>\n",
       "\t<tr><td>2017-09-13 03-AM</td><td>700.25          </td><td>1216.07         </td><td>-515.82         </td><td>-81.02          </td><td>1               </td></tr>\n",
       "\t<tr><td>2017-09-13 04-AM</td><td>637.55          </td><td> 635.04         </td><td>   2.51         </td><td> 65.00          </td><td>1               </td></tr>\n",
       "\t<tr><td>2017-09-13 05-AM</td><td>587.85          </td><td> 430.24         </td><td> 157.62         </td><td>-34.01          </td><td>0               </td></tr>\n",
       "</tbody>\n",
       "</table>\n"
      ],
      "text/latex": [
       "\\begin{tabular}{r|llllll}\n",
       " date & buy{[}BTC{]} & sell{[}BTC{]} & difference{[}BTC{]} & price difference {[}\\${]} & check\\\\\n",
       "\\hline\n",
       "\t 2017-09-13 12-AM & 227.13           &  343.89          & -116.76          & -34.30           & 1               \\\\\n",
       "\t 2017-09-13 01-AM & 116.48           &  174.50          &  -58.02          & -33.13           & 1               \\\\\n",
       "\t 2017-09-13 02-AM & 321.56           &  711.28          & -389.72          & -79.11           & 1               \\\\\n",
       "\t 2017-09-13 03-AM & 700.25           & 1216.07          & -515.82          & -81.02           & 1               \\\\\n",
       "\t 2017-09-13 04-AM & 637.55           &  635.04          &    2.51          &  65.00           & 1               \\\\\n",
       "\t 2017-09-13 05-AM & 587.85           &  430.24          &  157.62          & -34.01           & 0               \\\\\n",
       "\\end{tabular}\n"
      ],
      "text/markdown": [
       "\n",
       "date | buy[BTC] | sell[BTC] | difference[BTC] | price difference [$] | check | \n",
       "|---|---|---|---|---|---|\n",
       "| 2017-09-13 12-AM | 227.13           |  343.89          | -116.76          | -34.30           | 1                | \n",
       "| 2017-09-13 01-AM | 116.48           |  174.50          |  -58.02          | -33.13           | 1                | \n",
       "| 2017-09-13 02-AM | 321.56           |  711.28          | -389.72          | -79.11           | 1                | \n",
       "| 2017-09-13 03-AM | 700.25           | 1216.07          | -515.82          | -81.02           | 1                | \n",
       "| 2017-09-13 04-AM | 637.55           |  635.04          |    2.51          |  65.00           | 1                | \n",
       "| 2017-09-13 05-AM | 587.85           |  430.24          |  157.62          | -34.01           | 0                | \n",
       "\n",
       "\n"
      ],
      "text/plain": [
       "  date             buy[BTC] sell[BTC] difference[BTC] price difference [$]\n",
       "1 2017-09-13 12-AM 227.13    343.89   -116.76         -34.30              \n",
       "2 2017-09-13 01-AM 116.48    174.50    -58.02         -33.13              \n",
       "3 2017-09-13 02-AM 321.56    711.28   -389.72         -79.11              \n",
       "4 2017-09-13 03-AM 700.25   1216.07   -515.82         -81.02              \n",
       "5 2017-09-13 04-AM 637.55    635.04      2.51          65.00              \n",
       "6 2017-09-13 05-AM 587.85    430.24    157.62         -34.01              \n",
       "  check\n",
       "1 1    \n",
       "2 1    \n",
       "3 1    \n",
       "4 1    \n",
       "5 1    \n",
       "6 0    "
      ]
     },
     "metadata": {},
     "output_type": "display_data"
    }
   ],
   "source": [
    "hourly$check <- ifelse(hourly[,\"difference[BTC]\"]*hourly[,\"price difference [$]\"]<0, 0, 1)\n",
    "head(hourly)"
   ]
  },
  {
   "cell_type": "markdown",
   "metadata": {},
   "source": [
    "Ujemanje smeri gibanja razlike volumna in razlike cene v procentih:"
   ]
  },
  {
   "cell_type": "code",
   "execution_count": 69,
   "metadata": {
    "collapsed": false
   },
   "outputs": [
    {
     "data": {
      "text/html": [
       "190"
      ],
      "text/latex": [
       "190"
      ],
      "text/markdown": [
       "190"
      ],
      "text/plain": [
       "[1] 190"
      ]
     },
     "metadata": {},
     "output_type": "display_data"
    },
    {
     "data": {
      "text/html": [
       "0.805084745762712"
      ],
      "text/latex": [
       "0.805084745762712"
      ],
      "text/markdown": [
       "0.805084745762712"
      ],
      "text/plain": [
       "[1] 0.8050847"
      ]
     },
     "metadata": {},
     "output_type": "display_data"
    }
   ],
   "source": [
    "sum(hourly$check) \n",
    "sum(hourly$check) / nrow(hourly)"
   ]
  },
  {
   "cell_type": "markdown",
   "metadata": {},
   "source": [
    "Vsi zgornji parametri so spodaj poračunani, še za \"močne signale\", tj. urne vnose, ko je bila absolutna razlika volumna večja od 270:"
   ]
  },
  {
   "cell_type": "code",
   "execution_count": 80,
   "metadata": {
    "collapsed": false
   },
   "outputs": [
    {
     "data": {
      "text/html": [
       "<table>\n",
       "<thead><tr><th></th><th scope=col>date</th><th scope=col>buy[BTC]</th><th scope=col>sell[BTC]</th><th scope=col>difference[BTC]</th><th scope=col>price difference [$]</th><th scope=col>check</th></tr></thead>\n",
       "<tbody>\n",
       "\t<tr><th scope=row>3</th><td>2017-09-13 02-AM</td><td>321.56          </td><td> 711.28         </td><td> -389.72        </td><td>-79.11          </td><td>1               </td></tr>\n",
       "\t<tr><th scope=row>4</th><td>2017-09-13 03-AM</td><td>700.25          </td><td>1216.07         </td><td> -515.82        </td><td>-81.02          </td><td>1               </td></tr>\n",
       "\t<tr><th scope=row>10</th><td>2017-09-13 09-AM</td><td>344.71          </td><td> 804.21         </td><td> -459.50        </td><td>-10.89          </td><td>1               </td></tr>\n",
       "\t<tr><th scope=row>11</th><td>2017-09-13 10-AM</td><td>361.92          </td><td>1006.08         </td><td> -644.16        </td><td>-80.65          </td><td>1               </td></tr>\n",
       "\t<tr><th scope=row>12</th><td>2017-09-13 11-AM</td><td>574.84          </td><td> 922.54         </td><td> -347.70        </td><td>-18.35          </td><td>1               </td></tr>\n",
       "\t<tr><th scope=row>15</th><td>2017-09-13 02-PM</td><td>887.91          </td><td>2595.37         </td><td>-1707.47        </td><td>-66.72          </td><td>1               </td></tr>\n",
       "</tbody>\n",
       "</table>\n"
      ],
      "text/latex": [
       "\\begin{tabular}{r|llllll}\n",
       "  & date & buy{[}BTC{]} & sell{[}BTC{]} & difference{[}BTC{]} & price difference {[}\\${]} & check\\\\\n",
       "\\hline\n",
       "\t3 & 2017-09-13 02-AM & 321.56           &  711.28          &  -389.72         & -79.11           & 1               \\\\\n",
       "\t4 & 2017-09-13 03-AM & 700.25           & 1216.07          &  -515.82         & -81.02           & 1               \\\\\n",
       "\t10 & 2017-09-13 09-AM & 344.71           &  804.21          &  -459.50         & -10.89           & 1               \\\\\n",
       "\t11 & 2017-09-13 10-AM & 361.92           & 1006.08          &  -644.16         & -80.65           & 1               \\\\\n",
       "\t12 & 2017-09-13 11-AM & 574.84           &  922.54          &  -347.70         & -18.35           & 1               \\\\\n",
       "\t15 & 2017-09-13 02-PM & 887.91           & 2595.37          & -1707.47         & -66.72           & 1               \\\\\n",
       "\\end{tabular}\n"
      ],
      "text/markdown": [
       "\n",
       "| <!--/--> | date | buy[BTC] | sell[BTC] | difference[BTC] | price difference [$] | check | \n",
       "|---|---|---|---|---|---|\n",
       "| 3 | 2017-09-13 02-AM | 321.56           |  711.28          |  -389.72         | -79.11           | 1                | \n",
       "| 4 | 2017-09-13 03-AM | 700.25           | 1216.07          |  -515.82         | -81.02           | 1                | \n",
       "| 10 | 2017-09-13 09-AM | 344.71           |  804.21          |  -459.50         | -10.89           | 1                | \n",
       "| 11 | 2017-09-13 10-AM | 361.92           | 1006.08          |  -644.16         | -80.65           | 1                | \n",
       "| 12 | 2017-09-13 11-AM | 574.84           |  922.54          |  -347.70         | -18.35           | 1                | \n",
       "| 15 | 2017-09-13 02-PM | 887.91           | 2595.37          | -1707.47         | -66.72           | 1                | \n",
       "\n",
       "\n"
      ],
      "text/plain": [
       "   date             buy[BTC] sell[BTC] difference[BTC] price difference [$]\n",
       "3  2017-09-13 02-AM 321.56    711.28    -389.72        -79.11              \n",
       "4  2017-09-13 03-AM 700.25   1216.07    -515.82        -81.02              \n",
       "10 2017-09-13 09-AM 344.71    804.21    -459.50        -10.89              \n",
       "11 2017-09-13 10-AM 361.92   1006.08    -644.16        -80.65              \n",
       "12 2017-09-13 11-AM 574.84    922.54    -347.70        -18.35              \n",
       "15 2017-09-13 02-PM 887.91   2595.37   -1707.47        -66.72              \n",
       "   check\n",
       "3  1    \n",
       "4  1    \n",
       "10 1    \n",
       "11 1    \n",
       "12 1    \n",
       "15 1    "
      ]
     },
     "metadata": {},
     "output_type": "display_data"
    }
   ],
   "source": [
    "hourly_extremes <- hourly[abs(hourly[,\"difference[BTC]\"])>270,]\n",
    "head(hourly_extremes)"
   ]
  },
  {
   "cell_type": "code",
   "execution_count": 81,
   "metadata": {
    "collapsed": false
   },
   "outputs": [
    {
     "data": {
      "text/html": [
       "0.875477387736103"
      ],
      "text/latex": [
       "0.875477387736103"
      ],
      "text/markdown": [
       "0.875477387736103"
      ],
      "text/plain": [
       "[1] 0.8754774"
      ]
     },
     "metadata": {},
     "output_type": "display_data"
    }
   ],
   "source": [
    "cor(hourly_extremes[,\"difference[BTC]\"], hourly_extremes[,\"price difference [$]\"])"
   ]
  },
  {
   "cell_type": "code",
   "execution_count": 82,
   "metadata": {
    "collapsed": false
   },
   "outputs": [
    {
     "data": {
      "text/html": [
       "64"
      ],
      "text/latex": [
       "64"
      ],
      "text/markdown": [
       "64"
      ],
      "text/plain": [
       "[1] 64"
      ]
     },
     "metadata": {},
     "output_type": "display_data"
    },
    {
     "data": {
      "text/html": [
       "1"
      ],
      "text/latex": [
       "1"
      ],
      "text/markdown": [
       "1"
      ],
      "text/plain": [
       "[1] 1"
      ]
     },
     "metadata": {},
     "output_type": "display_data"
    }
   ],
   "source": [
    "sum(hourly_extremes$check) \n",
    "sum(hourly_extremes$check) / nrow(hourly_extremes)"
   ]
  },
  {
   "cell_type": "code",
   "execution_count": null,
   "metadata": {
    "collapsed": true
   },
   "outputs": [],
   "source": []
  }
 ],
 "metadata": {
  "kernelspec": {
   "display_name": "R",
   "language": "R",
   "name": "ir"
  },
  "language_info": {
   "codemirror_mode": "r",
   "file_extension": ".r",
   "mimetype": "text/x-r-source",
   "name": "R",
   "pygments_lexer": "r",
   "version": "3.4.0"
  }
 },
 "nbformat": 4,
 "nbformat_minor": 2
}
