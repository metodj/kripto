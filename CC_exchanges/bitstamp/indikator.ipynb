{
 "cells": [
  {
   "cell_type": "code",
   "execution_count": 49,
   "metadata": {
    "collapsed": false
   },
   "outputs": [],
   "source": [
    "options(warn=-1)\n",
    "library(readr)\n",
    "suppressWarnings(library(dplyr))\n",
    "library(xlsx)"
   ]
  },
  {
   "cell_type": "code",
   "execution_count": 11,
   "metadata": {
    "collapsed": true
   },
   "outputs": [],
   "source": [
    "#KODA\n",
    "likvidnost <- function(datum, par) {\n",
    "    ime <- paste(datum, '/', par, '.csv', sep='')\n",
    "    data <- read.csv(ime, header=T)\n",
    "    data$date2 <- as.POSIXct(data$date,origin=\"1970-01-01\",tz=\"GMT\") \n",
    "    tmp <- split(data, cut(strptime(data$date2, format=\"%F %R\"),\"hour\"))\n",
    "    df <- data.frame(Date=as.Date(as.character()), buy=numeric(), sell=numeric(), stringsAsFactors=FALSE)\n",
    "    for (ura in tmp) {\n",
    "        tmpbuy <- ura[ura[, \"type\"] == 0,]\n",
    "        tmpsell <- ura[ura[, \"type\"] == 1,]\n",
    "        vec <- c(ura$date2[[1]], sum(tmpbuy$amount), sum(tmpsell$amount))\n",
    "        df <- rbind(df, vec)\n",
    "    }\n",
    "    colnames(df)<- c(\"date\",\"buy\",\"sell\")\n",
    "    df$difference <- df$buy - df$sell\n",
    "    df$date <- as.POSIXct(df$date,origin=\"1970-01-01\",tz=\"GMT\")\n",
    "    df$daily_sum <- cumsum(df$difference)\n",
    "    df <- df[1:24,]\n",
    "    return(df)\n",
    "}"
   ]
  },
  {
   "cell_type": "code",
   "execution_count": 61,
   "metadata": {
    "collapsed": false
   },
   "outputs": [],
   "source": [
    "#KODA\n",
    "rez <- data.frame(Date=as.Date(as.character()), buy=numeric(), sell=numeric(), difference=numeric(),\n",
    "                                                                              daily_sum=numeric(),stringsAsFactors=FALSE)\n",
    "for (i in 13:36) {\n",
    "    if (i < 31) {\n",
    "        datum <- paste(as.character(i), \".09.2017\", sep=\"\")\n",
    "    } else {\n",
    "        i <- (i - 30)\n",
    "        datum <- paste(\"0\", as.character(i), \".10.2017\", sep=\"\")\n",
    "    }\n",
    "    tmp <- likvidnost(datum, 'btcusd')\n",
    "    rez <- rbind(rez, tmp)\n",
    "}\n",
    "\n",
    "\n",
    "\n",
    "daily <- data.frame(Date=as.Date(as.character()), daily_sum=numeric())\n",
    "\n",
    "for (i in 1:24) {\n",
    "    vec <- c(rez$date[i*24], rez$daily_sum[i*24])\n",
    "    daily <- rbind(daily, vec)\n",
    "}\n",
    "\n",
    "colnames(daily)<- c(\"date\",\"difference\")\n",
    "daily$date <- as.POSIXct(daily$date,origin=\"1970-01-01\",tz=\"GMT\")\n",
    "\n",
    "\n",
    "\n",
    "#dim(rez)\n",
    "#head(rez)\n",
    "\n",
    "#dim(daily)\n",
    "#head(daily)"
   ]
  },
  {
   "cell_type": "code",
   "execution_count": 62,
   "metadata": {
    "collapsed": false
   },
   "outputs": [],
   "source": [
    "write.xlsx(rez, \"indikator_urni.xlsx\", sheetName = \"List1\")"
   ]
  },
  {
   "cell_type": "code",
   "execution_count": 63,
   "metadata": {
    "collapsed": false
   },
   "outputs": [],
   "source": [
    "prices <- read.xlsx(\"btcusd_price.xlsx\", sheetName = \"List1\", header=FALSE)\n",
    "prices <- prices[,1:3]\n",
    "prices <- prices[nrow(prices):1,]\n",
    "colnames(prices)<- c(\"date\",\"open\", \"close\")\n",
    "#prices"
   ]
  },
  {
   "cell_type": "code",
   "execution_count": 64,
   "metadata": {
    "collapsed": false
   },
   "outputs": [
    {
     "data": {
      "text/html": [
       "<table>\n",
       "<thead><tr><th scope=col>date</th><th scope=col>flow_difference</th><th scope=col>price_difference</th></tr></thead>\n",
       "<tbody>\n",
       "\t<tr><td>2017-09-13 </td><td>-3422.69803</td><td>-249.39    </td></tr>\n",
       "\t<tr><td>2017-09-14 </td><td>-3142.75894</td><td>-720.42    </td></tr>\n",
       "\t<tr><td>2017-09-15 </td><td> 1380.82588</td><td> 471.22    </td></tr>\n",
       "\t<tr><td>2017-09-16 </td><td>  153.80432</td><td> -12.71    </td></tr>\n",
       "\t<tr><td>2017-09-17 </td><td>   50.40402</td><td> -23.40    </td></tr>\n",
       "\t<tr><td>2017-09-18 </td><td> 2180.96892</td><td> 474.11    </td></tr>\n",
       "\t<tr><td>2017-09-19 </td><td>-1179.95979</td><td>-148.82    </td></tr>\n",
       "\t<tr><td>2017-09-20 </td><td>-1081.33217</td><td> -10.41    </td></tr>\n",
       "\t<tr><td>2017-09-21 </td><td>-1580.77906</td><td>-270.43    </td></tr>\n",
       "\t<tr><td>2017-09-22 </td><td>  656.36138</td><td>   2.68    </td></tr>\n",
       "\t<tr><td>2017-09-23 </td><td>  343.27760</td><td> 162.48    </td></tr>\n",
       "\t<tr><td>2017-09-24 </td><td> -541.16450</td><td>-113.31    </td></tr>\n",
       "\t<tr><td>2017-09-25 </td><td> -335.30625</td><td> 244.49    </td></tr>\n",
       "\t<tr><td>2017-09-26 </td><td>-1125.88075</td><td> -36.06    </td></tr>\n",
       "\t<tr><td>2017-09-27 </td><td> 2073.78387</td><td> 307.73    </td></tr>\n",
       "\t<tr><td>2017-09-28 </td><td> -317.40375</td><td> -22.40    </td></tr>\n",
       "\t<tr><td>2017-09-29 </td><td>  -56.49673</td><td>  -8.55    </td></tr>\n",
       "\t<tr><td>2017-09-30 </td><td> 1194.23678</td><td> 172.60    </td></tr>\n",
       "\t<tr><td>2017-10-01 </td><td>  264.78096</td><td>  62.69    </td></tr>\n",
       "\t<tr><td>2017-10-02 </td><td> 1050.51394</td><td>  13.51    </td></tr>\n",
       "\t<tr><td>2017-10-03 </td><td> 1386.98357</td><td> -90.98    </td></tr>\n",
       "\t<tr><td>2017-10-04 </td><td>  523.01279</td><td> -90.01    </td></tr>\n",
       "\t<tr><td>2017-10-05 </td><td> 1686.03563</td><td>  98.53    </td></tr>\n",
       "\t<tr><td>2017-10-06 </td><td>  167.86473</td><td>  46.35    </td></tr>\n",
       "</tbody>\n",
       "</table>\n"
      ],
      "text/latex": [
       "\\begin{tabular}{r|lll}\n",
       " date & flow\\_difference & price\\_difference\\\\\n",
       "\\hline\n",
       "\t 2017-09-13  & -3422.69803 & -249.39    \\\\\n",
       "\t 2017-09-14  & -3142.75894 & -720.42    \\\\\n",
       "\t 2017-09-15  &  1380.82588 &  471.22    \\\\\n",
       "\t 2017-09-16  &   153.80432 &  -12.71    \\\\\n",
       "\t 2017-09-17  &    50.40402 &  -23.40    \\\\\n",
       "\t 2017-09-18  &  2180.96892 &  474.11    \\\\\n",
       "\t 2017-09-19  & -1179.95979 & -148.82    \\\\\n",
       "\t 2017-09-20  & -1081.33217 &  -10.41    \\\\\n",
       "\t 2017-09-21  & -1580.77906 & -270.43    \\\\\n",
       "\t 2017-09-22  &   656.36138 &    2.68    \\\\\n",
       "\t 2017-09-23  &   343.27760 &  162.48    \\\\\n",
       "\t 2017-09-24  &  -541.16450 & -113.31    \\\\\n",
       "\t 2017-09-25  &  -335.30625 &  244.49    \\\\\n",
       "\t 2017-09-26  & -1125.88075 &  -36.06    \\\\\n",
       "\t 2017-09-27  &  2073.78387 &  307.73    \\\\\n",
       "\t 2017-09-28  &  -317.40375 &  -22.40    \\\\\n",
       "\t 2017-09-29  &   -56.49673 &   -8.55    \\\\\n",
       "\t 2017-09-30  &  1194.23678 &  172.60    \\\\\n",
       "\t 2017-10-01  &   264.78096 &   62.69    \\\\\n",
       "\t 2017-10-02  &  1050.51394 &   13.51    \\\\\n",
       "\t 2017-10-03  &  1386.98357 &  -90.98    \\\\\n",
       "\t 2017-10-04  &   523.01279 &  -90.01    \\\\\n",
       "\t 2017-10-05  &  1686.03563 &   98.53    \\\\\n",
       "\t 2017-10-06  &   167.86473 &   46.35    \\\\\n",
       "\\end{tabular}\n"
      ],
      "text/markdown": [
       "\n",
       "date | flow_difference | price_difference | \n",
       "|---|---|---|---|---|---|---|---|---|---|---|---|---|---|---|---|---|---|---|---|---|---|---|---|\n",
       "| 2017-09-13  | -3422.69803 | -249.39     | \n",
       "| 2017-09-14  | -3142.75894 | -720.42     | \n",
       "| 2017-09-15  |  1380.82588 |  471.22     | \n",
       "| 2017-09-16  |   153.80432 |  -12.71     | \n",
       "| 2017-09-17  |    50.40402 |  -23.40     | \n",
       "| 2017-09-18  |  2180.96892 |  474.11     | \n",
       "| 2017-09-19  | -1179.95979 | -148.82     | \n",
       "| 2017-09-20  | -1081.33217 |  -10.41     | \n",
       "| 2017-09-21  | -1580.77906 | -270.43     | \n",
       "| 2017-09-22  |   656.36138 |    2.68     | \n",
       "| 2017-09-23  |   343.27760 |  162.48     | \n",
       "| 2017-09-24  |  -541.16450 | -113.31     | \n",
       "| 2017-09-25  |  -335.30625 |  244.49     | \n",
       "| 2017-09-26  | -1125.88075 |  -36.06     | \n",
       "| 2017-09-27  |  2073.78387 |  307.73     | \n",
       "| 2017-09-28  |  -317.40375 |  -22.40     | \n",
       "| 2017-09-29  |   -56.49673 |   -8.55     | \n",
       "| 2017-09-30  |  1194.23678 |  172.60     | \n",
       "| 2017-10-01  |   264.78096 |   62.69     | \n",
       "| 2017-10-02  |  1050.51394 |   13.51     | \n",
       "| 2017-10-03  |  1386.98357 |  -90.98     | \n",
       "| 2017-10-04  |   523.01279 |  -90.01     | \n",
       "| 2017-10-05  |  1686.03563 |   98.53     | \n",
       "| 2017-10-06  |   167.86473 |   46.35     | \n",
       "\n",
       "\n"
      ],
      "text/plain": [
       "   date       flow_difference price_difference\n",
       "1  2017-09-13 -3422.69803     -249.39         \n",
       "2  2017-09-14 -3142.75894     -720.42         \n",
       "3  2017-09-15  1380.82588      471.22         \n",
       "4  2017-09-16   153.80432      -12.71         \n",
       "5  2017-09-17    50.40402      -23.40         \n",
       "6  2017-09-18  2180.96892      474.11         \n",
       "7  2017-09-19 -1179.95979     -148.82         \n",
       "8  2017-09-20 -1081.33217      -10.41         \n",
       "9  2017-09-21 -1580.77906     -270.43         \n",
       "10 2017-09-22   656.36138        2.68         \n",
       "11 2017-09-23   343.27760      162.48         \n",
       "12 2017-09-24  -541.16450     -113.31         \n",
       "13 2017-09-25  -335.30625      244.49         \n",
       "14 2017-09-26 -1125.88075      -36.06         \n",
       "15 2017-09-27  2073.78387      307.73         \n",
       "16 2017-09-28  -317.40375      -22.40         \n",
       "17 2017-09-29   -56.49673       -8.55         \n",
       "18 2017-09-30  1194.23678      172.60         \n",
       "19 2017-10-01   264.78096       62.69         \n",
       "20 2017-10-02  1050.51394       13.51         \n",
       "21 2017-10-03  1386.98357      -90.98         \n",
       "22 2017-10-04   523.01279      -90.01         \n",
       "23 2017-10-05  1686.03563       98.53         \n",
       "24 2017-10-06   167.86473       46.35         "
      ]
     },
     "metadata": {},
     "output_type": "display_data"
    }
   ],
   "source": [
    "daily$price_diff <- prices$close - prices$open\n",
    "colnames(daily) <- c(\"date\", \"flow_difference\", \"price_difference\")\n",
    "daily$date <- substring(as.character(daily$date),1,10)\n",
    "daily"
   ]
  },
  {
   "cell_type": "code",
   "execution_count": 53,
   "metadata": {
    "collapsed": false
   },
   "outputs": [
    {
     "data": {
      "text/html": [
       "0.786066236573558"
      ],
      "text/latex": [
       "0.786066236573558"
      ],
      "text/markdown": [
       "0.786066236573558"
      ],
      "text/plain": [
       "[1] 0.7860662"
      ]
     },
     "metadata": {},
     "output_type": "display_data"
    }
   ],
   "source": [
    "cor(daily$flow_difference, daily$price_difference)"
   ]
  },
  {
   "cell_type": "code",
   "execution_count": 68,
   "metadata": {
    "collapsed": false
   },
   "outputs": [],
   "source": [
    "write.xlsx(daily, \"indikator_dnevni.xlsx\", sheetName = \"List1\", row.names=FALSE)"
   ]
  },
  {
   "cell_type": "code",
   "execution_count": 67,
   "metadata": {
    "collapsed": true
   },
   "outputs": [],
   "source": [
    "?write.xlsx"
   ]
  },
  {
   "cell_type": "code",
   "execution_count": null,
   "metadata": {
    "collapsed": true
   },
   "outputs": [],
   "source": []
  }
 ],
 "metadata": {
  "kernelspec": {
   "display_name": "R",
   "language": "R",
   "name": "ir"
  },
  "language_info": {
   "codemirror_mode": "r",
   "file_extension": ".r",
   "mimetype": "text/x-r-source",
   "name": "R",
   "pygments_lexer": "r",
   "version": "3.4.0"
  }
 },
 "nbformat": 4,
 "nbformat_minor": 2
}
