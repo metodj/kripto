{
 "cells": [
  {
   "cell_type": "code",
   "execution_count": 3,
   "metadata": {
    "collapsed": false
   },
   "outputs": [],
   "source": [
    "import numpy as np\n",
    "import pandas as pd\n",
    "import orodja"
   ]
  },
  {
   "cell_type": "markdown",
   "metadata": {},
   "source": [
    "### 1) ZAJEM PODATKOV"
   ]
  },
  {
   "cell_type": "code",
   "execution_count": 4,
   "metadata": {
    "collapsed": true
   },
   "outputs": [],
   "source": [
    "def glavna(url, html, csv):\n",
    "    orodja.shrani(url, html)\n",
    "    orodja.naredi_csv(html, csv)\n",
    "    print('Uspesen konec')"
   ]
  },
  {
   "cell_type": "code",
   "execution_count": 3,
   "metadata": {
    "collapsed": false
   },
   "outputs": [
    {
     "name": "stdout",
     "output_type": "stream",
     "text": [
      "Shranjujem https://coinmarketcap.com/currencies/bitcoin/#markets...\n",
      "shranjeno!\n",
      "Uspesen konec\n"
     ]
    }
   ],
   "source": [
    "glavna('https://coinmarketcap.com/currencies/bitcoin/#markets', 'test.txt', 'btc.csv')"
   ]
  },
  {
   "cell_type": "markdown",
   "metadata": {},
   "source": [
    "Združim take tabele za vse glavne valute (btc, eth, btc cash, xrp, ltc) in odstranim podvojene vnose:\n",
    "    \n",
    "DataFrame.drop_duplicates(subset=None, keep='first', inplace=False)\n",
    "\n",
    "subset = ['borza', 'par', 'volume']\n",
    "\n",
    "Informacija o ceni se razlikuje (zato uporabim subset, gledam samo prve 3 stolpce), dobro bi bilo spraviti informacije o vseh cenah (za vsako transakcijo imam informacije o obeh valutah iz valutnega para)."
   ]
  },
  {
   "cell_type": "markdown",
   "metadata": {},
   "source": [
    "#### Alternativno:\n",
    "\n",
    "Za vsako borzo posebej zajamem podatke o vseh transakcijah (iz coinmarketcap.com) in na podoben način tvorim skupno tabelo. Tak pristop bi bil še bolj uporaben v primeru kombinacije s \"side bar plotom\".\n",
    "\n",
    "https://coinmarketcap.com/exchanges/poloniex/"
   ]
  },
  {
   "cell_type": "markdown",
   "metadata": {
    "collapsed": true
   },
   "source": [
    "### 2) ANALIZA PODATKOV"
   ]
  },
  {
   "cell_type": "markdown",
   "metadata": {},
   "source": [
    "valutni par = base currency / quote currency"
   ]
  },
  {
   "cell_type": "code",
   "execution_count": 4,
   "metadata": {
    "collapsed": false
   },
   "outputs": [
    {
     "data": {
      "text/html": [
       "<div>\n",
       "<style>\n",
       "    .dataframe thead tr:only-child th {\n",
       "        text-align: right;\n",
       "    }\n",
       "\n",
       "    .dataframe thead th {\n",
       "        text-align: left;\n",
       "    }\n",
       "\n",
       "    .dataframe tbody tr th {\n",
       "        vertical-align: top;\n",
       "    }\n",
       "</style>\n",
       "<table border=\"1\" class=\"dataframe\">\n",
       "  <thead>\n",
       "    <tr style=\"text-align: right;\">\n",
       "      <th></th>\n",
       "      <th>borza</th>\n",
       "      <th>par</th>\n",
       "      <th>volume</th>\n",
       "      <th>price</th>\n",
       "    </tr>\n",
       "  </thead>\n",
       "  <tbody>\n",
       "    <tr>\n",
       "      <th>0</th>\n",
       "      <td>Bithumb</td>\n",
       "      <td>BTC/KRW</td>\n",
       "      <td>$227,854,000</td>\n",
       "      <td>$4321.31</td>\n",
       "    </tr>\n",
       "    <tr>\n",
       "      <th>1</th>\n",
       "      <td>Bittrex</td>\n",
       "      <td>NEO/BTC</td>\n",
       "      <td>$193,455,000</td>\n",
       "      <td>$4173.70</td>\n",
       "    </tr>\n",
       "    <tr>\n",
       "      <th>2</th>\n",
       "      <td>Bitfinex</td>\n",
       "      <td>BTC/USD</td>\n",
       "      <td>$148,679,000</td>\n",
       "      <td>$4257.00</td>\n",
       "    </tr>\n",
       "    <tr>\n",
       "      <th>3</th>\n",
       "      <td>OKCoin.cn</td>\n",
       "      <td>BTC/CNY</td>\n",
       "      <td>$89,803,700</td>\n",
       "      <td>$4288.76</td>\n",
       "    </tr>\n",
       "    <tr>\n",
       "      <th>4</th>\n",
       "      <td>GDAX</td>\n",
       "      <td>BTC/USD</td>\n",
       "      <td>$80,494,900</td>\n",
       "      <td>$4278.71</td>\n",
       "    </tr>\n",
       "  </tbody>\n",
       "</table>\n",
       "</div>"
      ],
      "text/plain": [
       "       borza      par        volume     price\n",
       "0    Bithumb  BTC/KRW  $227,854,000  $4321.31\n",
       "1    Bittrex  NEO/BTC  $193,455,000  $4173.70\n",
       "2   Bitfinex  BTC/USD  $148,679,000  $4257.00\n",
       "3  OKCoin.cn  BTC/CNY   $89,803,700  $4288.76\n",
       "4       GDAX  BTC/USD   $80,494,900  $4278.71"
      ]
     },
     "execution_count": 4,
     "metadata": {},
     "output_type": "execute_result"
    }
   ],
   "source": [
    "btc = pd.read_csv('btc.csv')\n",
    "btc.head()"
   ]
  },
  {
   "cell_type": "code",
   "execution_count": 5,
   "metadata": {
    "collapsed": true
   },
   "outputs": [],
   "source": [
    "def preprocessing(df):\n",
    "    df['volume'] = df['volume'].replace( '[\\$,)]','', regex=True )\n",
    "    df.volume = df.volume.astype(float)\n",
    "    df['price'] = df['price'].replace( '[\\$,)]','', regex=True )\n",
    "    df.price = df.price.astype(float)\n",
    "    df['base'], df['quote'] = df['par'].str.split('/', 1).str\n",
    "    return df"
   ]
  },
  {
   "cell_type": "code",
   "execution_count": 6,
   "metadata": {
    "collapsed": true
   },
   "outputs": [],
   "source": [
    "def izberi(sez_valut, sez_borz, data):\n",
    "    sez_valut = '|'.join(sez_valut)\n",
    "    sez_borz = '|'.join(sez_borz)\n",
    "    data['tmpBorze'] = data.borza.str.contains(sez_borz)\n",
    "    data['tmpValute'] = data.par.str.contains(sez_valut)\n",
    "    data = data[data.tmpBorze == True]\n",
    "    data = data[data.tmpValute == True]\n",
    "    data = data.drop('tmpBorze', axis=1)\n",
    "    data = data.drop('tmpValute', axis=1)\n",
    "    data = preprocessing(data)\n",
    "    return data\n",
    "    "
   ]
  },
  {
   "cell_type": "markdown",
   "metadata": {},
   "source": [
    "Tu ignoriram ostale borze (in ostale valute), moram jih še združiti v skupino OTHER (grupiram po valutnih parih in seštejem volume)."
   ]
  },
  {
   "cell_type": "code",
   "execution_count": 7,
   "metadata": {
    "collapsed": false
   },
   "outputs": [],
   "source": [
    "valute = ['USD', 'BTC', 'XRP', 'ETH', 'EUR']\n",
    "valuteStrict = ['BTC/USD', 'USD/BTC', 'BTC/ETH', 'ETH/BTC', 'BTC/XRP', 'XRP/BTC', 'BTC/EUR', 'EUR/BTC']\n",
    "borze = ['Kraken', 'Bitstamp', 'Poloniex', 'Bitfinex']\n",
    "#izberi(valute, borze, btc).head()"
   ]
  },
  {
   "cell_type": "code",
   "execution_count": 8,
   "metadata": {
    "collapsed": false
   },
   "outputs": [
    {
     "data": {
      "text/html": [
       "<div>\n",
       "<style>\n",
       "    .dataframe thead tr:only-child th {\n",
       "        text-align: right;\n",
       "    }\n",
       "\n",
       "    .dataframe thead th {\n",
       "        text-align: left;\n",
       "    }\n",
       "\n",
       "    .dataframe tbody tr th {\n",
       "        vertical-align: top;\n",
       "    }\n",
       "</style>\n",
       "<table border=\"1\" class=\"dataframe\">\n",
       "  <thead>\n",
       "    <tr style=\"text-align: right;\">\n",
       "      <th></th>\n",
       "      <th>borza</th>\n",
       "      <th>par</th>\n",
       "      <th>volume</th>\n",
       "      <th>price</th>\n",
       "      <th>base</th>\n",
       "      <th>quote</th>\n",
       "    </tr>\n",
       "  </thead>\n",
       "  <tbody>\n",
       "    <tr>\n",
       "      <th>2</th>\n",
       "      <td>Bitfinex</td>\n",
       "      <td>BTC/USD</td>\n",
       "      <td>148679000.0</td>\n",
       "      <td>4257.00</td>\n",
       "      <td>BTC</td>\n",
       "      <td>USD</td>\n",
       "    </tr>\n",
       "    <tr>\n",
       "      <th>7</th>\n",
       "      <td>Poloniex</td>\n",
       "      <td>ETH/BTC</td>\n",
       "      <td>73736800.0</td>\n",
       "      <td>4266.65</td>\n",
       "      <td>ETH</td>\n",
       "      <td>BTC</td>\n",
       "    </tr>\n",
       "    <tr>\n",
       "      <th>11</th>\n",
       "      <td>Kraken</td>\n",
       "      <td>BTC/EUR</td>\n",
       "      <td>59466200.0</td>\n",
       "      <td>4316.18</td>\n",
       "      <td>BTC</td>\n",
       "      <td>EUR</td>\n",
       "    </tr>\n",
       "    <tr>\n",
       "      <th>13</th>\n",
       "      <td>Bitstamp</td>\n",
       "      <td>BTC/USD</td>\n",
       "      <td>52725500.0</td>\n",
       "      <td>4256.99</td>\n",
       "      <td>BTC</td>\n",
       "      <td>USD</td>\n",
       "    </tr>\n",
       "    <tr>\n",
       "      <th>14</th>\n",
       "      <td>Poloniex</td>\n",
       "      <td>BTC/USDT</td>\n",
       "      <td>46135100.0</td>\n",
       "      <td>4274.15</td>\n",
       "      <td>BTC</td>\n",
       "      <td>USDT</td>\n",
       "    </tr>\n",
       "    <tr>\n",
       "      <th>20</th>\n",
       "      <td>Kraken</td>\n",
       "      <td>BTC/USD</td>\n",
       "      <td>35633900.0</td>\n",
       "      <td>4301.00</td>\n",
       "      <td>BTC</td>\n",
       "      <td>USD</td>\n",
       "    </tr>\n",
       "    <tr>\n",
       "      <th>28</th>\n",
       "      <td>Kraken</td>\n",
       "      <td>ETH/BTC</td>\n",
       "      <td>17243200.0</td>\n",
       "      <td>4277.56</td>\n",
       "      <td>ETH</td>\n",
       "      <td>BTC</td>\n",
       "    </tr>\n",
       "    <tr>\n",
       "      <th>30</th>\n",
       "      <td>Poloniex</td>\n",
       "      <td>XRP/BTC</td>\n",
       "      <td>15541700.0</td>\n",
       "      <td>4296.36</td>\n",
       "      <td>XRP</td>\n",
       "      <td>BTC</td>\n",
       "    </tr>\n",
       "    <tr>\n",
       "      <th>31</th>\n",
       "      <td>Bitfinex</td>\n",
       "      <td>ETH/BTC</td>\n",
       "      <td>15401000.0</td>\n",
       "      <td>4272.62</td>\n",
       "      <td>ETH</td>\n",
       "      <td>BTC</td>\n",
       "    </tr>\n",
       "    <tr>\n",
       "      <th>42</th>\n",
       "      <td>Bitstamp</td>\n",
       "      <td>BTC/EUR</td>\n",
       "      <td>9326070.0</td>\n",
       "      <td>4292.59</td>\n",
       "      <td>BTC</td>\n",
       "      <td>EUR</td>\n",
       "    </tr>\n",
       "    <tr>\n",
       "      <th>113</th>\n",
       "      <td>Kraken</td>\n",
       "      <td>XRP/BTC</td>\n",
       "      <td>2643640.0</td>\n",
       "      <td>4304.01</td>\n",
       "      <td>XRP</td>\n",
       "      <td>BTC</td>\n",
       "    </tr>\n",
       "    <tr>\n",
       "      <th>172</th>\n",
       "      <td>Bitstamp</td>\n",
       "      <td>XRP/BTC</td>\n",
       "      <td>1142140.0</td>\n",
       "      <td>4298.54</td>\n",
       "      <td>XRP</td>\n",
       "      <td>BTC</td>\n",
       "    </tr>\n",
       "    <tr>\n",
       "      <th>207</th>\n",
       "      <td>Bitfinex</td>\n",
       "      <td>XRP/BTC</td>\n",
       "      <td>709524.0</td>\n",
       "      <td>4295.27</td>\n",
       "      <td>XRP</td>\n",
       "      <td>BTC</td>\n",
       "    </tr>\n",
       "    <tr>\n",
       "      <th>371</th>\n",
       "      <td>Bitstamp (Ripple Gateway)</td>\n",
       "      <td>XRP/BTC</td>\n",
       "      <td>126384.0</td>\n",
       "      <td>3210.33</td>\n",
       "      <td>XRP</td>\n",
       "      <td>BTC</td>\n",
       "    </tr>\n",
       "  </tbody>\n",
       "</table>\n",
       "</div>"
      ],
      "text/plain": [
       "                         borza       par       volume    price base quote\n",
       "2                     Bitfinex   BTC/USD  148679000.0  4257.00  BTC   USD\n",
       "7                     Poloniex   ETH/BTC   73736800.0  4266.65  ETH   BTC\n",
       "11                      Kraken   BTC/EUR   59466200.0  4316.18  BTC   EUR\n",
       "13                    Bitstamp   BTC/USD   52725500.0  4256.99  BTC   USD\n",
       "14                    Poloniex  BTC/USDT   46135100.0  4274.15  BTC  USDT\n",
       "20                      Kraken   BTC/USD   35633900.0  4301.00  BTC   USD\n",
       "28                      Kraken   ETH/BTC   17243200.0  4277.56  ETH   BTC\n",
       "30                    Poloniex   XRP/BTC   15541700.0  4296.36  XRP   BTC\n",
       "31                    Bitfinex   ETH/BTC   15401000.0  4272.62  ETH   BTC\n",
       "42                    Bitstamp   BTC/EUR    9326070.0  4292.59  BTC   EUR\n",
       "113                     Kraken   XRP/BTC    2643640.0  4304.01  XRP   BTC\n",
       "172                   Bitstamp   XRP/BTC    1142140.0  4298.54  XRP   BTC\n",
       "207                   Bitfinex   XRP/BTC     709524.0  4295.27  XRP   BTC\n",
       "371  Bitstamp (Ripple Gateway)   XRP/BTC     126384.0  3210.33  XRP   BTC"
      ]
     },
     "execution_count": 8,
     "metadata": {},
     "output_type": "execute_result"
    }
   ],
   "source": [
    "primer = izberi(valuteStrict, borze, btc)\n",
    "primer"
   ]
  },
  {
   "cell_type": "code",
   "execution_count": 8,
   "metadata": {
    "collapsed": false
   },
   "outputs": [],
   "source": [
    "#nodes\n",
    "vozli = list(set(primer.base.tolist() + primer.quote.tolist()))"
   ]
  },
  {
   "cell_type": "markdown",
   "metadata": {},
   "source": [
    "#### Pseudo koda za zajem podatkov (na vsakih 24h)\n",
    "opazovane_valute = ['btc', 'eth', 'ltc', 'xrp', ...]\n",
    "\n",
    "dnevna_tabela = dataFrame\n",
    "\n",
    "for valuta in opazovane valute:\n",
    "\n",
    "    valutna_tabela = glavna(url_valuta, ...) #scrapping from coinmarketcap \n",
    "    \n",
    "    dodaj valutna_tabela k dnevna_tabela\n",
    "    \n",
    "odstrani podvojene vrstice (katere inforamcije o ceni je smiselno ohraniti?)\n",
    "\n",
    "izberi(dnevna_valuta, borze, valute) #selection of selected exchanges and currencies\n",
    "\n",
    "OUTPUT: tabela s prikazanami transakcijami na vseh izbranih borzah, pripravljena na poljubno vizualizacijo\n",
    "(za primer outputa glej tabelo 'primer' zgoraj)"
   ]
  },
  {
   "cell_type": "markdown",
   "metadata": {},
   "source": [
    "### 3) VIZUALIZACIJA"
   ]
  },
  {
   "cell_type": "markdown",
   "metadata": {},
   "source": [
    "#### a) NetworkX library (oz. kakšna druga python knjižnica za graph visualization)"
   ]
  },
  {
   "cell_type": "markdown",
   "metadata": {},
   "source": [
    "http://networkx.readthedocs.io/en/latest/tutorial.html #dokumentacija\n",
    "\n",
    "http://networkx.readthedocs.io/en/latest/auto_examples/index.html  #primeri\n",
    "\n",
    "Lahko bi naredil usmerjen graf. Atributi povezav bi bila imena borz in velikost transakcije, velikost \"balončka\" bi bil seštevek vhodnih povezav.\n",
    "\n",
    "https://www.youtube.com/watch?v=6Lauxn9oTt4\n",
    "\n",
    "2:42:00  kako nastaviti velikost balončkov in debelino povezav glede na izbrane atribute"
   ]
  },
  {
   "cell_type": "code",
   "execution_count": 9,
   "metadata": {
    "collapsed": false
   },
   "outputs": [],
   "source": [
    "import networkx as nx\n",
    "import matplotlib.pyplot as plt\n",
    "\n",
    "%matplotlib inline"
   ]
  },
  {
   "cell_type": "code",
   "execution_count": 36,
   "metadata": {
    "collapsed": false
   },
   "outputs": [
    {
     "data": {
      "image/png": "[encoded data removed]",
      "text/plain": [
       "<matplotlib.figure.Figure at 0xd5135f8>"
      ]
     },
     "metadata": {},
     "output_type": "display_data"
    }
   ],
   "source": [
    "G=nx.from_pandas_dataframe(primer, 'base', 'quote', ['volume', 'price'])\n",
    "labels = {('USD','BTC'):'Kraken: 1000', ('BTC','ETH'):'Poloniex: 500'}\n",
    "\n",
    "pos=nx.spring_layout(G)\n",
    "\n",
    "nx.draw(G, pos, with_labels=True, font_weight='bold', node_size=2000)\n",
    "nx.draw_networkx_edge_labels(G,pos,edge_labels=labels,font_size=10)\n",
    "\n",
    "plt.show()"
   ]
  },
  {
   "cell_type": "code",
   "execution_count": 41,
   "metadata": {
    "collapsed": false
   },
   "outputs": [
    {
     "data": {
      "image/png": "[encoded data removed]",
      "text/plain": [
       "<matplotlib.figure.Figure at 0xdc7f080>"
      ]
     },
     "metadata": {},
     "output_type": "display_data"
    }
   ],
   "source": [
    "#G = nx.Graph()\n",
    "DG = nx.DiGraph()\n",
    "DG.add_nodes_from(vozli)\n",
    "DG.add_edge('USD', 'BTC')\n",
    "#DG.add_edge('BTC', 'USD') #problem pri dodajanju \"dvojnih\" povezav ==> enostavna rešitev, uporabim multi graphs namesto DiGraph\n",
    "nx.draw(DG, with_labels=True, font_weight='bold', node_size=1000)\n",
    "plt.draw()"
   ]
  },
  {
   "cell_type": "markdown",
   "metadata": {},
   "source": [
    "https://stackoverflow.com/questions/20381460/networkx-how-to-show-node-and-edge-attributes-in-a-graph-drawing\n",
    "\n",
    "Ni dobre podpore za enostaven prikaz atributov povezav (npr. ime borze in velikost transakcije):\n",
    "\n",
    "\"NetworkX provides basic functionality for visualizing graphs, but its main goal is to enable graph analysis rather than perform graph visualization. In the future, graph visualization functionality may be removed from NetworkX or only available as an add-on package. Proper graph visualization is hard, and we highly recommend that people visualize their graphs with tools dedicated to that task. Notable examples of dedicated and fully-featured graph visualization tools are Cytoscape, Gephi, Graphviz and, for LaTeX typesetting, PGF/TikZ. To use these and other such tools, you should export your NetworkX graph into a format that can be read by those tools. For example, Cytoscape can read the GraphML format, and so,networkx.writegraphml(G)networkx.writegraphml(G) might be an appropriate choice.\"\n",
    "\n",
    "\n",
    "Alternative:\n",
    "\n",
    "- plotly ( https://plot.ly/python/3d-network-graph/ )\n",
    "- graph-tool ( https://graph-tool.skewed.de/static/doc/index.html ) #slaba podpora za Windows"
   ]
  },
  {
   "cell_type": "markdown",
   "metadata": {
    "collapsed": true
   },
   "source": [
    "#### b) Kombinacija \"side bar plot\" in \"grafov\""
   ]
  },
  {
   "cell_type": "code",
   "execution_count": 1,
   "metadata": {
    "collapsed": false
   },
   "outputs": [],
   "source": [
    "from IPython.display import Image"
   ]
  },
  {
   "cell_type": "markdown",
   "metadata": {},
   "source": [
    "https://twitter.com/FollowTheChain\n",
    "\n",
    "Ob kliku na ime borze se prikaže graf, ki prikazuje dinamiko oz. gibanje med valutami na izbrani borzi v tistem dnevu. V tem primeru je bolj uporaben alternativen način zajetja podatkov (za vsako borzo posebej).\n",
    "![texte](sidebar.png)"
   ]
  },
  {
   "cell_type": "markdown",
   "metadata": {
    "collapsed": true
   },
   "source": [
    "#### c) Uporaba 'R' knjižnic\n",
    "\n",
    "http://kateto.net/network-visualization\n",
    "\n",
    "Glej del s časovno animacijo (proti koncu strani, poglavje 7.2).\n",
    "Koristno tudi poglavje 4.2, govori o \"plotting parameters\".\n",
    "![texte](rPrimer.png)"
   ]
  },
  {
   "cell_type": "markdown",
   "metadata": {
    "collapsed": true
   },
   "source": [
    "#### d) Ostalo\n",
    "\n",
    "- Heat maps (network matrix)\n",
    "\n",
    "- Arc diagrams"
   ]
  },
  {
   "cell_type": "code",
   "execution_count": 29,
   "metadata": {
    "collapsed": false
   },
   "outputs": [],
   "source": [
    "def edges(df):\n",
    "    df = df[['quote', 'base', 'borza', 'volume']]\n",
    "    return df\n",
    "\n",
    "#manjka še način za določitev velikosti balončkov\n",
    "def vertices(df):\n",
    "    vozli = list(set(df.base.tolist() + df.quote.tolist()))\n",
    "    vozli = pd.DataFrame(vozli)\n",
    "    vozli.columns = ['currency']\n",
    "    # 1 - kriptovaluta, 2 - navadna valuta\n",
    "    vozli['currencyType'] = np.where((vozli['currency'] == 'USD')|(vozli['currency'] == 'EUR'), 2, 1)\n",
    "    return vozli"
   ]
  },
  {
   "cell_type": "code",
   "execution_count": 36,
   "metadata": {
    "collapsed": false
   },
   "outputs": [],
   "source": [
    "povezave = edges(primer)"
   ]
  },
  {
   "cell_type": "code",
   "execution_count": 31,
   "metadata": {
    "collapsed": false
   },
   "outputs": [],
   "source": [
    "vozlisca = vertices(primer)"
   ]
  },
  {
   "cell_type": "code",
   "execution_count": 37,
   "metadata": {
    "collapsed": false
   },
   "outputs": [],
   "source": [
    "povezave.to_csv('povezave.csv', sep=',', index=False)\n",
    "vozlisca.to_csv('vozli.csv', sep=',', index=False)"
   ]
  },
  {
   "cell_type": "code",
   "execution_count": null,
   "metadata": {
    "collapsed": true
   },
   "outputs": [],
   "source": []
  }
 ],
 "metadata": {
  "kernelspec": {
   "display_name": "Python 2",
   "language": "python",
   "name": "python2"
  },
  "language_info": {
   "codemirror_mode": {
    "name": "ipython",
    "version": 2
   },
   "file_extension": ".py",
   "mimetype": "text/x-python",
   "name": "python",
   "nbconvert_exporter": "python",
   "pygments_lexer": "ipython2",
   "version": "2.7.13"
  }
 },
 "nbformat": 4,
 "nbformat_minor": 2
}
