{
 "cells": [
  {
   "cell_type": "code",
   "execution_count": 2,
   "metadata": {
    "collapsed": false
   },
   "outputs": [],
   "source": [
    "library(readr)\n",
    "library(dplyr)\n",
    "library(ggplot2)"
   ]
  },
  {
   "cell_type": "code",
   "execution_count": 52,
   "metadata": {
    "collapsed": false
   },
   "outputs": [],
   "source": [
    "data <- read.csv('btc3.csv', header=T)\n",
    "data <- head(data, n=383) #slab način za odstranit vrstice z zvezdicami, ampak zaenkrat je uredu\n",
    "data$volume <- as.character(data$volume)\n",
    "data$volume <- gsub('\\\\$', \"\", data$volume)\n",
    "data$volume <- gsub('\\\\,', \"\", data$volume)\n",
    "data$volume <- gsub('\\\\*', \"\", data$volume)\n",
    "data$volume <- as.numeric(data$volume)"
   ]
  },
  {
   "cell_type": "code",
   "execution_count": 53,
   "metadata": {
    "collapsed": false
   },
   "outputs": [],
   "source": [
    "#tail(data, n = 20)"
   ]
  },
  {
   "cell_type": "code",
   "execution_count": 54,
   "metadata": {
    "collapsed": false
   },
   "outputs": [
    {
     "data": {
      "text/html": [
       "<table>\n",
       "<thead><tr><th scope=col>par</th><th scope=col>total</th></tr></thead>\n",
       "<tbody>\n",
       "\t<tr><td>BTC/USD  </td><td>267436485</td></tr>\n",
       "\t<tr><td>ETH/BTC  </td><td> 77025948</td></tr>\n",
       "\t<tr><td>BTC/JPY  </td><td> 62819223</td></tr>\n",
       "\t<tr><td>BTC/KRW  </td><td> 53915890</td></tr>\n",
       "\t<tr><td>BCC/BTC  </td><td> 50587769</td></tr>\n",
       "\t<tr><td>NEO/BTC  </td><td> 45467380</td></tr>\n",
       "\t<tr><td>XRP/BTC  </td><td> 43855659</td></tr>\n",
       "\t<tr><td>BTC/EUR  </td><td> 36203846</td></tr>\n",
       "\t<tr><td>BTC/USDT </td><td> 32574758</td></tr>\n",
       "\t<tr><td>STR/BTC  </td><td> 18397896</td></tr>\n",
       "</tbody>\n",
       "</table>\n"
      ],
      "text/latex": [
       "\\begin{tabular}{r|ll}\n",
       " par & total\\\\\n",
       "\\hline\n",
       "\t BTC/USD   & 267436485\\\\\n",
       "\t ETH/BTC   &  77025948\\\\\n",
       "\t BTC/JPY   &  62819223\\\\\n",
       "\t BTC/KRW   &  53915890\\\\\n",
       "\t BCC/BTC   &  50587769\\\\\n",
       "\t NEO/BTC   &  45467380\\\\\n",
       "\t XRP/BTC   &  43855659\\\\\n",
       "\t BTC/EUR   &  36203846\\\\\n",
       "\t BTC/USDT  &  32574758\\\\\n",
       "\t STR/BTC   &  18397896\\\\\n",
       "\\end{tabular}\n"
      ],
      "text/markdown": [
       "\n",
       "par | total | \n",
       "|---|---|---|---|---|---|---|---|---|---|\n",
       "| BTC/USD   | 267436485 | \n",
       "| ETH/BTC   |  77025948 | \n",
       "| BTC/JPY   |  62819223 | \n",
       "| BTC/KRW   |  53915890 | \n",
       "| BCC/BTC   |  50587769 | \n",
       "| NEO/BTC   |  45467380 | \n",
       "| XRP/BTC   |  43855659 | \n",
       "| BTC/EUR   |  36203846 | \n",
       "| BTC/USDT  |  32574758 | \n",
       "| STR/BTC   |  18397896 | \n",
       "\n",
       "\n"
      ],
      "text/plain": [
       "   par      total    \n",
       "1  BTC/USD  267436485\n",
       "2  ETH/BTC   77025948\n",
       "3  BTC/JPY   62819223\n",
       "4  BTC/KRW   53915890\n",
       "5  BCC/BTC   50587769\n",
       "6  NEO/BTC   45467380\n",
       "7  XRP/BTC   43855659\n",
       "8  BTC/EUR   36203846\n",
       "9  BTC/USDT  32574758\n",
       "10 STR/BTC   18397896"
      ]
     },
     "metadata": {},
     "output_type": "display_data"
    }
   ],
   "source": [
    "tmp <- data %>% select(par, volume) %>% \n",
    "                        group_by(par) %>% summarise(total = sum(volume))\n",
    "tmp <- tmp[with(tmp, order(-total)), ]\n",
    "head(tmp, n=10)"
   ]
  },
  {
   "cell_type": "code",
   "execution_count": 57,
   "metadata": {
    "collapsed": false
   },
   "outputs": [
    {
     "data": {},
     "metadata": {},
     "output_type": "display_data"
    },
    {
     "data": {
      "image/png": "[encoded data removed]",
      "text/plain": [
       "plot without title"
      ]
     },
     "metadata": {},
     "output_type": "display_data"
    }
   ],
   "source": [
    "graf <- ggplot(data = tmp2, mapping = aes(x = par, y = total)) + geom_col()\n",
    "graf"
   ]
  },
  {
   "cell_type": "code",
   "execution_count": 55,
   "metadata": {
    "collapsed": false
   },
   "outputs": [
    {
     "data": {
      "text/html": [
       "991455298"
      ],
      "text/latex": [
       "991455298"
      ],
      "text/markdown": [
       "991455298"
      ],
      "text/plain": [
       "[1] 991455298"
      ]
     },
     "metadata": {},
     "output_type": "display_data"
    }
   ],
   "source": [
    "#odstrani vrstice, ki se začnejo z zvezdico\n",
    "sum(tmp$total)"
   ]
  },
  {
   "cell_type": "code",
   "execution_count": 56,
   "metadata": {
    "collapsed": false
   },
   "outputs": [
    {
     "data": {
      "text/html": [
       "688284854"
      ],
      "text/latex": [
       "688284854"
      ],
      "text/markdown": [
       "688284854"
      ],
      "text/plain": [
       "[1] 688284854"
      ]
     },
     "metadata": {},
     "output_type": "display_data"
    }
   ],
   "source": [
    "tmp2 <- head(tmp, n=10)\n",
    "sum(tmp2$total)"
   ]
  },
  {
   "cell_type": "code",
   "execution_count": 19,
   "metadata": {
    "collapsed": false
   },
   "outputs": [
    {
     "name": "stderr",
     "output_type": "stream",
     "text": [
      "Warning message in eval(expr, envir, enclos):\n",
      "\"NAs introduced by coercion\""
     ]
    },
    {
     "data": {
      "text/html": [
       "&lt;NA&gt;"
      ],
      "text/latex": [
       "<NA>"
      ],
      "text/markdown": [
       "&lt;NA&gt;"
      ],
      "text/plain": [
       "[1] NA"
      ]
     },
     "metadata": {},
     "output_type": "display_data"
    }
   ],
   "source": [
    "as.double(substr(as.character(data[1, 'volume']), 2, nchar(as.character(data[1, 'volume']))))"
   ]
  },
  {
   "cell_type": "code",
   "execution_count": 38,
   "metadata": {
    "collapsed": false
   },
   "outputs": [
    {
     "name": "stdout",
     "output_type": "stream",
     "text": [
      "'data.frame':\t400 obs. of  4 variables:\n",
      " $ borza : Factor w/ 83 levels \"ACX\",\"AidosMarket\",..: 12 13 14 52 19 49 21 73 6 27 ...\n",
      " $ par   : Factor w/ 183 levels \"1ST/BTC\",\"ADA/BTC\",..: 45 34 35 14 45 45 120 177 120 45 ...\n",
      " $ volume: num  1.18e+08 6.06e+07 3.83e+07 3.79e+07 3.40e+07 ...\n",
      " $ price : Factor w/ 373 levels \" * $4223.86\",..: 248 66 43 276 167 201 278 163 50 85 ...\n"
     ]
    }
   ],
   "source": [
    "str(data)"
   ]
  },
  {
   "cell_type": "code",
   "execution_count": 21,
   "metadata": {
    "collapsed": false
   },
   "outputs": [
    {
     "name": "stderr",
     "output_type": "stream",
     "text": [
      "Warning message in eval(expr, envir, enclos):\n",
      "\"NAs introduced by coercion\""
     ]
    },
    {
     "data": {
      "text/html": [
       "&lt;NA&gt;"
      ],
      "text/latex": [
       "<NA>"
      ],
      "text/markdown": [
       "&lt;NA&gt;"
      ],
      "text/plain": [
       "[1] NA"
      ]
     },
     "metadata": {},
     "output_type": "display_data"
    }
   ],
   "source": [
    "k <- '2,000'\n",
    "as.numeric(k)"
   ]
  },
  {
   "cell_type": "code",
   "execution_count": null,
   "metadata": {
    "collapsed": true
   },
   "outputs": [],
   "source": []
  }
 ],
 "metadata": {
  "kernelspec": {
   "display_name": "R",
   "language": "R",
   "name": "ir"
  },
  "language_info": {
   "codemirror_mode": "r",
   "file_extension": ".r",
   "mimetype": "text/x-r-source",
   "name": "R",
   "pygments_lexer": "r",
   "version": "3.4.0"
  }
 },
 "nbformat": 4,
 "nbformat_minor": 2
}
