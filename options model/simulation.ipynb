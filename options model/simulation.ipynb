{
 "cells": [
  {
   "cell_type": "code",
   "execution_count": 36,
   "metadata": {
    "collapsed": true
   },
   "outputs": [],
   "source": [
    "from scipy.integrate import quad\n",
    "import pandas as pd\n",
    "import matplotlib.pyplot as plt\n",
    "from numpy import sqrt, pi, exp"
   ]
  },
  {
   "cell_type": "code",
   "execution_count": 139,
   "metadata": {
    "collapsed": false
   },
   "outputs": [],
   "source": [
    "hist_data = pd.read_csv('ethprice.csv')\n",
    "pd.options.display.max_rows = 20\n",
    "\n",
    "%matplotlib inline\n",
    "\n",
    "pd.set_option('display.mpl_style', 'default') \n",
    "plt.rcParams['figure.figsize'] = (15, 5)"
   ]
  },
  {
   "cell_type": "code",
   "execution_count": 109,
   "metadata": {
    "collapsed": false
   },
   "outputs": [
    {
     "data": {
      "text/html": [
       "<div>\n",
       "<style>\n",
       "    .dataframe thead tr:only-child th {\n",
       "        text-align: right;\n",
       "    }\n",
       "\n",
       "    .dataframe thead th {\n",
       "        text-align: left;\n",
       "    }\n",
       "\n",
       "    .dataframe tbody tr th {\n",
       "        vertical-align: top;\n",
       "    }\n",
       "</style>\n",
       "<table border=\"1\" class=\"dataframe\">\n",
       "  <thead>\n",
       "    <tr style=\"text-align: right;\">\n",
       "      <th></th>\n",
       "      <th>Date(UTC)</th>\n",
       "      <th>UnixTimeStamp</th>\n",
       "      <th>Value</th>\n",
       "    </tr>\n",
       "  </thead>\n",
       "  <tbody>\n",
       "    <tr>\n",
       "      <th>0</th>\n",
       "      <td>2015-07-30</td>\n",
       "      <td>1438214400</td>\n",
       "      <td>0.0</td>\n",
       "    </tr>\n",
       "    <tr>\n",
       "      <th>1</th>\n",
       "      <td>2015-07-31</td>\n",
       "      <td>1438300800</td>\n",
       "      <td>0.0</td>\n",
       "    </tr>\n",
       "    <tr>\n",
       "      <th>2</th>\n",
       "      <td>2015-08-01</td>\n",
       "      <td>1438387200</td>\n",
       "      <td>0.0</td>\n",
       "    </tr>\n",
       "    <tr>\n",
       "      <th>3</th>\n",
       "      <td>2015-08-02</td>\n",
       "      <td>1438473600</td>\n",
       "      <td>0.0</td>\n",
       "    </tr>\n",
       "    <tr>\n",
       "      <th>4</th>\n",
       "      <td>2015-08-03</td>\n",
       "      <td>1438560000</td>\n",
       "      <td>0.0</td>\n",
       "    </tr>\n",
       "  </tbody>\n",
       "</table>\n",
       "</div>"
      ],
      "text/plain": [
       "   Date(UTC)  UnixTimeStamp  Value\n",
       "0 2015-07-30     1438214400    0.0\n",
       "1 2015-07-31     1438300800    0.0\n",
       "2 2015-08-01     1438387200    0.0\n",
       "3 2015-08-02     1438473600    0.0\n",
       "4 2015-08-03     1438560000    0.0"
      ]
     },
     "execution_count": 109,
     "metadata": {},
     "output_type": "execute_result"
    }
   ],
   "source": [
    "#index 1002 represents last monday (30.4.)\n",
    "hist_data['Date(UTC)'] = pd.to_datetime(hist_data['Date(UTC)'])\n",
    "hist_data.head()"
   ]
  },
  {
   "cell_type": "code",
   "execution_count": 136,
   "metadata": {
    "collapsed": false
   },
   "outputs": [],
   "source": [
    "#calculation of weekly variance (at the moment based only on Etherscan daily data)\n",
    "#this can be improved by using bitfinex data of past trades\n",
    "hist_data2 = hist_data\n",
    "hist_data2['Difference'] = hist_data['Value']\n",
    "for i in range(7, len(hist_data2)):\n",
    "    hist_data2['Difference'][i] = hist_data2['Value'][i] - hist_data2['Value'][i-7]  "
   ]
  },
  {
   "cell_type": "code",
   "execution_count": 144,
   "metadata": {
    "collapsed": false
   },
   "outputs": [
    {
     "data": {
      "text/plain": [
       "64.18342107316404"
      ]
     },
     "execution_count": 144,
     "metadata": {},
     "output_type": "execute_result"
    }
   ],
   "source": [
    "#hist_data2.tail(n=20)\n",
    "hist_sd = hist_data2['Difference'].std()\n",
    "hist_sd "
   ]
  },
  {
   "cell_type": "code",
   "execution_count": 147,
   "metadata": {
    "collapsed": false
   },
   "outputs": [],
   "source": [
    "def call_premium(S_0, K, sd=hist_sd ):\n",
    "    return quad(lambda x: (x/(sqrt(2*pi)*sd))*exp(-(x-S_0+K)**2/(2*sd**2)), 0, float(\"inf\"))"
   ]
  },
  {
   "cell_type": "code",
   "execution_count": 148,
   "metadata": {
    "collapsed": false
   },
   "outputs": [
    {
     "data": {
      "text/plain": [
       "20.915636175631192"
      ]
     },
     "execution_count": 148,
     "metadata": {},
     "output_type": "execute_result"
    }
   ],
   "source": [
    "call_premium(500,510)[0]"
   ]
  },
  {
   "cell_type": "code",
   "execution_count": 149,
   "metadata": {
    "collapsed": false
   },
   "outputs": [],
   "source": [
    "def put_premium(S_0, K, sd=hist_sd ):\n",
    "    return quad(lambda x: (x/(sqrt(2*pi)*sd))*exp(-(x-(K-S_0))**2/(2*sd**2)), 0, float(\"inf\"))"
   ]
  },
  {
   "cell_type": "code",
   "execution_count": 150,
   "metadata": {
    "collapsed": false
   },
   "outputs": [
    {
     "data": {
      "text/plain": [
       "20.915636175631192"
      ]
     },
     "execution_count": 150,
     "metadata": {},
     "output_type": "execute_result"
    }
   ],
   "source": [
    "put_premium(500,490)[0]"
   ]
  },
  {
   "cell_type": "code",
   "execution_count": 151,
   "metadata": {
    "collapsed": false
   },
   "outputs": [],
   "source": [
    "#ratio = sold_calls/500\n",
    "#K represents here the initial difference between S_0 and strike price\n",
    "#mondays - nr. of past Mondays we are interested in\n",
    "#ratios - list of ratio of sold calls and puts for each Monday\n",
    "def simulation(margin, charge, ratios, mondays, K=10):\n",
    "    assert len(ratios) == mondays\n",
    "    df = pd.DataFrame()\n",
    "    counter = 1\n",
    "    for ratio in ratios:\n",
    "        S_0 = hist_data.iloc[1002 - counter*7][\"Value\"]\n",
    "        S_7 = hist_data.iloc[1002 - (counter-1)*7][\"Value\"]\n",
    "        sold_call = ratio * 500 \n",
    "        sold_put = (1 - ratio) * 500\n",
    "        call_price = call_premium(S_0, S_0 + K)[0]*margin\n",
    "        put_price = put_premium(S_0, S_0 - K)[0]*margin\n",
    "        if ratio > 0.6:\n",
    "            call_price += ratio*charge\n",
    "        elif ratio < 0.4:\n",
    "            put_price += (1 - ratio)*charge\n",
    "        earnings = sold_call*call_price + sold_put*put_price\n",
    "        payouts = sold_call*max(0, S_7 - (S_0 + K)) + sold_put*max((S_0 - K) - S_7, 0)\n",
    "        result = earnings - payouts\n",
    "        data = pd.DataFrame({\"start date\": hist_data.iloc[1002 - counter*7][\"Date(UTC)\"], \n",
    "                                \"expiry date\": hist_data.iloc[1002 - (counter-1)*7][\"Date(UTC)\"], \"ratio\": ratio,\n",
    "                                                        \"profit/loss\": result, \"start price\": S_0, \"expiry price\": S_7,\n",
    "                                                            \"call price\": call_price, \"put price\": put_price},\n",
    "                                                                                                index=[counter-1])\n",
    "        df = df.append(data)\n",
    "        counter += 1\n",
    "    cols = ['start date', 'expiry date', 'start price', 'expiry price', 'ratio', 'call price', 'put price', 'profit/loss']\n",
    "    df = df[cols]\n",
    "    #print(plt.bar(df['start date'], df['profit/loss']))\n",
    "    print(df.plot(x='start date', y='profit/loss', kind='bar'))\n",
    "    print(sum(df['profit/loss']))\n",
    "    return df"
   ]
  },
  {
   "cell_type": "code",
   "execution_count": 154,
   "metadata": {
    "collapsed": false
   },
   "outputs": [
    {
     "name": "stdout",
     "output_type": "stream",
     "text": [
      "Axes(0.125,0.125;0.775x0.755)\n",
      "73069.3170538\n"
     ]
    },
    {
     "data": {
      "text/html": [
       "<div>\n",
       "<style>\n",
       "    .dataframe thead tr:only-child th {\n",
       "        text-align: right;\n",
       "    }\n",
       "\n",
       "    .dataframe thead th {\n",
       "        text-align: left;\n",
       "    }\n",
       "\n",
       "    .dataframe tbody tr th {\n",
       "        vertical-align: top;\n",
       "    }\n",
       "</style>\n",
       "<table border=\"1\" class=\"dataframe\">\n",
       "  <thead>\n",
       "    <tr style=\"text-align: right;\">\n",
       "      <th></th>\n",
       "      <th>start date</th>\n",
       "      <th>expiry date</th>\n",
       "      <th>start price</th>\n",
       "      <th>expiry price</th>\n",
       "      <th>ratio</th>\n",
       "      <th>call price</th>\n",
       "      <th>put price</th>\n",
       "      <th>profit/loss</th>\n",
       "    </tr>\n",
       "  </thead>\n",
       "  <tbody>\n",
       "    <tr>\n",
       "      <th>0</th>\n",
       "      <td>4/23/2018</td>\n",
       "      <td>4/30/2018</td>\n",
       "      <td>644.13</td>\n",
       "      <td>670.04</td>\n",
       "      <td>0.1</td>\n",
       "      <td>25.098763</td>\n",
       "      <td>70.098763</td>\n",
       "      <td>32003.881705</td>\n",
       "    </tr>\n",
       "    <tr>\n",
       "      <th>1</th>\n",
       "      <td>4/16/2018</td>\n",
       "      <td>4/23/2018</td>\n",
       "      <td>511.67</td>\n",
       "      <td>644.13</td>\n",
       "      <td>0.5</td>\n",
       "      <td>25.098763</td>\n",
       "      <td>25.098763</td>\n",
       "      <td>-18065.618295</td>\n",
       "    </tr>\n",
       "    <tr>\n",
       "      <th>2</th>\n",
       "      <td>4/9/2018</td>\n",
       "      <td>4/16/2018</td>\n",
       "      <td>399.02</td>\n",
       "      <td>511.67</td>\n",
       "      <td>0.4</td>\n",
       "      <td>25.098763</td>\n",
       "      <td>25.098763</td>\n",
       "      <td>-7980.618295</td>\n",
       "    </tr>\n",
       "    <tr>\n",
       "      <th>3</th>\n",
       "      <td>4/2/2018</td>\n",
       "      <td>4/9/2018</td>\n",
       "      <td>384.68</td>\n",
       "      <td>399.02</td>\n",
       "      <td>0.8</td>\n",
       "      <td>65.098763</td>\n",
       "      <td>25.098763</td>\n",
       "      <td>26813.381705</td>\n",
       "    </tr>\n",
       "    <tr>\n",
       "      <th>4</th>\n",
       "      <td>3/26/2018</td>\n",
       "      <td>4/2/2018</td>\n",
       "      <td>486.25</td>\n",
       "      <td>384.68</td>\n",
       "      <td>0.2</td>\n",
       "      <td>25.098763</td>\n",
       "      <td>65.098763</td>\n",
       "      <td>-8078.618295</td>\n",
       "    </tr>\n",
       "    <tr>\n",
       "      <th>5</th>\n",
       "      <td>3/19/2018</td>\n",
       "      <td>3/26/2018</td>\n",
       "      <td>555.55</td>\n",
       "      <td>486.25</td>\n",
       "      <td>0.6</td>\n",
       "      <td>25.098763</td>\n",
       "      <td>25.098763</td>\n",
       "      <td>689.381705</td>\n",
       "    </tr>\n",
       "    <tr>\n",
       "      <th>6</th>\n",
       "      <td>3/12/2018</td>\n",
       "      <td>3/19/2018</td>\n",
       "      <td>697.02</td>\n",
       "      <td>555.55</td>\n",
       "      <td>0.5</td>\n",
       "      <td>25.098763</td>\n",
       "      <td>25.098763</td>\n",
       "      <td>-20318.118295</td>\n",
       "    </tr>\n",
       "    <tr>\n",
       "      <th>7</th>\n",
       "      <td>3/5/2018</td>\n",
       "      <td>3/12/2018</td>\n",
       "      <td>849.42</td>\n",
       "      <td>697.02</td>\n",
       "      <td>1.0</td>\n",
       "      <td>75.098763</td>\n",
       "      <td>25.098763</td>\n",
       "      <td>37549.381705</td>\n",
       "    </tr>\n",
       "    <tr>\n",
       "      <th>8</th>\n",
       "      <td>2/26/2018</td>\n",
       "      <td>3/5/2018</td>\n",
       "      <td>867.62</td>\n",
       "      <td>849.42</td>\n",
       "      <td>0.0</td>\n",
       "      <td>25.098763</td>\n",
       "      <td>75.098763</td>\n",
       "      <td>33449.381705</td>\n",
       "    </tr>\n",
       "    <tr>\n",
       "      <th>9</th>\n",
       "      <td>2/19/2018</td>\n",
       "      <td>2/26/2018</td>\n",
       "      <td>939.79</td>\n",
       "      <td>867.62</td>\n",
       "      <td>0.5</td>\n",
       "      <td>25.098763</td>\n",
       "      <td>25.098763</td>\n",
       "      <td>-2993.118295</td>\n",
       "    </tr>\n",
       "  </tbody>\n",
       "</table>\n",
       "</div>"
      ],
      "text/plain": [
       "  start date expiry date  start price  expiry price  ratio  call price  \\\n",
       "0  4/23/2018   4/30/2018       644.13        670.04    0.1   25.098763   \n",
       "1  4/16/2018   4/23/2018       511.67        644.13    0.5   25.098763   \n",
       "2   4/9/2018   4/16/2018       399.02        511.67    0.4   25.098763   \n",
       "3   4/2/2018    4/9/2018       384.68        399.02    0.8   65.098763   \n",
       "4  3/26/2018    4/2/2018       486.25        384.68    0.2   25.098763   \n",
       "5  3/19/2018   3/26/2018       555.55        486.25    0.6   25.098763   \n",
       "6  3/12/2018   3/19/2018       697.02        555.55    0.5   25.098763   \n",
       "7   3/5/2018   3/12/2018       849.42        697.02    1.0   75.098763   \n",
       "8  2/26/2018    3/5/2018       867.62        849.42    0.0   25.098763   \n",
       "9  2/19/2018   2/26/2018       939.79        867.62    0.5   25.098763   \n",
       "\n",
       "   put price   profit/loss  \n",
       "0  70.098763  32003.881705  \n",
       "1  25.098763 -18065.618295  \n",
       "2  25.098763  -7980.618295  \n",
       "3  25.098763  26813.381705  \n",
       "4  65.098763  -8078.618295  \n",
       "5  25.098763    689.381705  \n",
       "6  25.098763 -20318.118295  \n",
       "7  25.098763  37549.381705  \n",
       "8  75.098763  33449.381705  \n",
       "9  25.098763  -2993.118295  "
      ]
     },
     "execution_count": 154,
     "metadata": {},
     "output_type": "execute_result"
    },
    {
     "data": {
      "image/png": "[encoded data removed]",
      "text/plain": [
       "<matplotlib.figure.Figure at 0xf5c7588>"
      ]
     },
     "metadata": {},
     "output_type": "display_data"
    }
   ],
   "source": [
    "simulation(1.2, 50, [0.1, 0.5, 0.4, 0.8, 0.2, 0.6, 0.5, 1, 0, 0.5], 10)"
   ]
  },
  {
   "cell_type": "markdown",
   "metadata": {},
   "source": [
    "## Questions:\n",
    "- do we also include discount (besides charge) for options with smaller demand based on ratio of sold puts and calls?\n",
    "- system of auction? I need more details to make simulation more realistic.\n",
    "- best way to present results? design a simple user interface where one can play with inputs via sliders etc. or is a 'Jupyter notebook' in form similar to above enough? \n",
    "- is simulation based on past data enough? Also at the moment simulation is designed on  daily prices (and not on exact  Monday prices @15.00), does this suffice?\n",
    "- my assumption was that demand of 500 ETH means that there are 500 options available at each auction. Is this correct?\n",
    "- prices of call and put options are expressed here in USD, should they be in ETH (since ETH is the currency used on smart contracts)?"
   ]
  },
  {
   "cell_type": "code",
   "execution_count": null,
   "metadata": {
    "collapsed": true
   },
   "outputs": [],
   "source": []
  }
 ],
 "metadata": {
  "kernelspec": {
   "display_name": "Python 2",
   "language": "python",
   "name": "python2"
  },
  "language_info": {
   "codemirror_mode": {
    "name": "ipython",
    "version": 2
   },
   "file_extension": ".py",
   "mimetype": "text/x-python",
   "name": "python",
   "nbconvert_exporter": "python",
   "pygments_lexer": "ipython2",
   "version": "2.7.13"
  }
 },
 "nbformat": 4,
 "nbformat_minor": 2
}
