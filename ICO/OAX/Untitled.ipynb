{
 "cells": [
  {
   "cell_type": "code",
   "execution_count": 2,
   "metadata": {
    "collapsed": false
   },
   "outputs": [],
   "source": [
    "library(DescTools)\n",
    "library(ggplot2)\n",
    "library(readr)\n",
    "suppressWarnings(library(dplyr))\n",
    "library(visNetwork)"
   ]
  },
  {
   "cell_type": "code",
   "execution_count": 3,
   "metadata": {
    "collapsed": false
   },
   "outputs": [
    {
     "name": "stderr",
     "output_type": "stream",
     "text": [
      "Parsed with column specification:\n",
      "cols(\n",
      "  Txhash = col_character(),\n",
      "  Blockno = col_integer(),\n",
      "  UnixTimestamp = col_integer(),\n",
      "  DateTime = col_character(),\n",
      "  From = col_character(),\n",
      "  To = col_character(),\n",
      "  Quantity = col_double()\n",
      ")\n"
     ]
    },
    {
     "data": {
      "text/html": [
       "<table>\n",
       "<thead><tr><th scope=col>Txhash</th><th scope=col>Blockno</th><th scope=col>UnixTimestamp</th><th scope=col>DateTime</th><th scope=col>From</th><th scope=col>To</th><th scope=col>Quantity</th></tr></thead>\n",
       "<tbody>\n",
       "\t<tr><td>0xfdb6c1df82f588441b4b64cd47e917f792434bb338580b8dab0e18689588c094</td><td>3971323                                                           </td><td>2017-07-04 05:00:33                                               </td><td>7/4/2017 5:00:33 AM                                               </td><td>0x0000000000000000000000000000000000000000                        </td><td>0x2ae528536128a9b0eb697ea8ce385b76de02e182                        </td><td>157.9644                                                          </td></tr>\n",
       "\t<tr><td>0x9a1a846a4bc862cd3e03b55122c212def7a9f9f7cb6b26a4ce9f8ec091e34088</td><td>3971318                                                           </td><td>2017-07-04 04:59:13                                               </td><td>7/4/2017 4:59:13 AM                                               </td><td>0x0000000000000000000000000000000000000000                        </td><td>0x62d1a48c06dae03ffd3dadea33f98b9aacca5c35                        </td><td>478.6800                                                          </td></tr>\n",
       "\t<tr><td>0x2fc7aa09c1a42ba77fd6ff6bd4dfc03b9b7d9eb060031bfd1f78c1941fe33376</td><td>3971315                                                           </td><td>2017-07-04 04:58:40                                               </td><td>7/4/2017 4:58:40 AM                                               </td><td>0x0000000000000000000000000000000000000000                        </td><td>0x22b38133840d03b750420c7a91675565f964c3bc                        </td><td>190.8389                                                          </td></tr>\n",
       "\t<tr><td>0xa38d81a305bd681c15959f83d471f5d426dad06438f4f5af8a56c7862bb05140</td><td>3971313                                                           </td><td>2017-07-04 04:58:20                                               </td><td>7/4/2017 4:58:20 AM                                               </td><td>0x0000000000000000000000000000000000000000                        </td><td>0x8753773a0796335b8d078d3dd7deef4262e0439f                        </td><td>287.2080                                                          </td></tr>\n",
       "\t<tr><td>0xa7a89b55d39595b27399f65786fc64734c38793622b7806ecfce1c470e588844</td><td>3971313                                                           </td><td>2017-07-04 04:58:20                                               </td><td>7/4/2017 4:58:20 AM                                               </td><td>0x0000000000000000000000000000000000000000                        </td><td>0xd213f47b373c4a0f79f79584e5c1b6385e5ab308                        </td><td>239.3400                                                          </td></tr>\n",
       "\t<tr><td>0x6f2135887209fb9db7e99bdfbde48b949843914b6d8d0d5b3606cbce0f953836</td><td>3971313                                                           </td><td>2017-07-04 04:58:20                                               </td><td>7/4/2017 4:58:20 AM                                               </td><td>0x0000000000000000000000000000000000000000                        </td><td>0xeb9579e553a465d74a59a9e6059b552ee86df200                        </td><td>957.3600                                                          </td></tr>\n",
       "</tbody>\n",
       "</table>\n"
      ],
      "text/latex": [
       "\\begin{tabular}{r|lllllll}\n",
       " Txhash & Blockno & UnixTimestamp & DateTime & From & To & Quantity\\\\\n",
       "\\hline\n",
       "\t 0xfdb6c1df82f588441b4b64cd47e917f792434bb338580b8dab0e18689588c094 & 3971323                                                            & 2017-07-04 05:00:33                                                & 7/4/2017 5:00:33 AM                                                & 0x0000000000000000000000000000000000000000                         & 0x2ae528536128a9b0eb697ea8ce385b76de02e182                         & 157.9644                                                          \\\\\n",
       "\t 0x9a1a846a4bc862cd3e03b55122c212def7a9f9f7cb6b26a4ce9f8ec091e34088 & 3971318                                                            & 2017-07-04 04:59:13                                                & 7/4/2017 4:59:13 AM                                                & 0x0000000000000000000000000000000000000000                         & 0x62d1a48c06dae03ffd3dadea33f98b9aacca5c35                         & 478.6800                                                          \\\\\n",
       "\t 0x2fc7aa09c1a42ba77fd6ff6bd4dfc03b9b7d9eb060031bfd1f78c1941fe33376 & 3971315                                                            & 2017-07-04 04:58:40                                                & 7/4/2017 4:58:40 AM                                                & 0x0000000000000000000000000000000000000000                         & 0x22b38133840d03b750420c7a91675565f964c3bc                         & 190.8389                                                          \\\\\n",
       "\t 0xa38d81a305bd681c15959f83d471f5d426dad06438f4f5af8a56c7862bb05140 & 3971313                                                            & 2017-07-04 04:58:20                                                & 7/4/2017 4:58:20 AM                                                & 0x0000000000000000000000000000000000000000                         & 0x8753773a0796335b8d078d3dd7deef4262e0439f                         & 287.2080                                                          \\\\\n",
       "\t 0xa7a89b55d39595b27399f65786fc64734c38793622b7806ecfce1c470e588844 & 3971313                                                            & 2017-07-04 04:58:20                                                & 7/4/2017 4:58:20 AM                                                & 0x0000000000000000000000000000000000000000                         & 0xd213f47b373c4a0f79f79584e5c1b6385e5ab308                         & 239.3400                                                          \\\\\n",
       "\t 0x6f2135887209fb9db7e99bdfbde48b949843914b6d8d0d5b3606cbce0f953836 & 3971313                                                            & 2017-07-04 04:58:20                                                & 7/4/2017 4:58:20 AM                                                & 0x0000000000000000000000000000000000000000                         & 0xeb9579e553a465d74a59a9e6059b552ee86df200                         & 957.3600                                                          \\\\\n",
       "\\end{tabular}\n"
      ],
      "text/markdown": [
       "\n",
       "Txhash | Blockno | UnixTimestamp | DateTime | From | To | Quantity | \n",
       "|---|---|---|---|---|---|\n",
       "| 0xfdb6c1df82f588441b4b64cd47e917f792434bb338580b8dab0e18689588c094 | 3971323                                                            | 2017-07-04 05:00:33                                                | 7/4/2017 5:00:33 AM                                                | 0x0000000000000000000000000000000000000000                         | 0x2ae528536128a9b0eb697ea8ce385b76de02e182                         | 157.9644                                                           | \n",
       "| 0x9a1a846a4bc862cd3e03b55122c212def7a9f9f7cb6b26a4ce9f8ec091e34088 | 3971318                                                            | 2017-07-04 04:59:13                                                | 7/4/2017 4:59:13 AM                                                | 0x0000000000000000000000000000000000000000                         | 0x62d1a48c06dae03ffd3dadea33f98b9aacca5c35                         | 478.6800                                                           | \n",
       "| 0x2fc7aa09c1a42ba77fd6ff6bd4dfc03b9b7d9eb060031bfd1f78c1941fe33376 | 3971315                                                            | 2017-07-04 04:58:40                                                | 7/4/2017 4:58:40 AM                                                | 0x0000000000000000000000000000000000000000                         | 0x22b38133840d03b750420c7a91675565f964c3bc                         | 190.8389                                                           | \n",
       "| 0xa38d81a305bd681c15959f83d471f5d426dad06438f4f5af8a56c7862bb05140 | 3971313                                                            | 2017-07-04 04:58:20                                                | 7/4/2017 4:58:20 AM                                                | 0x0000000000000000000000000000000000000000                         | 0x8753773a0796335b8d078d3dd7deef4262e0439f                         | 287.2080                                                           | \n",
       "| 0xa7a89b55d39595b27399f65786fc64734c38793622b7806ecfce1c470e588844 | 3971313                                                            | 2017-07-04 04:58:20                                                | 7/4/2017 4:58:20 AM                                                | 0x0000000000000000000000000000000000000000                         | 0xd213f47b373c4a0f79f79584e5c1b6385e5ab308                         | 239.3400                                                           | \n",
       "| 0x6f2135887209fb9db7e99bdfbde48b949843914b6d8d0d5b3606cbce0f953836 | 3971313                                                            | 2017-07-04 04:58:20                                                | 7/4/2017 4:58:20 AM                                                | 0x0000000000000000000000000000000000000000                         | 0xeb9579e553a465d74a59a9e6059b552ee86df200                         | 957.3600                                                           | \n",
       "\n",
       "\n"
      ],
      "text/plain": [
       "  Txhash                                                             Blockno\n",
       "1 0xfdb6c1df82f588441b4b64cd47e917f792434bb338580b8dab0e18689588c094 3971323\n",
       "2 0x9a1a846a4bc862cd3e03b55122c212def7a9f9f7cb6b26a4ce9f8ec091e34088 3971318\n",
       "3 0x2fc7aa09c1a42ba77fd6ff6bd4dfc03b9b7d9eb060031bfd1f78c1941fe33376 3971315\n",
       "4 0xa38d81a305bd681c15959f83d471f5d426dad06438f4f5af8a56c7862bb05140 3971313\n",
       "5 0xa7a89b55d39595b27399f65786fc64734c38793622b7806ecfce1c470e588844 3971313\n",
       "6 0x6f2135887209fb9db7e99bdfbde48b949843914b6d8d0d5b3606cbce0f953836 3971313\n",
       "  UnixTimestamp       DateTime           \n",
       "1 2017-07-04 05:00:33 7/4/2017 5:00:33 AM\n",
       "2 2017-07-04 04:59:13 7/4/2017 4:59:13 AM\n",
       "3 2017-07-04 04:58:40 7/4/2017 4:58:40 AM\n",
       "4 2017-07-04 04:58:20 7/4/2017 4:58:20 AM\n",
       "5 2017-07-04 04:58:20 7/4/2017 4:58:20 AM\n",
       "6 2017-07-04 04:58:20 7/4/2017 4:58:20 AM\n",
       "  From                                      \n",
       "1 0x0000000000000000000000000000000000000000\n",
       "2 0x0000000000000000000000000000000000000000\n",
       "3 0x0000000000000000000000000000000000000000\n",
       "4 0x0000000000000000000000000000000000000000\n",
       "5 0x0000000000000000000000000000000000000000\n",
       "6 0x0000000000000000000000000000000000000000\n",
       "  To                                         Quantity\n",
       "1 0x2ae528536128a9b0eb697ea8ce385b76de02e182 157.9644\n",
       "2 0x62d1a48c06dae03ffd3dadea33f98b9aacca5c35 478.6800\n",
       "3 0x22b38133840d03b750420c7a91675565f964c3bc 190.8389\n",
       "4 0x8753773a0796335b8d078d3dd7deef4262e0439f 287.2080\n",
       "5 0xd213f47b373c4a0f79f79584e5c1b6385e5ab308 239.3400\n",
       "6 0xeb9579e553a465d74a59a9e6059b552ee86df200 957.3600"
      ]
     },
     "metadata": {},
     "output_type": "display_data"
    }
   ],
   "source": [
    "data <- read_csv('OAXreverse(manjka).csv')\n",
    "#data$value <- data$value / 10**18\n",
    "data$UnixTimestamp <- as.POSIXct(data$UnixTimestamp,origin=\"1970-01-01\",tz=\"GMT\")\n",
    "#data <- data[data$value > 0,] #odstranim transakcije, kjer je value 0\n",
    "head(data)"
   ]
  },
  {
   "cell_type": "code",
   "execution_count": 4,
   "metadata": {
    "collapsed": false
   },
   "outputs": [
    {
     "data": {
      "text/html": [
       "0"
      ],
      "text/latex": [
       "0"
      ],
      "text/markdown": [
       "0"
      ],
      "text/plain": [
       "[1] 0"
      ]
     },
     "metadata": {},
     "output_type": "display_data"
    }
   ],
   "source": [
    "tmp <- data[data$To == '0x701c244b988a513c945973defa05de933b23fe1d',]\n",
    "nrow(tmp)"
   ]
  },
  {
   "cell_type": "code",
   "execution_count": 5,
   "metadata": {
    "collapsed": false
   },
   "outputs": [
    {
     "data": {
      "text/html": [
       "3950219.31158606"
      ],
      "text/latex": [
       "3950219.31158606"
      ],
      "text/markdown": [
       "3950219.31158606"
      ],
      "text/plain": [
       "[1] 3950219"
      ]
     },
     "metadata": {},
     "output_type": "display_data"
    }
   ],
   "source": [
    "sum(data$Quantity)"
   ]
  },
  {
   "cell_type": "markdown",
   "metadata": {},
   "source": [
    "### Zgoraj je samo poskus analize z druge strani. Glej spodnji link\n",
    "\n",
    "https://etherscan.io/token/0x701c244b988a513c945973defa05de933b23fe1d?a=0x0000000000000000000000000000000000000000"
   ]
  },
  {
   "cell_type": "code",
   "execution_count": 3,
   "metadata": {
    "collapsed": false
   },
   "outputs": [
    {
     "name": "stderr",
     "output_type": "stream",
     "text": [
      "Parsed with column specification:\n",
      "cols(\n",
      "  blockNumber = col_integer(),\n",
      "  timeStamp = col_integer(),\n",
      "  from = col_character(),\n",
      "  to = col_character(),\n",
      "  value = col_double()\n",
      ")\n"
     ]
    },
    {
     "data": {
      "text/html": [
       "<table>\n",
       "<thead><tr><th scope=col>blockNumber</th><th scope=col>timeStamp</th><th scope=col>from</th><th scope=col>to</th><th scope=col>value</th></tr></thead>\n",
       "<tbody>\n",
       "\t<tr><td>3913144                                   </td><td>2017-06-22 13:00:26                       </td><td>0x8a53ee33d77371bacdc76cae6632c23495f669d7</td><td>0x701c244b988a513c945973defa05de933b23fe1d</td><td>1.0000000                                 </td></tr>\n",
       "\t<tr><td>3913144                                   </td><td>2017-06-22 13:00:26                       </td><td>0xa6bc6b41fc360364af6c2138ad9f1e4005523532</td><td>0x701c244b988a513c945973defa05de933b23fe1d</td><td>2.0000000                                 </td></tr>\n",
       "\t<tr><td>3913144                                   </td><td>2017-06-22 13:00:26                       </td><td>0x3b150851de69e672ec79a60a3df4663985496e14</td><td>0x701c244b988a513c945973defa05de933b23fe1d</td><td>1.0000000                                 </td></tr>\n",
       "\t<tr><td>3913145                                   </td><td>2017-06-22 13:00:30                       </td><td>0x6732f7bec0e6ce62f7edfcd7448cfb2947e6526b</td><td>0x701c244b988a513c945973defa05de933b23fe1d</td><td>0.9898319                                 </td></tr>\n",
       "\t<tr><td>3913146                                   </td><td>2017-06-22 13:00:37                       </td><td>0x03474b39c921adbfaa80aad93a3069b5cd2f7958</td><td>0x701c244b988a513c945973defa05de933b23fe1d</td><td>0.9500000                                 </td></tr>\n",
       "\t<tr><td>3913146                                   </td><td>2017-06-22 13:00:37                       </td><td>0x9db5b9e37d8e8827f5f49839821cb16db555d5f6</td><td>0x701c244b988a513c945973defa05de933b23fe1d</td><td>2.1000000                                 </td></tr>\n",
       "</tbody>\n",
       "</table>\n"
      ],
      "text/latex": [
       "\\begin{tabular}{r|lllll}\n",
       " blockNumber & timeStamp & from & to & value\\\\\n",
       "\\hline\n",
       "\t 3913144                                    & 2017-06-22 13:00:26                        & 0x8a53ee33d77371bacdc76cae6632c23495f669d7 & 0x701c244b988a513c945973defa05de933b23fe1d & 1.0000000                                 \\\\\n",
       "\t 3913144                                    & 2017-06-22 13:00:26                        & 0xa6bc6b41fc360364af6c2138ad9f1e4005523532 & 0x701c244b988a513c945973defa05de933b23fe1d & 2.0000000                                 \\\\\n",
       "\t 3913144                                    & 2017-06-22 13:00:26                        & 0x3b150851de69e672ec79a60a3df4663985496e14 & 0x701c244b988a513c945973defa05de933b23fe1d & 1.0000000                                 \\\\\n",
       "\t 3913145                                    & 2017-06-22 13:00:30                        & 0x6732f7bec0e6ce62f7edfcd7448cfb2947e6526b & 0x701c244b988a513c945973defa05de933b23fe1d & 0.9898319                                 \\\\\n",
       "\t 3913146                                    & 2017-06-22 13:00:37                        & 0x03474b39c921adbfaa80aad93a3069b5cd2f7958 & 0x701c244b988a513c945973defa05de933b23fe1d & 0.9500000                                 \\\\\n",
       "\t 3913146                                    & 2017-06-22 13:00:37                        & 0x9db5b9e37d8e8827f5f49839821cb16db555d5f6 & 0x701c244b988a513c945973defa05de933b23fe1d & 2.1000000                                 \\\\\n",
       "\\end{tabular}\n"
      ],
      "text/markdown": [
       "\n",
       "blockNumber | timeStamp | from | to | value | \n",
       "|---|---|---|---|---|---|\n",
       "| 3913144                                    | 2017-06-22 13:00:26                        | 0x8a53ee33d77371bacdc76cae6632c23495f669d7 | 0x701c244b988a513c945973defa05de933b23fe1d | 1.0000000                                  | \n",
       "| 3913144                                    | 2017-06-22 13:00:26                        | 0xa6bc6b41fc360364af6c2138ad9f1e4005523532 | 0x701c244b988a513c945973defa05de933b23fe1d | 2.0000000                                  | \n",
       "| 3913144                                    | 2017-06-22 13:00:26                        | 0x3b150851de69e672ec79a60a3df4663985496e14 | 0x701c244b988a513c945973defa05de933b23fe1d | 1.0000000                                  | \n",
       "| 3913145                                    | 2017-06-22 13:00:30                        | 0x6732f7bec0e6ce62f7edfcd7448cfb2947e6526b | 0x701c244b988a513c945973defa05de933b23fe1d | 0.9898319                                  | \n",
       "| 3913146                                    | 2017-06-22 13:00:37                        | 0x03474b39c921adbfaa80aad93a3069b5cd2f7958 | 0x701c244b988a513c945973defa05de933b23fe1d | 0.9500000                                  | \n",
       "| 3913146                                    | 2017-06-22 13:00:37                        | 0x9db5b9e37d8e8827f5f49839821cb16db555d5f6 | 0x701c244b988a513c945973defa05de933b23fe1d | 2.1000000                                  | \n",
       "\n",
       "\n"
      ],
      "text/plain": [
       "  blockNumber timeStamp           from                                      \n",
       "1 3913144     2017-06-22 13:00:26 0x8a53ee33d77371bacdc76cae6632c23495f669d7\n",
       "2 3913144     2017-06-22 13:00:26 0xa6bc6b41fc360364af6c2138ad9f1e4005523532\n",
       "3 3913144     2017-06-22 13:00:26 0x3b150851de69e672ec79a60a3df4663985496e14\n",
       "4 3913145     2017-06-22 13:00:30 0x6732f7bec0e6ce62f7edfcd7448cfb2947e6526b\n",
       "5 3913146     2017-06-22 13:00:37 0x03474b39c921adbfaa80aad93a3069b5cd2f7958\n",
       "6 3913146     2017-06-22 13:00:37 0x9db5b9e37d8e8827f5f49839821cb16db555d5f6\n",
       "  to                                         value    \n",
       "1 0x701c244b988a513c945973defa05de933b23fe1d 1.0000000\n",
       "2 0x701c244b988a513c945973defa05de933b23fe1d 2.0000000\n",
       "3 0x701c244b988a513c945973defa05de933b23fe1d 1.0000000\n",
       "4 0x701c244b988a513c945973defa05de933b23fe1d 0.9898319\n",
       "5 0x701c244b988a513c945973defa05de933b23fe1d 0.9500000\n",
       "6 0x701c244b988a513c945973defa05de933b23fe1d 2.1000000"
      ]
     },
     "metadata": {},
     "output_type": "display_data"
    }
   ],
   "source": [
    "data <- read_csv('OAX.csv')\n",
    "data$value <- data$value / 10**18\n",
    "data$timeStamp <- as.POSIXct(data$timeStamp,origin=\"1970-01-01\",tz=\"GMT\")\n",
    "data <- data[data$value > 0,] #odstranim transakcije, kjer je value 0\n",
    "head(data)"
   ]
  },
  {
   "cell_type": "code",
   "execution_count": 7,
   "metadata": {
    "collapsed": false
   },
   "outputs": [
    {
     "data": {
      "text/html": [
       "5097"
      ],
      "text/latex": [
       "5097"
      ],
      "text/markdown": [
       "5097"
      ],
      "text/plain": [
       "[1] 5097"
      ]
     },
     "metadata": {},
     "output_type": "display_data"
    }
   ],
   "source": [
    "n <- dim(data)[1]\n",
    "data <- data[1:(n-3),]\n",
    "n"
   ]
  },
  {
   "cell_type": "code",
   "execution_count": 8,
   "metadata": {
    "collapsed": false
   },
   "outputs": [
    {
     "data": {
      "text/html": [
       "<table>\n",
       "<thead><tr><th scope=col>blockNumber</th><th scope=col>timeStamp</th><th scope=col>from</th><th scope=col>to</th><th scope=col>value</th></tr></thead>\n",
       "<tbody>\n",
       "\t<tr><td>3973606                                   </td><td>2017-07-04 15:51:07                       </td><td>0x957586da2f235bb062dcdae2b4fb17c4d29f111b</td><td>0x701c244b988a513c945973defa05de933b23fe1d</td><td>0.07219663                                </td></tr>\n",
       "\t<tr><td>3973909                                   </td><td>2017-07-04 17:18:06                       </td><td>0x957586da2f235bb062dcdae2b4fb17c4d29f111b</td><td>0x701c244b988a513c945973defa05de933b23fe1d</td><td>0.06619663                                </td></tr>\n",
       "\t<tr><td>3973937                                   </td><td>2017-07-04 17:24:19                       </td><td>0x957586da2f235bb062dcdae2b4fb17c4d29f111b</td><td>0x701c244b988a513c945973defa05de933b23fe1d</td><td>0.06367663                                </td></tr>\n",
       "\t<tr><td>3973996                                   </td><td>2017-07-04 17:37:54                       </td><td>0x957586da2f235bb062dcdae2b4fb17c4d29f111b</td><td>0x701c244b988a513c945973defa05de933b23fe1d</td><td>0.05100000                                </td></tr>\n",
       "\t<tr><td>3977586                                   </td><td>2017-07-05 11:01:24                       </td><td>0x957586da2f235bb062dcdae2b4fb17c4d29f111b</td><td>0x701c244b988a513c945973defa05de933b23fe1d</td><td>0.03900000                                </td></tr>\n",
       "\t<tr><td>3977711                                   </td><td>2017-07-05 11:37:38                       </td><td>0x957586da2f235bb062dcdae2b4fb17c4d29f111b</td><td>0x701c244b988a513c945973defa05de933b23fe1d</td><td>0.02700000                                </td></tr>\n",
       "</tbody>\n",
       "</table>\n"
      ],
      "text/latex": [
       "\\begin{tabular}{r|lllll}\n",
       " blockNumber & timeStamp & from & to & value\\\\\n",
       "\\hline\n",
       "\t 3973606                                    & 2017-07-04 15:51:07                        & 0x957586da2f235bb062dcdae2b4fb17c4d29f111b & 0x701c244b988a513c945973defa05de933b23fe1d & 0.07219663                                \\\\\n",
       "\t 3973909                                    & 2017-07-04 17:18:06                        & 0x957586da2f235bb062dcdae2b4fb17c4d29f111b & 0x701c244b988a513c945973defa05de933b23fe1d & 0.06619663                                \\\\\n",
       "\t 3973937                                    & 2017-07-04 17:24:19                        & 0x957586da2f235bb062dcdae2b4fb17c4d29f111b & 0x701c244b988a513c945973defa05de933b23fe1d & 0.06367663                                \\\\\n",
       "\t 3973996                                    & 2017-07-04 17:37:54                        & 0x957586da2f235bb062dcdae2b4fb17c4d29f111b & 0x701c244b988a513c945973defa05de933b23fe1d & 0.05100000                                \\\\\n",
       "\t 3977586                                    & 2017-07-05 11:01:24                        & 0x957586da2f235bb062dcdae2b4fb17c4d29f111b & 0x701c244b988a513c945973defa05de933b23fe1d & 0.03900000                                \\\\\n",
       "\t 3977711                                    & 2017-07-05 11:37:38                        & 0x957586da2f235bb062dcdae2b4fb17c4d29f111b & 0x701c244b988a513c945973defa05de933b23fe1d & 0.02700000                                \\\\\n",
       "\\end{tabular}\n"
      ],
      "text/markdown": [
       "\n",
       "blockNumber | timeStamp | from | to | value | \n",
       "|---|---|---|---|---|---|\n",
       "| 3973606                                    | 2017-07-04 15:51:07                        | 0x957586da2f235bb062dcdae2b4fb17c4d29f111b | 0x701c244b988a513c945973defa05de933b23fe1d | 0.07219663                                 | \n",
       "| 3973909                                    | 2017-07-04 17:18:06                        | 0x957586da2f235bb062dcdae2b4fb17c4d29f111b | 0x701c244b988a513c945973defa05de933b23fe1d | 0.06619663                                 | \n",
       "| 3973937                                    | 2017-07-04 17:24:19                        | 0x957586da2f235bb062dcdae2b4fb17c4d29f111b | 0x701c244b988a513c945973defa05de933b23fe1d | 0.06367663                                 | \n",
       "| 3973996                                    | 2017-07-04 17:37:54                        | 0x957586da2f235bb062dcdae2b4fb17c4d29f111b | 0x701c244b988a513c945973defa05de933b23fe1d | 0.05100000                                 | \n",
       "| 3977586                                    | 2017-07-05 11:01:24                        | 0x957586da2f235bb062dcdae2b4fb17c4d29f111b | 0x701c244b988a513c945973defa05de933b23fe1d | 0.03900000                                 | \n",
       "| 3977711                                    | 2017-07-05 11:37:38                        | 0x957586da2f235bb062dcdae2b4fb17c4d29f111b | 0x701c244b988a513c945973defa05de933b23fe1d | 0.02700000                                 | \n",
       "\n",
       "\n"
      ],
      "text/plain": [
       "  blockNumber timeStamp           from                                      \n",
       "1 3973606     2017-07-04 15:51:07 0x957586da2f235bb062dcdae2b4fb17c4d29f111b\n",
       "2 3973909     2017-07-04 17:18:06 0x957586da2f235bb062dcdae2b4fb17c4d29f111b\n",
       "3 3973937     2017-07-04 17:24:19 0x957586da2f235bb062dcdae2b4fb17c4d29f111b\n",
       "4 3973996     2017-07-04 17:37:54 0x957586da2f235bb062dcdae2b4fb17c4d29f111b\n",
       "5 3977586     2017-07-05 11:01:24 0x957586da2f235bb062dcdae2b4fb17c4d29f111b\n",
       "6 3977711     2017-07-05 11:37:38 0x957586da2f235bb062dcdae2b4fb17c4d29f111b\n",
       "  to                                         value     \n",
       "1 0x701c244b988a513c945973defa05de933b23fe1d 0.07219663\n",
       "2 0x701c244b988a513c945973defa05de933b23fe1d 0.06619663\n",
       "3 0x701c244b988a513c945973defa05de933b23fe1d 0.06367663\n",
       "4 0x701c244b988a513c945973defa05de933b23fe1d 0.05100000\n",
       "5 0x701c244b988a513c945973defa05de933b23fe1d 0.03900000\n",
       "6 0x701c244b988a513c945973defa05de933b23fe1d 0.02700000"
      ]
     },
     "metadata": {},
     "output_type": "display_data"
    }
   ],
   "source": [
    "tail(data)"
   ]
  },
  {
   "cell_type": "code",
   "execution_count": 9,
   "metadata": {
    "collapsed": false
   },
   "outputs": [
    {
     "data": {
      "text/html": [
       "27447.5048196718"
      ],
      "text/latex": [
       "27447.5048196718"
      ],
      "text/markdown": [
       "27447.5048196718"
      ],
      "text/plain": [
       "[1] 27447.5"
      ]
     },
     "metadata": {},
     "output_type": "display_data"
    }
   ],
   "source": [
    "sum(data$value)"
   ]
  },
  {
   "cell_type": "markdown",
   "metadata": {},
   "source": [
    "https://medium.com/@OAX_Foundation/the-openanx-token-sale-has-officially-closed-41a473512d0f"
   ]
  },
  {
   "cell_type": "markdown",
   "metadata": {},
   "source": [
    "https://medium.com/@OAX_Foundation"
   ]
  },
  {
   "cell_type": "code",
   "execution_count": 36,
   "metadata": {
    "collapsed": false
   },
   "outputs": [
    {
     "data": {
      "text/html": [
       "5.38820275219313"
      ],
      "text/latex": [
       "5.38820275219313"
      ],
      "text/markdown": [
       "5.38820275219313"
      ],
      "text/plain": [
       "[1] 5.388203"
      ]
     },
     "metadata": {},
     "output_type": "display_data"
    }
   ],
   "source": [
    "mean(data$value)"
   ]
  },
  {
   "cell_type": "code",
   "execution_count": 22,
   "metadata": {
    "collapsed": false
   },
   "outputs": [
    {
     "data": {
      "text/html": [
       "3739"
      ],
      "text/latex": [
       "3739"
      ],
      "text/markdown": [
       "3739"
      ],
      "text/plain": [
       "[1] 3739"
      ]
     },
     "metadata": {},
     "output_type": "display_data"
    }
   ],
   "source": [
    "length(unique(data$from))"
   ]
  },
  {
   "cell_type": "code",
   "execution_count": 23,
   "metadata": {
    "collapsed": false
   },
   "outputs": [
    {
     "data": {
      "text/html": [
       "14"
      ],
      "text/latex": [
       "14"
      ],
      "text/markdown": [
       "14"
      ],
      "text/plain": [
       "[1] 14"
      ]
     },
     "metadata": {},
     "output_type": "display_data"
    }
   ],
   "source": [
    "tmp <- split(data, cut(strptime(data$timeStamp, format=\"%F %R\"),\"day\"))\n",
    "length(tmp)"
   ]
  },
  {
   "cell_type": "code",
   "execution_count": 25,
   "metadata": {
    "collapsed": false
   },
   "outputs": [
    {
     "data": {
      "text/html": [
       "<table>\n",
       "<thead><tr><th scope=col>date</th><th scope=col>sum</th><th scope=col>count</th><th scope=col>total</th></tr></thead>\n",
       "<tbody>\n",
       "\t<tr><td>2017-06-22</td><td>16405.0637</td><td>2339      </td><td>16405.06  </td></tr>\n",
       "\t<tr><td>2017-06-23</td><td> 3307.0482</td><td> 785      </td><td>19712.11  </td></tr>\n",
       "\t<tr><td>2017-06-24</td><td> 1090.1163</td><td> 297      </td><td>20802.23  </td></tr>\n",
       "\t<tr><td>2017-06-25</td><td> 1443.4902</td><td> 308      </td><td>22245.72  </td></tr>\n",
       "\t<tr><td>2017-06-26</td><td>  755.1073</td><td> 226      </td><td>23000.83  </td></tr>\n",
       "\t<tr><td>2017-06-27</td><td>  534.7403</td><td> 165      </td><td>23535.57  </td></tr>\n",
       "\t<tr><td>2017-06-28</td><td>  217.9107</td><td>  98      </td><td>23753.48  </td></tr>\n",
       "\t<tr><td>2017-06-29</td><td>  230.3146</td><td> 108      </td><td>23983.79  </td></tr>\n",
       "\t<tr><td>2017-06-30</td><td>  233.9607</td><td> 148      </td><td>24217.75  </td></tr>\n",
       "\t<tr><td>2017-07-01</td><td>  241.4004</td><td>  75      </td><td>24459.15  </td></tr>\n",
       "\t<tr><td>2017-07-02</td><td>  284.0060</td><td>  85      </td><td>24743.16  </td></tr>\n",
       "\t<tr><td>2017-07-03</td><td> 1223.4475</td><td> 272      </td><td>25966.61  </td></tr>\n",
       "\t<tr><td>2017-07-04</td><td> 1480.8331</td><td> 186      </td><td>27447.44  </td></tr>\n",
       "\t<tr><td>2017-07-05</td><td>    0.0660</td><td>   2      </td><td>27447.50  </td></tr>\n",
       "</tbody>\n",
       "</table>\n"
      ],
      "text/latex": [
       "\\begin{tabular}{r|llll}\n",
       " date & sum & count & total\\\\\n",
       "\\hline\n",
       "\t 2017-06-22 & 16405.0637 & 2339       & 16405.06  \\\\\n",
       "\t 2017-06-23 &  3307.0482 &  785       & 19712.11  \\\\\n",
       "\t 2017-06-24 &  1090.1163 &  297       & 20802.23  \\\\\n",
       "\t 2017-06-25 &  1443.4902 &  308       & 22245.72  \\\\\n",
       "\t 2017-06-26 &   755.1073 &  226       & 23000.83  \\\\\n",
       "\t 2017-06-27 &   534.7403 &  165       & 23535.57  \\\\\n",
       "\t 2017-06-28 &   217.9107 &   98       & 23753.48  \\\\\n",
       "\t 2017-06-29 &   230.3146 &  108       & 23983.79  \\\\\n",
       "\t 2017-06-30 &   233.9607 &  148       & 24217.75  \\\\\n",
       "\t 2017-07-01 &   241.4004 &   75       & 24459.15  \\\\\n",
       "\t 2017-07-02 &   284.0060 &   85       & 24743.16  \\\\\n",
       "\t 2017-07-03 &  1223.4475 &  272       & 25966.61  \\\\\n",
       "\t 2017-07-04 &  1480.8331 &  186       & 27447.44  \\\\\n",
       "\t 2017-07-05 &     0.0660 &    2       & 27447.50  \\\\\n",
       "\\end{tabular}\n"
      ],
      "text/markdown": [
       "\n",
       "date | sum | count | total | \n",
       "|---|---|---|---|---|---|---|---|---|---|---|---|---|---|\n",
       "| 2017-06-22 | 16405.0637 | 2339       | 16405.06   | \n",
       "| 2017-06-23 |  3307.0482 |  785       | 19712.11   | \n",
       "| 2017-06-24 |  1090.1163 |  297       | 20802.23   | \n",
       "| 2017-06-25 |  1443.4902 |  308       | 22245.72   | \n",
       "| 2017-06-26 |   755.1073 |  226       | 23000.83   | \n",
       "| 2017-06-27 |   534.7403 |  165       | 23535.57   | \n",
       "| 2017-06-28 |   217.9107 |   98       | 23753.48   | \n",
       "| 2017-06-29 |   230.3146 |  108       | 23983.79   | \n",
       "| 2017-06-30 |   233.9607 |  148       | 24217.75   | \n",
       "| 2017-07-01 |   241.4004 |   75       | 24459.15   | \n",
       "| 2017-07-02 |   284.0060 |   85       | 24743.16   | \n",
       "| 2017-07-03 |  1223.4475 |  272       | 25966.61   | \n",
       "| 2017-07-04 |  1480.8331 |  186       | 27447.44   | \n",
       "| 2017-07-05 |     0.0660 |    2       | 27447.50   | \n",
       "\n",
       "\n"
      ],
      "text/plain": [
       "   date       sum        count total   \n",
       "1  2017-06-22 16405.0637 2339  16405.06\n",
       "2  2017-06-23  3307.0482  785  19712.11\n",
       "3  2017-06-24  1090.1163  297  20802.23\n",
       "4  2017-06-25  1443.4902  308  22245.72\n",
       "5  2017-06-26   755.1073  226  23000.83\n",
       "6  2017-06-27   534.7403  165  23535.57\n",
       "7  2017-06-28   217.9107   98  23753.48\n",
       "8  2017-06-29   230.3146  108  23983.79\n",
       "9  2017-06-30   233.9607  148  24217.75\n",
       "10 2017-07-01   241.4004   75  24459.15\n",
       "11 2017-07-02   284.0060   85  24743.16\n",
       "12 2017-07-03  1223.4475  272  25966.61\n",
       "13 2017-07-04  1480.8331  186  27447.44\n",
       "14 2017-07-05     0.0660    2  27447.50"
      ]
     },
     "metadata": {},
     "output_type": "display_data"
    }
   ],
   "source": [
    "tmp <- split(data, cut(strptime(data$timeStamp, format=\"%F %R\"),\"day\"))\n",
    "df <- data.frame(Date=as.Date(as.character()), sum=numeric(),count=numeric(), stringsAsFactors=FALSE)\n",
    "for (i in c(1:14)) {\n",
    "    day <- tmp[[i]]\n",
    "    vec <- c(day$timeStamp[[1]], sum(day$value),length(day$value))\n",
    "    df <- rbind(df, vec)\n",
    "    }\n",
    "colnames(df)<- c(\"date\", \"sum\", \"count\")\n",
    "df$date <- as.POSIXct(df$date,origin=\"1970-01-01\",tz=\"GMT\")\n",
    "df$date <- as.Date(df$date)\n",
    "df$total <- cumsum(df$sum)\n",
    "df"
   ]
  },
  {
   "cell_type": "code",
   "execution_count": 26,
   "metadata": {
    "collapsed": false
   },
   "outputs": [
    {
     "data": {},
     "metadata": {},
     "output_type": "display_data"
    },
    {
     "data": {
      "image/png": "[encoded data removed]",
      "text/plain": [
       "plot without title"
      ]
     },
     "metadata": {},
     "output_type": "display_data"
    }
   ],
   "source": [
    "p <- ggplot(df, aes(x = date)) + geom_line(aes(y = sum, colour = \"Št. vloženih ETH tokenov\"),size=1.2) + \n",
    "    geom_line(aes(y = count*5, colour = \"count\"), size=1.2) + \n",
    "    scale_y_continuous(sec.axis = sec_axis(~./5, name = \"Št. transakcij\")) + \n",
    "    scale_colour_manual(values = c(\"blue\", \"red\")) + labs(y = \"Št. vloženih ETH tokenov\", x = \"Datum\") + \n",
    "    theme(legend.position = c(0.8, 0.9)) + ggtitle('ICO dinamika za OAX ')\n",
    "p"
   ]
  },
  {
   "cell_type": "code",
   "execution_count": 56,
   "metadata": {
    "collapsed": false
   },
   "outputs": [
    {
     "data": {
      "text/html": [
       "<table>\n",
       "<thead><tr><th scope=col>bucket</th><th scope=col>st_transakcij</th><th scope=col>delez_v_procentih</th><th scope=col>sum</th><th scope=col>sum_v_procentih</th></tr></thead>\n",
       "<tbody>\n",
       "\t<tr><td>0 - 0.3  </td><td>979      </td><td>19.2     </td><td>114.1    </td><td>0.4      </td></tr>\n",
       "\t<tr><td>0.3 - 0.6</td><td>657      </td><td>12.9     </td><td>287.3    </td><td>1.0      </td></tr>\n",
       "\t<tr><td>0.6 - 0.9</td><td>152      </td><td> 3.0     </td><td>111.0    </td><td>0.4      </td></tr>\n",
       "\t<tr><td>0.9 - 1.2</td><td>939      </td><td>18.4     </td><td>942.6    </td><td>3.4      </td></tr>\n",
       "\t<tr><td>1.2 - 1.5</td><td>102      </td><td> 2.0     </td><td>132.4    </td><td>0.5      </td></tr>\n",
       "\t<tr><td>1.5 - 1.8</td><td>135      </td><td> 2.6     </td><td>211.2    </td><td>0.8      </td></tr>\n",
       "\t<tr><td>1.8 - 2.1</td><td>464      </td><td> 9.1     </td><td>920.9    </td><td>3.4      </td></tr>\n",
       "</tbody>\n",
       "</table>\n"
      ],
      "text/latex": [
       "\\begin{tabular}{r|lllll}\n",
       " bucket & st\\_transakcij & delez\\_v\\_procentih & sum & sum\\_v\\_procentih\\\\\n",
       "\\hline\n",
       "\t 0 - 0.3   & 979       & 19.2      & 114.1     & 0.4      \\\\\n",
       "\t 0.3 - 0.6 & 657       & 12.9      & 287.3     & 1.0      \\\\\n",
       "\t 0.6 - 0.9 & 152       &  3.0      & 111.0     & 0.4      \\\\\n",
       "\t 0.9 - 1.2 & 939       & 18.4      & 942.6     & 3.4      \\\\\n",
       "\t 1.2 - 1.5 & 102       &  2.0      & 132.4     & 0.5      \\\\\n",
       "\t 1.5 - 1.8 & 135       &  2.6      & 211.2     & 0.8      \\\\\n",
       "\t 1.8 - 2.1 & 464       &  9.1      & 920.9     & 3.4      \\\\\n",
       "\\end{tabular}\n"
      ],
      "text/markdown": [
       "\n",
       "bucket | st_transakcij | delez_v_procentih | sum | sum_v_procentih | \n",
       "|---|---|---|---|---|---|---|\n",
       "| 0 - 0.3   | 979       | 19.2      | 114.1     | 0.4       | \n",
       "| 0.3 - 0.6 | 657       | 12.9      | 287.3     | 1.0       | \n",
       "| 0.6 - 0.9 | 152       |  3.0      | 111.0     | 0.4       | \n",
       "| 0.9 - 1.2 | 939       | 18.4      | 942.6     | 3.4       | \n",
       "| 1.2 - 1.5 | 102       |  2.0      | 132.4     | 0.5       | \n",
       "| 1.5 - 1.8 | 135       |  2.6      | 211.2     | 0.8       | \n",
       "| 1.8 - 2.1 | 464       |  9.1      | 920.9     | 3.4       | \n",
       "\n",
       "\n"
      ],
      "text/plain": [
       "  bucket    st_transakcij delez_v_procentih sum   sum_v_procentih\n",
       "1 0 - 0.3   979           19.2              114.1 0.4            \n",
       "2 0.3 - 0.6 657           12.9              287.3 1.0            \n",
       "3 0.6 - 0.9 152            3.0              111.0 0.4            \n",
       "4 0.9 - 1.2 939           18.4              942.6 3.4            \n",
       "5 1.2 - 1.5 102            2.0              132.4 0.5            \n",
       "6 1.5 - 1.8 135            2.6              211.2 0.8            \n",
       "7 1.8 - 2.1 464            9.1              920.9 3.4            "
      ]
     },
     "metadata": {},
     "output_type": "display_data"
    }
   ],
   "source": [
    "data['class'] <- data['value'] %/% 0.3\n",
    "data['class'] <- data['class'] / (10/3)\n",
    "vecina <- data[data$value <= 2, ]\n",
    "other <- nrow(data[data$value > 2, ])\n",
    "vecina$class <- as.character(vecina$class)\n",
    "velikost <- vecina %>% select(value, class) %>% group_by(class) %>% summarise(st_transakcij = length(value), \n",
    "                                                                              sum = round(sum(value),1))\n",
    "velikost$class <- as.numeric(velikost$class)\n",
    "velikost$bucket <- rep(0, nrow(velikost))\n",
    "for (i in c(1:nrow(velikost))) {\n",
    "    tmp <- paste(velikost$class[[i]],'-',velikost$class[[i]]+0.3,sep=' ')\n",
    "    velikost$bucket[[i]] <- tmp\n",
    "}\n",
    "velikost$delez_v_procentih <-round((velikost$st_transakcij / 5097)*100,1)\n",
    "velikost$sum_v_procentih <-round((velikost$sum / 27447)*100,1)\n",
    "#tele spodnje tri vrstice zakomentiraj, če želiš 'pognati' graf\n",
    "velikost$class <- NULL\n",
    "velikost <- velikost[,c('bucket', 'st_transakcij', 'delez_v_procentih', 'sum', 'sum_v_procentih')]\n",
    "velikost\n",
    "\n",
    "#spodnji dve vrstici dodajam samo za potrebe pie charta\n",
    "\n",
    "#prva<-data.frame(\"2.1-10\",0,21.9)\n",
    "#names(prva)<-c('bucket', 'st_transakcij', 'delez_v_procentih')\n",
    "#druga<-data.frame(\"10-1000\",0,10.9)\n",
    "#names(druga)<-c('bucket', 'st_transakcij', 'delez_v_procentih')\n",
    "\n",
    "#velikost <- rbind(velikost, prva)\n",
    "#velikost <- rbind(velikost, druga)\n",
    "#velikost"
   ]
  },
  {
   "cell_type": "code",
   "execution_count": 57,
   "metadata": {
    "collapsed": false
   },
   "outputs": [
    {
     "data": {
      "text/html": [
       "9.9"
      ],
      "text/latex": [
       "9.9"
      ],
      "text/markdown": [
       "9.9"
      ],
      "text/plain": [
       "[1] 9.9"
      ]
     },
     "metadata": {},
     "output_type": "display_data"
    }
   ],
   "source": [
    "sum(velikost$sum_v_procentih)"
   ]
  },
  {
   "cell_type": "code",
   "execution_count": 40,
   "metadata": {
    "collapsed": false
   },
   "outputs": [],
   "source": [
    "bp<- ggplot(velikost, aes(x=\"\", y=delez_v_procentih, fill=bucket))+ geom_bar(width = 1, stat = \"identity\")\n"
   ]
  },
  {
   "cell_type": "code",
   "execution_count": 45,
   "metadata": {
    "collapsed": false
   },
   "outputs": [
    {
     "data": {},
     "metadata": {},
     "output_type": "display_data"
    },
    {
     "data": {
      "image/png": "[encoded data removed]",
      "text/plain": [
       "plot without title"
      ]
     },
     "metadata": {},
     "output_type": "display_data"
    }
   ],
   "source": [
    "pie <- bp + coord_polar(\"y\", start=0) \n",
    "pie"
   ]
  },
  {
   "cell_type": "code",
   "execution_count": 16,
   "metadata": {
    "collapsed": false
   },
   "outputs": [
    {
     "data": {
      "text/html": [
       "1669"
      ],
      "text/latex": [
       "1669"
      ],
      "text/markdown": [
       "1669"
      ],
      "text/plain": [
       "[1] 1669"
      ]
     },
     "metadata": {},
     "output_type": "display_data"
    }
   ],
   "source": [
    "other"
   ]
  },
  {
   "cell_type": "code",
   "execution_count": 68,
   "metadata": {
    "collapsed": false
   },
   "outputs": [
    {
     "data": {
      "text/html": [
       "<table>\n",
       "<thead><tr><th scope=col>bucket</th><th scope=col>st_transakcij</th><th scope=col>delez_v_procentih</th><th scope=col>sum</th><th scope=col>sum_v_procentih</th></tr></thead>\n",
       "<tbody>\n",
       "\t<tr><td>2.1 - 10   </td><td>1117       </td><td>21.9       </td><td>4979.6     </td><td>18.1       </td></tr>\n",
       "\t<tr><td>10 - 20    </td><td> 292       </td><td> 5.7       </td><td>3584.7     </td><td>13.1       </td></tr>\n",
       "\t<tr><td>20 - 30    </td><td> 106       </td><td> 2.1       </td><td>2332.6     </td><td> 8.5       </td></tr>\n",
       "\t<tr><td>30 - 40    </td><td>  47       </td><td> 0.9       </td><td>1490.6     </td><td> 5.4       </td></tr>\n",
       "\t<tr><td>40 - 50    </td><td>  29       </td><td> 0.6       </td><td>1243.1     </td><td> 4.5       </td></tr>\n",
       "\t<tr><td>50 - 60    </td><td>  23       </td><td> 0.5       </td><td>1184.6     </td><td> 4.3       </td></tr>\n",
       "\t<tr><td>60 - 70    </td><td>   9       </td><td> 0.2       </td><td> 568.0     </td><td> 2.1       </td></tr>\n",
       "\t<tr><td>70 - 80    </td><td>   4       </td><td> 0.1       </td><td> 293.0     </td><td> 1.1       </td></tr>\n",
       "\t<tr><td>80 - 90    </td><td>   3       </td><td> 0.1       </td><td> 240.0     </td><td> 0.9       </td></tr>\n",
       "\t<tr><td>90 - 100   </td><td>   2       </td><td> 0.0       </td><td> 189.0     </td><td> 0.7       </td></tr>\n",
       "\t<tr><td>100 - 110  </td><td>  16       </td><td> 0.3       </td><td>1604.4     </td><td> 5.8       </td></tr>\n",
       "\t<tr><td>120 - 130  </td><td>   1       </td><td> 0.0       </td><td> 120.0     </td><td> 0.4       </td></tr>\n",
       "\t<tr><td>130 - 140  </td><td>   2       </td><td> 0.0       </td><td> 269.0     </td><td> 1.0       </td></tr>\n",
       "\t<tr><td>140 - 150  </td><td>   2       </td><td> 0.0       </td><td> 288.2     </td><td> 1.1       </td></tr>\n",
       "\t<tr><td>150 - 160  </td><td>   1       </td><td> 0.0       </td><td> 156.6     </td><td> 0.6       </td></tr>\n",
       "\t<tr><td>170 - 180  </td><td>   1       </td><td> 0.0       </td><td> 176.4     </td><td> 0.6       </td></tr>\n",
       "\t<tr><td>200 - 210  </td><td>   3       </td><td> 0.1       </td><td> 603.9     </td><td> 2.2       </td></tr>\n",
       "\t<tr><td>230 - 240  </td><td>   1       </td><td> 0.0       </td><td> 232.8     </td><td> 0.8       </td></tr>\n",
       "\t<tr><td>300 - 310  </td><td>   1       </td><td> 0.0       </td><td> 300.0     </td><td> 1.1       </td></tr>\n",
       "\t<tr><td>360 - 370  </td><td>   1       </td><td> 0.0       </td><td> 360.0     </td><td> 1.3       </td></tr>\n",
       "\t<tr><td>400 - 410  </td><td>   2       </td><td> 0.0       </td><td> 800.0     </td><td> 2.9       </td></tr>\n",
       "\t<tr><td>420 - 430  </td><td>   1       </td><td> 0.0       </td><td> 423.0     </td><td> 1.5       </td></tr>\n",
       "\t<tr><td>490 - 500  </td><td>   2       </td><td> 0.0       </td><td> 989.0     </td><td> 3.6       </td></tr>\n",
       "\t<tr><td>600 - 610  </td><td>   1       </td><td> 0.0       </td><td> 600.0     </td><td> 2.2       </td></tr>\n",
       "\t<tr><td>700 - 710  </td><td>   1       </td><td> 0.0       </td><td> 700.0     </td><td> 2.6       </td></tr>\n",
       "\t<tr><td>1000 - 1010</td><td>   1       </td><td> 0.0       </td><td>1000.0     </td><td> 3.6       </td></tr>\n",
       "</tbody>\n",
       "</table>\n"
      ],
      "text/latex": [
       "\\begin{tabular}{r|lllll}\n",
       " bucket & st\\_transakcij & delez\\_v\\_procentih & sum & sum\\_v\\_procentih\\\\\n",
       "\\hline\n",
       "\t 2.1 - 10    & 1117        & 21.9        & 4979.6      & 18.1       \\\\\n",
       "\t 10 - 20     &  292        &  5.7        & 3584.7      & 13.1       \\\\\n",
       "\t 20 - 30     &  106        &  2.1        & 2332.6      &  8.5       \\\\\n",
       "\t 30 - 40     &   47        &  0.9        & 1490.6      &  5.4       \\\\\n",
       "\t 40 - 50     &   29        &  0.6        & 1243.1      &  4.5       \\\\\n",
       "\t 50 - 60     &   23        &  0.5        & 1184.6      &  4.3       \\\\\n",
       "\t 60 - 70     &    9        &  0.2        &  568.0      &  2.1       \\\\\n",
       "\t 70 - 80     &    4        &  0.1        &  293.0      &  1.1       \\\\\n",
       "\t 80 - 90     &    3        &  0.1        &  240.0      &  0.9       \\\\\n",
       "\t 90 - 100    &    2        &  0.0        &  189.0      &  0.7       \\\\\n",
       "\t 100 - 110   &   16        &  0.3        & 1604.4      &  5.8       \\\\\n",
       "\t 120 - 130   &    1        &  0.0        &  120.0      &  0.4       \\\\\n",
       "\t 130 - 140   &    2        &  0.0        &  269.0      &  1.0       \\\\\n",
       "\t 140 - 150   &    2        &  0.0        &  288.2      &  1.1       \\\\\n",
       "\t 150 - 160   &    1        &  0.0        &  156.6      &  0.6       \\\\\n",
       "\t 170 - 180   &    1        &  0.0        &  176.4      &  0.6       \\\\\n",
       "\t 200 - 210   &    3        &  0.1        &  603.9      &  2.2       \\\\\n",
       "\t 230 - 240   &    1        &  0.0        &  232.8      &  0.8       \\\\\n",
       "\t 300 - 310   &    1        &  0.0        &  300.0      &  1.1       \\\\\n",
       "\t 360 - 370   &    1        &  0.0        &  360.0      &  1.3       \\\\\n",
       "\t 400 - 410   &    2        &  0.0        &  800.0      &  2.9       \\\\\n",
       "\t 420 - 430   &    1        &  0.0        &  423.0      &  1.5       \\\\\n",
       "\t 490 - 500   &    2        &  0.0        &  989.0      &  3.6       \\\\\n",
       "\t 600 - 610   &    1        &  0.0        &  600.0      &  2.2       \\\\\n",
       "\t 700 - 710   &    1        &  0.0        &  700.0      &  2.6       \\\\\n",
       "\t 1000 - 1010 &    1        &  0.0        & 1000.0      &  3.6       \\\\\n",
       "\\end{tabular}\n"
      ],
      "text/markdown": [
       "\n",
       "bucket | st_transakcij | delez_v_procentih | sum | sum_v_procentih | \n",
       "|---|---|---|---|---|---|---|---|---|---|---|---|---|---|---|---|---|---|---|---|---|---|---|---|---|---|\n",
       "| 2.1 - 10    | 1117        | 21.9        | 4979.6      | 18.1        | \n",
       "| 10 - 20     |  292        |  5.7        | 3584.7      | 13.1        | \n",
       "| 20 - 30     |  106        |  2.1        | 2332.6      |  8.5        | \n",
       "| 30 - 40     |   47        |  0.9        | 1490.6      |  5.4        | \n",
       "| 40 - 50     |   29        |  0.6        | 1243.1      |  4.5        | \n",
       "| 50 - 60     |   23        |  0.5        | 1184.6      |  4.3        | \n",
       "| 60 - 70     |    9        |  0.2        |  568.0      |  2.1        | \n",
       "| 70 - 80     |    4        |  0.1        |  293.0      |  1.1        | \n",
       "| 80 - 90     |    3        |  0.1        |  240.0      |  0.9        | \n",
       "| 90 - 100    |    2        |  0.0        |  189.0      |  0.7        | \n",
       "| 100 - 110   |   16        |  0.3        | 1604.4      |  5.8        | \n",
       "| 120 - 130   |    1        |  0.0        |  120.0      |  0.4        | \n",
       "| 130 - 140   |    2        |  0.0        |  269.0      |  1.0        | \n",
       "| 140 - 150   |    2        |  0.0        |  288.2      |  1.1        | \n",
       "| 150 - 160   |    1        |  0.0        |  156.6      |  0.6        | \n",
       "| 170 - 180   |    1        |  0.0        |  176.4      |  0.6        | \n",
       "| 200 - 210   |    3        |  0.1        |  603.9      |  2.2        | \n",
       "| 230 - 240   |    1        |  0.0        |  232.8      |  0.8        | \n",
       "| 300 - 310   |    1        |  0.0        |  300.0      |  1.1        | \n",
       "| 360 - 370   |    1        |  0.0        |  360.0      |  1.3        | \n",
       "| 400 - 410   |    2        |  0.0        |  800.0      |  2.9        | \n",
       "| 420 - 430   |    1        |  0.0        |  423.0      |  1.5        | \n",
       "| 490 - 500   |    2        |  0.0        |  989.0      |  3.6        | \n",
       "| 600 - 610   |    1        |  0.0        |  600.0      |  2.2        | \n",
       "| 700 - 710   |    1        |  0.0        |  700.0      |  2.6        | \n",
       "| 1000 - 1010 |    1        |  0.0        | 1000.0      |  3.6        | \n",
       "\n",
       "\n"
      ],
      "text/plain": [
       "   bucket      st_transakcij delez_v_procentih sum    sum_v_procentih\n",
       "1  2.1 - 10    1117          21.9              4979.6 18.1           \n",
       "2  10 - 20      292           5.7              3584.7 13.1           \n",
       "3  20 - 30      106           2.1              2332.6  8.5           \n",
       "4  30 - 40       47           0.9              1490.6  5.4           \n",
       "5  40 - 50       29           0.6              1243.1  4.5           \n",
       "6  50 - 60       23           0.5              1184.6  4.3           \n",
       "7  60 - 70        9           0.2               568.0  2.1           \n",
       "8  70 - 80        4           0.1               293.0  1.1           \n",
       "9  80 - 90        3           0.1               240.0  0.9           \n",
       "10 90 - 100       2           0.0               189.0  0.7           \n",
       "11 100 - 110     16           0.3              1604.4  5.8           \n",
       "12 120 - 130      1           0.0               120.0  0.4           \n",
       "13 130 - 140      2           0.0               269.0  1.0           \n",
       "14 140 - 150      2           0.0               288.2  1.1           \n",
       "15 150 - 160      1           0.0               156.6  0.6           \n",
       "16 170 - 180      1           0.0               176.4  0.6           \n",
       "17 200 - 210      3           0.1               603.9  2.2           \n",
       "18 230 - 240      1           0.0               232.8  0.8           \n",
       "19 300 - 310      1           0.0               300.0  1.1           \n",
       "20 360 - 370      1           0.0               360.0  1.3           \n",
       "21 400 - 410      2           0.0               800.0  2.9           \n",
       "22 420 - 430      1           0.0               423.0  1.5           \n",
       "23 490 - 500      2           0.0               989.0  3.6           \n",
       "24 600 - 610      1           0.0               600.0  2.2           \n",
       "25 700 - 710      1           0.0               700.0  2.6           \n",
       "26 1000 - 1010    1           0.0              1000.0  3.6           "
      ]
     },
     "metadata": {},
     "output_type": "display_data"
    }
   ],
   "source": [
    "data['class'] <- data['value'] %/% 10\n",
    "data['class'] <- data['class'] * 10\n",
    "ostali <- data[data$value > 2, ]\n",
    "ostali$class <- as.character(ostali$class)\n",
    "velikost <- ostali %>% select(value, class) %>% group_by(class) %>% summarise(st_transakcij = length(value), \n",
    "                                                                              sum = round(sum(value),1))\n",
    "velikost$class <- as.numeric(velikost$class)\n",
    "velikost$bucket <- rep(0, nrow(velikost))\n",
    "for (i in c(1:nrow(velikost))) {\n",
    "    tmp <- paste(velikost$class[[i]],'-',velikost$class[[i]]+10,sep=' ')\n",
    "    velikost$bucket[[i]] <- tmp\n",
    "}\n",
    "velikost <- velikost[with(velikost, order(class)), ]\n",
    "velikost$bucket[[1]] <- ('2.1 - 10')\n",
    "velikost$delez_v_procentih <-round((velikost$st_transakcij / 5097)*100,1)\n",
    "velikost$sum_v_procentih <-round((velikost$sum / 27447)*100,1)\n",
    "velikost$class <- NULL\n",
    "velikost <- velikost[,c('bucket', 'st_transakcij', 'delez_v_procentih', 'sum', 'sum_v_procentih')]\n",
    "velikost"
   ]
  },
  {
   "cell_type": "code",
   "execution_count": 76,
   "metadata": {
    "collapsed": false
   },
   "outputs": [
    {
     "data": {
      "text/html": [
       "<table>\n",
       "<thead><tr><th scope=col>Bucket</th><th scope=col>Nr.txs</th><th scope=col>Nr.txs..</th><th scope=col>Value..ETH.</th><th scope=col>Value..ETH...</th></tr></thead>\n",
       "<tbody>\n",
       "\t<tr><td>0 - 0.3  </td><td> 979     </td><td>19.2     </td><td>  114.1  </td><td> 0.4     </td></tr>\n",
       "\t<tr><td>0.3 - 0.9</td><td> 809     </td><td>15.9     </td><td>  398.3  </td><td> 1.4     </td></tr>\n",
       "\t<tr><td>0.9 - 1.2</td><td> 939     </td><td>18.4     </td><td>  942.6  </td><td> 3.4     </td></tr>\n",
       "\t<tr><td>1.2 - 1.8</td><td> 237     </td><td> 4.6     </td><td>  343.6  </td><td> 1.3     </td></tr>\n",
       "\t<tr><td>1.8 - 2.1</td><td> 464     </td><td> 9.1     </td><td>  920.9  </td><td> 3.4     </td></tr>\n",
       "\t<tr><td>2.1 - 10 </td><td>1117     </td><td>21.9     </td><td> 4979.6  </td><td>18.1     </td></tr>\n",
       "\t<tr><td>10-100   </td><td> 515     </td><td>10.2     </td><td>11125.6  </td><td>40.6     </td></tr>\n",
       "\t<tr><td>100-1000 </td><td>  37     </td><td> 0.4     </td><td> 8623.3  </td><td>31.3     </td></tr>\n",
       "</tbody>\n",
       "</table>\n"
      ],
      "text/latex": [
       "\\begin{tabular}{r|lllll}\n",
       " Bucket & Nr.txs & Nr.txs.. & Value..ETH. & Value..ETH...\\\\\n",
       "\\hline\n",
       "\t 0 - 0.3   &  979      & 19.2      &   114.1   &  0.4     \\\\\n",
       "\t 0.3 - 0.9 &  809      & 15.9      &   398.3   &  1.4     \\\\\n",
       "\t 0.9 - 1.2 &  939      & 18.4      &   942.6   &  3.4     \\\\\n",
       "\t 1.2 - 1.8 &  237      &  4.6      &   343.6   &  1.3     \\\\\n",
       "\t 1.8 - 2.1 &  464      &  9.1      &   920.9   &  3.4     \\\\\n",
       "\t 2.1 - 10  & 1117      & 21.9      &  4979.6   & 18.1     \\\\\n",
       "\t 10-100    &  515      & 10.2      & 11125.6   & 40.6     \\\\\n",
       "\t 100-1000  &   37      &  0.4      &  8623.3   & 31.3     \\\\\n",
       "\\end{tabular}\n"
      ],
      "text/markdown": [
       "\n",
       "Bucket | Nr.txs | Nr.txs.. | Value..ETH. | Value..ETH... | \n",
       "|---|---|---|---|---|---|---|---|\n",
       "| 0 - 0.3   |  979      | 19.2      |   114.1   |  0.4      | \n",
       "| 0.3 - 0.9 |  809      | 15.9      |   398.3   |  1.4      | \n",
       "| 0.9 - 1.2 |  939      | 18.4      |   942.6   |  3.4      | \n",
       "| 1.2 - 1.8 |  237      |  4.6      |   343.6   |  1.3      | \n",
       "| 1.8 - 2.1 |  464      |  9.1      |   920.9   |  3.4      | \n",
       "| 2.1 - 10  | 1117      | 21.9      |  4979.6   | 18.1      | \n",
       "| 10-100    |  515      | 10.2      | 11125.6   | 40.6      | \n",
       "| 100-1000  |   37      |  0.4      |  8623.3   | 31.3      | \n",
       "\n",
       "\n"
      ],
      "text/plain": [
       "  Bucket    Nr.txs Nr.txs.. Value..ETH. Value..ETH...\n",
       "1 0 - 0.3    979   19.2       114.1      0.4         \n",
       "2 0.3 - 0.9  809   15.9       398.3      1.4         \n",
       "3 0.9 - 1.2  939   18.4       942.6      3.4         \n",
       "4 1.2 - 1.8  237    4.6       343.6      1.3         \n",
       "5 1.8 - 2.1  464    9.1       920.9      3.4         \n",
       "6 2.1 - 10  1117   21.9      4979.6     18.1         \n",
       "7 10-100     515   10.2     11125.6     40.6         \n",
       "8 100-1000    37    0.4      8623.3     31.3         "
      ]
     },
     "metadata": {},
     "output_type": "display_data"
    }
   ],
   "source": [
    "kaj <- read.csv('size.csv', sep = \";\")\n",
    "kaj"
   ]
  },
  {
   "cell_type": "code",
   "execution_count": 81,
   "metadata": {
    "collapsed": false
   },
   "outputs": [
    {
     "data": {
      "text/html": [
       "99.9"
      ],
      "text/latex": [
       "99.9"
      ],
      "text/markdown": [
       "99.9"
      ],
      "text/plain": [
       "[1] 99.9"
      ]
     },
     "metadata": {},
     "output_type": "display_data"
    }
   ],
   "source": [
    "sum(kaj$Value..ETH...)"
   ]
  },
  {
   "cell_type": "code",
   "execution_count": 74,
   "metadata": {
    "collapsed": false
   },
   "outputs": [
    {
     "data": {
      "text/html": [
       "515"
      ],
      "text/latex": [
       "515"
      ],
      "text/markdown": [
       "515"
      ],
      "text/plain": [
       "[1] 515"
      ]
     },
     "metadata": {},
     "output_type": "display_data"
    }
   ],
   "source": [
    "#tmp <- head(velikost, n = 10)\n",
    "#tmp <- tail(tmp, n = 9)\n",
    "sum(tmp$st_transakcij)\n",
    "#tmp"
   ]
  },
  {
   "cell_type": "code",
   "execution_count": 22,
   "metadata": {
    "collapsed": false
   },
   "outputs": [],
   "source": [
    "whales <- data[with(data, order(-value)), ]\n",
    "whales <- whales[, c('timeStamp', 'from', 'value')]\n",
    "tmp <- head(whales, n=40)"
   ]
  },
  {
   "cell_type": "code",
   "execution_count": 24,
   "metadata": {
    "collapsed": false
   },
   "outputs": [
    {
     "data": {
      "text/html": [
       "<table>\n",
       "<thead><tr><th scope=col>timeStamp</th><th scope=col>from</th><th scope=col>value</th></tr></thead>\n",
       "<tbody>\n",
       "\t<tr><td>2017-06-22 13:02:01                       </td><td>0x49a408f1ee8951c509db64be3cd47a0faf81d2a6</td><td>1000.0000                                 </td></tr>\n",
       "\t<tr><td>2017-06-22 13:02:41                       </td><td>0x0342d1a7e22baa5410ee8c72873e7a67c7b20c77</td><td> 700.0000                                 </td></tr>\n",
       "\t<tr><td>2017-06-22 20:44:59                       </td><td>0x75c8e2dd57927eb0373e8e201ebf582406adcf45</td><td> 600.0000                                 </td></tr>\n",
       "\t<tr><td>2017-06-23 06:00:46                       </td><td>0x09b8b644fbfc6ee8e5dd0f450a030e5f381a5cfa</td><td> 498.9889                                 </td></tr>\n",
       "\t<tr><td>2017-06-22 13:57:20                       </td><td>0xb7f1498898d70685851b5331f64bf26215f00415</td><td> 490.0000                                 </td></tr>\n",
       "\t<tr><td>2017-06-22 13:06:01                       </td><td>0x88e4c34f2d290d32761bcd68e874e018d3355d4a</td><td> 423.0000                                 </td></tr>\n",
       "\t<tr><td>2017-06-22 13:00:50                       </td><td>0x7b5e7fa8e19db6f3488d064c5f0ae519f439a643</td><td> 400.0000                                 </td></tr>\n",
       "\t<tr><td>2017-06-22 13:14:27                       </td><td>0x7b5e7fa8e19db6f3488d064c5f0ae519f439a643</td><td> 400.0000                                 </td></tr>\n",
       "\t<tr><td>2017-07-03 02:37:56                       </td><td>0xa93e901c15586a2477cc50df0fe6f9f5091301a3</td><td> 360.0000                                 </td></tr>\n",
       "\t<tr><td>2017-06-23 16:29:37                       </td><td>0x3eebfc3a6a03b4114013be679cfe36099dfad29b</td><td> 300.0000                                 </td></tr>\n",
       "\t<tr><td>2017-07-04 02:07:18                       </td><td>0x89c72bbe9bc5b5b0d6df4e1346c01db3e257cf51</td><td> 232.8000                                 </td></tr>\n",
       "\t<tr><td>2017-06-22 13:03:28                       </td><td>0x3bcd2d9c796c0d5d0e26918d78b81366fd284861</td><td> 203.8811                                 </td></tr>\n",
       "\t<tr><td>2017-06-25 10:17:41                       </td><td>0xf16f41c6ef6fe38372bc6cb4844a9e1c25938358</td><td> 200.0000                                 </td></tr>\n",
       "\t<tr><td>2017-07-04 04:31:19                       </td><td>0x41e066a3dfd1e7f6256d469e2cce042655ae641a</td><td> 200.0000                                 </td></tr>\n",
       "\t<tr><td>2017-07-04 03:17:47                       </td><td>0x938936fdad786cc8575644cede5b863e28589616</td><td> 176.4156                                 </td></tr>\n",
       "\t<tr><td>2017-06-22 20:55:29                       </td><td>0x98bdf0a47d4faa76dbc76f855d1abc4bff6f36cd</td><td> 156.6000                                 </td></tr>\n",
       "\t<tr><td>2017-06-22 13:01:50                       </td><td>0xad5220c1afc74f861739b31b3d63532ad1d3ea85</td><td> 146.2400                                 </td></tr>\n",
       "\t<tr><td>2017-06-23 06:06:39                       </td><td>0xd1fa069653b2800c5f0ac4829fa7ae14d4b87198</td><td> 142.0000                                 </td></tr>\n",
       "\t<tr><td>2017-06-23 23:53:30                       </td><td>0xb0efa3d4e663c5489366e2291a0b1c936c36a175</td><td> 139.0000                                 </td></tr>\n",
       "\t<tr><td>2017-06-22 18:43:32                       </td><td>0x46c18eee191d5c5153da38b25d1c47d35a9e690f</td><td> 130.0000                                 </td></tr>\n",
       "\t<tr><td>2017-06-24 02:34:26                       </td><td>0x366f7effc26222dfe9fd3e4a9ae35e1fc6e7678c</td><td> 120.0000                                 </td></tr>\n",
       "\t<tr><td>2017-06-22 15:34:53                       </td><td>0x3bcd2d9c796c0d5d0e26918d78b81366fd284861</td><td> 103.7654                                 </td></tr>\n",
       "\t<tr><td>2017-06-25 16:26:58                       </td><td>0xefae748a2e09966e2d09b7400b0dfa18e6b3d0ec</td><td> 100.6286                                 </td></tr>\n",
       "\t<tr><td>2017-06-22 13:03:28                       </td><td>0x0a3f25c0dcc58dc53e9ce36214f54feb6503a879</td><td> 100.0000                                 </td></tr>\n",
       "\t<tr><td>2017-06-22 13:04:40                       </td><td>0xdff0989a7aa5e5ce9beb83830b2b3e44d399a2e3</td><td> 100.0000                                 </td></tr>\n",
       "\t<tr><td>2017-06-22 13:04:49                       </td><td>0x729ea64b1393ed633c069af04b45e1212905b4a9</td><td> 100.0000                                 </td></tr>\n",
       "\t<tr><td>2017-06-22 13:14:09                       </td><td>0xef58321032cf693fa7e39f31e45cbc32f2092cb3</td><td> 100.0000                                 </td></tr>\n",
       "\t<tr><td>2017-06-22 13:14:59                       </td><td>0x0087524dc4531f9ea7f85c5ad8c7722361b4eee8</td><td> 100.0000                                 </td></tr>\n",
       "\t<tr><td>2017-06-22 13:16:53                       </td><td>0x86952daa5b0ed25aa53c2ac05dd7b498599b09f2</td><td> 100.0000                                 </td></tr>\n",
       "\t<tr><td>2017-06-22 15:22:40                       </td><td>0x223270e56c3e5cbd381906046e5061131c832daf</td><td> 100.0000                                 </td></tr>\n",
       "\t<tr><td>2017-06-22 15:31:14                       </td><td>0x3bcd2d9c796c0d5d0e26918d78b81366fd284861</td><td> 100.0000                                 </td></tr>\n",
       "\t<tr><td>2017-06-22 15:33:05                       </td><td>0x3bcd2d9c796c0d5d0e26918d78b81366fd284861</td><td> 100.0000                                 </td></tr>\n",
       "\t<tr><td>2017-06-22 15:33:54                       </td><td>0x3bcd2d9c796c0d5d0e26918d78b81366fd284861</td><td> 100.0000                                 </td></tr>\n",
       "\t<tr><td>2017-06-22 18:01:37                       </td><td>0x751205a1fa7e15270505c11efff575e6b74627a2</td><td> 100.0000                                 </td></tr>\n",
       "\t<tr><td>2017-06-22 18:58:30                       </td><td>0x6b6044128855a568687263b78693629a4c900559</td><td> 100.0000                                 </td></tr>\n",
       "\t<tr><td>2017-06-22 21:58:25                       </td><td>0x008bc906e4f9615b55387118be9974b9b391e052</td><td> 100.0000                                 </td></tr>\n",
       "\t<tr><td>2017-07-04 02:31:13                       </td><td>0x8088e7c68dffc0dbaa5021d4387e5cc29e597fda</td><td> 100.0000                                 </td></tr>\n",
       "</tbody>\n",
       "</table>\n"
      ],
      "text/latex": [
       "\\begin{tabular}{r|lll}\n",
       " timeStamp & from & value\\\\\n",
       "\\hline\n",
       "\t 2017-06-22 13:02:01                        & 0x49a408f1ee8951c509db64be3cd47a0faf81d2a6 & 1000.0000                                 \\\\\n",
       "\t 2017-06-22 13:02:41                        & 0x0342d1a7e22baa5410ee8c72873e7a67c7b20c77 &  700.0000                                 \\\\\n",
       "\t 2017-06-22 20:44:59                        & 0x75c8e2dd57927eb0373e8e201ebf582406adcf45 &  600.0000                                 \\\\\n",
       "\t 2017-06-23 06:00:46                        & 0x09b8b644fbfc6ee8e5dd0f450a030e5f381a5cfa &  498.9889                                 \\\\\n",
       "\t 2017-06-22 13:57:20                        & 0xb7f1498898d70685851b5331f64bf26215f00415 &  490.0000                                 \\\\\n",
       "\t 2017-06-22 13:06:01                        & 0x88e4c34f2d290d32761bcd68e874e018d3355d4a &  423.0000                                 \\\\\n",
       "\t 2017-06-22 13:00:50                        & 0x7b5e7fa8e19db6f3488d064c5f0ae519f439a643 &  400.0000                                 \\\\\n",
       "\t 2017-06-22 13:14:27                        & 0x7b5e7fa8e19db6f3488d064c5f0ae519f439a643 &  400.0000                                 \\\\\n",
       "\t 2017-07-03 02:37:56                        & 0xa93e901c15586a2477cc50df0fe6f9f5091301a3 &  360.0000                                 \\\\\n",
       "\t 2017-06-23 16:29:37                        & 0x3eebfc3a6a03b4114013be679cfe36099dfad29b &  300.0000                                 \\\\\n",
       "\t 2017-07-04 02:07:18                        & 0x89c72bbe9bc5b5b0d6df4e1346c01db3e257cf51 &  232.8000                                 \\\\\n",
       "\t 2017-06-22 13:03:28                        & 0x3bcd2d9c796c0d5d0e26918d78b81366fd284861 &  203.8811                                 \\\\\n",
       "\t 2017-06-25 10:17:41                        & 0xf16f41c6ef6fe38372bc6cb4844a9e1c25938358 &  200.0000                                 \\\\\n",
       "\t 2017-07-04 04:31:19                        & 0x41e066a3dfd1e7f6256d469e2cce042655ae641a &  200.0000                                 \\\\\n",
       "\t 2017-07-04 03:17:47                        & 0x938936fdad786cc8575644cede5b863e28589616 &  176.4156                                 \\\\\n",
       "\t 2017-06-22 20:55:29                        & 0x98bdf0a47d4faa76dbc76f855d1abc4bff6f36cd &  156.6000                                 \\\\\n",
       "\t 2017-06-22 13:01:50                        & 0xad5220c1afc74f861739b31b3d63532ad1d3ea85 &  146.2400                                 \\\\\n",
       "\t 2017-06-23 06:06:39                        & 0xd1fa069653b2800c5f0ac4829fa7ae14d4b87198 &  142.0000                                 \\\\\n",
       "\t 2017-06-23 23:53:30                        & 0xb0efa3d4e663c5489366e2291a0b1c936c36a175 &  139.0000                                 \\\\\n",
       "\t 2017-06-22 18:43:32                        & 0x46c18eee191d5c5153da38b25d1c47d35a9e690f &  130.0000                                 \\\\\n",
       "\t 2017-06-24 02:34:26                        & 0x366f7effc26222dfe9fd3e4a9ae35e1fc6e7678c &  120.0000                                 \\\\\n",
       "\t 2017-06-22 15:34:53                        & 0x3bcd2d9c796c0d5d0e26918d78b81366fd284861 &  103.7654                                 \\\\\n",
       "\t 2017-06-25 16:26:58                        & 0xefae748a2e09966e2d09b7400b0dfa18e6b3d0ec &  100.6286                                 \\\\\n",
       "\t 2017-06-22 13:03:28                        & 0x0a3f25c0dcc58dc53e9ce36214f54feb6503a879 &  100.0000                                 \\\\\n",
       "\t 2017-06-22 13:04:40                        & 0xdff0989a7aa5e5ce9beb83830b2b3e44d399a2e3 &  100.0000                                 \\\\\n",
       "\t 2017-06-22 13:04:49                        & 0x729ea64b1393ed633c069af04b45e1212905b4a9 &  100.0000                                 \\\\\n",
       "\t 2017-06-22 13:14:09                        & 0xef58321032cf693fa7e39f31e45cbc32f2092cb3 &  100.0000                                 \\\\\n",
       "\t 2017-06-22 13:14:59                        & 0x0087524dc4531f9ea7f85c5ad8c7722361b4eee8 &  100.0000                                 \\\\\n",
       "\t 2017-06-22 13:16:53                        & 0x86952daa5b0ed25aa53c2ac05dd7b498599b09f2 &  100.0000                                 \\\\\n",
       "\t 2017-06-22 15:22:40                        & 0x223270e56c3e5cbd381906046e5061131c832daf &  100.0000                                 \\\\\n",
       "\t 2017-06-22 15:31:14                        & 0x3bcd2d9c796c0d5d0e26918d78b81366fd284861 &  100.0000                                 \\\\\n",
       "\t 2017-06-22 15:33:05                        & 0x3bcd2d9c796c0d5d0e26918d78b81366fd284861 &  100.0000                                 \\\\\n",
       "\t 2017-06-22 15:33:54                        & 0x3bcd2d9c796c0d5d0e26918d78b81366fd284861 &  100.0000                                 \\\\\n",
       "\t 2017-06-22 18:01:37                        & 0x751205a1fa7e15270505c11efff575e6b74627a2 &  100.0000                                 \\\\\n",
       "\t 2017-06-22 18:58:30                        & 0x6b6044128855a568687263b78693629a4c900559 &  100.0000                                 \\\\\n",
       "\t 2017-06-22 21:58:25                        & 0x008bc906e4f9615b55387118be9974b9b391e052 &  100.0000                                 \\\\\n",
       "\t 2017-07-04 02:31:13                        & 0x8088e7c68dffc0dbaa5021d4387e5cc29e597fda &  100.0000                                 \\\\\n",
       "\\end{tabular}\n"
      ],
      "text/markdown": [
       "\n",
       "timeStamp | from | value | \n",
       "|---|---|---|---|---|---|---|---|---|---|---|---|---|---|---|---|---|---|---|---|---|---|---|---|---|---|---|---|---|---|---|---|---|---|---|---|---|\n",
       "| 2017-06-22 13:02:01                        | 0x49a408f1ee8951c509db64be3cd47a0faf81d2a6 | 1000.0000                                  | \n",
       "| 2017-06-22 13:02:41                        | 0x0342d1a7e22baa5410ee8c72873e7a67c7b20c77 |  700.0000                                  | \n",
       "| 2017-06-22 20:44:59                        | 0x75c8e2dd57927eb0373e8e201ebf582406adcf45 |  600.0000                                  | \n",
       "| 2017-06-23 06:00:46                        | 0x09b8b644fbfc6ee8e5dd0f450a030e5f381a5cfa |  498.9889                                  | \n",
       "| 2017-06-22 13:57:20                        | 0xb7f1498898d70685851b5331f64bf26215f00415 |  490.0000                                  | \n",
       "| 2017-06-22 13:06:01                        | 0x88e4c34f2d290d32761bcd68e874e018d3355d4a |  423.0000                                  | \n",
       "| 2017-06-22 13:00:50                        | 0x7b5e7fa8e19db6f3488d064c5f0ae519f439a643 |  400.0000                                  | \n",
       "| 2017-06-22 13:14:27                        | 0x7b5e7fa8e19db6f3488d064c5f0ae519f439a643 |  400.0000                                  | \n",
       "| 2017-07-03 02:37:56                        | 0xa93e901c15586a2477cc50df0fe6f9f5091301a3 |  360.0000                                  | \n",
       "| 2017-06-23 16:29:37                        | 0x3eebfc3a6a03b4114013be679cfe36099dfad29b |  300.0000                                  | \n",
       "| 2017-07-04 02:07:18                        | 0x89c72bbe9bc5b5b0d6df4e1346c01db3e257cf51 |  232.8000                                  | \n",
       "| 2017-06-22 13:03:28                        | 0x3bcd2d9c796c0d5d0e26918d78b81366fd284861 |  203.8811                                  | \n",
       "| 2017-06-25 10:17:41                        | 0xf16f41c6ef6fe38372bc6cb4844a9e1c25938358 |  200.0000                                  | \n",
       "| 2017-07-04 04:31:19                        | 0x41e066a3dfd1e7f6256d469e2cce042655ae641a |  200.0000                                  | \n",
       "| 2017-07-04 03:17:47                        | 0x938936fdad786cc8575644cede5b863e28589616 |  176.4156                                  | \n",
       "| 2017-06-22 20:55:29                        | 0x98bdf0a47d4faa76dbc76f855d1abc4bff6f36cd |  156.6000                                  | \n",
       "| 2017-06-22 13:01:50                        | 0xad5220c1afc74f861739b31b3d63532ad1d3ea85 |  146.2400                                  | \n",
       "| 2017-06-23 06:06:39                        | 0xd1fa069653b2800c5f0ac4829fa7ae14d4b87198 |  142.0000                                  | \n",
       "| 2017-06-23 23:53:30                        | 0xb0efa3d4e663c5489366e2291a0b1c936c36a175 |  139.0000                                  | \n",
       "| 2017-06-22 18:43:32                        | 0x46c18eee191d5c5153da38b25d1c47d35a9e690f |  130.0000                                  | \n",
       "| 2017-06-24 02:34:26                        | 0x366f7effc26222dfe9fd3e4a9ae35e1fc6e7678c |  120.0000                                  | \n",
       "| 2017-06-22 15:34:53                        | 0x3bcd2d9c796c0d5d0e26918d78b81366fd284861 |  103.7654                                  | \n",
       "| 2017-06-25 16:26:58                        | 0xefae748a2e09966e2d09b7400b0dfa18e6b3d0ec |  100.6286                                  | \n",
       "| 2017-06-22 13:03:28                        | 0x0a3f25c0dcc58dc53e9ce36214f54feb6503a879 |  100.0000                                  | \n",
       "| 2017-06-22 13:04:40                        | 0xdff0989a7aa5e5ce9beb83830b2b3e44d399a2e3 |  100.0000                                  | \n",
       "| 2017-06-22 13:04:49                        | 0x729ea64b1393ed633c069af04b45e1212905b4a9 |  100.0000                                  | \n",
       "| 2017-06-22 13:14:09                        | 0xef58321032cf693fa7e39f31e45cbc32f2092cb3 |  100.0000                                  | \n",
       "| 2017-06-22 13:14:59                        | 0x0087524dc4531f9ea7f85c5ad8c7722361b4eee8 |  100.0000                                  | \n",
       "| 2017-06-22 13:16:53                        | 0x86952daa5b0ed25aa53c2ac05dd7b498599b09f2 |  100.0000                                  | \n",
       "| 2017-06-22 15:22:40                        | 0x223270e56c3e5cbd381906046e5061131c832daf |  100.0000                                  | \n",
       "| 2017-06-22 15:31:14                        | 0x3bcd2d9c796c0d5d0e26918d78b81366fd284861 |  100.0000                                  | \n",
       "| 2017-06-22 15:33:05                        | 0x3bcd2d9c796c0d5d0e26918d78b81366fd284861 |  100.0000                                  | \n",
       "| 2017-06-22 15:33:54                        | 0x3bcd2d9c796c0d5d0e26918d78b81366fd284861 |  100.0000                                  | \n",
       "| 2017-06-22 18:01:37                        | 0x751205a1fa7e15270505c11efff575e6b74627a2 |  100.0000                                  | \n",
       "| 2017-06-22 18:58:30                        | 0x6b6044128855a568687263b78693629a4c900559 |  100.0000                                  | \n",
       "| 2017-06-22 21:58:25                        | 0x008bc906e4f9615b55387118be9974b9b391e052 |  100.0000                                  | \n",
       "| 2017-07-04 02:31:13                        | 0x8088e7c68dffc0dbaa5021d4387e5cc29e597fda |  100.0000                                  | \n",
       "\n",
       "\n"
      ],
      "text/plain": [
       "   timeStamp           from                                       value    \n",
       "1  2017-06-22 13:02:01 0x49a408f1ee8951c509db64be3cd47a0faf81d2a6 1000.0000\n",
       "2  2017-06-22 13:02:41 0x0342d1a7e22baa5410ee8c72873e7a67c7b20c77  700.0000\n",
       "3  2017-06-22 20:44:59 0x75c8e2dd57927eb0373e8e201ebf582406adcf45  600.0000\n",
       "4  2017-06-23 06:00:46 0x09b8b644fbfc6ee8e5dd0f450a030e5f381a5cfa  498.9889\n",
       "5  2017-06-22 13:57:20 0xb7f1498898d70685851b5331f64bf26215f00415  490.0000\n",
       "6  2017-06-22 13:06:01 0x88e4c34f2d290d32761bcd68e874e018d3355d4a  423.0000\n",
       "7  2017-06-22 13:00:50 0x7b5e7fa8e19db6f3488d064c5f0ae519f439a643  400.0000\n",
       "8  2017-06-22 13:14:27 0x7b5e7fa8e19db6f3488d064c5f0ae519f439a643  400.0000\n",
       "9  2017-07-03 02:37:56 0xa93e901c15586a2477cc50df0fe6f9f5091301a3  360.0000\n",
       "10 2017-06-23 16:29:37 0x3eebfc3a6a03b4114013be679cfe36099dfad29b  300.0000\n",
       "11 2017-07-04 02:07:18 0x89c72bbe9bc5b5b0d6df4e1346c01db3e257cf51  232.8000\n",
       "12 2017-06-22 13:03:28 0x3bcd2d9c796c0d5d0e26918d78b81366fd284861  203.8811\n",
       "13 2017-06-25 10:17:41 0xf16f41c6ef6fe38372bc6cb4844a9e1c25938358  200.0000\n",
       "14 2017-07-04 04:31:19 0x41e066a3dfd1e7f6256d469e2cce042655ae641a  200.0000\n",
       "15 2017-07-04 03:17:47 0x938936fdad786cc8575644cede5b863e28589616  176.4156\n",
       "16 2017-06-22 20:55:29 0x98bdf0a47d4faa76dbc76f855d1abc4bff6f36cd  156.6000\n",
       "17 2017-06-22 13:01:50 0xad5220c1afc74f861739b31b3d63532ad1d3ea85  146.2400\n",
       "18 2017-06-23 06:06:39 0xd1fa069653b2800c5f0ac4829fa7ae14d4b87198  142.0000\n",
       "19 2017-06-23 23:53:30 0xb0efa3d4e663c5489366e2291a0b1c936c36a175  139.0000\n",
       "20 2017-06-22 18:43:32 0x46c18eee191d5c5153da38b25d1c47d35a9e690f  130.0000\n",
       "21 2017-06-24 02:34:26 0x366f7effc26222dfe9fd3e4a9ae35e1fc6e7678c  120.0000\n",
       "22 2017-06-22 15:34:53 0x3bcd2d9c796c0d5d0e26918d78b81366fd284861  103.7654\n",
       "23 2017-06-25 16:26:58 0xefae748a2e09966e2d09b7400b0dfa18e6b3d0ec  100.6286\n",
       "24 2017-06-22 13:03:28 0x0a3f25c0dcc58dc53e9ce36214f54feb6503a879  100.0000\n",
       "25 2017-06-22 13:04:40 0xdff0989a7aa5e5ce9beb83830b2b3e44d399a2e3  100.0000\n",
       "26 2017-06-22 13:04:49 0x729ea64b1393ed633c069af04b45e1212905b4a9  100.0000\n",
       "27 2017-06-22 13:14:09 0xef58321032cf693fa7e39f31e45cbc32f2092cb3  100.0000\n",
       "28 2017-06-22 13:14:59 0x0087524dc4531f9ea7f85c5ad8c7722361b4eee8  100.0000\n",
       "29 2017-06-22 13:16:53 0x86952daa5b0ed25aa53c2ac05dd7b498599b09f2  100.0000\n",
       "30 2017-06-22 15:22:40 0x223270e56c3e5cbd381906046e5061131c832daf  100.0000\n",
       "31 2017-06-22 15:31:14 0x3bcd2d9c796c0d5d0e26918d78b81366fd284861  100.0000\n",
       "32 2017-06-22 15:33:05 0x3bcd2d9c796c0d5d0e26918d78b81366fd284861  100.0000\n",
       "33 2017-06-22 15:33:54 0x3bcd2d9c796c0d5d0e26918d78b81366fd284861  100.0000\n",
       "34 2017-06-22 18:01:37 0x751205a1fa7e15270505c11efff575e6b74627a2  100.0000\n",
       "35 2017-06-22 18:58:30 0x6b6044128855a568687263b78693629a4c900559  100.0000\n",
       "36 2017-06-22 21:58:25 0x008bc906e4f9615b55387118be9974b9b391e052  100.0000\n",
       "37 2017-07-04 02:31:13 0x8088e7c68dffc0dbaa5021d4387e5cc29e597fda  100.0000"
      ]
     },
     "metadata": {},
     "output_type": "display_data"
    }
   ],
   "source": [
    "tmp <- tmp[tmp$value >= 100, ]\n",
    "tmp"
   ]
  },
  {
   "cell_type": "code",
   "execution_count": 25,
   "metadata": {
    "collapsed": false
   },
   "outputs": [
    {
     "data": {
      "text/html": [
       "32"
      ],
      "text/latex": [
       "32"
      ],
      "text/markdown": [
       "32"
      ],
      "text/plain": [
       "[1] 32"
      ]
     },
     "metadata": {},
     "output_type": "display_data"
    }
   ],
   "source": [
    "length(unique(tmp$from))"
   ]
  },
  {
   "cell_type": "code",
   "execution_count": 26,
   "metadata": {
    "collapsed": false
   },
   "outputs": [
    {
     "data": {
      "text/html": [
       "37"
      ],
      "text/latex": [
       "37"
      ],
      "text/markdown": [
       "37"
      ],
      "text/plain": [
       "[1] 37"
      ]
     },
     "metadata": {},
     "output_type": "display_data"
    }
   ],
   "source": [
    "nrow(tmp)"
   ]
  },
  {
   "cell_type": "code",
   "execution_count": 27,
   "metadata": {
    "collapsed": false
   },
   "outputs": [
    {
     "data": {
      "text/html": [
       "<table>\n",
       "<thead><tr><th scope=col>timeStamp</th><th scope=col>from</th><th scope=col>value</th></tr></thead>\n",
       "<tbody>\n",
       "\t<tr><td>2017-06-22 13:03:28                       </td><td>0x3bcd2d9c796c0d5d0e26918d78b81366fd284861</td><td>203.8811                                  </td></tr>\n",
       "\t<tr><td>2017-06-22 15:34:53                       </td><td>0x3bcd2d9c796c0d5d0e26918d78b81366fd284861</td><td>103.7654                                  </td></tr>\n",
       "\t<tr><td>2017-06-22 15:31:14                       </td><td>0x3bcd2d9c796c0d5d0e26918d78b81366fd284861</td><td>100.0000                                  </td></tr>\n",
       "\t<tr><td>2017-06-22 15:33:05                       </td><td>0x3bcd2d9c796c0d5d0e26918d78b81366fd284861</td><td>100.0000                                  </td></tr>\n",
       "\t<tr><td>2017-06-22 15:33:54                       </td><td>0x3bcd2d9c796c0d5d0e26918d78b81366fd284861</td><td>100.0000                                  </td></tr>\n",
       "</tbody>\n",
       "</table>\n"
      ],
      "text/latex": [
       "\\begin{tabular}{r|lll}\n",
       " timeStamp & from & value\\\\\n",
       "\\hline\n",
       "\t 2017-06-22 13:03:28                        & 0x3bcd2d9c796c0d5d0e26918d78b81366fd284861 & 203.8811                                  \\\\\n",
       "\t 2017-06-22 15:34:53                        & 0x3bcd2d9c796c0d5d0e26918d78b81366fd284861 & 103.7654                                  \\\\\n",
       "\t 2017-06-22 15:31:14                        & 0x3bcd2d9c796c0d5d0e26918d78b81366fd284861 & 100.0000                                  \\\\\n",
       "\t 2017-06-22 15:33:05                        & 0x3bcd2d9c796c0d5d0e26918d78b81366fd284861 & 100.0000                                  \\\\\n",
       "\t 2017-06-22 15:33:54                        & 0x3bcd2d9c796c0d5d0e26918d78b81366fd284861 & 100.0000                                  \\\\\n",
       "\\end{tabular}\n"
      ],
      "text/markdown": [
       "\n",
       "timeStamp | from | value | \n",
       "|---|---|---|---|---|\n",
       "| 2017-06-22 13:03:28                        | 0x3bcd2d9c796c0d5d0e26918d78b81366fd284861 | 203.8811                                   | \n",
       "| 2017-06-22 15:34:53                        | 0x3bcd2d9c796c0d5d0e26918d78b81366fd284861 | 103.7654                                   | \n",
       "| 2017-06-22 15:31:14                        | 0x3bcd2d9c796c0d5d0e26918d78b81366fd284861 | 100.0000                                   | \n",
       "| 2017-06-22 15:33:05                        | 0x3bcd2d9c796c0d5d0e26918d78b81366fd284861 | 100.0000                                   | \n",
       "| 2017-06-22 15:33:54                        | 0x3bcd2d9c796c0d5d0e26918d78b81366fd284861 | 100.0000                                   | \n",
       "\n",
       "\n"
      ],
      "text/plain": [
       "  timeStamp           from                                       value   \n",
       "1 2017-06-22 13:03:28 0x3bcd2d9c796c0d5d0e26918d78b81366fd284861 203.8811\n",
       "2 2017-06-22 15:34:53 0x3bcd2d9c796c0d5d0e26918d78b81366fd284861 103.7654\n",
       "3 2017-06-22 15:31:14 0x3bcd2d9c796c0d5d0e26918d78b81366fd284861 100.0000\n",
       "4 2017-06-22 15:33:05 0x3bcd2d9c796c0d5d0e26918d78b81366fd284861 100.0000\n",
       "5 2017-06-22 15:33:54 0x3bcd2d9c796c0d5d0e26918d78b81366fd284861 100.0000"
      ]
     },
     "metadata": {},
     "output_type": "display_data"
    }
   ],
   "source": [
    "tmp[tmp$from == '0x3bcd2d9c796c0d5d0e26918d78b81366fd284861',]"
   ]
  },
  {
   "cell_type": "code",
   "execution_count": 3,
   "metadata": {
    "collapsed": false
   },
   "outputs": [],
   "source": [
    "whales <- data[, c('timeStamp', 'from', 'value')]\n",
    "df <- data.frame(Characters=character(), Doubles=double(), stringsAsFactors=FALSE)\n",
    "#for (investor in unique(tmp$from)) {\n",
    "#    tmp <- whales[whales$from == investor,]\n",
    "#    vec <- c(investor, sum(tmp$value))\n",
    "#    df <- rbind(df, vec)\n",
    "#}\n",
    "\n",
    "#nrow(df)"
   ]
  },
  {
   "cell_type": "code",
   "execution_count": 5,
   "metadata": {
    "collapsed": false
   },
   "outputs": [
    {
     "data": {
      "text/html": [
       "5097"
      ],
      "text/latex": [
       "5097"
      ],
      "text/markdown": [
       "5097"
      ],
      "text/plain": [
       "[1] 5097"
      ]
     },
     "metadata": {},
     "output_type": "display_data"
    }
   ],
   "source": [
    "nrow(whales)"
   ]
  },
  {
   "cell_type": "code",
   "execution_count": 6,
   "metadata": {
    "collapsed": false
   },
   "outputs": [
    {
     "data": {
      "text/html": [
       "3740"
      ],
      "text/latex": [
       "3740"
      ],
      "text/markdown": [
       "3740"
      ],
      "text/plain": [
       "[1] 3740"
      ]
     },
     "metadata": {},
     "output_type": "display_data"
    }
   ],
   "source": [
    "df <- whales %>% select(from, value) %>% \n",
    "                        group_by(from) %>% summarise(total = sum(value))\n",
    "nrow(df)"
   ]
  },
  {
   "cell_type": "code",
   "execution_count": 7,
   "metadata": {
    "collapsed": false
   },
   "outputs": [
    {
     "data": {
      "text/html": [
       "<table>\n",
       "<thead><tr><th scope=col>from</th><th scope=col>total</th></tr></thead>\n",
       "<tbody>\n",
       "\t<tr><td>0x000103d7eb8c5a5c86939c4affedcbaf4ad3bcb3</td><td>22.0000000                                </td></tr>\n",
       "\t<tr><td>0x00020d45fc6f23a2d25c794fdc5af1a1fba151a4</td><td> 1.5000000                                </td></tr>\n",
       "\t<tr><td>0x0002a00e5986753208924f77683763bb3834f91e</td><td> 0.9981013                                </td></tr>\n",
       "\t<tr><td>0x000b9f4c726ff1785f9d7ec7496f068de58ecdc3</td><td> 0.9800000                                </td></tr>\n",
       "\t<tr><td>0x000cdbd6271d0a2c953a9539905289e95583b7a5</td><td> 2.0000000                                </td></tr>\n",
       "\t<tr><td>0x001016042aac422306b3c974cd5f70e627d82072</td><td>10.0000000                                </td></tr>\n",
       "</tbody>\n",
       "</table>\n"
      ],
      "text/latex": [
       "\\begin{tabular}{r|ll}\n",
       " from & total\\\\\n",
       "\\hline\n",
       "\t 0x000103d7eb8c5a5c86939c4affedcbaf4ad3bcb3 & 22.0000000                                \\\\\n",
       "\t 0x00020d45fc6f23a2d25c794fdc5af1a1fba151a4 &  1.5000000                                \\\\\n",
       "\t 0x0002a00e5986753208924f77683763bb3834f91e &  0.9981013                                \\\\\n",
       "\t 0x000b9f4c726ff1785f9d7ec7496f068de58ecdc3 &  0.9800000                                \\\\\n",
       "\t 0x000cdbd6271d0a2c953a9539905289e95583b7a5 &  2.0000000                                \\\\\n",
       "\t 0x001016042aac422306b3c974cd5f70e627d82072 & 10.0000000                                \\\\\n",
       "\\end{tabular}\n"
      ],
      "text/markdown": [
       "\n",
       "from | total | \n",
       "|---|---|---|---|---|---|\n",
       "| 0x000103d7eb8c5a5c86939c4affedcbaf4ad3bcb3 | 22.0000000                                 | \n",
       "| 0x00020d45fc6f23a2d25c794fdc5af1a1fba151a4 |  1.5000000                                 | \n",
       "| 0x0002a00e5986753208924f77683763bb3834f91e |  0.9981013                                 | \n",
       "| 0x000b9f4c726ff1785f9d7ec7496f068de58ecdc3 |  0.9800000                                 | \n",
       "| 0x000cdbd6271d0a2c953a9539905289e95583b7a5 |  2.0000000                                 | \n",
       "| 0x001016042aac422306b3c974cd5f70e627d82072 | 10.0000000                                 | \n",
       "\n",
       "\n"
      ],
      "text/plain": [
       "  from                                       total     \n",
       "1 0x000103d7eb8c5a5c86939c4affedcbaf4ad3bcb3 22.0000000\n",
       "2 0x00020d45fc6f23a2d25c794fdc5af1a1fba151a4  1.5000000\n",
       "3 0x0002a00e5986753208924f77683763bb3834f91e  0.9981013\n",
       "4 0x000b9f4c726ff1785f9d7ec7496f068de58ecdc3  0.9800000\n",
       "5 0x000cdbd6271d0a2c953a9539905289e95583b7a5  2.0000000\n",
       "6 0x001016042aac422306b3c974cd5f70e627d82072 10.0000000"
      ]
     },
     "metadata": {},
     "output_type": "display_data"
    }
   ],
   "source": [
    "head(df)"
   ]
  },
  {
   "cell_type": "code",
   "execution_count": 13,
   "metadata": {
    "collapsed": false
   },
   "outputs": [
    {
     "data": {
      "text/html": [
       "<table>\n",
       "<thead><tr><th scope=col>from</th><th scope=col>total</th></tr></thead>\n",
       "<tbody>\n",
       "\t<tr><td>0x49a408f1ee8951c509db64be3cd47a0faf81d2a6</td><td>1000.0000                                 </td></tr>\n",
       "\t<tr><td>0x7b5e7fa8e19db6f3488d064c5f0ae519f439a643</td><td> 800.0000                                 </td></tr>\n",
       "\t<tr><td>0x0342d1a7e22baa5410ee8c72873e7a67c7b20c77</td><td> 700.0000                                 </td></tr>\n",
       "\t<tr><td>0x3bcd2d9c796c0d5d0e26918d78b81366fd284861</td><td> 607.6465                                 </td></tr>\n",
       "\t<tr><td>0x75c8e2dd57927eb0373e8e201ebf582406adcf45</td><td> 600.0000                                 </td></tr>\n",
       "\t<tr><td>0x09b8b644fbfc6ee8e5dd0f450a030e5f381a5cfa</td><td> 513.9629                                 </td></tr>\n",
       "\t<tr><td>0xb7f1498898d70685851b5331f64bf26215f00415</td><td> 490.0000                                 </td></tr>\n",
       "\t<tr><td>0x88e4c34f2d290d32761bcd68e874e018d3355d4a</td><td> 423.0000                                 </td></tr>\n",
       "\t<tr><td>0xa93e901c15586a2477cc50df0fe6f9f5091301a3</td><td> 360.0000                                 </td></tr>\n",
       "\t<tr><td>0x3eebfc3a6a03b4114013be679cfe36099dfad29b</td><td> 300.0000                                 </td></tr>\n",
       "\t<tr><td>0x89c72bbe9bc5b5b0d6df4e1346c01db3e257cf51</td><td> 237.8000                                 </td></tr>\n",
       "\t<tr><td>0x41e066a3dfd1e7f6256d469e2cce042655ae641a</td><td> 200.0000                                 </td></tr>\n",
       "\t<tr><td>0xf16f41c6ef6fe38372bc6cb4844a9e1c25938358</td><td> 200.0000                                 </td></tr>\n",
       "\t<tr><td>0xad5220c1afc74f861739b31b3d63532ad1d3ea85</td><td> 185.2400                                 </td></tr>\n",
       "\t<tr><td>0x938936fdad786cc8575644cede5b863e28589616</td><td> 176.4156                                 </td></tr>\n",
       "\t<tr><td>0x98bdf0a47d4faa76dbc76f855d1abc4bff6f36cd</td><td> 156.6000                                 </td></tr>\n",
       "\t<tr><td>0xd1fa069653b2800c5f0ac4829fa7ae14d4b87198</td><td> 152.0000                                 </td></tr>\n",
       "\t<tr><td>0x008bc906e4f9615b55387118be9974b9b391e052</td><td> 150.0000                                 </td></tr>\n",
       "\t<tr><td>0x751205a1fa7e15270505c11efff575e6b74627a2</td><td> 150.0000                                 </td></tr>\n",
       "\t<tr><td>0x4d811394afbd306204633fceb6364f4a0a05cd87</td><td> 142.0000                                 </td></tr>\n",
       "\t<tr><td>0xb0efa3d4e663c5489366e2291a0b1c936c36a175</td><td> 139.0000                                 </td></tr>\n",
       "\t<tr><td>0x46c18eee191d5c5153da38b25d1c47d35a9e690f</td><td> 130.0000                                 </td></tr>\n",
       "\t<tr><td>0xccc4df2200caf0b59bef68a008953b0a991d4b79</td><td> 130.0000                                 </td></tr>\n",
       "\t<tr><td>0xefae748a2e09966e2d09b7400b0dfa18e6b3d0ec</td><td> 126.2972                                 </td></tr>\n",
       "\t<tr><td>0x366f7effc26222dfe9fd3e4a9ae35e1fc6e7678c</td><td> 120.0000                                 </td></tr>\n",
       "\t<tr><td>0x431c75744e4514885712f80e92de945cc047d892</td><td> 112.5000                                 </td></tr>\n",
       "\t<tr><td>0x1894a5bc142ef208b6bc5023b5403e26007a3f5f</td><td> 110.0000                                 </td></tr>\n",
       "\t<tr><td>0x24318b0bcdd034215c0e312eedb5e9d6b4700504</td><td> 109.0000                                 </td></tr>\n",
       "\t<tr><td>0xeeb4ec99135cb3f3b448ef8bcff20208e943566f</td><td> 105.0060                                 </td></tr>\n",
       "\t<tr><td>0x0087524dc4531f9ea7f85c5ad8c7722361b4eee8</td><td> 100.0000                                 </td></tr>\n",
       "\t<tr><td>0x0a3f25c0dcc58dc53e9ce36214f54feb6503a879</td><td> 100.0000                                 </td></tr>\n",
       "\t<tr><td>0x223270e56c3e5cbd381906046e5061131c832daf</td><td> 100.0000                                 </td></tr>\n",
       "\t<tr><td>0x24409cdbfbffef1c5dd02a71aec9f5b8203020db</td><td> 100.0000                                 </td></tr>\n",
       "\t<tr><td>0x44061be116a5cf4c9faa9c21077a7924da9cb99a</td><td> 100.0000                                 </td></tr>\n",
       "\t<tr><td>0x6b6044128855a568687263b78693629a4c900559</td><td> 100.0000                                 </td></tr>\n",
       "\t<tr><td>0x729ea64b1393ed633c069af04b45e1212905b4a9</td><td> 100.0000                                 </td></tr>\n",
       "\t<tr><td>0x8088e7c68dffc0dbaa5021d4387e5cc29e597fda</td><td> 100.0000                                 </td></tr>\n",
       "\t<tr><td>0x86952daa5b0ed25aa53c2ac05dd7b498599b09f2</td><td> 100.0000                                 </td></tr>\n",
       "\t<tr><td>0xbcd7ad07a1f9f4d7bfae786ce0747a3aa20104ba</td><td> 100.0000                                 </td></tr>\n",
       "\t<tr><td>0xdff0989a7aa5e5ce9beb83830b2b3e44d399a2e3</td><td> 100.0000                                 </td></tr>\n",
       "\t<tr><td>0xef58321032cf693fa7e39f31e45cbc32f2092cb3</td><td> 100.0000                                 </td></tr>\n",
       "\t<tr><td>0x0075cae3313dc234f4961c7c6a8a8b390e4d4e23</td><td>  99.0000                                 </td></tr>\n",
       "\t<tr><td>0x62895b65f36bddf1373b363dbd7f7696e0fd2ced</td><td>  93.0000                                 </td></tr>\n",
       "\t<tr><td>0xf014775448b2a14e0556fa267be3f260ab360902</td><td>  90.0000                                 </td></tr>\n",
       "\t<tr><td>0x96845d0b4870ed286fc45068a42de993f92c7208</td><td>  80.0000                                 </td></tr>\n",
       "\t<tr><td>0xaafaed25491dcc38571f1211a2fe8789301025d8</td><td>  80.0000                                 </td></tr>\n",
       "\t<tr><td>0xcb3ca157ccd432e5f1c4ebe2999318541aec9190</td><td>  80.0000                                 </td></tr>\n",
       "\t<tr><td>0xb178bfe776bb2bcfb4016ecacbad41bc6dd037a8</td><td>  79.9000                                 </td></tr>\n",
       "\t<tr><td>0xc00c924402f91dbb13599a71e0da36509dc245f6</td><td>  78.0000                                 </td></tr>\n",
       "\t<tr><td>0x0eb31397368b6dad61fcfb374b73faa1a558f336</td><td>  77.0000                                 </td></tr>\n",
       "</tbody>\n",
       "</table>\n"
      ],
      "text/latex": [
       "\\begin{tabular}{r|ll}\n",
       " from & total\\\\\n",
       "\\hline\n",
       "\t 0x49a408f1ee8951c509db64be3cd47a0faf81d2a6 & 1000.0000                                 \\\\\n",
       "\t 0x7b5e7fa8e19db6f3488d064c5f0ae519f439a643 &  800.0000                                 \\\\\n",
       "\t 0x0342d1a7e22baa5410ee8c72873e7a67c7b20c77 &  700.0000                                 \\\\\n",
       "\t 0x3bcd2d9c796c0d5d0e26918d78b81366fd284861 &  607.6465                                 \\\\\n",
       "\t 0x75c8e2dd57927eb0373e8e201ebf582406adcf45 &  600.0000                                 \\\\\n",
       "\t 0x09b8b644fbfc6ee8e5dd0f450a030e5f381a5cfa &  513.9629                                 \\\\\n",
       "\t 0xb7f1498898d70685851b5331f64bf26215f00415 &  490.0000                                 \\\\\n",
       "\t 0x88e4c34f2d290d32761bcd68e874e018d3355d4a &  423.0000                                 \\\\\n",
       "\t 0xa93e901c15586a2477cc50df0fe6f9f5091301a3 &  360.0000                                 \\\\\n",
       "\t 0x3eebfc3a6a03b4114013be679cfe36099dfad29b &  300.0000                                 \\\\\n",
       "\t 0x89c72bbe9bc5b5b0d6df4e1346c01db3e257cf51 &  237.8000                                 \\\\\n",
       "\t 0x41e066a3dfd1e7f6256d469e2cce042655ae641a &  200.0000                                 \\\\\n",
       "\t 0xf16f41c6ef6fe38372bc6cb4844a9e1c25938358 &  200.0000                                 \\\\\n",
       "\t 0xad5220c1afc74f861739b31b3d63532ad1d3ea85 &  185.2400                                 \\\\\n",
       "\t 0x938936fdad786cc8575644cede5b863e28589616 &  176.4156                                 \\\\\n",
       "\t 0x98bdf0a47d4faa76dbc76f855d1abc4bff6f36cd &  156.6000                                 \\\\\n",
       "\t 0xd1fa069653b2800c5f0ac4829fa7ae14d4b87198 &  152.0000                                 \\\\\n",
       "\t 0x008bc906e4f9615b55387118be9974b9b391e052 &  150.0000                                 \\\\\n",
       "\t 0x751205a1fa7e15270505c11efff575e6b74627a2 &  150.0000                                 \\\\\n",
       "\t 0x4d811394afbd306204633fceb6364f4a0a05cd87 &  142.0000                                 \\\\\n",
       "\t 0xb0efa3d4e663c5489366e2291a0b1c936c36a175 &  139.0000                                 \\\\\n",
       "\t 0x46c18eee191d5c5153da38b25d1c47d35a9e690f &  130.0000                                 \\\\\n",
       "\t 0xccc4df2200caf0b59bef68a008953b0a991d4b79 &  130.0000                                 \\\\\n",
       "\t 0xefae748a2e09966e2d09b7400b0dfa18e6b3d0ec &  126.2972                                 \\\\\n",
       "\t 0x366f7effc26222dfe9fd3e4a9ae35e1fc6e7678c &  120.0000                                 \\\\\n",
       "\t 0x431c75744e4514885712f80e92de945cc047d892 &  112.5000                                 \\\\\n",
       "\t 0x1894a5bc142ef208b6bc5023b5403e26007a3f5f &  110.0000                                 \\\\\n",
       "\t 0x24318b0bcdd034215c0e312eedb5e9d6b4700504 &  109.0000                                 \\\\\n",
       "\t 0xeeb4ec99135cb3f3b448ef8bcff20208e943566f &  105.0060                                 \\\\\n",
       "\t 0x0087524dc4531f9ea7f85c5ad8c7722361b4eee8 &  100.0000                                 \\\\\n",
       "\t 0x0a3f25c0dcc58dc53e9ce36214f54feb6503a879 &  100.0000                                 \\\\\n",
       "\t 0x223270e56c3e5cbd381906046e5061131c832daf &  100.0000                                 \\\\\n",
       "\t 0x24409cdbfbffef1c5dd02a71aec9f5b8203020db &  100.0000                                 \\\\\n",
       "\t 0x44061be116a5cf4c9faa9c21077a7924da9cb99a &  100.0000                                 \\\\\n",
       "\t 0x6b6044128855a568687263b78693629a4c900559 &  100.0000                                 \\\\\n",
       "\t 0x729ea64b1393ed633c069af04b45e1212905b4a9 &  100.0000                                 \\\\\n",
       "\t 0x8088e7c68dffc0dbaa5021d4387e5cc29e597fda &  100.0000                                 \\\\\n",
       "\t 0x86952daa5b0ed25aa53c2ac05dd7b498599b09f2 &  100.0000                                 \\\\\n",
       "\t 0xbcd7ad07a1f9f4d7bfae786ce0747a3aa20104ba &  100.0000                                 \\\\\n",
       "\t 0xdff0989a7aa5e5ce9beb83830b2b3e44d399a2e3 &  100.0000                                 \\\\\n",
       "\t 0xef58321032cf693fa7e39f31e45cbc32f2092cb3 &  100.0000                                 \\\\\n",
       "\t 0x0075cae3313dc234f4961c7c6a8a8b390e4d4e23 &   99.0000                                 \\\\\n",
       "\t 0x62895b65f36bddf1373b363dbd7f7696e0fd2ced &   93.0000                                 \\\\\n",
       "\t 0xf014775448b2a14e0556fa267be3f260ab360902 &   90.0000                                 \\\\\n",
       "\t 0x96845d0b4870ed286fc45068a42de993f92c7208 &   80.0000                                 \\\\\n",
       "\t 0xaafaed25491dcc38571f1211a2fe8789301025d8 &   80.0000                                 \\\\\n",
       "\t 0xcb3ca157ccd432e5f1c4ebe2999318541aec9190 &   80.0000                                 \\\\\n",
       "\t 0xb178bfe776bb2bcfb4016ecacbad41bc6dd037a8 &   79.9000                                 \\\\\n",
       "\t 0xc00c924402f91dbb13599a71e0da36509dc245f6 &   78.0000                                 \\\\\n",
       "\t 0x0eb31397368b6dad61fcfb374b73faa1a558f336 &   77.0000                                 \\\\\n",
       "\\end{tabular}\n"
      ],
      "text/markdown": [
       "\n",
       "from | total | \n",
       "|---|---|---|---|---|---|---|---|---|---|---|---|---|---|---|---|---|---|---|---|---|---|---|---|---|---|---|---|---|---|---|---|---|---|---|---|---|---|---|---|---|---|---|---|---|---|---|---|---|---|\n",
       "| 0x49a408f1ee8951c509db64be3cd47a0faf81d2a6 | 1000.0000                                  | \n",
       "| 0x7b5e7fa8e19db6f3488d064c5f0ae519f439a643 |  800.0000                                  | \n",
       "| 0x0342d1a7e22baa5410ee8c72873e7a67c7b20c77 |  700.0000                                  | \n",
       "| 0x3bcd2d9c796c0d5d0e26918d78b81366fd284861 |  607.6465                                  | \n",
       "| 0x75c8e2dd57927eb0373e8e201ebf582406adcf45 |  600.0000                                  | \n",
       "| 0x09b8b644fbfc6ee8e5dd0f450a030e5f381a5cfa |  513.9629                                  | \n",
       "| 0xb7f1498898d70685851b5331f64bf26215f00415 |  490.0000                                  | \n",
       "| 0x88e4c34f2d290d32761bcd68e874e018d3355d4a |  423.0000                                  | \n",
       "| 0xa93e901c15586a2477cc50df0fe6f9f5091301a3 |  360.0000                                  | \n",
       "| 0x3eebfc3a6a03b4114013be679cfe36099dfad29b |  300.0000                                  | \n",
       "| 0x89c72bbe9bc5b5b0d6df4e1346c01db3e257cf51 |  237.8000                                  | \n",
       "| 0x41e066a3dfd1e7f6256d469e2cce042655ae641a |  200.0000                                  | \n",
       "| 0xf16f41c6ef6fe38372bc6cb4844a9e1c25938358 |  200.0000                                  | \n",
       "| 0xad5220c1afc74f861739b31b3d63532ad1d3ea85 |  185.2400                                  | \n",
       "| 0x938936fdad786cc8575644cede5b863e28589616 |  176.4156                                  | \n",
       "| 0x98bdf0a47d4faa76dbc76f855d1abc4bff6f36cd |  156.6000                                  | \n",
       "| 0xd1fa069653b2800c5f0ac4829fa7ae14d4b87198 |  152.0000                                  | \n",
       "| 0x008bc906e4f9615b55387118be9974b9b391e052 |  150.0000                                  | \n",
       "| 0x751205a1fa7e15270505c11efff575e6b74627a2 |  150.0000                                  | \n",
       "| 0x4d811394afbd306204633fceb6364f4a0a05cd87 |  142.0000                                  | \n",
       "| 0xb0efa3d4e663c5489366e2291a0b1c936c36a175 |  139.0000                                  | \n",
       "| 0x46c18eee191d5c5153da38b25d1c47d35a9e690f |  130.0000                                  | \n",
       "| 0xccc4df2200caf0b59bef68a008953b0a991d4b79 |  130.0000                                  | \n",
       "| 0xefae748a2e09966e2d09b7400b0dfa18e6b3d0ec |  126.2972                                  | \n",
       "| 0x366f7effc26222dfe9fd3e4a9ae35e1fc6e7678c |  120.0000                                  | \n",
       "| 0x431c75744e4514885712f80e92de945cc047d892 |  112.5000                                  | \n",
       "| 0x1894a5bc142ef208b6bc5023b5403e26007a3f5f |  110.0000                                  | \n",
       "| 0x24318b0bcdd034215c0e312eedb5e9d6b4700504 |  109.0000                                  | \n",
       "| 0xeeb4ec99135cb3f3b448ef8bcff20208e943566f |  105.0060                                  | \n",
       "| 0x0087524dc4531f9ea7f85c5ad8c7722361b4eee8 |  100.0000                                  | \n",
       "| 0x0a3f25c0dcc58dc53e9ce36214f54feb6503a879 |  100.0000                                  | \n",
       "| 0x223270e56c3e5cbd381906046e5061131c832daf |  100.0000                                  | \n",
       "| 0x24409cdbfbffef1c5dd02a71aec9f5b8203020db |  100.0000                                  | \n",
       "| 0x44061be116a5cf4c9faa9c21077a7924da9cb99a |  100.0000                                  | \n",
       "| 0x6b6044128855a568687263b78693629a4c900559 |  100.0000                                  | \n",
       "| 0x729ea64b1393ed633c069af04b45e1212905b4a9 |  100.0000                                  | \n",
       "| 0x8088e7c68dffc0dbaa5021d4387e5cc29e597fda |  100.0000                                  | \n",
       "| 0x86952daa5b0ed25aa53c2ac05dd7b498599b09f2 |  100.0000                                  | \n",
       "| 0xbcd7ad07a1f9f4d7bfae786ce0747a3aa20104ba |  100.0000                                  | \n",
       "| 0xdff0989a7aa5e5ce9beb83830b2b3e44d399a2e3 |  100.0000                                  | \n",
       "| 0xef58321032cf693fa7e39f31e45cbc32f2092cb3 |  100.0000                                  | \n",
       "| 0x0075cae3313dc234f4961c7c6a8a8b390e4d4e23 |   99.0000                                  | \n",
       "| 0x62895b65f36bddf1373b363dbd7f7696e0fd2ced |   93.0000                                  | \n",
       "| 0xf014775448b2a14e0556fa267be3f260ab360902 |   90.0000                                  | \n",
       "| 0x96845d0b4870ed286fc45068a42de993f92c7208 |   80.0000                                  | \n",
       "| 0xaafaed25491dcc38571f1211a2fe8789301025d8 |   80.0000                                  | \n",
       "| 0xcb3ca157ccd432e5f1c4ebe2999318541aec9190 |   80.0000                                  | \n",
       "| 0xb178bfe776bb2bcfb4016ecacbad41bc6dd037a8 |   79.9000                                  | \n",
       "| 0xc00c924402f91dbb13599a71e0da36509dc245f6 |   78.0000                                  | \n",
       "| 0x0eb31397368b6dad61fcfb374b73faa1a558f336 |   77.0000                                  | \n",
       "\n",
       "\n"
      ],
      "text/plain": [
       "   from                                       total    \n",
       "1  0x49a408f1ee8951c509db64be3cd47a0faf81d2a6 1000.0000\n",
       "2  0x7b5e7fa8e19db6f3488d064c5f0ae519f439a643  800.0000\n",
       "3  0x0342d1a7e22baa5410ee8c72873e7a67c7b20c77  700.0000\n",
       "4  0x3bcd2d9c796c0d5d0e26918d78b81366fd284861  607.6465\n",
       "5  0x75c8e2dd57927eb0373e8e201ebf582406adcf45  600.0000\n",
       "6  0x09b8b644fbfc6ee8e5dd0f450a030e5f381a5cfa  513.9629\n",
       "7  0xb7f1498898d70685851b5331f64bf26215f00415  490.0000\n",
       "8  0x88e4c34f2d290d32761bcd68e874e018d3355d4a  423.0000\n",
       "9  0xa93e901c15586a2477cc50df0fe6f9f5091301a3  360.0000\n",
       "10 0x3eebfc3a6a03b4114013be679cfe36099dfad29b  300.0000\n",
       "11 0x89c72bbe9bc5b5b0d6df4e1346c01db3e257cf51  237.8000\n",
       "12 0x41e066a3dfd1e7f6256d469e2cce042655ae641a  200.0000\n",
       "13 0xf16f41c6ef6fe38372bc6cb4844a9e1c25938358  200.0000\n",
       "14 0xad5220c1afc74f861739b31b3d63532ad1d3ea85  185.2400\n",
       "15 0x938936fdad786cc8575644cede5b863e28589616  176.4156\n",
       "16 0x98bdf0a47d4faa76dbc76f855d1abc4bff6f36cd  156.6000\n",
       "17 0xd1fa069653b2800c5f0ac4829fa7ae14d4b87198  152.0000\n",
       "18 0x008bc906e4f9615b55387118be9974b9b391e052  150.0000\n",
       "19 0x751205a1fa7e15270505c11efff575e6b74627a2  150.0000\n",
       "20 0x4d811394afbd306204633fceb6364f4a0a05cd87  142.0000\n",
       "21 0xb0efa3d4e663c5489366e2291a0b1c936c36a175  139.0000\n",
       "22 0x46c18eee191d5c5153da38b25d1c47d35a9e690f  130.0000\n",
       "23 0xccc4df2200caf0b59bef68a008953b0a991d4b79  130.0000\n",
       "24 0xefae748a2e09966e2d09b7400b0dfa18e6b3d0ec  126.2972\n",
       "25 0x366f7effc26222dfe9fd3e4a9ae35e1fc6e7678c  120.0000\n",
       "26 0x431c75744e4514885712f80e92de945cc047d892  112.5000\n",
       "27 0x1894a5bc142ef208b6bc5023b5403e26007a3f5f  110.0000\n",
       "28 0x24318b0bcdd034215c0e312eedb5e9d6b4700504  109.0000\n",
       "29 0xeeb4ec99135cb3f3b448ef8bcff20208e943566f  105.0060\n",
       "30 0x0087524dc4531f9ea7f85c5ad8c7722361b4eee8  100.0000\n",
       "31 0x0a3f25c0dcc58dc53e9ce36214f54feb6503a879  100.0000\n",
       "32 0x223270e56c3e5cbd381906046e5061131c832daf  100.0000\n",
       "33 0x24409cdbfbffef1c5dd02a71aec9f5b8203020db  100.0000\n",
       "34 0x44061be116a5cf4c9faa9c21077a7924da9cb99a  100.0000\n",
       "35 0x6b6044128855a568687263b78693629a4c900559  100.0000\n",
       "36 0x729ea64b1393ed633c069af04b45e1212905b4a9  100.0000\n",
       "37 0x8088e7c68dffc0dbaa5021d4387e5cc29e597fda  100.0000\n",
       "38 0x86952daa5b0ed25aa53c2ac05dd7b498599b09f2  100.0000\n",
       "39 0xbcd7ad07a1f9f4d7bfae786ce0747a3aa20104ba  100.0000\n",
       "40 0xdff0989a7aa5e5ce9beb83830b2b3e44d399a2e3  100.0000\n",
       "41 0xef58321032cf693fa7e39f31e45cbc32f2092cb3  100.0000\n",
       "42 0x0075cae3313dc234f4961c7c6a8a8b390e4d4e23   99.0000\n",
       "43 0x62895b65f36bddf1373b363dbd7f7696e0fd2ced   93.0000\n",
       "44 0xf014775448b2a14e0556fa267be3f260ab360902   90.0000\n",
       "45 0x96845d0b4870ed286fc45068a42de993f92c7208   80.0000\n",
       "46 0xaafaed25491dcc38571f1211a2fe8789301025d8   80.0000\n",
       "47 0xcb3ca157ccd432e5f1c4ebe2999318541aec9190   80.0000\n",
       "48 0xb178bfe776bb2bcfb4016ecacbad41bc6dd037a8   79.9000\n",
       "49 0xc00c924402f91dbb13599a71e0da36509dc245f6   78.0000\n",
       "50 0x0eb31397368b6dad61fcfb374b73faa1a558f336   77.0000"
      ]
     },
     "metadata": {},
     "output_type": "display_data"
    }
   ],
   "source": [
    "df <- df[with(df, order(-total)), ]\n",
    "head(df, n=50)"
   ]
  },
  {
   "cell_type": "code",
   "execution_count": null,
   "metadata": {
    "collapsed": true
   },
   "outputs": [],
   "source": []
  }
 ],
 "metadata": {
  "kernelspec": {
   "display_name": "R",
   "language": "R",
   "name": "ir"
  },
  "language_info": {
   "codemirror_mode": "r",
   "file_extension": ".r",
   "mimetype": "text/x-r-source",
   "name": "R",
   "pygments_lexer": "r",
   "version": "3.4.0"
  }
 },
 "nbformat": 4,
 "nbformat_minor": 2
}
