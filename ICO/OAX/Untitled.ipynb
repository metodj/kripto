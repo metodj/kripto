{
 "cells": [
  {
   "cell_type": "code",
   "execution_count": 1,
   "metadata": {
    "collapsed": false
   },
   "outputs": [
    {
     "name": "stderr",
     "output_type": "stream",
     "text": [
      "\n",
      "Attaching package: 'dplyr'\n",
      "\n",
      "The following objects are masked from 'package:stats':\n",
      "\n",
      "    filter, lag\n",
      "\n",
      "The following objects are masked from 'package:base':\n",
      "\n",
      "    intersect, setdiff, setequal, union\n",
      "\n",
      "Warning message:\n",
      "\"package 'visNetwork' was built under R version 3.4.1\""
     ]
    }
   ],
   "source": [
    "library(DescTools)\n",
    "library(ggplot2)\n",
    "library(readr)\n",
    "suppressWarnings(library(dplyr))\n",
    "library(visNetwork)"
   ]
  },
  {
   "cell_type": "code",
   "execution_count": 18,
   "metadata": {
    "collapsed": false
   },
   "outputs": [
    {
     "name": "stderr",
     "output_type": "stream",
     "text": [
      "Parsed with column specification:\n",
      "cols(\n",
      "  blockNumber = col_integer(),\n",
      "  timeStamp = col_integer(),\n",
      "  from = col_character(),\n",
      "  to = col_character(),\n",
      "  value = col_double()\n",
      ")\n"
     ]
    },
    {
     "data": {
      "text/html": [
       "<table>\n",
       "<thead><tr><th scope=col>blockNumber</th><th scope=col>timeStamp</th><th scope=col>from</th><th scope=col>to</th><th scope=col>value</th></tr></thead>\n",
       "<tbody>\n",
       "\t<tr><td>3913144                                   </td><td>2017-06-22 13:00:26                       </td><td>0x8a53ee33d77371bacdc76cae6632c23495f669d7</td><td>0x701c244b988a513c945973defa05de933b23fe1d</td><td>1.0000000                                 </td></tr>\n",
       "\t<tr><td>3913144                                   </td><td>2017-06-22 13:00:26                       </td><td>0xa6bc6b41fc360364af6c2138ad9f1e4005523532</td><td>0x701c244b988a513c945973defa05de933b23fe1d</td><td>2.0000000                                 </td></tr>\n",
       "\t<tr><td>3913144                                   </td><td>2017-06-22 13:00:26                       </td><td>0x3b150851de69e672ec79a60a3df4663985496e14</td><td>0x701c244b988a513c945973defa05de933b23fe1d</td><td>1.0000000                                 </td></tr>\n",
       "\t<tr><td>3913145                                   </td><td>2017-06-22 13:00:30                       </td><td>0x6732f7bec0e6ce62f7edfcd7448cfb2947e6526b</td><td>0x701c244b988a513c945973defa05de933b23fe1d</td><td>0.9898319                                 </td></tr>\n",
       "\t<tr><td>3913146                                   </td><td>2017-06-22 13:00:37                       </td><td>0x03474b39c921adbfaa80aad93a3069b5cd2f7958</td><td>0x701c244b988a513c945973defa05de933b23fe1d</td><td>0.9500000                                 </td></tr>\n",
       "\t<tr><td>3913146                                   </td><td>2017-06-22 13:00:37                       </td><td>0x9db5b9e37d8e8827f5f49839821cb16db555d5f6</td><td>0x701c244b988a513c945973defa05de933b23fe1d</td><td>2.1000000                                 </td></tr>\n",
       "</tbody>\n",
       "</table>\n"
      ],
      "text/latex": [
       "\\begin{tabular}{r|lllll}\n",
       " blockNumber & timeStamp & from & to & value\\\\\n",
       "\\hline\n",
       "\t 3913144                                    & 2017-06-22 13:00:26                        & 0x8a53ee33d77371bacdc76cae6632c23495f669d7 & 0x701c244b988a513c945973defa05de933b23fe1d & 1.0000000                                 \\\\\n",
       "\t 3913144                                    & 2017-06-22 13:00:26                        & 0xa6bc6b41fc360364af6c2138ad9f1e4005523532 & 0x701c244b988a513c945973defa05de933b23fe1d & 2.0000000                                 \\\\\n",
       "\t 3913144                                    & 2017-06-22 13:00:26                        & 0x3b150851de69e672ec79a60a3df4663985496e14 & 0x701c244b988a513c945973defa05de933b23fe1d & 1.0000000                                 \\\\\n",
       "\t 3913145                                    & 2017-06-22 13:00:30                        & 0x6732f7bec0e6ce62f7edfcd7448cfb2947e6526b & 0x701c244b988a513c945973defa05de933b23fe1d & 0.9898319                                 \\\\\n",
       "\t 3913146                                    & 2017-06-22 13:00:37                        & 0x03474b39c921adbfaa80aad93a3069b5cd2f7958 & 0x701c244b988a513c945973defa05de933b23fe1d & 0.9500000                                 \\\\\n",
       "\t 3913146                                    & 2017-06-22 13:00:37                        & 0x9db5b9e37d8e8827f5f49839821cb16db555d5f6 & 0x701c244b988a513c945973defa05de933b23fe1d & 2.1000000                                 \\\\\n",
       "\\end{tabular}\n"
      ],
      "text/markdown": [
       "\n",
       "blockNumber | timeStamp | from | to | value | \n",
       "|---|---|---|---|---|---|\n",
       "| 3913144                                    | 2017-06-22 13:00:26                        | 0x8a53ee33d77371bacdc76cae6632c23495f669d7 | 0x701c244b988a513c945973defa05de933b23fe1d | 1.0000000                                  | \n",
       "| 3913144                                    | 2017-06-22 13:00:26                        | 0xa6bc6b41fc360364af6c2138ad9f1e4005523532 | 0x701c244b988a513c945973defa05de933b23fe1d | 2.0000000                                  | \n",
       "| 3913144                                    | 2017-06-22 13:00:26                        | 0x3b150851de69e672ec79a60a3df4663985496e14 | 0x701c244b988a513c945973defa05de933b23fe1d | 1.0000000                                  | \n",
       "| 3913145                                    | 2017-06-22 13:00:30                        | 0x6732f7bec0e6ce62f7edfcd7448cfb2947e6526b | 0x701c244b988a513c945973defa05de933b23fe1d | 0.9898319                                  | \n",
       "| 3913146                                    | 2017-06-22 13:00:37                        | 0x03474b39c921adbfaa80aad93a3069b5cd2f7958 | 0x701c244b988a513c945973defa05de933b23fe1d | 0.9500000                                  | \n",
       "| 3913146                                    | 2017-06-22 13:00:37                        | 0x9db5b9e37d8e8827f5f49839821cb16db555d5f6 | 0x701c244b988a513c945973defa05de933b23fe1d | 2.1000000                                  | \n",
       "\n",
       "\n"
      ],
      "text/plain": [
       "  blockNumber timeStamp           from                                      \n",
       "1 3913144     2017-06-22 13:00:26 0x8a53ee33d77371bacdc76cae6632c23495f669d7\n",
       "2 3913144     2017-06-22 13:00:26 0xa6bc6b41fc360364af6c2138ad9f1e4005523532\n",
       "3 3913144     2017-06-22 13:00:26 0x3b150851de69e672ec79a60a3df4663985496e14\n",
       "4 3913145     2017-06-22 13:00:30 0x6732f7bec0e6ce62f7edfcd7448cfb2947e6526b\n",
       "5 3913146     2017-06-22 13:00:37 0x03474b39c921adbfaa80aad93a3069b5cd2f7958\n",
       "6 3913146     2017-06-22 13:00:37 0x9db5b9e37d8e8827f5f49839821cb16db555d5f6\n",
       "  to                                         value    \n",
       "1 0x701c244b988a513c945973defa05de933b23fe1d 1.0000000\n",
       "2 0x701c244b988a513c945973defa05de933b23fe1d 2.0000000\n",
       "3 0x701c244b988a513c945973defa05de933b23fe1d 1.0000000\n",
       "4 0x701c244b988a513c945973defa05de933b23fe1d 0.9898319\n",
       "5 0x701c244b988a513c945973defa05de933b23fe1d 0.9500000\n",
       "6 0x701c244b988a513c945973defa05de933b23fe1d 2.1000000"
      ]
     },
     "metadata": {},
     "output_type": "display_data"
    }
   ],
   "source": [
    "data <- read_csv('OAX.csv')\n",
    "data$value <- data$value / 10**18\n",
    "data$timeStamp <- as.POSIXct(data$timeStamp,origin=\"1970-01-01\",tz=\"GMT\")\n",
    "data <- data[data$value > 0,] #odstranim transakcije, kjer je value 0\n",
    "head(data)"
   ]
  },
  {
   "cell_type": "code",
   "execution_count": 19,
   "metadata": {
    "collapsed": false
   },
   "outputs": [
    {
     "data": {
      "text/html": [
       "5097"
      ],
      "text/latex": [
       "5097"
      ],
      "text/markdown": [
       "5097"
      ],
      "text/plain": [
       "[1] 5097"
      ]
     },
     "metadata": {},
     "output_type": "display_data"
    }
   ],
   "source": [
    "n <- dim(data)[1]\n",
    "data <- data[1:(n-3),]\n",
    "n"
   ]
  },
  {
   "cell_type": "code",
   "execution_count": 20,
   "metadata": {
    "collapsed": false
   },
   "outputs": [
    {
     "data": {
      "text/html": [
       "<table>\n",
       "<thead><tr><th scope=col>blockNumber</th><th scope=col>timeStamp</th><th scope=col>from</th><th scope=col>to</th><th scope=col>value</th></tr></thead>\n",
       "<tbody>\n",
       "\t<tr><td>3973606                                   </td><td>2017-07-04 15:51:07                       </td><td>0x957586da2f235bb062dcdae2b4fb17c4d29f111b</td><td>0x701c244b988a513c945973defa05de933b23fe1d</td><td>0.07219663                                </td></tr>\n",
       "\t<tr><td>3973909                                   </td><td>2017-07-04 17:18:06                       </td><td>0x957586da2f235bb062dcdae2b4fb17c4d29f111b</td><td>0x701c244b988a513c945973defa05de933b23fe1d</td><td>0.06619663                                </td></tr>\n",
       "\t<tr><td>3973937                                   </td><td>2017-07-04 17:24:19                       </td><td>0x957586da2f235bb062dcdae2b4fb17c4d29f111b</td><td>0x701c244b988a513c945973defa05de933b23fe1d</td><td>0.06367663                                </td></tr>\n",
       "\t<tr><td>3973996                                   </td><td>2017-07-04 17:37:54                       </td><td>0x957586da2f235bb062dcdae2b4fb17c4d29f111b</td><td>0x701c244b988a513c945973defa05de933b23fe1d</td><td>0.05100000                                </td></tr>\n",
       "\t<tr><td>3977586                                   </td><td>2017-07-05 11:01:24                       </td><td>0x957586da2f235bb062dcdae2b4fb17c4d29f111b</td><td>0x701c244b988a513c945973defa05de933b23fe1d</td><td>0.03900000                                </td></tr>\n",
       "\t<tr><td>3977711                                   </td><td>2017-07-05 11:37:38                       </td><td>0x957586da2f235bb062dcdae2b4fb17c4d29f111b</td><td>0x701c244b988a513c945973defa05de933b23fe1d</td><td>0.02700000                                </td></tr>\n",
       "</tbody>\n",
       "</table>\n"
      ],
      "text/latex": [
       "\\begin{tabular}{r|lllll}\n",
       " blockNumber & timeStamp & from & to & value\\\\\n",
       "\\hline\n",
       "\t 3973606                                    & 2017-07-04 15:51:07                        & 0x957586da2f235bb062dcdae2b4fb17c4d29f111b & 0x701c244b988a513c945973defa05de933b23fe1d & 0.07219663                                \\\\\n",
       "\t 3973909                                    & 2017-07-04 17:18:06                        & 0x957586da2f235bb062dcdae2b4fb17c4d29f111b & 0x701c244b988a513c945973defa05de933b23fe1d & 0.06619663                                \\\\\n",
       "\t 3973937                                    & 2017-07-04 17:24:19                        & 0x957586da2f235bb062dcdae2b4fb17c4d29f111b & 0x701c244b988a513c945973defa05de933b23fe1d & 0.06367663                                \\\\\n",
       "\t 3973996                                    & 2017-07-04 17:37:54                        & 0x957586da2f235bb062dcdae2b4fb17c4d29f111b & 0x701c244b988a513c945973defa05de933b23fe1d & 0.05100000                                \\\\\n",
       "\t 3977586                                    & 2017-07-05 11:01:24                        & 0x957586da2f235bb062dcdae2b4fb17c4d29f111b & 0x701c244b988a513c945973defa05de933b23fe1d & 0.03900000                                \\\\\n",
       "\t 3977711                                    & 2017-07-05 11:37:38                        & 0x957586da2f235bb062dcdae2b4fb17c4d29f111b & 0x701c244b988a513c945973defa05de933b23fe1d & 0.02700000                                \\\\\n",
       "\\end{tabular}\n"
      ],
      "text/markdown": [
       "\n",
       "blockNumber | timeStamp | from | to | value | \n",
       "|---|---|---|---|---|---|\n",
       "| 3973606                                    | 2017-07-04 15:51:07                        | 0x957586da2f235bb062dcdae2b4fb17c4d29f111b | 0x701c244b988a513c945973defa05de933b23fe1d | 0.07219663                                 | \n",
       "| 3973909                                    | 2017-07-04 17:18:06                        | 0x957586da2f235bb062dcdae2b4fb17c4d29f111b | 0x701c244b988a513c945973defa05de933b23fe1d | 0.06619663                                 | \n",
       "| 3973937                                    | 2017-07-04 17:24:19                        | 0x957586da2f235bb062dcdae2b4fb17c4d29f111b | 0x701c244b988a513c945973defa05de933b23fe1d | 0.06367663                                 | \n",
       "| 3973996                                    | 2017-07-04 17:37:54                        | 0x957586da2f235bb062dcdae2b4fb17c4d29f111b | 0x701c244b988a513c945973defa05de933b23fe1d | 0.05100000                                 | \n",
       "| 3977586                                    | 2017-07-05 11:01:24                        | 0x957586da2f235bb062dcdae2b4fb17c4d29f111b | 0x701c244b988a513c945973defa05de933b23fe1d | 0.03900000                                 | \n",
       "| 3977711                                    | 2017-07-05 11:37:38                        | 0x957586da2f235bb062dcdae2b4fb17c4d29f111b | 0x701c244b988a513c945973defa05de933b23fe1d | 0.02700000                                 | \n",
       "\n",
       "\n"
      ],
      "text/plain": [
       "  blockNumber timeStamp           from                                      \n",
       "1 3973606     2017-07-04 15:51:07 0x957586da2f235bb062dcdae2b4fb17c4d29f111b\n",
       "2 3973909     2017-07-04 17:18:06 0x957586da2f235bb062dcdae2b4fb17c4d29f111b\n",
       "3 3973937     2017-07-04 17:24:19 0x957586da2f235bb062dcdae2b4fb17c4d29f111b\n",
       "4 3973996     2017-07-04 17:37:54 0x957586da2f235bb062dcdae2b4fb17c4d29f111b\n",
       "5 3977586     2017-07-05 11:01:24 0x957586da2f235bb062dcdae2b4fb17c4d29f111b\n",
       "6 3977711     2017-07-05 11:37:38 0x957586da2f235bb062dcdae2b4fb17c4d29f111b\n",
       "  to                                         value     \n",
       "1 0x701c244b988a513c945973defa05de933b23fe1d 0.07219663\n",
       "2 0x701c244b988a513c945973defa05de933b23fe1d 0.06619663\n",
       "3 0x701c244b988a513c945973defa05de933b23fe1d 0.06367663\n",
       "4 0x701c244b988a513c945973defa05de933b23fe1d 0.05100000\n",
       "5 0x701c244b988a513c945973defa05de933b23fe1d 0.03900000\n",
       "6 0x701c244b988a513c945973defa05de933b23fe1d 0.02700000"
      ]
     },
     "metadata": {},
     "output_type": "display_data"
    }
   ],
   "source": [
    "tail(data)"
   ]
  },
  {
   "cell_type": "code",
   "execution_count": 21,
   "metadata": {
    "collapsed": false
   },
   "outputs": [
    {
     "data": {
      "text/html": [
       "27447.5048196718"
      ],
      "text/latex": [
       "27447.5048196718"
      ],
      "text/markdown": [
       "27447.5048196718"
      ],
      "text/plain": [
       "[1] 27447.5"
      ]
     },
     "metadata": {},
     "output_type": "display_data"
    }
   ],
   "source": [
    "sum(data$value)"
   ]
  },
  {
   "cell_type": "markdown",
   "metadata": {},
   "source": [
    "https://medium.com/@OAX_Foundation/the-openanx-token-sale-has-officially-closed-41a473512d0f"
   ]
  },
  {
   "cell_type": "markdown",
   "metadata": {},
   "source": [
    "https://medium.com/@OAX_Foundation"
   ]
  },
  {
   "cell_type": "code",
   "execution_count": 36,
   "metadata": {
    "collapsed": false
   },
   "outputs": [
    {
     "data": {
      "text/html": [
       "5.38820275219313"
      ],
      "text/latex": [
       "5.38820275219313"
      ],
      "text/markdown": [
       "5.38820275219313"
      ],
      "text/plain": [
       "[1] 5.388203"
      ]
     },
     "metadata": {},
     "output_type": "display_data"
    }
   ],
   "source": [
    "mean(data$value)"
   ]
  },
  {
   "cell_type": "code",
   "execution_count": 22,
   "metadata": {
    "collapsed": false
   },
   "outputs": [
    {
     "data": {
      "text/html": [
       "3739"
      ],
      "text/latex": [
       "3739"
      ],
      "text/markdown": [
       "3739"
      ],
      "text/plain": [
       "[1] 3739"
      ]
     },
     "metadata": {},
     "output_type": "display_data"
    }
   ],
   "source": [
    "length(unique(data$from))"
   ]
  },
  {
   "cell_type": "code",
   "execution_count": 23,
   "metadata": {
    "collapsed": false
   },
   "outputs": [
    {
     "data": {
      "text/html": [
       "14"
      ],
      "text/latex": [
       "14"
      ],
      "text/markdown": [
       "14"
      ],
      "text/plain": [
       "[1] 14"
      ]
     },
     "metadata": {},
     "output_type": "display_data"
    }
   ],
   "source": [
    "tmp <- split(data, cut(strptime(data$timeStamp, format=\"%F %R\"),\"day\"))\n",
    "length(tmp)"
   ]
  },
  {
   "cell_type": "code",
   "execution_count": 25,
   "metadata": {
    "collapsed": false
   },
   "outputs": [
    {
     "data": {
      "text/html": [
       "<table>\n",
       "<thead><tr><th scope=col>date</th><th scope=col>sum</th><th scope=col>count</th><th scope=col>total</th></tr></thead>\n",
       "<tbody>\n",
       "\t<tr><td>2017-06-22</td><td>16405.0637</td><td>2339      </td><td>16405.06  </td></tr>\n",
       "\t<tr><td>2017-06-23</td><td> 3307.0482</td><td> 785      </td><td>19712.11  </td></tr>\n",
       "\t<tr><td>2017-06-24</td><td> 1090.1163</td><td> 297      </td><td>20802.23  </td></tr>\n",
       "\t<tr><td>2017-06-25</td><td> 1443.4902</td><td> 308      </td><td>22245.72  </td></tr>\n",
       "\t<tr><td>2017-06-26</td><td>  755.1073</td><td> 226      </td><td>23000.83  </td></tr>\n",
       "\t<tr><td>2017-06-27</td><td>  534.7403</td><td> 165      </td><td>23535.57  </td></tr>\n",
       "\t<tr><td>2017-06-28</td><td>  217.9107</td><td>  98      </td><td>23753.48  </td></tr>\n",
       "\t<tr><td>2017-06-29</td><td>  230.3146</td><td> 108      </td><td>23983.79  </td></tr>\n",
       "\t<tr><td>2017-06-30</td><td>  233.9607</td><td> 148      </td><td>24217.75  </td></tr>\n",
       "\t<tr><td>2017-07-01</td><td>  241.4004</td><td>  75      </td><td>24459.15  </td></tr>\n",
       "\t<tr><td>2017-07-02</td><td>  284.0060</td><td>  85      </td><td>24743.16  </td></tr>\n",
       "\t<tr><td>2017-07-03</td><td> 1223.4475</td><td> 272      </td><td>25966.61  </td></tr>\n",
       "\t<tr><td>2017-07-04</td><td> 1480.8331</td><td> 186      </td><td>27447.44  </td></tr>\n",
       "\t<tr><td>2017-07-05</td><td>    0.0660</td><td>   2      </td><td>27447.50  </td></tr>\n",
       "</tbody>\n",
       "</table>\n"
      ],
      "text/latex": [
       "\\begin{tabular}{r|llll}\n",
       " date & sum & count & total\\\\\n",
       "\\hline\n",
       "\t 2017-06-22 & 16405.0637 & 2339       & 16405.06  \\\\\n",
       "\t 2017-06-23 &  3307.0482 &  785       & 19712.11  \\\\\n",
       "\t 2017-06-24 &  1090.1163 &  297       & 20802.23  \\\\\n",
       "\t 2017-06-25 &  1443.4902 &  308       & 22245.72  \\\\\n",
       "\t 2017-06-26 &   755.1073 &  226       & 23000.83  \\\\\n",
       "\t 2017-06-27 &   534.7403 &  165       & 23535.57  \\\\\n",
       "\t 2017-06-28 &   217.9107 &   98       & 23753.48  \\\\\n",
       "\t 2017-06-29 &   230.3146 &  108       & 23983.79  \\\\\n",
       "\t 2017-06-30 &   233.9607 &  148       & 24217.75  \\\\\n",
       "\t 2017-07-01 &   241.4004 &   75       & 24459.15  \\\\\n",
       "\t 2017-07-02 &   284.0060 &   85       & 24743.16  \\\\\n",
       "\t 2017-07-03 &  1223.4475 &  272       & 25966.61  \\\\\n",
       "\t 2017-07-04 &  1480.8331 &  186       & 27447.44  \\\\\n",
       "\t 2017-07-05 &     0.0660 &    2       & 27447.50  \\\\\n",
       "\\end{tabular}\n"
      ],
      "text/markdown": [
       "\n",
       "date | sum | count | total | \n",
       "|---|---|---|---|---|---|---|---|---|---|---|---|---|---|\n",
       "| 2017-06-22 | 16405.0637 | 2339       | 16405.06   | \n",
       "| 2017-06-23 |  3307.0482 |  785       | 19712.11   | \n",
       "| 2017-06-24 |  1090.1163 |  297       | 20802.23   | \n",
       "| 2017-06-25 |  1443.4902 |  308       | 22245.72   | \n",
       "| 2017-06-26 |   755.1073 |  226       | 23000.83   | \n",
       "| 2017-06-27 |   534.7403 |  165       | 23535.57   | \n",
       "| 2017-06-28 |   217.9107 |   98       | 23753.48   | \n",
       "| 2017-06-29 |   230.3146 |  108       | 23983.79   | \n",
       "| 2017-06-30 |   233.9607 |  148       | 24217.75   | \n",
       "| 2017-07-01 |   241.4004 |   75       | 24459.15   | \n",
       "| 2017-07-02 |   284.0060 |   85       | 24743.16   | \n",
       "| 2017-07-03 |  1223.4475 |  272       | 25966.61   | \n",
       "| 2017-07-04 |  1480.8331 |  186       | 27447.44   | \n",
       "| 2017-07-05 |     0.0660 |    2       | 27447.50   | \n",
       "\n",
       "\n"
      ],
      "text/plain": [
       "   date       sum        count total   \n",
       "1  2017-06-22 16405.0637 2339  16405.06\n",
       "2  2017-06-23  3307.0482  785  19712.11\n",
       "3  2017-06-24  1090.1163  297  20802.23\n",
       "4  2017-06-25  1443.4902  308  22245.72\n",
       "5  2017-06-26   755.1073  226  23000.83\n",
       "6  2017-06-27   534.7403  165  23535.57\n",
       "7  2017-06-28   217.9107   98  23753.48\n",
       "8  2017-06-29   230.3146  108  23983.79\n",
       "9  2017-06-30   233.9607  148  24217.75\n",
       "10 2017-07-01   241.4004   75  24459.15\n",
       "11 2017-07-02   284.0060   85  24743.16\n",
       "12 2017-07-03  1223.4475  272  25966.61\n",
       "13 2017-07-04  1480.8331  186  27447.44\n",
       "14 2017-07-05     0.0660    2  27447.50"
      ]
     },
     "metadata": {},
     "output_type": "display_data"
    }
   ],
   "source": [
    "tmp <- split(data, cut(strptime(data$timeStamp, format=\"%F %R\"),\"day\"))\n",
    "df <- data.frame(Date=as.Date(as.character()), sum=numeric(),count=numeric(), stringsAsFactors=FALSE)\n",
    "for (i in c(1:14)) {\n",
    "    day <- tmp[[i]]\n",
    "    vec <- c(day$timeStamp[[1]], sum(day$value),length(day$value))\n",
    "    df <- rbind(df, vec)\n",
    "    }\n",
    "colnames(df)<- c(\"date\", \"sum\", \"count\")\n",
    "df$date <- as.POSIXct(df$date,origin=\"1970-01-01\",tz=\"GMT\")\n",
    "df$date <- as.Date(df$date)\n",
    "df$total <- cumsum(df$sum)\n",
    "df"
   ]
  },
  {
   "cell_type": "code",
   "execution_count": 26,
   "metadata": {
    "collapsed": false
   },
   "outputs": [
    {
     "data": {},
     "metadata": {},
     "output_type": "display_data"
    },
    {
     "data": {
      "image/png": "[encoded data removed]",
      "text/plain": [
       "plot without title"
      ]
     },
     "metadata": {},
     "output_type": "display_data"
    }
   ],
   "source": [
    "p <- ggplot(df, aes(x = date)) + geom_line(aes(y = sum, colour = \"Št. vloženih ETH tokenov\"),size=1.2) + \n",
    "    geom_line(aes(y = count*5, colour = \"count\"), size=1.2) + \n",
    "    scale_y_continuous(sec.axis = sec_axis(~./5, name = \"Št. transakcij\")) + \n",
    "    scale_colour_manual(values = c(\"blue\", \"red\")) + labs(y = \"Št. vloženih ETH tokenov\", x = \"Datum\") + \n",
    "    theme(legend.position = c(0.8, 0.9)) + ggtitle('ICO dinamika za OAX ')\n",
    "p"
   ]
  },
  {
   "cell_type": "code",
   "execution_count": 32,
   "metadata": {
    "collapsed": false
   },
   "outputs": [
    {
     "data": {
      "text/html": [
       "<table>\n",
       "<thead><tr><th scope=col>bucket</th><th scope=col>st_transakcij</th><th scope=col>delez_v_procentih</th></tr></thead>\n",
       "<tbody>\n",
       "\t<tr><td>0 - 0.1  </td><td>382      </td><td>10.1     </td></tr>\n",
       "\t<tr><td>0.1 - 0.2</td><td>379      </td><td>10.0     </td></tr>\n",
       "\t<tr><td>0.2 - 0.3</td><td>300      </td><td> 7.9     </td></tr>\n",
       "\t<tr><td>0.3 - 0.4</td><td>111      </td><td> 2.9     </td></tr>\n",
       "\t<tr><td>0.4 - 0.5</td><td>156      </td><td> 4.1     </td></tr>\n",
       "\t<tr><td>0.5 - 0.6</td><td>322      </td><td> 8.5     </td></tr>\n",
       "\t<tr><td>0.6 - 0.7</td><td> 53      </td><td> 1.4     </td></tr>\n",
       "\t<tr><td>0.7 - 0.8</td><td> 27      </td><td> 0.7     </td></tr>\n",
       "\t<tr><td>0.8 - 0.9</td><td> 55      </td><td> 1.5     </td></tr>\n",
       "\t<tr><td>0.9 - 1  </td><td>161      </td><td> 4.2     </td></tr>\n",
       "\t<tr><td>1 - 1.1  </td><td>729      </td><td>19.2     </td></tr>\n",
       "\t<tr><td>1.1 - 1.2</td><td> 76      </td><td> 2.0     </td></tr>\n",
       "\t<tr><td>1.2 - 1.3</td><td> 24      </td><td> 0.6     </td></tr>\n",
       "\t<tr><td>1.3 - 1.4</td><td> 36      </td><td> 0.9     </td></tr>\n",
       "\t<tr><td>1.4 - 1.5</td><td> 15      </td><td> 0.4     </td></tr>\n",
       "\t<tr><td>1.5 - 1.6</td><td> 91      </td><td> 2.4     </td></tr>\n",
       "\t<tr><td>1.6 - 1.7</td><td> 33      </td><td> 0.9     </td></tr>\n",
       "\t<tr><td>1.7 - 1.8</td><td> 11      </td><td> 0.3     </td></tr>\n",
       "\t<tr><td>1.8 - 1.9</td><td> 40      </td><td> 1.1     </td></tr>\n",
       "\t<tr><td>1.9 - 2  </td><td> 60      </td><td> 1.6     </td></tr>\n",
       "\t<tr><td>2 - 2.1  </td><td>364      </td><td> 9.6     </td></tr>\n",
       "</tbody>\n",
       "</table>\n"
      ],
      "text/latex": [
       "\\begin{tabular}{r|lll}\n",
       " bucket & st\\_transakcij & delez\\_v\\_procentih\\\\\n",
       "\\hline\n",
       "\t 0 - 0.1   & 382       & 10.1     \\\\\n",
       "\t 0.1 - 0.2 & 379       & 10.0     \\\\\n",
       "\t 0.2 - 0.3 & 300       &  7.9     \\\\\n",
       "\t 0.3 - 0.4 & 111       &  2.9     \\\\\n",
       "\t 0.4 - 0.5 & 156       &  4.1     \\\\\n",
       "\t 0.5 - 0.6 & 322       &  8.5     \\\\\n",
       "\t 0.6 - 0.7 &  53       &  1.4     \\\\\n",
       "\t 0.7 - 0.8 &  27       &  0.7     \\\\\n",
       "\t 0.8 - 0.9 &  55       &  1.5     \\\\\n",
       "\t 0.9 - 1   & 161       &  4.2     \\\\\n",
       "\t 1 - 1.1   & 729       & 19.2     \\\\\n",
       "\t 1.1 - 1.2 &  76       &  2.0     \\\\\n",
       "\t 1.2 - 1.3 &  24       &  0.6     \\\\\n",
       "\t 1.3 - 1.4 &  36       &  0.9     \\\\\n",
       "\t 1.4 - 1.5 &  15       &  0.4     \\\\\n",
       "\t 1.5 - 1.6 &  91       &  2.4     \\\\\n",
       "\t 1.6 - 1.7 &  33       &  0.9     \\\\\n",
       "\t 1.7 - 1.8 &  11       &  0.3     \\\\\n",
       "\t 1.8 - 1.9 &  40       &  1.1     \\\\\n",
       "\t 1.9 - 2   &  60       &  1.6     \\\\\n",
       "\t 2 - 2.1   & 364       &  9.6     \\\\\n",
       "\\end{tabular}\n"
      ],
      "text/markdown": [
       "\n",
       "bucket | st_transakcij | delez_v_procentih | \n",
       "|---|---|---|---|---|---|---|---|---|---|---|---|---|---|---|---|---|---|---|---|---|\n",
       "| 0 - 0.1   | 382       | 10.1      | \n",
       "| 0.1 - 0.2 | 379       | 10.0      | \n",
       "| 0.2 - 0.3 | 300       |  7.9      | \n",
       "| 0.3 - 0.4 | 111       |  2.9      | \n",
       "| 0.4 - 0.5 | 156       |  4.1      | \n",
       "| 0.5 - 0.6 | 322       |  8.5      | \n",
       "| 0.6 - 0.7 |  53       |  1.4      | \n",
       "| 0.7 - 0.8 |  27       |  0.7      | \n",
       "| 0.8 - 0.9 |  55       |  1.5      | \n",
       "| 0.9 - 1   | 161       |  4.2      | \n",
       "| 1 - 1.1   | 729       | 19.2      | \n",
       "| 1.1 - 1.2 |  76       |  2.0      | \n",
       "| 1.2 - 1.3 |  24       |  0.6      | \n",
       "| 1.3 - 1.4 |  36       |  0.9      | \n",
       "| 1.4 - 1.5 |  15       |  0.4      | \n",
       "| 1.5 - 1.6 |  91       |  2.4      | \n",
       "| 1.6 - 1.7 |  33       |  0.9      | \n",
       "| 1.7 - 1.8 |  11       |  0.3      | \n",
       "| 1.8 - 1.9 |  40       |  1.1      | \n",
       "| 1.9 - 2   |  60       |  1.6      | \n",
       "| 2 - 2.1   | 364       |  9.6      | \n",
       "\n",
       "\n"
      ],
      "text/plain": [
       "   bucket    st_transakcij delez_v_procentih\n",
       "1  0 - 0.1   382           10.1             \n",
       "2  0.1 - 0.2 379           10.0             \n",
       "3  0.2 - 0.3 300            7.9             \n",
       "4  0.3 - 0.4 111            2.9             \n",
       "5  0.4 - 0.5 156            4.1             \n",
       "6  0.5 - 0.6 322            8.5             \n",
       "7  0.6 - 0.7  53            1.4             \n",
       "8  0.7 - 0.8  27            0.7             \n",
       "9  0.8 - 0.9  55            1.5             \n",
       "10 0.9 - 1   161            4.2             \n",
       "11 1 - 1.1   729           19.2             \n",
       "12 1.1 - 1.2  76            2.0             \n",
       "13 1.2 - 1.3  24            0.6             \n",
       "14 1.3 - 1.4  36            0.9             \n",
       "15 1.4 - 1.5  15            0.4             \n",
       "16 1.5 - 1.6  91            2.4             \n",
       "17 1.6 - 1.7  33            0.9             \n",
       "18 1.7 - 1.8  11            0.3             \n",
       "19 1.8 - 1.9  40            1.1             \n",
       "20 1.9 - 2    60            1.6             \n",
       "21 2 - 2.1   364            9.6             "
      ]
     },
     "metadata": {},
     "output_type": "display_data"
    }
   ],
   "source": [
    "data['class'] <- data['value'] %/% 0.1\n",
    "data['class'] <- data['class'] / 10\n",
    "vecina <- data[data$value <= 2, ]\n",
    "other <- nrow(data[data$value > 2, ])\n",
    "vecina$class <- as.character(vecina$class)\n",
    "velikost <- vecina %>% select(blockNumber, class) %>% group_by(class) %>% summarise(st_transakcij = length(blockNumber))\n",
    "velikost$class <- as.numeric(velikost$class)\n",
    "velikost$bucket <- rep(0, nrow(velikost))\n",
    "for (i in c(1:nrow(velikost))) {\n",
    "    tmp <- paste(velikost$class[[i]],'-',velikost$class[[i]]+0.1,sep=' ')\n",
    "    velikost$bucket[[i]] <- tmp\n",
    "}\n",
    "velikost$delez_v_procentih <-round((velikost$st_transakcij / 3792)*100,1)\n",
    "#tele spodnje tri vrstice zakomentiraj, če želiš 'pognati' graf\n",
    "velikost$class <- NULL\n",
    "velikost <- velikost[,c('bucket', 'st_transakcij', 'delez_v_procentih')]\n",
    "velikost"
   ]
  },
  {
   "cell_type": "code",
   "execution_count": 31,
   "metadata": {
    "collapsed": false
   },
   "outputs": [
    {
     "data": {},
     "metadata": {},
     "output_type": "display_data"
    },
    {
     "data": {
      "image/png": "[encoded data removed]",
      "text/plain": [
       "plot without title"
      ]
     },
     "metadata": {},
     "output_type": "display_data"
    }
   ],
   "source": [
    "graf <- ggplot(data = velikost, mapping = aes(x = class, y = st_transakcij)) + geom_col() +\n",
    "        labs(x = \"velikost transakcije (v ETH)\", y = \"število transakcij\") + xlim(-0.01, 2.1) + ylim(0, 800) + \n",
    "        ggtitle('Porazdelitev velikosti transakcij')\n",
    "graf"
   ]
  },
  {
   "cell_type": "code",
   "execution_count": 34,
   "metadata": {
    "collapsed": false
   },
   "outputs": [
    {
     "data": {
      "text/html": [
       "1669"
      ],
      "text/latex": [
       "1669"
      ],
      "text/markdown": [
       "1669"
      ],
      "text/plain": [
       "[1] 1669"
      ]
     },
     "metadata": {},
     "output_type": "display_data"
    }
   ],
   "source": [
    "other"
   ]
  },
  {
   "cell_type": "code",
   "execution_count": 35,
   "metadata": {
    "collapsed": false
   },
   "outputs": [
    {
     "data": {
      "text/html": [
       "<table>\n",
       "<thead><tr><th scope=col>bucket</th><th scope=col>st_transakcij</th><th scope=col>delez_v_procentih</th></tr></thead>\n",
       "<tbody>\n",
       "\t<tr><td>2.1 - 10   </td><td>1117       </td><td>29.5       </td></tr>\n",
       "\t<tr><td>10 - 20    </td><td> 292       </td><td> 7.7       </td></tr>\n",
       "\t<tr><td>20 - 30    </td><td> 106       </td><td> 2.8       </td></tr>\n",
       "\t<tr><td>30 - 40    </td><td>  47       </td><td> 1.2       </td></tr>\n",
       "\t<tr><td>40 - 50    </td><td>  29       </td><td> 0.8       </td></tr>\n",
       "\t<tr><td>50 - 60    </td><td>  23       </td><td> 0.6       </td></tr>\n",
       "\t<tr><td>60 - 70    </td><td>   9       </td><td> 0.2       </td></tr>\n",
       "\t<tr><td>70 - 80    </td><td>   4       </td><td> 0.1       </td></tr>\n",
       "\t<tr><td>80 - 90    </td><td>   3       </td><td> 0.1       </td></tr>\n",
       "\t<tr><td>90 - 100   </td><td>   2       </td><td> 0.1       </td></tr>\n",
       "\t<tr><td>100 - 110  </td><td>  16       </td><td> 0.4       </td></tr>\n",
       "\t<tr><td>120 - 130  </td><td>   1       </td><td> 0.0       </td></tr>\n",
       "\t<tr><td>130 - 140  </td><td>   2       </td><td> 0.1       </td></tr>\n",
       "\t<tr><td>140 - 150  </td><td>   2       </td><td> 0.1       </td></tr>\n",
       "\t<tr><td>150 - 160  </td><td>   1       </td><td> 0.0       </td></tr>\n",
       "\t<tr><td>170 - 180  </td><td>   1       </td><td> 0.0       </td></tr>\n",
       "\t<tr><td>200 - 210  </td><td>   3       </td><td> 0.1       </td></tr>\n",
       "\t<tr><td>230 - 240  </td><td>   1       </td><td> 0.0       </td></tr>\n",
       "\t<tr><td>300 - 310  </td><td>   1       </td><td> 0.0       </td></tr>\n",
       "\t<tr><td>360 - 370  </td><td>   1       </td><td> 0.0       </td></tr>\n",
       "\t<tr><td>400 - 410  </td><td>   2       </td><td> 0.1       </td></tr>\n",
       "\t<tr><td>420 - 430  </td><td>   1       </td><td> 0.0       </td></tr>\n",
       "\t<tr><td>490 - 500  </td><td>   2       </td><td> 0.1       </td></tr>\n",
       "\t<tr><td>600 - 610  </td><td>   1       </td><td> 0.0       </td></tr>\n",
       "\t<tr><td>700 - 710  </td><td>   1       </td><td> 0.0       </td></tr>\n",
       "\t<tr><td>1000 - 1010</td><td>   1       </td><td> 0.0       </td></tr>\n",
       "</tbody>\n",
       "</table>\n"
      ],
      "text/latex": [
       "\\begin{tabular}{r|lll}\n",
       " bucket & st\\_transakcij & delez\\_v\\_procentih\\\\\n",
       "\\hline\n",
       "\t 2.1 - 10    & 1117        & 29.5       \\\\\n",
       "\t 10 - 20     &  292        &  7.7       \\\\\n",
       "\t 20 - 30     &  106        &  2.8       \\\\\n",
       "\t 30 - 40     &   47        &  1.2       \\\\\n",
       "\t 40 - 50     &   29        &  0.8       \\\\\n",
       "\t 50 - 60     &   23        &  0.6       \\\\\n",
       "\t 60 - 70     &    9        &  0.2       \\\\\n",
       "\t 70 - 80     &    4        &  0.1       \\\\\n",
       "\t 80 - 90     &    3        &  0.1       \\\\\n",
       "\t 90 - 100    &    2        &  0.1       \\\\\n",
       "\t 100 - 110   &   16        &  0.4       \\\\\n",
       "\t 120 - 130   &    1        &  0.0       \\\\\n",
       "\t 130 - 140   &    2        &  0.1       \\\\\n",
       "\t 140 - 150   &    2        &  0.1       \\\\\n",
       "\t 150 - 160   &    1        &  0.0       \\\\\n",
       "\t 170 - 180   &    1        &  0.0       \\\\\n",
       "\t 200 - 210   &    3        &  0.1       \\\\\n",
       "\t 230 - 240   &    1        &  0.0       \\\\\n",
       "\t 300 - 310   &    1        &  0.0       \\\\\n",
       "\t 360 - 370   &    1        &  0.0       \\\\\n",
       "\t 400 - 410   &    2        &  0.1       \\\\\n",
       "\t 420 - 430   &    1        &  0.0       \\\\\n",
       "\t 490 - 500   &    2        &  0.1       \\\\\n",
       "\t 600 - 610   &    1        &  0.0       \\\\\n",
       "\t 700 - 710   &    1        &  0.0       \\\\\n",
       "\t 1000 - 1010 &    1        &  0.0       \\\\\n",
       "\\end{tabular}\n"
      ],
      "text/markdown": [
       "\n",
       "bucket | st_transakcij | delez_v_procentih | \n",
       "|---|---|---|---|---|---|---|---|---|---|---|---|---|---|---|---|---|---|---|---|---|---|---|---|---|---|\n",
       "| 2.1 - 10    | 1117        | 29.5        | \n",
       "| 10 - 20     |  292        |  7.7        | \n",
       "| 20 - 30     |  106        |  2.8        | \n",
       "| 30 - 40     |   47        |  1.2        | \n",
       "| 40 - 50     |   29        |  0.8        | \n",
       "| 50 - 60     |   23        |  0.6        | \n",
       "| 60 - 70     |    9        |  0.2        | \n",
       "| 70 - 80     |    4        |  0.1        | \n",
       "| 80 - 90     |    3        |  0.1        | \n",
       "| 90 - 100    |    2        |  0.1        | \n",
       "| 100 - 110   |   16        |  0.4        | \n",
       "| 120 - 130   |    1        |  0.0        | \n",
       "| 130 - 140   |    2        |  0.1        | \n",
       "| 140 - 150   |    2        |  0.1        | \n",
       "| 150 - 160   |    1        |  0.0        | \n",
       "| 170 - 180   |    1        |  0.0        | \n",
       "| 200 - 210   |    3        |  0.1        | \n",
       "| 230 - 240   |    1        |  0.0        | \n",
       "| 300 - 310   |    1        |  0.0        | \n",
       "| 360 - 370   |    1        |  0.0        | \n",
       "| 400 - 410   |    2        |  0.1        | \n",
       "| 420 - 430   |    1        |  0.0        | \n",
       "| 490 - 500   |    2        |  0.1        | \n",
       "| 600 - 610   |    1        |  0.0        | \n",
       "| 700 - 710   |    1        |  0.0        | \n",
       "| 1000 - 1010 |    1        |  0.0        | \n",
       "\n",
       "\n"
      ],
      "text/plain": [
       "   bucket      st_transakcij delez_v_procentih\n",
       "1  2.1 - 10    1117          29.5             \n",
       "2  10 - 20      292           7.7             \n",
       "3  20 - 30      106           2.8             \n",
       "4  30 - 40       47           1.2             \n",
       "5  40 - 50       29           0.8             \n",
       "6  50 - 60       23           0.6             \n",
       "7  60 - 70        9           0.2             \n",
       "8  70 - 80        4           0.1             \n",
       "9  80 - 90        3           0.1             \n",
       "10 90 - 100       2           0.1             \n",
       "11 100 - 110     16           0.4             \n",
       "12 120 - 130      1           0.0             \n",
       "13 130 - 140      2           0.1             \n",
       "14 140 - 150      2           0.1             \n",
       "15 150 - 160      1           0.0             \n",
       "16 170 - 180      1           0.0             \n",
       "17 200 - 210      3           0.1             \n",
       "18 230 - 240      1           0.0             \n",
       "19 300 - 310      1           0.0             \n",
       "20 360 - 370      1           0.0             \n",
       "21 400 - 410      2           0.1             \n",
       "22 420 - 430      1           0.0             \n",
       "23 490 - 500      2           0.1             \n",
       "24 600 - 610      1           0.0             \n",
       "25 700 - 710      1           0.0             \n",
       "26 1000 - 1010    1           0.0             "
      ]
     },
     "metadata": {},
     "output_type": "display_data"
    }
   ],
   "source": [
    "data['class'] <- data['value'] %/% 10\n",
    "data['class'] <- data['class'] * 10\n",
    "ostali <- data[data$value > 2, ]\n",
    "ostali$class <- as.character(ostali$class)\n",
    "velikost <- ostali %>% select(blockNumber, class) %>% group_by(class) %>% summarise(st_transakcij = length(blockNumber))\n",
    "velikost$class <- as.numeric(velikost$class)\n",
    "velikost$bucket <- rep(0, nrow(velikost))\n",
    "for (i in c(1:nrow(velikost))) {\n",
    "    tmp <- paste(velikost$class[[i]],'-',velikost$class[[i]]+10,sep=' ')\n",
    "    velikost$bucket[[i]] <- tmp\n",
    "}\n",
    "velikost <- velikost[with(velikost, order(class)), ]\n",
    "velikost$bucket[[1]] <- ('2.1 - 10')\n",
    "velikost$delez_v_procentih <-round((velikost$st_transakcij / 3792)*100,1)\n",
    "velikost$class <- NULL\n",
    "velikost <- velikost[,c('bucket', 'st_transakcij', 'delez_v_procentih')]\n",
    "velikost"
   ]
  },
  {
   "cell_type": "code",
   "execution_count": 33,
   "metadata": {
    "collapsed": false
   },
   "outputs": [
    {
     "data": {
      "text/html": [
       "<table>\n",
       "<thead><tr><th scope=col>timeStamp</th><th scope=col>from</th><th scope=col>value</th></tr></thead>\n",
       "<tbody>\n",
       "\t<tr><td>2017-06-22 13:02:01                       </td><td>0x49a408f1ee8951c509db64be3cd47a0faf81d2a6</td><td>1000.0000                                 </td></tr>\n",
       "\t<tr><td>2017-06-22 13:02:41                       </td><td>0x0342d1a7e22baa5410ee8c72873e7a67c7b20c77</td><td> 700.0000                                 </td></tr>\n",
       "\t<tr><td>2017-06-22 20:44:59                       </td><td>0x75c8e2dd57927eb0373e8e201ebf582406adcf45</td><td> 600.0000                                 </td></tr>\n",
       "\t<tr><td>2017-06-23 06:00:46                       </td><td>0x09b8b644fbfc6ee8e5dd0f450a030e5f381a5cfa</td><td> 498.9889                                 </td></tr>\n",
       "\t<tr><td>2017-06-22 13:57:20                       </td><td>0xb7f1498898d70685851b5331f64bf26215f00415</td><td> 490.0000                                 </td></tr>\n",
       "\t<tr><td>2017-06-22 13:06:01                       </td><td>0x88e4c34f2d290d32761bcd68e874e018d3355d4a</td><td> 423.0000                                 </td></tr>\n",
       "\t<tr><td>2017-06-22 13:00:50                       </td><td>0x7b5e7fa8e19db6f3488d064c5f0ae519f439a643</td><td> 400.0000                                 </td></tr>\n",
       "\t<tr><td>2017-06-22 13:14:27                       </td><td>0x7b5e7fa8e19db6f3488d064c5f0ae519f439a643</td><td> 400.0000                                 </td></tr>\n",
       "\t<tr><td>2017-07-03 02:37:56                       </td><td>0xa93e901c15586a2477cc50df0fe6f9f5091301a3</td><td> 360.0000                                 </td></tr>\n",
       "\t<tr><td>2017-06-23 16:29:37                       </td><td>0x3eebfc3a6a03b4114013be679cfe36099dfad29b</td><td> 300.0000                                 </td></tr>\n",
       "</tbody>\n",
       "</table>\n"
      ],
      "text/latex": [
       "\\begin{tabular}{r|lll}\n",
       " timeStamp & from & value\\\\\n",
       "\\hline\n",
       "\t 2017-06-22 13:02:01                        & 0x49a408f1ee8951c509db64be3cd47a0faf81d2a6 & 1000.0000                                 \\\\\n",
       "\t 2017-06-22 13:02:41                        & 0x0342d1a7e22baa5410ee8c72873e7a67c7b20c77 &  700.0000                                 \\\\\n",
       "\t 2017-06-22 20:44:59                        & 0x75c8e2dd57927eb0373e8e201ebf582406adcf45 &  600.0000                                 \\\\\n",
       "\t 2017-06-23 06:00:46                        & 0x09b8b644fbfc6ee8e5dd0f450a030e5f381a5cfa &  498.9889                                 \\\\\n",
       "\t 2017-06-22 13:57:20                        & 0xb7f1498898d70685851b5331f64bf26215f00415 &  490.0000                                 \\\\\n",
       "\t 2017-06-22 13:06:01                        & 0x88e4c34f2d290d32761bcd68e874e018d3355d4a &  423.0000                                 \\\\\n",
       "\t 2017-06-22 13:00:50                        & 0x7b5e7fa8e19db6f3488d064c5f0ae519f439a643 &  400.0000                                 \\\\\n",
       "\t 2017-06-22 13:14:27                        & 0x7b5e7fa8e19db6f3488d064c5f0ae519f439a643 &  400.0000                                 \\\\\n",
       "\t 2017-07-03 02:37:56                        & 0xa93e901c15586a2477cc50df0fe6f9f5091301a3 &  360.0000                                 \\\\\n",
       "\t 2017-06-23 16:29:37                        & 0x3eebfc3a6a03b4114013be679cfe36099dfad29b &  300.0000                                 \\\\\n",
       "\\end{tabular}\n"
      ],
      "text/markdown": [
       "\n",
       "timeStamp | from | value | \n",
       "|---|---|---|---|---|---|---|---|---|---|\n",
       "| 2017-06-22 13:02:01                        | 0x49a408f1ee8951c509db64be3cd47a0faf81d2a6 | 1000.0000                                  | \n",
       "| 2017-06-22 13:02:41                        | 0x0342d1a7e22baa5410ee8c72873e7a67c7b20c77 |  700.0000                                  | \n",
       "| 2017-06-22 20:44:59                        | 0x75c8e2dd57927eb0373e8e201ebf582406adcf45 |  600.0000                                  | \n",
       "| 2017-06-23 06:00:46                        | 0x09b8b644fbfc6ee8e5dd0f450a030e5f381a5cfa |  498.9889                                  | \n",
       "| 2017-06-22 13:57:20                        | 0xb7f1498898d70685851b5331f64bf26215f00415 |  490.0000                                  | \n",
       "| 2017-06-22 13:06:01                        | 0x88e4c34f2d290d32761bcd68e874e018d3355d4a |  423.0000                                  | \n",
       "| 2017-06-22 13:00:50                        | 0x7b5e7fa8e19db6f3488d064c5f0ae519f439a643 |  400.0000                                  | \n",
       "| 2017-06-22 13:14:27                        | 0x7b5e7fa8e19db6f3488d064c5f0ae519f439a643 |  400.0000                                  | \n",
       "| 2017-07-03 02:37:56                        | 0xa93e901c15586a2477cc50df0fe6f9f5091301a3 |  360.0000                                  | \n",
       "| 2017-06-23 16:29:37                        | 0x3eebfc3a6a03b4114013be679cfe36099dfad29b |  300.0000                                  | \n",
       "\n",
       "\n"
      ],
      "text/plain": [
       "   timeStamp           from                                       value    \n",
       "1  2017-06-22 13:02:01 0x49a408f1ee8951c509db64be3cd47a0faf81d2a6 1000.0000\n",
       "2  2017-06-22 13:02:41 0x0342d1a7e22baa5410ee8c72873e7a67c7b20c77  700.0000\n",
       "3  2017-06-22 20:44:59 0x75c8e2dd57927eb0373e8e201ebf582406adcf45  600.0000\n",
       "4  2017-06-23 06:00:46 0x09b8b644fbfc6ee8e5dd0f450a030e5f381a5cfa  498.9889\n",
       "5  2017-06-22 13:57:20 0xb7f1498898d70685851b5331f64bf26215f00415  490.0000\n",
       "6  2017-06-22 13:06:01 0x88e4c34f2d290d32761bcd68e874e018d3355d4a  423.0000\n",
       "7  2017-06-22 13:00:50 0x7b5e7fa8e19db6f3488d064c5f0ae519f439a643  400.0000\n",
       "8  2017-06-22 13:14:27 0x7b5e7fa8e19db6f3488d064c5f0ae519f439a643  400.0000\n",
       "9  2017-07-03 02:37:56 0xa93e901c15586a2477cc50df0fe6f9f5091301a3  360.0000\n",
       "10 2017-06-23 16:29:37 0x3eebfc3a6a03b4114013be679cfe36099dfad29b  300.0000"
      ]
     },
     "metadata": {},
     "output_type": "display_data"
    }
   ],
   "source": [
    "whales <- data[with(data, order(-value)), ]\n",
    "whales <- whales[, c('timeStamp', 'from', 'value')]\n",
    "head(whales, n=10)"
   ]
  },
  {
   "cell_type": "code",
   "execution_count": null,
   "metadata": {
    "collapsed": true
   },
   "outputs": [],
   "source": []
  },
  {
   "cell_type": "code",
   "execution_count": null,
   "metadata": {
    "collapsed": true
   },
   "outputs": [],
   "source": []
  }
 ],
 "metadata": {
  "kernelspec": {
   "display_name": "R",
   "language": "R",
   "name": "ir"
  },
  "language_info": {
   "codemirror_mode": "r",
   "file_extension": ".r",
   "mimetype": "text/x-r-source",
   "name": "R",
   "pygments_lexer": "r",
   "version": "3.4.0"
  }
 },
 "nbformat": 4,
 "nbformat_minor": 2
}
