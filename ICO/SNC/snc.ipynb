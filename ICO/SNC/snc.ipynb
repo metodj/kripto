{
 "cells": [
  {
   "cell_type": "code",
   "execution_count": 1,
   "metadata": {
    "collapsed": false
   },
   "outputs": [
    {
     "name": "stderr",
     "output_type": "stream",
     "text": [
      "\n",
      "Attaching package: 'dplyr'\n",
      "\n",
      "The following objects are masked from 'package:stats':\n",
      "\n",
      "    filter, lag\n",
      "\n",
      "The following objects are masked from 'package:base':\n",
      "\n",
      "    intersect, setdiff, setequal, union\n",
      "\n",
      "Warning message:\n",
      "\"package 'visNetwork' was built under R version 3.4.1\""
     ]
    }
   ],
   "source": [
    "library(DescTools)\n",
    "library(ggplot2)\n",
    "library(readr)\n",
    "suppressWarnings(library(dplyr))\n",
    "library(visNetwork)"
   ]
  },
  {
   "cell_type": "markdown",
   "metadata": {},
   "source": [
    "# ICO analiza: SNC"
   ]
  },
  {
   "cell_type": "markdown",
   "metadata": {},
   "source": [
    "### 1) Osnovni podatki o ICO obdobju:\n",
    "\n",
    "- trajanje: 28.6.2017 - 1.8.2017\n",
    "- št. zbranih ETH tokenov: 8732\n",
    "- št. vlagateljev: 2274\n",
    "\n",
    "(Vir: https://suncontract.org/ )\n",
    "\n",
    "Za analizo porazdelitve vložkov sem zajel vse transakcije na njihov javni \"ICO\" naslov z etherscana: \n",
    "https://etherscan.io/txs?a=0x5fb3d432bae33fcd418ede263d98d7440e7fa3ea"
   ]
  },
  {
   "cell_type": "code",
   "execution_count": 2,
   "metadata": {
    "collapsed": false
   },
   "outputs": [
    {
     "name": "stderr",
     "output_type": "stream",
     "text": [
      "Parsed with column specification:\n",
      "cols(\n",
      "  blockNumber = col_integer(),\n",
      "  timeStamp = col_integer(),\n",
      "  from = col_character(),\n",
      "  to = col_character(),\n",
      "  value = col_double()\n",
      ")\n"
     ]
    },
    {
     "data": {
      "text/html": [
       "<table>\n",
       "<thead><tr><th scope=col>blockNumber</th><th scope=col>timeStamp</th><th scope=col>from</th><th scope=col>to</th><th scope=col>value</th></tr></thead>\n",
       "<tbody>\n",
       "\t<tr><td>3942170                                   </td><td>2017-06-28 09:42:14                       </td><td>0xcd17c7aa5db10d5de82611216a31fe2b5f95c019</td><td>0x5fb3d432bae33fcd418ede263d98d7440e7fa3ea</td><td>  0.0100000                               </td></tr>\n",
       "\t<tr><td>3943066                                   </td><td>2017-06-28 14:11:33                       </td><td>0xaaa4fcd0776cb3c5872af2ea896fe59e8d27b4a9</td><td>0x5fb3d432bae33fcd418ede263d98d7440e7fa3ea</td><td>  0.0676484                               </td></tr>\n",
       "\t<tr><td>3943104                                   </td><td>2017-06-28 14:22:35                       </td><td>0x00d4861037f5978c018816668fa302cfbd550114</td><td>0x5fb3d432bae33fcd418ede263d98d7440e7fa3ea</td><td>299.9790000                               </td></tr>\n",
       "\t<tr><td>3943182                                   </td><td>2017-06-28 14:46:31                       </td><td>0xa45315981a6197b63ecb721385f2fbca3c6b4bb9</td><td>0x5fb3d432bae33fcd418ede263d98d7440e7fa3ea</td><td>  0.3490000                               </td></tr>\n",
       "\t<tr><td>3943225                                   </td><td>2017-06-28 15:00:23                       </td><td>0xfb9a79d649b742fef6e1f7c036987198e2283162</td><td>0x5fb3d432bae33fcd418ede263d98d7440e7fa3ea</td><td>  2.1720000                               </td></tr>\n",
       "\t<tr><td>3943238                                   </td><td>2017-06-28 15:04:28                       </td><td>0xe5540b5f89d84893833ab4d1a77d37ccb3e33890</td><td>0x5fb3d432bae33fcd418ede263d98d7440e7fa3ea</td><td>  9.8000000                               </td></tr>\n",
       "</tbody>\n",
       "</table>\n"
      ],
      "text/latex": [
       "\\begin{tabular}{r|lllll}\n",
       " blockNumber & timeStamp & from & to & value\\\\\n",
       "\\hline\n",
       "\t 3942170                                    & 2017-06-28 09:42:14                        & 0xcd17c7aa5db10d5de82611216a31fe2b5f95c019 & 0x5fb3d432bae33fcd418ede263d98d7440e7fa3ea &   0.0100000                               \\\\\n",
       "\t 3943066                                    & 2017-06-28 14:11:33                        & 0xaaa4fcd0776cb3c5872af2ea896fe59e8d27b4a9 & 0x5fb3d432bae33fcd418ede263d98d7440e7fa3ea &   0.0676484                               \\\\\n",
       "\t 3943104                                    & 2017-06-28 14:22:35                        & 0x00d4861037f5978c018816668fa302cfbd550114 & 0x5fb3d432bae33fcd418ede263d98d7440e7fa3ea & 299.9790000                               \\\\\n",
       "\t 3943182                                    & 2017-06-28 14:46:31                        & 0xa45315981a6197b63ecb721385f2fbca3c6b4bb9 & 0x5fb3d432bae33fcd418ede263d98d7440e7fa3ea &   0.3490000                               \\\\\n",
       "\t 3943225                                    & 2017-06-28 15:00:23                        & 0xfb9a79d649b742fef6e1f7c036987198e2283162 & 0x5fb3d432bae33fcd418ede263d98d7440e7fa3ea &   2.1720000                               \\\\\n",
       "\t 3943238                                    & 2017-06-28 15:04:28                        & 0xe5540b5f89d84893833ab4d1a77d37ccb3e33890 & 0x5fb3d432bae33fcd418ede263d98d7440e7fa3ea &   9.8000000                               \\\\\n",
       "\\end{tabular}\n"
      ],
      "text/markdown": [
       "\n",
       "blockNumber | timeStamp | from | to | value | \n",
       "|---|---|---|---|---|---|\n",
       "| 3942170                                    | 2017-06-28 09:42:14                        | 0xcd17c7aa5db10d5de82611216a31fe2b5f95c019 | 0x5fb3d432bae33fcd418ede263d98d7440e7fa3ea |   0.0100000                                | \n",
       "| 3943066                                    | 2017-06-28 14:11:33                        | 0xaaa4fcd0776cb3c5872af2ea896fe59e8d27b4a9 | 0x5fb3d432bae33fcd418ede263d98d7440e7fa3ea |   0.0676484                                | \n",
       "| 3943104                                    | 2017-06-28 14:22:35                        | 0x00d4861037f5978c018816668fa302cfbd550114 | 0x5fb3d432bae33fcd418ede263d98d7440e7fa3ea | 299.9790000                                | \n",
       "| 3943182                                    | 2017-06-28 14:46:31                        | 0xa45315981a6197b63ecb721385f2fbca3c6b4bb9 | 0x5fb3d432bae33fcd418ede263d98d7440e7fa3ea |   0.3490000                                | \n",
       "| 3943225                                    | 2017-06-28 15:00:23                        | 0xfb9a79d649b742fef6e1f7c036987198e2283162 | 0x5fb3d432bae33fcd418ede263d98d7440e7fa3ea |   2.1720000                                | \n",
       "| 3943238                                    | 2017-06-28 15:04:28                        | 0xe5540b5f89d84893833ab4d1a77d37ccb3e33890 | 0x5fb3d432bae33fcd418ede263d98d7440e7fa3ea |   9.8000000                                | \n",
       "\n",
       "\n"
      ],
      "text/plain": [
       "  blockNumber timeStamp           from                                      \n",
       "1 3942170     2017-06-28 09:42:14 0xcd17c7aa5db10d5de82611216a31fe2b5f95c019\n",
       "2 3943066     2017-06-28 14:11:33 0xaaa4fcd0776cb3c5872af2ea896fe59e8d27b4a9\n",
       "3 3943104     2017-06-28 14:22:35 0x00d4861037f5978c018816668fa302cfbd550114\n",
       "4 3943182     2017-06-28 14:46:31 0xa45315981a6197b63ecb721385f2fbca3c6b4bb9\n",
       "5 3943225     2017-06-28 15:00:23 0xfb9a79d649b742fef6e1f7c036987198e2283162\n",
       "6 3943238     2017-06-28 15:04:28 0xe5540b5f89d84893833ab4d1a77d37ccb3e33890\n",
       "  to                                         value      \n",
       "1 0x5fb3d432bae33fcd418ede263d98d7440e7fa3ea   0.0100000\n",
       "2 0x5fb3d432bae33fcd418ede263d98d7440e7fa3ea   0.0676484\n",
       "3 0x5fb3d432bae33fcd418ede263d98d7440e7fa3ea 299.9790000\n",
       "4 0x5fb3d432bae33fcd418ede263d98d7440e7fa3ea   0.3490000\n",
       "5 0x5fb3d432bae33fcd418ede263d98d7440e7fa3ea   2.1720000\n",
       "6 0x5fb3d432bae33fcd418ede263d98d7440e7fa3ea   9.8000000"
      ]
     },
     "metadata": {},
     "output_type": "display_data"
    }
   ],
   "source": [
    "data <- read_csv('SNC.csv')\n",
    "data$value <- data$value / 10**18\n",
    "data$timeStamp <- as.POSIXct(data$timeStamp,origin=\"1970-01-01\",tz=\"GMT\")\n",
    "data <- data[data$value > 0,] #odstranim transakcije, kjer je value 0\n",
    "head(data)"
   ]
  },
  {
   "cell_type": "markdown",
   "metadata": {},
   "source": [
    "Število zbranih ETH(tokenov) po tabeli, se ne ujema s podatki z njihove spletne strani. Tu skupno število znaša 11555, na spletni strani je navedno 8732. (?)"
   ]
  },
  {
   "cell_type": "code",
   "execution_count": 4,
   "metadata": {
    "collapsed": false
   },
   "outputs": [
    {
     "data": {
      "text/html": [
       "11555"
      ],
      "text/latex": [
       "11555"
      ],
      "text/markdown": [
       "11555"
      ],
      "text/plain": [
       "[1] 11555"
      ]
     },
     "metadata": {},
     "output_type": "display_data"
    }
   ],
   "source": [
    "round(sum(data$value),0)"
   ]
  },
  {
   "cell_type": "markdown",
   "metadata": {},
   "source": [
    "Prav tako se ne ujema število vlagateljev, ki je po tabeli 2409 (na spletni strani navajajo 2274). (?)"
   ]
  },
  {
   "cell_type": "code",
   "execution_count": 6,
   "metadata": {
    "collapsed": false
   },
   "outputs": [
    {
     "data": {
      "text/html": [
       "2409"
      ],
      "text/latex": [
       "2409"
      ],
      "text/markdown": [
       "2409"
      ],
      "text/plain": [
       "[1] 2409"
      ]
     },
     "metadata": {},
     "output_type": "display_data"
    }
   ],
   "source": [
    "length(unique(data$from))"
   ]
  },
  {
   "cell_type": "markdown",
   "metadata": {},
   "source": [
    "### 2) Distrubucija skozi čas"
   ]
  },
  {
   "cell_type": "markdown",
   "metadata": {},
   "source": [
    "VPRAŠANJA (alineje) IZ MAILA: \n",
    "##### - distribucija (skozi cas)\n",
    "##### - koliko se zbere skozi preICO\n",
    "##### -  kako pada attention skozi cas\n",
    "\n",
    "\n",
    "OPIS:\n",
    "Tabela prikazuje število vloženih ETH tokenov (stolpec sum) in število vložkov (stolpec count) za vsak dan ICOta. Spodaj sta oba stolpca prikazana še grafično. "
   ]
  },
  {
   "cell_type": "code",
   "execution_count": 4,
   "metadata": {
    "collapsed": false
   },
   "outputs": [
    {
     "data": {
      "text/html": [
       "<table>\n",
       "<thead><tr><th scope=col>date</th><th scope=col>sum</th><th scope=col>count</th><th scope=col>total</th></tr></thead>\n",
       "<tbody>\n",
       "\t<tr><td>2017-06-28</td><td>5442.14450</td><td>1184      </td><td> 5442.144 </td></tr>\n",
       "\t<tr><td>2017-06-29</td><td> 377.82834</td><td> 226      </td><td> 5819.973 </td></tr>\n",
       "\t<tr><td>2017-06-30</td><td> 121.44155</td><td>  73      </td><td> 5941.414 </td></tr>\n",
       "\t<tr><td>2017-07-01</td><td>  68.11325</td><td>  59      </td><td> 6009.528 </td></tr>\n",
       "\t<tr><td>2017-07-02</td><td> 150.34346</td><td>  51      </td><td> 6159.871 </td></tr>\n",
       "\t<tr><td>2017-07-03</td><td>  62.47807</td><td>  71      </td><td> 6222.349 </td></tr>\n",
       "\t<tr><td>2017-07-04</td><td> 170.91362</td><td>  90      </td><td> 6393.263 </td></tr>\n",
       "\t<tr><td>2017-07-05</td><td> 210.32105</td><td> 145      </td><td> 6603.584 </td></tr>\n",
       "\t<tr><td>2017-07-06</td><td> 896.71383</td><td> 282      </td><td> 7500.298 </td></tr>\n",
       "\t<tr><td>2017-07-07</td><td> 154.23837</td><td>  91      </td><td> 7654.536 </td></tr>\n",
       "\t<tr><td>2017-07-08</td><td>  73.05087</td><td>  56      </td><td> 7727.587 </td></tr>\n",
       "\t<tr><td>2017-07-09</td><td>  62.81521</td><td>  59      </td><td> 7790.402 </td></tr>\n",
       "\t<tr><td>2017-07-10</td><td>  74.41999</td><td>  53      </td><td> 7864.822 </td></tr>\n",
       "\t<tr><td>2017-07-11</td><td>1652.04105</td><td>  66      </td><td> 9516.863 </td></tr>\n",
       "\t<tr><td>2017-07-12</td><td> 143.94387</td><td>  53      </td><td> 9660.807 </td></tr>\n",
       "\t<tr><td>2017-07-13</td><td> 156.54411</td><td>  85      </td><td> 9817.351 </td></tr>\n",
       "\t<tr><td>2017-07-14</td><td> 335.89126</td><td> 104      </td><td>10153.242 </td></tr>\n",
       "\t<tr><td>2017-07-15</td><td>  34.37115</td><td>  30      </td><td>10187.614 </td></tr>\n",
       "\t<tr><td>2017-07-16</td><td>  69.95350</td><td>  48      </td><td>10257.567 </td></tr>\n",
       "\t<tr><td>2017-07-17</td><td>  40.55887</td><td>  34      </td><td>10298.126 </td></tr>\n",
       "\t<tr><td>2017-07-18</td><td>  44.03497</td><td>  37      </td><td>10342.161 </td></tr>\n",
       "\t<tr><td>2017-07-19</td><td>  37.87155</td><td>  42      </td><td>10380.032 </td></tr>\n",
       "\t<tr><td>2017-07-20</td><td>  39.96310</td><td>  38      </td><td>10419.996 </td></tr>\n",
       "\t<tr><td>2017-07-21</td><td>  62.08702</td><td>  52      </td><td>10482.083 </td></tr>\n",
       "\t<tr><td>2017-07-22</td><td>  56.46347</td><td>  48      </td><td>10538.546 </td></tr>\n",
       "\t<tr><td>2017-07-23</td><td> 169.97274</td><td> 128      </td><td>10708.519 </td></tr>\n",
       "\t<tr><td>2017-07-24</td><td>  67.36805</td><td>  36      </td><td>10775.887 </td></tr>\n",
       "\t<tr><td>2017-07-25</td><td>  51.73711</td><td>  53      </td><td>10827.624 </td></tr>\n",
       "\t<tr><td>2017-07-26</td><td>  42.75528</td><td>  31      </td><td>10870.379 </td></tr>\n",
       "\t<tr><td>2017-07-27</td><td>  89.79258</td><td>  39      </td><td>10960.172 </td></tr>\n",
       "\t<tr><td>2017-07-28</td><td>  82.17700</td><td>  54      </td><td>11042.349 </td></tr>\n",
       "\t<tr><td>2017-07-29</td><td>  43.34359</td><td>  52      </td><td>11085.692 </td></tr>\n",
       "\t<tr><td>2017-07-30</td><td>  92.33741</td><td>  56      </td><td>11178.030 </td></tr>\n",
       "\t<tr><td>2017-07-31</td><td> 168.47044</td><td> 113      </td><td>11346.500 </td></tr>\n",
       "\t<tr><td>2017-08-01</td><td> 208.68278</td><td> 152      </td><td>11555.183 </td></tr>\n",
       "</tbody>\n",
       "</table>\n"
      ],
      "text/latex": [
       "\\begin{tabular}{r|llll}\n",
       " date & sum & count & total\\\\\n",
       "\\hline\n",
       "\t 2017-06-28 & 5442.14450 & 1184       &  5442.144 \\\\\n",
       "\t 2017-06-29 &  377.82834 &  226       &  5819.973 \\\\\n",
       "\t 2017-06-30 &  121.44155 &   73       &  5941.414 \\\\\n",
       "\t 2017-07-01 &   68.11325 &   59       &  6009.528 \\\\\n",
       "\t 2017-07-02 &  150.34346 &   51       &  6159.871 \\\\\n",
       "\t 2017-07-03 &   62.47807 &   71       &  6222.349 \\\\\n",
       "\t 2017-07-04 &  170.91362 &   90       &  6393.263 \\\\\n",
       "\t 2017-07-05 &  210.32105 &  145       &  6603.584 \\\\\n",
       "\t 2017-07-06 &  896.71383 &  282       &  7500.298 \\\\\n",
       "\t 2017-07-07 &  154.23837 &   91       &  7654.536 \\\\\n",
       "\t 2017-07-08 &   73.05087 &   56       &  7727.587 \\\\\n",
       "\t 2017-07-09 &   62.81521 &   59       &  7790.402 \\\\\n",
       "\t 2017-07-10 &   74.41999 &   53       &  7864.822 \\\\\n",
       "\t 2017-07-11 & 1652.04105 &   66       &  9516.863 \\\\\n",
       "\t 2017-07-12 &  143.94387 &   53       &  9660.807 \\\\\n",
       "\t 2017-07-13 &  156.54411 &   85       &  9817.351 \\\\\n",
       "\t 2017-07-14 &  335.89126 &  104       & 10153.242 \\\\\n",
       "\t 2017-07-15 &   34.37115 &   30       & 10187.614 \\\\\n",
       "\t 2017-07-16 &   69.95350 &   48       & 10257.567 \\\\\n",
       "\t 2017-07-17 &   40.55887 &   34       & 10298.126 \\\\\n",
       "\t 2017-07-18 &   44.03497 &   37       & 10342.161 \\\\\n",
       "\t 2017-07-19 &   37.87155 &   42       & 10380.032 \\\\\n",
       "\t 2017-07-20 &   39.96310 &   38       & 10419.996 \\\\\n",
       "\t 2017-07-21 &   62.08702 &   52       & 10482.083 \\\\\n",
       "\t 2017-07-22 &   56.46347 &   48       & 10538.546 \\\\\n",
       "\t 2017-07-23 &  169.97274 &  128       & 10708.519 \\\\\n",
       "\t 2017-07-24 &   67.36805 &   36       & 10775.887 \\\\\n",
       "\t 2017-07-25 &   51.73711 &   53       & 10827.624 \\\\\n",
       "\t 2017-07-26 &   42.75528 &   31       & 10870.379 \\\\\n",
       "\t 2017-07-27 &   89.79258 &   39       & 10960.172 \\\\\n",
       "\t 2017-07-28 &   82.17700 &   54       & 11042.349 \\\\\n",
       "\t 2017-07-29 &   43.34359 &   52       & 11085.692 \\\\\n",
       "\t 2017-07-30 &   92.33741 &   56       & 11178.030 \\\\\n",
       "\t 2017-07-31 &  168.47044 &  113       & 11346.500 \\\\\n",
       "\t 2017-08-01 &  208.68278 &  152       & 11555.183 \\\\\n",
       "\\end{tabular}\n"
      ],
      "text/markdown": [
       "\n",
       "date | sum | count | total | \n",
       "|---|---|---|---|---|---|---|---|---|---|---|---|---|---|---|---|---|---|---|---|---|---|---|---|---|---|---|---|---|---|---|---|---|---|---|\n",
       "| 2017-06-28 | 5442.14450 | 1184       |  5442.144  | \n",
       "| 2017-06-29 |  377.82834 |  226       |  5819.973  | \n",
       "| 2017-06-30 |  121.44155 |   73       |  5941.414  | \n",
       "| 2017-07-01 |   68.11325 |   59       |  6009.528  | \n",
       "| 2017-07-02 |  150.34346 |   51       |  6159.871  | \n",
       "| 2017-07-03 |   62.47807 |   71       |  6222.349  | \n",
       "| 2017-07-04 |  170.91362 |   90       |  6393.263  | \n",
       "| 2017-07-05 |  210.32105 |  145       |  6603.584  | \n",
       "| 2017-07-06 |  896.71383 |  282       |  7500.298  | \n",
       "| 2017-07-07 |  154.23837 |   91       |  7654.536  | \n",
       "| 2017-07-08 |   73.05087 |   56       |  7727.587  | \n",
       "| 2017-07-09 |   62.81521 |   59       |  7790.402  | \n",
       "| 2017-07-10 |   74.41999 |   53       |  7864.822  | \n",
       "| 2017-07-11 | 1652.04105 |   66       |  9516.863  | \n",
       "| 2017-07-12 |  143.94387 |   53       |  9660.807  | \n",
       "| 2017-07-13 |  156.54411 |   85       |  9817.351  | \n",
       "| 2017-07-14 |  335.89126 |  104       | 10153.242  | \n",
       "| 2017-07-15 |   34.37115 |   30       | 10187.614  | \n",
       "| 2017-07-16 |   69.95350 |   48       | 10257.567  | \n",
       "| 2017-07-17 |   40.55887 |   34       | 10298.126  | \n",
       "| 2017-07-18 |   44.03497 |   37       | 10342.161  | \n",
       "| 2017-07-19 |   37.87155 |   42       | 10380.032  | \n",
       "| 2017-07-20 |   39.96310 |   38       | 10419.996  | \n",
       "| 2017-07-21 |   62.08702 |   52       | 10482.083  | \n",
       "| 2017-07-22 |   56.46347 |   48       | 10538.546  | \n",
       "| 2017-07-23 |  169.97274 |  128       | 10708.519  | \n",
       "| 2017-07-24 |   67.36805 |   36       | 10775.887  | \n",
       "| 2017-07-25 |   51.73711 |   53       | 10827.624  | \n",
       "| 2017-07-26 |   42.75528 |   31       | 10870.379  | \n",
       "| 2017-07-27 |   89.79258 |   39       | 10960.172  | \n",
       "| 2017-07-28 |   82.17700 |   54       | 11042.349  | \n",
       "| 2017-07-29 |   43.34359 |   52       | 11085.692  | \n",
       "| 2017-07-30 |   92.33741 |   56       | 11178.030  | \n",
       "| 2017-07-31 |  168.47044 |  113       | 11346.500  | \n",
       "| 2017-08-01 |  208.68278 |  152       | 11555.183  | \n",
       "\n",
       "\n"
      ],
      "text/plain": [
       "   date       sum        count total    \n",
       "1  2017-06-28 5442.14450 1184   5442.144\n",
       "2  2017-06-29  377.82834  226   5819.973\n",
       "3  2017-06-30  121.44155   73   5941.414\n",
       "4  2017-07-01   68.11325   59   6009.528\n",
       "5  2017-07-02  150.34346   51   6159.871\n",
       "6  2017-07-03   62.47807   71   6222.349\n",
       "7  2017-07-04  170.91362   90   6393.263\n",
       "8  2017-07-05  210.32105  145   6603.584\n",
       "9  2017-07-06  896.71383  282   7500.298\n",
       "10 2017-07-07  154.23837   91   7654.536\n",
       "11 2017-07-08   73.05087   56   7727.587\n",
       "12 2017-07-09   62.81521   59   7790.402\n",
       "13 2017-07-10   74.41999   53   7864.822\n",
       "14 2017-07-11 1652.04105   66   9516.863\n",
       "15 2017-07-12  143.94387   53   9660.807\n",
       "16 2017-07-13  156.54411   85   9817.351\n",
       "17 2017-07-14  335.89126  104  10153.242\n",
       "18 2017-07-15   34.37115   30  10187.614\n",
       "19 2017-07-16   69.95350   48  10257.567\n",
       "20 2017-07-17   40.55887   34  10298.126\n",
       "21 2017-07-18   44.03497   37  10342.161\n",
       "22 2017-07-19   37.87155   42  10380.032\n",
       "23 2017-07-20   39.96310   38  10419.996\n",
       "24 2017-07-21   62.08702   52  10482.083\n",
       "25 2017-07-22   56.46347   48  10538.546\n",
       "26 2017-07-23  169.97274  128  10708.519\n",
       "27 2017-07-24   67.36805   36  10775.887\n",
       "28 2017-07-25   51.73711   53  10827.624\n",
       "29 2017-07-26   42.75528   31  10870.379\n",
       "30 2017-07-27   89.79258   39  10960.172\n",
       "31 2017-07-28   82.17700   54  11042.349\n",
       "32 2017-07-29   43.34359   52  11085.692\n",
       "33 2017-07-30   92.33741   56  11178.030\n",
       "34 2017-07-31  168.47044  113  11346.500\n",
       "35 2017-08-01  208.68278  152  11555.183"
      ]
     },
     "metadata": {},
     "output_type": "display_data"
    }
   ],
   "source": [
    "tmp <- split(data, cut(strptime(data$timeStamp, format=\"%F %R\"),\"day\"))\n",
    "df <- data.frame(Date=as.Date(as.character()), sum=numeric(),count=numeric(), stringsAsFactors=FALSE)\n",
    "for (i in c(1:35)) {\n",
    "    day <- tmp[[i]]\n",
    "    vec <- c(day$timeStamp[[1]], sum(day$value),length(day$value))\n",
    "    df <- rbind(df, vec)\n",
    "    }\n",
    "colnames(df)<- c(\"date\", \"sum\", \"count\")\n",
    "df$date <- as.POSIXct(df$date,origin=\"1970-01-01\",tz=\"GMT\")\n",
    "df$date <- as.Date(df$date)\n",
    "df$total <- cumsum(df$sum)\n",
    "df"
   ]
  },
  {
   "cell_type": "code",
   "execution_count": 6,
   "metadata": {
    "collapsed": false
   },
   "outputs": [
    {
     "data": {},
     "metadata": {},
     "output_type": "display_data"
    },
    {
     "data": {
      "image/png": "[encoded data removed]",
      "text/plain": [
       "plot without title"
      ]
     },
     "metadata": {},
     "output_type": "display_data"
    }
   ],
   "source": [
    "p <- ggplot(df, aes(x = date)) + geom_line(aes(y = sum, colour = \"Nr. of invested ETH tokens\"),size=1.2) + \n",
    "    geom_line(aes(y = count*5, colour = \"Nr. of transactions\"), size=1.2) + \n",
    "    scale_y_continuous(sec.axis = sec_axis(~./5, name = \"Nr. of transactions\")) + \n",
    "    scale_colour_manual(values = c(\"blue\", \"red\")) + labs(y = \"Nr. of invested ETH tokens\", x = \"Date\") + \n",
    "    theme(legend.position = c(0.8, 0.9)) #+ ggtitle('Time distribution ')\n",
    "p"
   ]
  },
  {
   "cell_type": "markdown",
   "metadata": {},
   "source": [
    "##### Poskus razlage peakov (uparitev):\n",
    "\n",
    "- 28.6.2017 začetek ICOta, zbranih kar 47% vseh vloženih ETH tokenov. Povezano tudi s tem, da so imeli pre-sale bonus (nekakšen preICO):\n",
    "https://twitter.com/sun_contract/status/879315509841362944\n",
    "\n",
    "- 6.7.2017 konec drugega \"bonus\" obdobja: https://twitter.com/sun_contract/status/882901706379595776\n",
    "\n",
    "- 11.7.2017 vložil je največji \"whale\" (https://etherscan.io/address/0x55dcb5c76f993ecf70851392a81ccb90aafebe9d). Glej še spodaj poglavje o whaleih.\n",
    "\n",
    "- 23.7.2017: zadnji dan bonusov https://twitter.com/sun_contract/status/889091023384739840\n",
    "\n",
    "\n",
    "Spodnji graf prikazuje še, kako je rastel kumulativni vložek."
   ]
  },
  {
   "cell_type": "code",
   "execution_count": 27,
   "metadata": {
    "collapsed": false
   },
   "outputs": [
    {
     "data": {},
     "metadata": {},
     "output_type": "display_data"
    },
    {
     "data": {
      "image/png": "[encoded data removed]",
      "text/plain": [
       "plot without title"
      ]
     },
     "metadata": {},
     "output_type": "display_data"
    }
   ],
   "source": [
    "pomozna <- function(x){ \n",
    "    paste(round(x/115.55,0), '%')\n",
    "}\n",
    "df <- rbind(data.frame(date=as.Date('2017-06-27 08:18:49'), sum = 0, count = 0, total = 0), df)\n",
    "g <- ggplot(df, aes(x = date)) + geom_line(aes(y = total),size=1.2) + geom_point(aes(y=total), colour='blue') +\n",
    "        scale_y_continuous(labels=pomozna, limits=c(-0.1, 11556)) \n",
    "g"
   ]
  },
  {
   "cell_type": "markdown",
   "metadata": {},
   "source": [
    "### 2) Distribucija po velikosti"
   ]
  },
  {
   "cell_type": "markdown",
   "metadata": {},
   "source": [
    "VPRAŠANJA (alineje) IZ MAILA: \n",
    "##### - distribucija (po velikostih)\n",
    "\n",
    "OPIS: Tabela in graf prikazujeta porazdelitev po velikosti vložkov (bucketih)."
   ]
  },
  {
   "cell_type": "code",
   "execution_count": 15,
   "metadata": {
    "collapsed": false
   },
   "outputs": [
    {
     "data": {
      "text/html": [
       "<table>\n",
       "<thead><tr><th scope=col>bucket</th><th scope=col>st_transakcij</th><th scope=col>delez_v_procentih</th></tr></thead>\n",
       "<tbody>\n",
       "\t<tr><td>0 - 0.1  </td><td>456      </td><td>12.0     </td></tr>\n",
       "\t<tr><td>0.1 - 0.2</td><td>335      </td><td> 8.8     </td></tr>\n",
       "\t<tr><td>0.2 - 0.3</td><td>334      </td><td> 8.8     </td></tr>\n",
       "\t<tr><td>0.3 - 0.4</td><td> 78      </td><td> 2.1     </td></tr>\n",
       "\t<tr><td>0.4 - 0.5</td><td>148      </td><td> 3.9     </td></tr>\n",
       "\t<tr><td>0.5 - 0.6</td><td>229      </td><td> 6.0     </td></tr>\n",
       "\t<tr><td>0.6 - 0.7</td><td> 57      </td><td> 1.5     </td></tr>\n",
       "\t<tr><td>0.7 - 0.8</td><td> 31      </td><td> 0.8     </td></tr>\n",
       "\t<tr><td>0.8 - 0.9</td><td> 31      </td><td> 0.8     </td></tr>\n",
       "\t<tr><td>0.9 - 1  </td><td>184      </td><td> 4.9     </td></tr>\n",
       "\t<tr><td>1 - 1.1  </td><td>698      </td><td>18.4     </td></tr>\n",
       "\t<tr><td>1.1 - 1.2</td><td> 89      </td><td> 2.3     </td></tr>\n",
       "\t<tr><td>1.2 - 1.3</td><td> 16      </td><td> 0.4     </td></tr>\n",
       "\t<tr><td>1.3 - 1.4</td><td> 32      </td><td> 0.8     </td></tr>\n",
       "\t<tr><td>1.4 - 1.5</td><td> 15      </td><td> 0.4     </td></tr>\n",
       "\t<tr><td>1.5 - 1.6</td><td> 53      </td><td> 1.4     </td></tr>\n",
       "\t<tr><td>1.6 - 1.7</td><td> 23      </td><td> 0.6     </td></tr>\n",
       "\t<tr><td>1.7 - 1.8</td><td>  3      </td><td> 0.1     </td></tr>\n",
       "\t<tr><td>1.8 - 1.9</td><td> 22      </td><td> 0.6     </td></tr>\n",
       "\t<tr><td>1.9 - 2  </td><td> 26      </td><td> 0.7     </td></tr>\n",
       "\t<tr><td>2 - 2.1  </td><td>159      </td><td> 4.2     </td></tr>\n",
       "</tbody>\n",
       "</table>\n"
      ],
      "text/latex": [
       "\\begin{tabular}{r|lll}\n",
       " bucket & st\\_transakcij & delez\\_v\\_procentih\\\\\n",
       "\\hline\n",
       "\t 0 - 0.1   & 456       & 12.0     \\\\\n",
       "\t 0.1 - 0.2 & 335       &  8.8     \\\\\n",
       "\t 0.2 - 0.3 & 334       &  8.8     \\\\\n",
       "\t 0.3 - 0.4 &  78       &  2.1     \\\\\n",
       "\t 0.4 - 0.5 & 148       &  3.9     \\\\\n",
       "\t 0.5 - 0.6 & 229       &  6.0     \\\\\n",
       "\t 0.6 - 0.7 &  57       &  1.5     \\\\\n",
       "\t 0.7 - 0.8 &  31       &  0.8     \\\\\n",
       "\t 0.8 - 0.9 &  31       &  0.8     \\\\\n",
       "\t 0.9 - 1   & 184       &  4.9     \\\\\n",
       "\t 1 - 1.1   & 698       & 18.4     \\\\\n",
       "\t 1.1 - 1.2 &  89       &  2.3     \\\\\n",
       "\t 1.2 - 1.3 &  16       &  0.4     \\\\\n",
       "\t 1.3 - 1.4 &  32       &  0.8     \\\\\n",
       "\t 1.4 - 1.5 &  15       &  0.4     \\\\\n",
       "\t 1.5 - 1.6 &  53       &  1.4     \\\\\n",
       "\t 1.6 - 1.7 &  23       &  0.6     \\\\\n",
       "\t 1.7 - 1.8 &   3       &  0.1     \\\\\n",
       "\t 1.8 - 1.9 &  22       &  0.6     \\\\\n",
       "\t 1.9 - 2   &  26       &  0.7     \\\\\n",
       "\t 2 - 2.1   & 159       &  4.2     \\\\\n",
       "\\end{tabular}\n"
      ],
      "text/markdown": [
       "\n",
       "bucket | st_transakcij | delez_v_procentih | \n",
       "|---|---|---|---|---|---|---|---|---|---|---|---|---|---|---|---|---|---|---|---|---|\n",
       "| 0 - 0.1   | 456       | 12.0      | \n",
       "| 0.1 - 0.2 | 335       |  8.8      | \n",
       "| 0.2 - 0.3 | 334       |  8.8      | \n",
       "| 0.3 - 0.4 |  78       |  2.1      | \n",
       "| 0.4 - 0.5 | 148       |  3.9      | \n",
       "| 0.5 - 0.6 | 229       |  6.0      | \n",
       "| 0.6 - 0.7 |  57       |  1.5      | \n",
       "| 0.7 - 0.8 |  31       |  0.8      | \n",
       "| 0.8 - 0.9 |  31       |  0.8      | \n",
       "| 0.9 - 1   | 184       |  4.9      | \n",
       "| 1 - 1.1   | 698       | 18.4      | \n",
       "| 1.1 - 1.2 |  89       |  2.3      | \n",
       "| 1.2 - 1.3 |  16       |  0.4      | \n",
       "| 1.3 - 1.4 |  32       |  0.8      | \n",
       "| 1.4 - 1.5 |  15       |  0.4      | \n",
       "| 1.5 - 1.6 |  53       |  1.4      | \n",
       "| 1.6 - 1.7 |  23       |  0.6      | \n",
       "| 1.7 - 1.8 |   3       |  0.1      | \n",
       "| 1.8 - 1.9 |  22       |  0.6      | \n",
       "| 1.9 - 2   |  26       |  0.7      | \n",
       "| 2 - 2.1   | 159       |  4.2      | \n",
       "\n",
       "\n"
      ],
      "text/plain": [
       "   bucket    st_transakcij delez_v_procentih\n",
       "1  0 - 0.1   456           12.0             \n",
       "2  0.1 - 0.2 335            8.8             \n",
       "3  0.2 - 0.3 334            8.8             \n",
       "4  0.3 - 0.4  78            2.1             \n",
       "5  0.4 - 0.5 148            3.9             \n",
       "6  0.5 - 0.6 229            6.0             \n",
       "7  0.6 - 0.7  57            1.5             \n",
       "8  0.7 - 0.8  31            0.8             \n",
       "9  0.8 - 0.9  31            0.8             \n",
       "10 0.9 - 1   184            4.9             \n",
       "11 1 - 1.1   698           18.4             \n",
       "12 1.1 - 1.2  89            2.3             \n",
       "13 1.2 - 1.3  16            0.4             \n",
       "14 1.3 - 1.4  32            0.8             \n",
       "15 1.4 - 1.5  15            0.4             \n",
       "16 1.5 - 1.6  53            1.4             \n",
       "17 1.6 - 1.7  23            0.6             \n",
       "18 1.7 - 1.8   3            0.1             \n",
       "19 1.8 - 1.9  22            0.6             \n",
       "20 1.9 - 2    26            0.7             \n",
       "21 2 - 2.1   159            4.2             "
      ]
     },
     "metadata": {},
     "output_type": "display_data"
    }
   ],
   "source": [
    "data['class'] <- data['value'] %/% 0.1\n",
    "data['class'] <- data['class'] / 10\n",
    "vecina <- data[data$value <= 2, ]\n",
    "other <- nrow(data[data$value > 2, ])\n",
    "vecina$class <- as.character(vecina$class)\n",
    "velikost <- vecina %>% select(blockNumber, class) %>% group_by(class) %>% summarise(st_transakcij = length(blockNumber))\n",
    "velikost$class <- as.numeric(velikost$class)\n",
    "velikost$bucket <- rep(0, nrow(velikost))\n",
    "for (i in c(1:nrow(velikost))) {\n",
    "    tmp <- paste(velikost$class[[i]],'-',velikost$class[[i]]+0.1,sep=' ')\n",
    "    velikost$bucket[[i]] <- tmp\n",
    "}\n",
    "velikost$delez_v_procentih <-round((velikost$st_transakcij / 3792)*100,1)\n",
    "#tele spodnje tri vrstice zakomentiraj, če želiš 'pognati' graf\n",
    "velikost$class <- NULL\n",
    "velikost <- velikost[,c('bucket', 'st_transakcij', 'delez_v_procentih')]\n",
    "velikost"
   ]
  },
  {
   "cell_type": "code",
   "execution_count": 16,
   "metadata": {
    "collapsed": false
   },
   "outputs": [
    {
     "data": {
      "text/html": [
       "79.5"
      ],
      "text/latex": [
       "79.5"
      ],
      "text/markdown": [
       "79.5"
      ],
      "text/plain": [
       "[1] 79.5"
      ]
     },
     "metadata": {},
     "output_type": "display_data"
    }
   ],
   "source": [
    "sum(velikost$delez_v_procentih)"
   ]
  },
  {
   "cell_type": "code",
   "execution_count": 14,
   "metadata": {
    "collapsed": false
   },
   "outputs": [
    {
     "data": {},
     "metadata": {},
     "output_type": "display_data"
    },
    {
     "data": {
      "image/png": "[encoded data removed]",
      "text/plain": [
       "plot without title"
      ]
     },
     "metadata": {},
     "output_type": "display_data"
    }
   ],
   "source": [
    "graf <- ggplot(data = velikost, mapping = aes(x = class, y = st_transakcij)) + geom_col() +\n",
    "        labs(x = \"size of transaction (in ETH tokens)\", y = \"nr. of transations\") + xlim(-0.1, 2.1) + ylim(0, 800) #+ \n",
    "        #ggtitle('Porazdelitev velikosti transakcij')\n",
    "graf"
   ]
  },
  {
   "cell_type": "markdown",
   "metadata": {},
   "source": [
    "Transakcij, pri katerih so vložili več kot 2 ETH tokena, je bilo 773 (20%). Tabela spodaj prikazuje še porazdelitev teh, večjih, vložkov."
   ]
  },
  {
   "cell_type": "code",
   "execution_count": 68,
   "metadata": {
    "collapsed": false
   },
   "outputs": [
    {
     "data": {
      "text/html": [
       "773"
      ],
      "text/latex": [
       "773"
      ],
      "text/markdown": [
       "773"
      ],
      "text/plain": [
       "[1] 773"
      ]
     },
     "metadata": {},
     "output_type": "display_data"
    }
   ],
   "source": [
    "other"
   ]
  },
  {
   "cell_type": "code",
   "execution_count": 81,
   "metadata": {
    "collapsed": false
   },
   "outputs": [
    {
     "data": {
      "text/html": [
       "<table>\n",
       "<thead><tr><th scope=col>bucket</th><th scope=col>st_transakcij</th><th scope=col>delez_v_procentih</th></tr></thead>\n",
       "<tbody>\n",
       "\t<tr><td>2.1 - 10   </td><td>595        </td><td>15.7       </td></tr>\n",
       "\t<tr><td>10 - 20    </td><td> 91        </td><td> 2.4       </td></tr>\n",
       "\t<tr><td>20 - 30    </td><td> 31        </td><td> 0.8       </td></tr>\n",
       "\t<tr><td>30 - 40    </td><td> 23        </td><td> 0.6       </td></tr>\n",
       "\t<tr><td>40 - 50    </td><td>  6        </td><td> 0.2       </td></tr>\n",
       "\t<tr><td>50 - 60    </td><td> 11        </td><td> 0.3       </td></tr>\n",
       "\t<tr><td>60 - 70    </td><td>  1        </td><td> 0.0       </td></tr>\n",
       "\t<tr><td>70 - 80    </td><td>  2        </td><td> 0.1       </td></tr>\n",
       "\t<tr><td>90 - 100   </td><td>  4        </td><td> 0.1       </td></tr>\n",
       "\t<tr><td>100 - 110  </td><td>  1        </td><td> 0.0       </td></tr>\n",
       "\t<tr><td>150 - 160  </td><td>  2        </td><td> 0.1       </td></tr>\n",
       "\t<tr><td>270 - 280  </td><td>  1        </td><td> 0.0       </td></tr>\n",
       "\t<tr><td>290 - 300  </td><td>  1        </td><td> 0.0       </td></tr>\n",
       "\t<tr><td>300 - 310  </td><td>  2        </td><td> 0.1       </td></tr>\n",
       "\t<tr><td>500 - 510  </td><td>  1        </td><td> 0.0       </td></tr>\n",
       "\t<tr><td>1000 - 1010</td><td>  1        </td><td> 0.0       </td></tr>\n",
       "</tbody>\n",
       "</table>\n"
      ],
      "text/latex": [
       "\\begin{tabular}{r|lll}\n",
       " bucket & st\\_transakcij & delez\\_v\\_procentih\\\\\n",
       "\\hline\n",
       "\t 2.1 - 10    & 595         & 15.7       \\\\\n",
       "\t 10 - 20     &  91         &  2.4       \\\\\n",
       "\t 20 - 30     &  31         &  0.8       \\\\\n",
       "\t 30 - 40     &  23         &  0.6       \\\\\n",
       "\t 40 - 50     &   6         &  0.2       \\\\\n",
       "\t 50 - 60     &  11         &  0.3       \\\\\n",
       "\t 60 - 70     &   1         &  0.0       \\\\\n",
       "\t 70 - 80     &   2         &  0.1       \\\\\n",
       "\t 90 - 100    &   4         &  0.1       \\\\\n",
       "\t 100 - 110   &   1         &  0.0       \\\\\n",
       "\t 150 - 160   &   2         &  0.1       \\\\\n",
       "\t 270 - 280   &   1         &  0.0       \\\\\n",
       "\t 290 - 300   &   1         &  0.0       \\\\\n",
       "\t 300 - 310   &   2         &  0.1       \\\\\n",
       "\t 500 - 510   &   1         &  0.0       \\\\\n",
       "\t 1000 - 1010 &   1         &  0.0       \\\\\n",
       "\\end{tabular}\n"
      ],
      "text/markdown": [
       "\n",
       "bucket | st_transakcij | delez_v_procentih | \n",
       "|---|---|---|---|---|---|---|---|---|---|---|---|---|---|---|---|\n",
       "| 2.1 - 10    | 595         | 15.7        | \n",
       "| 10 - 20     |  91         |  2.4        | \n",
       "| 20 - 30     |  31         |  0.8        | \n",
       "| 30 - 40     |  23         |  0.6        | \n",
       "| 40 - 50     |   6         |  0.2        | \n",
       "| 50 - 60     |  11         |  0.3        | \n",
       "| 60 - 70     |   1         |  0.0        | \n",
       "| 70 - 80     |   2         |  0.1        | \n",
       "| 90 - 100    |   4         |  0.1        | \n",
       "| 100 - 110   |   1         |  0.0        | \n",
       "| 150 - 160   |   2         |  0.1        | \n",
       "| 270 - 280   |   1         |  0.0        | \n",
       "| 290 - 300   |   1         |  0.0        | \n",
       "| 300 - 310   |   2         |  0.1        | \n",
       "| 500 - 510   |   1         |  0.0        | \n",
       "| 1000 - 1010 |   1         |  0.0        | \n",
       "\n",
       "\n"
      ],
      "text/plain": [
       "   bucket      st_transakcij delez_v_procentih\n",
       "1  2.1 - 10    595           15.7             \n",
       "2  10 - 20      91            2.4             \n",
       "3  20 - 30      31            0.8             \n",
       "4  30 - 40      23            0.6             \n",
       "5  40 - 50       6            0.2             \n",
       "6  50 - 60      11            0.3             \n",
       "7  60 - 70       1            0.0             \n",
       "8  70 - 80       2            0.1             \n",
       "9  90 - 100      4            0.1             \n",
       "10 100 - 110     1            0.0             \n",
       "11 150 - 160     2            0.1             \n",
       "12 270 - 280     1            0.0             \n",
       "13 290 - 300     1            0.0             \n",
       "14 300 - 310     2            0.1             \n",
       "15 500 - 510     1            0.0             \n",
       "16 1000 - 1010   1            0.0             "
      ]
     },
     "metadata": {},
     "output_type": "display_data"
    }
   ],
   "source": [
    "data['class'] <- data['value'] %/% 10\n",
    "data['class'] <- data['class'] * 10\n",
    "ostali <- data[data$value > 2, ]\n",
    "ostali$class <- as.character(ostali$class)\n",
    "velikost <- ostali %>% select(blockNumber, class) %>% group_by(class) %>% summarise(st_transakcij = length(blockNumber))\n",
    "velikost$class <- as.numeric(velikost$class)\n",
    "velikost$bucket <- rep(0, nrow(velikost))\n",
    "for (i in c(1:nrow(velikost))) {\n",
    "    tmp <- paste(velikost$class[[i]],'-',velikost$class[[i]]+10,sep=' ')\n",
    "    velikost$bucket[[i]] <- tmp\n",
    "}\n",
    "velikost <- velikost[with(velikost, order(class)), ]\n",
    "velikost$bucket[[1]] <- ('2.1 - 10')\n",
    "velikost$delez_v_procentih <-round((velikost$st_transakcij / 3792)*100,1)\n",
    "velikost$class <- NULL\n",
    "velikost <- velikost[,c('bucket', 'st_transakcij', 'delez_v_procentih')]\n",
    "velikost"
   ]
  },
  {
   "cell_type": "markdown",
   "metadata": {},
   "source": [
    "### 3) Whales (največji vložki)"
   ]
  },
  {
   "cell_type": "markdown",
   "metadata": {},
   "source": [
    "VPRAŠANJE (alineja) IZ MAILA:\n",
    "##### - kako so veliki whalei\n",
    "\n",
    "\n",
    "OPIS: tabela prikazuje 10 največjih vložkov. "
   ]
  },
  {
   "cell_type": "code",
   "execution_count": 3,
   "metadata": {
    "collapsed": false
   },
   "outputs": [
    {
     "data": {
      "text/html": [
       "<table>\n",
       "<thead><tr><th scope=col>timeStamp</th><th scope=col>from</th><th scope=col>value</th></tr></thead>\n",
       "<tbody>\n",
       "\t<tr><td>2017-07-11 11:09:34                       </td><td>0x55dcb5c76f993ecf70851392a81ccb90aafebe9d</td><td>1000.000                                  </td></tr>\n",
       "\t<tr><td>2017-07-11 09:20:04                       </td><td>0x55dcb5c76f993ecf70851392a81ccb90aafebe9d</td><td> 500.000                                  </td></tr>\n",
       "\t<tr><td>2017-06-28 16:42:20                       </td><td>0x41e066a3dfd1e7f6256d469e2cce042655ae641a</td><td> 300.000                                  </td></tr>\n",
       "\t<tr><td>2017-06-28 16:47:26                       </td><td>0xf43c5295f5cf5bcbd6b94053d0099a2408836b2d</td><td> 300.000                                  </td></tr>\n",
       "\t<tr><td>2017-06-28 14:22:35                       </td><td>0x00d4861037f5978c018816668fa302cfbd550114</td><td> 299.979                                  </td></tr>\n",
       "\t<tr><td>2017-06-28 16:58:57                       </td><td>0xf43c5295f5cf5bcbd6b94053d0099a2408836b2d</td><td> 273.000                                  </td></tr>\n",
       "\t<tr><td>2017-06-28 16:37:13                       </td><td>0x1afe298405c91d552c1625f0b9bd6201023c16ca</td><td> 150.000                                  </td></tr>\n",
       "\t<tr><td>2017-07-14 11:53:21                       </td><td>0xdb827c33e0ee213e9f4a7ce14673413e243ee1c6</td><td> 150.000                                  </td></tr>\n",
       "\t<tr><td>2017-06-28 16:37:27                       </td><td>0xa36fbfbbb005d9489609d8fca7710d287bebda98</td><td> 100.000                                  </td></tr>\n",
       "\t<tr><td>2017-06-28 17:26:19                       </td><td>0x8f066f3d9f75789d9f126fdd7cfbcc38a768985d</td><td>  99.800                                  </td></tr>\n",
       "</tbody>\n",
       "</table>\n"
      ],
      "text/latex": [
       "\\begin{tabular}{r|lll}\n",
       " timeStamp & from & value\\\\\n",
       "\\hline\n",
       "\t 2017-07-11 11:09:34                        & 0x55dcb5c76f993ecf70851392a81ccb90aafebe9d & 1000.000                                  \\\\\n",
       "\t 2017-07-11 09:20:04                        & 0x55dcb5c76f993ecf70851392a81ccb90aafebe9d &  500.000                                  \\\\\n",
       "\t 2017-06-28 16:42:20                        & 0x41e066a3dfd1e7f6256d469e2cce042655ae641a &  300.000                                  \\\\\n",
       "\t 2017-06-28 16:47:26                        & 0xf43c5295f5cf5bcbd6b94053d0099a2408836b2d &  300.000                                  \\\\\n",
       "\t 2017-06-28 14:22:35                        & 0x00d4861037f5978c018816668fa302cfbd550114 &  299.979                                  \\\\\n",
       "\t 2017-06-28 16:58:57                        & 0xf43c5295f5cf5bcbd6b94053d0099a2408836b2d &  273.000                                  \\\\\n",
       "\t 2017-06-28 16:37:13                        & 0x1afe298405c91d552c1625f0b9bd6201023c16ca &  150.000                                  \\\\\n",
       "\t 2017-07-14 11:53:21                        & 0xdb827c33e0ee213e9f4a7ce14673413e243ee1c6 &  150.000                                  \\\\\n",
       "\t 2017-06-28 16:37:27                        & 0xa36fbfbbb005d9489609d8fca7710d287bebda98 &  100.000                                  \\\\\n",
       "\t 2017-06-28 17:26:19                        & 0x8f066f3d9f75789d9f126fdd7cfbcc38a768985d &   99.800                                  \\\\\n",
       "\\end{tabular}\n"
      ],
      "text/markdown": [
       "\n",
       "timeStamp | from | value | \n",
       "|---|---|---|---|---|---|---|---|---|---|\n",
       "| 2017-07-11 11:09:34                        | 0x55dcb5c76f993ecf70851392a81ccb90aafebe9d | 1000.000                                   | \n",
       "| 2017-07-11 09:20:04                        | 0x55dcb5c76f993ecf70851392a81ccb90aafebe9d |  500.000                                   | \n",
       "| 2017-06-28 16:42:20                        | 0x41e066a3dfd1e7f6256d469e2cce042655ae641a |  300.000                                   | \n",
       "| 2017-06-28 16:47:26                        | 0xf43c5295f5cf5bcbd6b94053d0099a2408836b2d |  300.000                                   | \n",
       "| 2017-06-28 14:22:35                        | 0x00d4861037f5978c018816668fa302cfbd550114 |  299.979                                   | \n",
       "| 2017-06-28 16:58:57                        | 0xf43c5295f5cf5bcbd6b94053d0099a2408836b2d |  273.000                                   | \n",
       "| 2017-06-28 16:37:13                        | 0x1afe298405c91d552c1625f0b9bd6201023c16ca |  150.000                                   | \n",
       "| 2017-07-14 11:53:21                        | 0xdb827c33e0ee213e9f4a7ce14673413e243ee1c6 |  150.000                                   | \n",
       "| 2017-06-28 16:37:27                        | 0xa36fbfbbb005d9489609d8fca7710d287bebda98 |  100.000                                   | \n",
       "| 2017-06-28 17:26:19                        | 0x8f066f3d9f75789d9f126fdd7cfbcc38a768985d |   99.800                                   | \n",
       "\n",
       "\n"
      ],
      "text/plain": [
       "   timeStamp           from                                       value   \n",
       "1  2017-07-11 11:09:34 0x55dcb5c76f993ecf70851392a81ccb90aafebe9d 1000.000\n",
       "2  2017-07-11 09:20:04 0x55dcb5c76f993ecf70851392a81ccb90aafebe9d  500.000\n",
       "3  2017-06-28 16:42:20 0x41e066a3dfd1e7f6256d469e2cce042655ae641a  300.000\n",
       "4  2017-06-28 16:47:26 0xf43c5295f5cf5bcbd6b94053d0099a2408836b2d  300.000\n",
       "5  2017-06-28 14:22:35 0x00d4861037f5978c018816668fa302cfbd550114  299.979\n",
       "6  2017-06-28 16:58:57 0xf43c5295f5cf5bcbd6b94053d0099a2408836b2d  273.000\n",
       "7  2017-06-28 16:37:13 0x1afe298405c91d552c1625f0b9bd6201023c16ca  150.000\n",
       "8  2017-07-14 11:53:21 0xdb827c33e0ee213e9f4a7ce14673413e243ee1c6  150.000\n",
       "9  2017-06-28 16:37:27 0xa36fbfbbb005d9489609d8fca7710d287bebda98  100.000\n",
       "10 2017-06-28 17:26:19 0x8f066f3d9f75789d9f126fdd7cfbcc38a768985d   99.800"
      ]
     },
     "metadata": {},
     "output_type": "display_data"
    }
   ],
   "source": [
    "whales <- data[with(data, order(-value)), ]\n",
    "whales <- whales[, c('timeStamp', 'from', 'value')]\n",
    "head(whales, n=10)"
   ]
  },
  {
   "cell_type": "code",
   "execution_count": 4,
   "metadata": {
    "collapsed": false
   },
   "outputs": [
    {
     "data": {
      "text/html": [
       "2409"
      ],
      "text/latex": [
       "2409"
      ],
      "text/markdown": [
       "2409"
      ],
      "text/plain": [
       "[1] 2409"
      ]
     },
     "metadata": {},
     "output_type": "display_data"
    }
   ],
   "source": [
    "df <- whales %>% select(from, value) %>% \n",
    "                        group_by(from) %>% summarise(total = sum(value))\n",
    "nrow(df)"
   ]
  },
  {
   "cell_type": "code",
   "execution_count": 9,
   "metadata": {
    "collapsed": false
   },
   "outputs": [
    {
     "data": {
      "text/html": [
       "<table>\n",
       "<thead><tr><th scope=col>from</th><th scope=col>total</th></tr></thead>\n",
       "<tbody>\n",
       "\t<tr><td>0x55dcb5c76f993ecf70851392a81ccb90aafebe9d</td><td>1500.0000                                 </td></tr>\n",
       "\t<tr><td>0xf43c5295f5cf5bcbd6b94053d0099a2408836b2d</td><td> 634.0000                                 </td></tr>\n",
       "\t<tr><td>0x41e066a3dfd1e7f6256d469e2cce042655ae641a</td><td> 300.0000                                 </td></tr>\n",
       "\t<tr><td>0x00d4861037f5978c018816668fa302cfbd550114</td><td> 299.9790                                 </td></tr>\n",
       "\t<tr><td>0xe7e9fb5fcf5e7ada35cf3f0cf2f49ae6ac79a72b</td><td> 202.9284                                 </td></tr>\n",
       "\t<tr><td>0x8f066f3d9f75789d9f126fdd7cfbcc38a768985d</td><td> 198.8900                                 </td></tr>\n",
       "\t<tr><td>0x0eeae0cd2c34731f3f06c70be12e8d674cf01aa4</td><td> 195.2340                                 </td></tr>\n",
       "\t<tr><td>0x1afe298405c91d552c1625f0b9bd6201023c16ca</td><td> 150.0000                                 </td></tr>\n",
       "\t<tr><td>0xdb827c33e0ee213e9f4a7ce14673413e243ee1c6</td><td> 150.0000                                 </td></tr>\n",
       "\t<tr><td>0xb4a61fd1770c4a72a95188a9ded340118aa17046</td><td> 134.2000                                 </td></tr>\n",
       "\t<tr><td>0x59af0e507df863d0b076542ec7075b18f3e7a487</td><td> 100.0000                                 </td></tr>\n",
       "\t<tr><td>0xa36fbfbbb005d9489609d8fca7710d287bebda98</td><td> 100.0000                                 </td></tr>\n",
       "\t<tr><td>0x0ddf0be61808522724a86cdc2468268339c565f2</td><td>  99.0000                                 </td></tr>\n",
       "\t<tr><td>0x36cfb5a6be6b130cfceb934d3ca72c1d72c3a7d8</td><td>  90.0000                                 </td></tr>\n",
       "\t<tr><td>0xc9281a5609b232a6c5ad610c635d552c14f51a9a</td><td>  90.0000                                 </td></tr>\n",
       "\t<tr><td>0x343b467713737a8cbe9fec81cb356c89994462e7</td><td>  82.0000                                 </td></tr>\n",
       "\t<tr><td>0xbe309c103815ef198a2db8e5940835c375203c1d</td><td>  81.0000                                 </td></tr>\n",
       "\t<tr><td>0x67275559b856855f2ccb0a1661b6a652a20f8089</td><td>  80.0000                                 </td></tr>\n",
       "\t<tr><td>0x56401e436514cf9f872b50304f2b88d09d52f25a</td><td>  72.2000                                 </td></tr>\n",
       "\t<tr><td>0x2b67f061464861c9a8304032cc60b699003d05bc</td><td>  72.0000                                 </td></tr>\n",
       "</tbody>\n",
       "</table>\n"
      ],
      "text/latex": [
       "\\begin{tabular}{r|ll}\n",
       " from & total\\\\\n",
       "\\hline\n",
       "\t 0x55dcb5c76f993ecf70851392a81ccb90aafebe9d & 1500.0000                                 \\\\\n",
       "\t 0xf43c5295f5cf5bcbd6b94053d0099a2408836b2d &  634.0000                                 \\\\\n",
       "\t 0x41e066a3dfd1e7f6256d469e2cce042655ae641a &  300.0000                                 \\\\\n",
       "\t 0x00d4861037f5978c018816668fa302cfbd550114 &  299.9790                                 \\\\\n",
       "\t 0xe7e9fb5fcf5e7ada35cf3f0cf2f49ae6ac79a72b &  202.9284                                 \\\\\n",
       "\t 0x8f066f3d9f75789d9f126fdd7cfbcc38a768985d &  198.8900                                 \\\\\n",
       "\t 0x0eeae0cd2c34731f3f06c70be12e8d674cf01aa4 &  195.2340                                 \\\\\n",
       "\t 0x1afe298405c91d552c1625f0b9bd6201023c16ca &  150.0000                                 \\\\\n",
       "\t 0xdb827c33e0ee213e9f4a7ce14673413e243ee1c6 &  150.0000                                 \\\\\n",
       "\t 0xb4a61fd1770c4a72a95188a9ded340118aa17046 &  134.2000                                 \\\\\n",
       "\t 0x59af0e507df863d0b076542ec7075b18f3e7a487 &  100.0000                                 \\\\\n",
       "\t 0xa36fbfbbb005d9489609d8fca7710d287bebda98 &  100.0000                                 \\\\\n",
       "\t 0x0ddf0be61808522724a86cdc2468268339c565f2 &   99.0000                                 \\\\\n",
       "\t 0x36cfb5a6be6b130cfceb934d3ca72c1d72c3a7d8 &   90.0000                                 \\\\\n",
       "\t 0xc9281a5609b232a6c5ad610c635d552c14f51a9a &   90.0000                                 \\\\\n",
       "\t 0x343b467713737a8cbe9fec81cb356c89994462e7 &   82.0000                                 \\\\\n",
       "\t 0xbe309c103815ef198a2db8e5940835c375203c1d &   81.0000                                 \\\\\n",
       "\t 0x67275559b856855f2ccb0a1661b6a652a20f8089 &   80.0000                                 \\\\\n",
       "\t 0x56401e436514cf9f872b50304f2b88d09d52f25a &   72.2000                                 \\\\\n",
       "\t 0x2b67f061464861c9a8304032cc60b699003d05bc &   72.0000                                 \\\\\n",
       "\\end{tabular}\n"
      ],
      "text/markdown": [
       "\n",
       "from | total | \n",
       "|---|---|---|---|---|---|---|---|---|---|---|---|---|---|---|---|---|---|---|---|\n",
       "| 0x55dcb5c76f993ecf70851392a81ccb90aafebe9d | 1500.0000                                  | \n",
       "| 0xf43c5295f5cf5bcbd6b94053d0099a2408836b2d |  634.0000                                  | \n",
       "| 0x41e066a3dfd1e7f6256d469e2cce042655ae641a |  300.0000                                  | \n",
       "| 0x00d4861037f5978c018816668fa302cfbd550114 |  299.9790                                  | \n",
       "| 0xe7e9fb5fcf5e7ada35cf3f0cf2f49ae6ac79a72b |  202.9284                                  | \n",
       "| 0x8f066f3d9f75789d9f126fdd7cfbcc38a768985d |  198.8900                                  | \n",
       "| 0x0eeae0cd2c34731f3f06c70be12e8d674cf01aa4 |  195.2340                                  | \n",
       "| 0x1afe298405c91d552c1625f0b9bd6201023c16ca |  150.0000                                  | \n",
       "| 0xdb827c33e0ee213e9f4a7ce14673413e243ee1c6 |  150.0000                                  | \n",
       "| 0xb4a61fd1770c4a72a95188a9ded340118aa17046 |  134.2000                                  | \n",
       "| 0x59af0e507df863d0b076542ec7075b18f3e7a487 |  100.0000                                  | \n",
       "| 0xa36fbfbbb005d9489609d8fca7710d287bebda98 |  100.0000                                  | \n",
       "| 0x0ddf0be61808522724a86cdc2468268339c565f2 |   99.0000                                  | \n",
       "| 0x36cfb5a6be6b130cfceb934d3ca72c1d72c3a7d8 |   90.0000                                  | \n",
       "| 0xc9281a5609b232a6c5ad610c635d552c14f51a9a |   90.0000                                  | \n",
       "| 0x343b467713737a8cbe9fec81cb356c89994462e7 |   82.0000                                  | \n",
       "| 0xbe309c103815ef198a2db8e5940835c375203c1d |   81.0000                                  | \n",
       "| 0x67275559b856855f2ccb0a1661b6a652a20f8089 |   80.0000                                  | \n",
       "| 0x56401e436514cf9f872b50304f2b88d09d52f25a |   72.2000                                  | \n",
       "| 0x2b67f061464861c9a8304032cc60b699003d05bc |   72.0000                                  | \n",
       "\n",
       "\n"
      ],
      "text/plain": [
       "   from                                       total    \n",
       "1  0x55dcb5c76f993ecf70851392a81ccb90aafebe9d 1500.0000\n",
       "2  0xf43c5295f5cf5bcbd6b94053d0099a2408836b2d  634.0000\n",
       "3  0x41e066a3dfd1e7f6256d469e2cce042655ae641a  300.0000\n",
       "4  0x00d4861037f5978c018816668fa302cfbd550114  299.9790\n",
       "5  0xe7e9fb5fcf5e7ada35cf3f0cf2f49ae6ac79a72b  202.9284\n",
       "6  0x8f066f3d9f75789d9f126fdd7cfbcc38a768985d  198.8900\n",
       "7  0x0eeae0cd2c34731f3f06c70be12e8d674cf01aa4  195.2340\n",
       "8  0x1afe298405c91d552c1625f0b9bd6201023c16ca  150.0000\n",
       "9  0xdb827c33e0ee213e9f4a7ce14673413e243ee1c6  150.0000\n",
       "10 0xb4a61fd1770c4a72a95188a9ded340118aa17046  134.2000\n",
       "11 0x59af0e507df863d0b076542ec7075b18f3e7a487  100.0000\n",
       "12 0xa36fbfbbb005d9489609d8fca7710d287bebda98  100.0000\n",
       "13 0x0ddf0be61808522724a86cdc2468268339c565f2   99.0000\n",
       "14 0x36cfb5a6be6b130cfceb934d3ca72c1d72c3a7d8   90.0000\n",
       "15 0xc9281a5609b232a6c5ad610c635d552c14f51a9a   90.0000\n",
       "16 0x343b467713737a8cbe9fec81cb356c89994462e7   82.0000\n",
       "17 0xbe309c103815ef198a2db8e5940835c375203c1d   81.0000\n",
       "18 0x67275559b856855f2ccb0a1661b6a652a20f8089   80.0000\n",
       "19 0x56401e436514cf9f872b50304f2b88d09d52f25a   72.2000\n",
       "20 0x2b67f061464861c9a8304032cc60b699003d05bc   72.0000"
      ]
     },
     "metadata": {},
     "output_type": "display_data"
    }
   ],
   "source": [
    "df <- df[with(df, order(-total)), ]\n",
    "head(df, n=20)"
   ]
  },
  {
   "cell_type": "code",
   "execution_count": null,
   "metadata": {
    "collapsed": true
   },
   "outputs": [],
   "source": []
  }
 ],
 "metadata": {
  "kernelspec": {
   "display_name": "R",
   "language": "R",
   "name": "ir"
  },
  "language_info": {
   "codemirror_mode": "r",
   "file_extension": ".r",
   "mimetype": "text/x-r-source",
   "name": "R",
   "pygments_lexer": "r",
   "version": "3.4.0"
  }
 },
 "nbformat": 4,
 "nbformat_minor": 2
}
